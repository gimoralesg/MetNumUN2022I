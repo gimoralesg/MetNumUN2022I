{
  "nbformat": 4,
  "nbformat_minor": 0,
  "metadata": {
    "colab": {
      "name": "Group11_gimoralesg_Taylor_e_to_x_error.ipynb",
      "provenance": [],
      "collapsed_sections": [
        "PBe8gYqRwB-Z"
      ],
      "include_colab_link": true
    },
    "kernelspec": {
      "name": "python3",
      "display_name": "Python 3"
    },
    "language_info": {
      "name": "python"
    }
  },
  "cells": [
    {
      "cell_type": "markdown",
      "metadata": {
        "id": "view-in-github",
        "colab_type": "text"
      },
      "source": [
        "<a href=\"https://colab.research.google.com/github/gimoralesg/MetNumUN2022I/blob/main/Lab7/Group11_gimoralesg_Taylor_e_to_x_error.ipynb\" target=\"_parent\"><img src=\"https://colab.research.google.com/assets/colab-badge.svg\" alt=\"Open In Colab\"/></a>"
      ]
    },
    {
      "cell_type": "markdown",
      "metadata": {
        "id": "ZuGY2wUTjFDm"
      },
      "source": [
        "# Taylor series of $sin(x)$\n",
        "\n",
        "$$ \n",
        "\\begin{array}{lll}\n",
        "sin(x)  & =  & \\sum_{i=0}^{\\infty} (-1)^n \\frac{x^{2n+1}}{(2n+1)!} \\\\\n",
        "        & = & x + 0x^2 - \\frac{1}{3!}x^3 + \\frac{1}{5!}x^5 +\\cdots+ \\frac{x^{2n+1}}{(2n+1)!} + \\cdots  \\\\\n",
        "       & = & 0 + x + 0x^2 - \\frac{1}{3!}x^3 + \\frac{1}{5!}x^5 +\\cdots+ \\frac{x^{2n+1}}{(2n+1)!} + O(x^{n+1}) \n",
        "\\end{array} \n",
        "$$\n",
        "\n",
        "\n",
        "Approximation \n",
        "$$ sin(x)  \\approx x - \\frac{x^3}{3!} + \\frac{x^5}{5!} - \\frac{x^7}{7!}  + \\cdots+ \\frac{x^{2n+1}}{(2n+1)!} $$\n"
      ]
    },
    {
      "cell_type": "markdown",
      "source": [
        "Interact code in Sagemath for $sin(x)$\n",
        "\n",
        "```python\n",
        "# Interact Taylor Series of $$f(x) = sin(x)$$\n",
        "x   = SR.var('x')\n",
        "x0  = 0\n",
        "f   = sin(x)\n",
        "p   = plot(f, -10, 10, thickness=2)\n",
        "dot = point((x0, f(x=x0)), pointsize=80, rgbcolor=(1, 0, 0))\n",
        "\n",
        "@interact\n",
        "def _(order=slider([0 .. 20])):\n",
        "  ft = f.taylor(x, x0, order)\n",
        "  pt = plot(ft, -10, 10, color='orange', thickness=2)\n",
        "  pretty_print(html(r'$f(x)\\;=\\;%s$' % latex(f)))\n",
        "  pretty_print(html(r'$\\hat{f}(x;%s)\\;=\\;%s+\\mathcal{O}(x^{%s})$' % (x0, latex(ft), order+1)))\n",
        "  show(dot + p + pt, ymin=-3, ymax=3)\n",
        "```"
      ],
      "metadata": {
        "id": "eFh_HdXmjdfu"
      }
    },
    {
      "cell_type": "markdown",
      "source": [
        "Animate code in Sagemath for $sin(x)$\n",
        "```python\n",
        "# Animate  Taylor Series of $$f(x) = sin(x)$$\n",
        "\n",
        "x   = SR.var('x')\n",
        "x0  = 0\n",
        "f   = sin(x)\n",
        "p   = plot(f, -15, 15, thickness=2,legend_label='f(x) = sin(x)')\n",
        "dot = point((x0, f(x=x0)), pointsize=80, rgbcolor=(1, 0, 0))\n",
        "ptaylor = [plot(f.taylor(x, x0, order), -15,15, color='orange', thickness=2, legend_label= \"Taylor \" + str(order) +\": \"+ str(f.taylor(x, x0, order))) for order in range(20)]\n",
        "\n",
        "frames = [p+dot+ptaylor[int(order/5)] for order in range(60)]\n",
        "a = animate(frames, ymin=-3, ymax=3)\n",
        "a.show()\n",
        "a.save('sin_of_x_taylor_animation_1.gif')\n",
        "```"
      ],
      "metadata": {
        "id": "y90QDm3UkzaF"
      }
    },
    {
      "cell_type": "markdown",
      "source": [
        " ![Taylor sin(x) img](https://raw.githubusercontent.com/gimoralesg/MetNumUN2022I/main/Lab7/TaylorSeriesSinofx.jpg)"
      ],
      "metadata": {
        "id": "c_Hz3jQijj8H"
      }
    },
    {
      "cell_type": "markdown",
      "source": [
        " ![Taylor gif](https://raw.githubusercontent.com/gimoralesg/MetNumUN2022I/main/Lab7/sin_of_x_taylor_animation_1.gif)"
      ],
      "metadata": {
        "id": "Gh89PrFBjlBu"
      }
    },
    {
      "cell_type": "markdown",
      "metadata": {
        "id": "qylNUuxmQUzq"
      },
      "source": [
        "#What is value of the partial Taylor series of $sin(x)$ up to the  $10$-th term of $sin(x)$ about $0$ (Maclaurin  series) for $x=2$\n",
        "\n",
        "$$ sin{(x)} \\approx \\sum_{i=0}^{n} (-1)^i \\frac{x^{2i+1}}{(2i+1)!}  = x - \\frac{x^3}{3!} + \\frac{x^5}{5!} - \\frac{x^7}{7!}  + \\cdots+ \\frac{x^{2n+1}}{(2n+1)!}$$"
      ]
    },
    {
      "cell_type": "code",
      "metadata": {
        "colab": {
          "base_uri": "https://localhost:8080/"
        },
        "id": "UZyEw-hiQNU7",
        "outputId": "21240ccb-8b7d-4ec1-8f2d-f86100bcbe6a"
      },
      "source": [
        "# ∑_{i=0}^n  (-1)^i \\frac{x^{2i+1}}{(2i+1)!}\n",
        "\n",
        "import math\n",
        "\n",
        "n = 10\n",
        "x = 2\n",
        "sin_of_x = 0\n",
        "\n",
        "for i in range(n+1):\n",
        "    sin_of_x += ((-1)**i)*(x**(2*i+1)/math.factorial(2*i+1)) \n",
        "    print(i, 'sin_of_x ≈ ∑_{i=0}^'+str(i),'(-1)^i (x^{2i+1})/((2i+1)!) =',sin_of_x)  \n",
        "    \n",
        "print('math.sin(x) = ', math.sin(x) )"
      ],
      "execution_count": null,
      "outputs": [
        {
          "output_type": "stream",
          "name": "stdout",
          "text": [
            "0 sin_of_x ≈ ∑_{i=0}^0 (-1)^i (x^{2i+1})/((2i+1)!) = 2.0\n",
            "1 sin_of_x ≈ ∑_{i=0}^1 (-1)^i (x^{2i+1})/((2i+1)!) = 0.6666666666666667\n",
            "2 sin_of_x ≈ ∑_{i=0}^2 (-1)^i (x^{2i+1})/((2i+1)!) = 0.9333333333333333\n",
            "3 sin_of_x ≈ ∑_{i=0}^3 (-1)^i (x^{2i+1})/((2i+1)!) = 0.9079365079365079\n",
            "4 sin_of_x ≈ ∑_{i=0}^4 (-1)^i (x^{2i+1})/((2i+1)!) = 0.909347442680776\n",
            "5 sin_of_x ≈ ∑_{i=0}^5 (-1)^i (x^{2i+1})/((2i+1)!) = 0.9092961359628027\n",
            "6 sin_of_x ≈ ∑_{i=0}^6 (-1)^i (x^{2i+1})/((2i+1)!) = 0.9092974515196738\n",
            "7 sin_of_x ≈ ∑_{i=0}^7 (-1)^i (x^{2i+1})/((2i+1)!) = 0.9092974264614476\n",
            "8 sin_of_x ≈ ∑_{i=0}^8 (-1)^i (x^{2i+1})/((2i+1)!) = 0.909297426829951\n",
            "9 sin_of_x ≈ ∑_{i=0}^9 (-1)^i (x^{2i+1})/((2i+1)!) = 0.909297426825641\n",
            "10 sin_of_x ≈ ∑_{i=0}^10 (-1)^i (x^{2i+1})/((2i+1)!) = 0.909297426825682\n",
            "math.sin(x) =  0.9092974268256817\n"
          ]
        }
      ]
    },
    {
      "cell_type": "markdown",
      "source": [
        "# What is the minimun $n$ for which the error between the Taylor series for $sin(x)$ about $0$ (Maclaurin  series) for $x$ and *math.sin(x)*, is in absolute value less than  $\\epsilon$.\n",
        "\n",
        "$$\\min_{n \\in \\mathbb{N}}\\left|\\sum_{i=0}^{n}(-1)^i \\frac{x^{2i+1}}{(2i+1)!} - math.sin(x) \\right| < \\epsilon$$"
      ],
      "metadata": {
        "id": "EQulygu91CbA"
      }
    },
    {
      "cell_type": "code",
      "metadata": {
        "colab": {
          "base_uri": "https://localhost:8080/"
        },
        "id": "EfkY5SM7pZBL",
        "outputId": "de7a8ff2-b033-48f1-81d0-0aefad65a64d"
      },
      "source": [
        "# Returns Min n, |∑_{i=0}^{n}  (-1)^i * (x^(2i+1)) / ((2i+1)!) - math.sin(x)| < epsilon and ∑_{i=0}^{n} (-1)^i * (x^(2i+1)) / (2i+1)!   \n",
        "import math\n",
        "\n",
        "x = 1\n",
        "epsilon = 10**(-5)\n",
        "\n",
        "sin_of_x = 0 \n",
        "\n",
        "print(\"n\".rjust(10),\" \",\"∑_{i=0}^{n}  (-1)^i * x^(2i+1) / (2i+1)! \".center(21),\" \",\"delta =((-1)^i) * (x^(2i+1) / (2i+1)! \".center(21),\" \",\"error\".center(14),\" \",\"epsilon\".center(20))\n",
        "error = 1\n",
        "i = 0\n",
        "\n",
        "while  epsilon <= error:\n",
        "  delta = ((-1)**i)*((x**(2*i+1)) / math.factorial(2*i+1))\n",
        "  sin_of_x += delta\n",
        "  error = abs(math.sin(x) - sin_of_x)\n",
        "  print(format(i, '10'),\"  \", format(sin_of_x, '.18f'),\"                     \",format(delta, '.17f'),\"                   \",format(error, '.17f'),\"   \",\"{:.0e}\".format(epsilon)) \n",
        "  i = i+1\n",
        "\n",
        "\n",
        "print(\"n =\",i-1) \n",
        "print(\"x =\",x) \n",
        "print('sin_of_x ≈ ∑_{i=0}^'+str(i-1),'((-1)^i) * (x^(2i+1) / (2i+1)! =',sin_of_x)  \n",
        "print(\"epsilon =\",\"{:.0e}\".format(epsilon)) \n",
        "print('math.sin(x) = ',math.sin(x))"
      ],
      "execution_count": null,
      "outputs": [
        {
          "output_type": "stream",
          "name": "stdout",
          "text": [
            "         n   ∑_{i=0}^{n}  (-1)^i * x^(2i+1) / (2i+1)!    delta =((-1)^i) * (x^(2i+1) / (2i+1)!        error              epsilon       \n",
            "         0    1.000000000000000000                       1.00000000000000000                     0.15852901519210350     1e-05\n",
            "         1    0.833333333333333370                       -0.16666666666666666                     0.00813765147456313     1e-05\n",
            "         2    0.841666666666666674                       0.00833333333333333                     0.00019568185877017     1e-05\n",
            "         3    0.841468253968253976                       -0.00019841269841270                     0.00000273083964253     1e-05\n",
            "n = 3\n",
            "x = 1\n",
            "sin_of_x ≈ ∑_{i=0}^3 ((-1)^i) * (x^(2i+1) / (2i+1)! = 0.841468253968254\n",
            "epsilon = 1e-05\n",
            "math.sin(x) =  0.8414709848078965\n"
          ]
        }
      ]
    },
    {
      "cell_type": "code",
      "source": [
        "# Returns Min n, |∑_{i=0}^{n}  (-1)^i \\frac(x^(2i+1)) / ((2i+1)!) - math.sin(x)| < epsilon and ∑_{i=0}^{n} (-1)^i * (x^(2i+1)) / (2i+1)!\n",
        "import math\n",
        "\n",
        "x = 4\n",
        "epsilon = 10**(-5)\n",
        "\n",
        "sin_of_x = 0\n",
        "\n",
        "print(\"n\".rjust(10),\" \",\"∑_{i=0}^{n}  (-1)^i \\frac(x^(2i+1)) / ((2i+1)!)\".center(21),\" \",\"delta = (-1)^i * (x^(2i+1)) / (2i+1)! \".center(21),\" \",\"error\".center(14),\" \",\"epsilon\".center(20))\n",
        "error = 1\n",
        "i = 0\n",
        "while  epsilon <= error:\n",
        "  delta =  ((-1)**i)*((x**(2*i+1)) / math.factorial(2*i+1)) \n",
        "  sin_of_x += delta\n",
        "  error = abs(math.sin(x) - sin_of_x)\n",
        "  print(format(i, '10'),\"  \", format(sin_of_x, '.18f'),\"                        \",format(delta, '.17f'),\"                   \",format(error, '.17f'),\"    \",\"{:.0e}\".format(epsilon)) \n",
        "  i = i+1\n",
        "\n",
        "\n",
        "print(\"n =\",i-1) \n",
        "print(\"x =\",x) \n",
        "print('sin_of_x ≈ ∑_{i=0}^'+str(i-1),'((-1)^i) * (x^(2i+1) / (2i+1)! =',sin_of_x) \n",
        "print(\"epsilon =\",\"{:.0e}\".format(epsilon)) \n",
        "print('math.sin(x) = ',math.sin(x))"
      ],
      "metadata": {
        "colab": {
          "base_uri": "https://localhost:8080/"
        },
        "id": "3Pn3ahtECboG",
        "outputId": "b379f5c3-886d-48b0-d8d5-b65e9890864a"
      },
      "execution_count": null,
      "outputs": [
        {
          "output_type": "stream",
          "name": "stdout",
          "text": [
            "         n   ∑_{i=0}^{n}  (-1)^i \frac(x^(2i+1)) / ((2i+1)!)   delta = (-1)^i * (x^(2i+1)) / (2i+1)!        error              epsilon       \n",
            "         0    4.000000000000000000                          4.00000000000000000                     4.75680249530792842      1e-05\n",
            "         1    -6.666666666666666075                          -10.66666666666666607                     5.90986417135873765      1e-05\n",
            "         2    1.866666666666667140                          8.53333333333333321                     2.62346916197459556      1e-05\n",
            "         3    -1.384126984126983650                          -3.25079365079365079                     0.62732448881905545      1e-05\n",
            "         4    -0.661728395061727870                          0.72239858906525578                     0.09507410024620033      1e-05\n",
            "         5    -0.766804553471219563                          -0.10507615840949175                     0.01000205816329136      1e-05\n",
            "         6    -0.756027511583066580                          0.01077704188815300                     0.00077498372486162      1e-05\n",
            "         7    -0.756848619536449663                          -0.00082110795338309                     0.00004612422852146      1e-05\n",
            "         8    -0.756800319068603566                          0.00004830046784606                     0.00000217623932464      1e-05\n",
            "n = 8\n",
            "x = 4\n",
            "sin_of_x ≈ ∑_{i=0}^8 ((-1)^i) * (x^(2i+1) / (2i+1)! = -0.7568003190686036\n",
            "epsilon = 1e-05\n",
            "math.sin(x) =  -0.7568024953079282\n"
          ]
        }
      ]
    },
    {
      "cell_type": "markdown",
      "metadata": {
        "id": "ZlcF8gIdjZ6t"
      },
      "source": [
        "# What is the minimun $n$ for which the $n$-th term of the Taylor series for $sin(x)$ about $0$ (Maclaurin  series) for $x$, is in absolute value less than  $\\epsilon$.\n",
        "\n",
        "$$\\min_{n \\in \\mathbb{N}}\\left|\\frac{x^{2n+1}}{(2n+1)!}\\right| < \\epsilon$$"
      ]
    },
    {
      "cell_type": "code",
      "metadata": {
        "id": "_8y-XrmvcCLf",
        "colab": {
          "base_uri": "https://localhost:8080/"
        },
        "outputId": "a0b924b0-0110-4388-b7ff-2d591647faf9"
      },
      "source": [
        "# Returns Min n, |((-1)^n) * (x^(2n+1) / (2n+1)!| < epsilon and ∑_{i=0}^{n} ((-1)^i) * (x^(2i+1) / (2i+1)!\n",
        "import math\n",
        "\n",
        "x = 1\n",
        "epsilon = 10**(-5)\n",
        "\n",
        "sin_of_x = 0\n",
        "\n",
        "delta = 1\n",
        "i = 0\n",
        "print(\"n\".rjust(10),\" \",\"∑_{i=0}^n ((-1)^i) * (x^(2i+1) / (2i+1)!\".center(20),\" \",\" delta=((-1)^n) * (x^(2n+1) / (2n+1)!\".center(20),\" \",\"epsilon\".center(9))\n",
        "while  epsilon <= abs(delta):\n",
        "  delta = ((-1)**i)*((x**(2*i+1)) / math.factorial(2*i+1))  \n",
        "  sin_of_x += delta\n",
        "  print(format(i, '10'),\"  \", format(sin_of_x, '.17f'),\"                     \",format(delta, '.17f'),\"                    \",\"{:.0e}\".format(epsilon)) \n",
        "  i = i+1\n",
        "\n",
        "print(\"n = \",i-1) \n",
        "print('x = ',x)\n",
        "print('sin_of_x ≈ ∑_{i=0}^'+str(i-1),'((-1)^i) * (x^(2i+1) / (2i+1)! =',sin_of_x)\n",
        "print(\"epsilon =\",\"{:.0e}\".format(epsilon))     \n",
        "print('math.sin(x) = ',math.sin(x))"
      ],
      "execution_count": null,
      "outputs": [
        {
          "output_type": "stream",
          "name": "stdout",
          "text": [
            "         n   ∑_{i=0}^n ((-1)^i) * (x^(2i+1) / (2i+1)!    delta=((-1)^n) * (x^(2n+1) / (2n+1)!    epsilon \n",
            "         0    1.00000000000000000                       1.00000000000000000                      1e-05\n",
            "         1    0.83333333333333337                       -0.16666666666666666                      1e-05\n",
            "         2    0.84166666666666667                       0.00833333333333333                      1e-05\n",
            "         3    0.84146825396825398                       -0.00019841269841270                      1e-05\n",
            "         4    0.84147100970017641                       0.00000275573192240                      1e-05\n",
            "n =  4\n",
            "x =  1\n",
            "sin_of_x ≈ ∑_{i=0}^4 ((-1)^i) * (x^(2i+1) / (2i+1)! = 0.8414710097001764\n",
            "epsilon = 1e-05\n",
            "math.sin(x) =  0.8414709848078965\n"
          ]
        }
      ]
    },
    {
      "cell_type": "code",
      "metadata": {
        "colab": {
          "base_uri": "https://localhost:8080/"
        },
        "id": "Ifa0n-_ODOAj",
        "outputId": "5fcb7746-194b-44b7-c6d3-7fe96cf2c33a"
      },
      "source": [
        "# Returns Min n, |((-1)^n) * (x^(2n+1) / (2n+1)!| < epsilon and ∑_{i=0}^{n} ((-1)^i) * (x^(2i+1) / (2i+1)!\n",
        "import math\n",
        "\n",
        "x = -1\n",
        "epsilon = 10**(-5)\n",
        "\n",
        "sin_of_x = 0\n",
        "\n",
        "delta = 1\n",
        "i = 0\n",
        "print(\"n\".rjust(10),\" \",\"∑_{i=0}^n ((-1)^i) * (x^(2i+1) / (2i+1)!\".center(20),\" \",\" delta=((-1)^n) * (x^(2n+1) / (2n+1)!\".center(20),\" \",\"epsilon\".center(9))\n",
        "while  epsilon <= abs(delta):\n",
        "  delta = ((-1)**i)*((x**(2*i+1)) / math.factorial(2*i+1))  \n",
        "  sin_of_x += delta\n",
        "  print(format(i, '10'),\"  \", format(sin_of_x, '.17f'),\"                    \",format(delta, '.17f'),\"                     \",\"{:.0e}\".format(epsilon)) \n",
        "  i = i+1\n",
        "\n",
        "print(\"n = \",i-1) \n",
        "print('x = ',x)\n",
        "print('sin_of_x ≈ ∑_{i=0}^'+str(i-1),'((-1)^i) * (x^(2i+1) / (2i+1)! =',sin_of_x)\n",
        "print(\"epsilon =\",\"{:.0e}\".format(epsilon))     \n",
        "print('math.sin(x) = ',math.sin(x))"
      ],
      "execution_count": null,
      "outputs": [
        {
          "output_type": "stream",
          "name": "stdout",
          "text": [
            "         n   ∑_{i=0}^n ((-1)^i) * (x^(2i+1) / (2i+1)!    delta=((-1)^n) * (x^(2n+1) / (2n+1)!    epsilon \n",
            "         0    -1.00000000000000000                      -1.00000000000000000                       1e-05\n",
            "         1    -0.83333333333333337                      0.16666666666666666                       1e-05\n",
            "         2    -0.84166666666666667                      -0.00833333333333333                       1e-05\n",
            "         3    -0.84146825396825398                      0.00019841269841270                       1e-05\n",
            "         4    -0.84147100970017641                      -0.00000275573192240                       1e-05\n",
            "n =  4\n",
            "x =  -1\n",
            "sin_of_x ≈ ∑_{i=0}^4 ((-1)^i) * (x^(2i+1) / (2i+1)! = -0.8414710097001764\n",
            "epsilon = 1e-05\n",
            "math.sin(x) =  -0.8414709848078965\n"
          ]
        }
      ]
    },
    {
      "cell_type": "code",
      "metadata": {
        "colab": {
          "base_uri": "https://localhost:8080/"
        },
        "id": "9qMzfOv0C6PM",
        "outputId": "b6254903-f989-41ed-8a17-ed3da7d913b6"
      },
      "source": [
        "# Returns Min n, |((-1)^n) * (x^(2n+1) / (2n+1)!| < epsilon and ∑_{i=0}^{n} ((-1)^i) * (x^(2i+1) / (2i+1)!\n",
        "import math\n",
        "\n",
        "x = 4\n",
        "epsilon = 10**(-5)\n",
        "\n",
        "sin_of_x = 0\n",
        "\n",
        "delta = 1\n",
        "i = 0\n",
        "print(\"n\".rjust(10),\" \",\"∑_{i=0}^n ((-1)^i) * (x^(2i+1) / (2i+1)!\".center(20),\" \",\" delta=((-1)^n) * (x^(2n+1) / (2n+1)!\".center(20),\" \",\"epsilon\".center(9))\n",
        "while  epsilon <= abs(delta):\n",
        "  delta = ((-1)**i)*((x**(2*i+1)) / math.factorial(2*i+1)) \n",
        "  sin_of_x += delta\n",
        "  print(format(i, '10'),\"  \", format(sin_of_x, '.17f'),\"                      \",format(delta, '.17f'),\"                   \",\"{:.0e}\".format(epsilon)) \n",
        "  i = i+1\n",
        "\n",
        "print(\"n = \",i-1) \n",
        "print('x = ',x)\n",
        "print('sin_of_x ≈ ∑_{i=0}^'+str(i-1),'((-1)^i) * (x^(2i+1) / (2i+1)! =',sin_of_x)\n",
        "print(\"epsilon =\",\"{:.0e}\".format(epsilon))     \n",
        "print('math.sin(x) = ',math.sin(x))"
      ],
      "execution_count": null,
      "outputs": [
        {
          "output_type": "stream",
          "name": "stdout",
          "text": [
            "         n   ∑_{i=0}^n ((-1)^i) * (x^(2i+1) / (2i+1)!    delta=((-1)^n) * (x^(2n+1) / (2n+1)!    epsilon \n",
            "         0    4.00000000000000000                        4.00000000000000000                     1e-05\n",
            "         1    -6.66666666666666607                        -10.66666666666666607                     1e-05\n",
            "         2    1.86666666666666714                        8.53333333333333321                     1e-05\n",
            "         3    -1.38412698412698365                        -3.25079365079365079                     1e-05\n",
            "         4    -0.66172839506172787                        0.72239858906525578                     1e-05\n",
            "         5    -0.76680455347121956                        -0.10507615840949175                     1e-05\n",
            "         6    -0.75602751158306658                        0.01077704188815300                     1e-05\n",
            "         7    -0.75684861953644966                        -0.00082110795338309                     1e-05\n",
            "         8    -0.75680031906860357                        0.00004830046784606                     1e-05\n",
            "         9    -0.75680257873961387                        -0.00000225967101034                     1e-05\n",
            "n =  9\n",
            "x =  4\n",
            "sin_of_x ≈ ∑_{i=0}^9 ((-1)^i) * (x^(2i+1) / (2i+1)! = -0.7568025787396139\n",
            "epsilon = 1e-05\n",
            "math.sin(x) =  -0.7568024953079282\n"
          ]
        }
      ]
    },
    {
      "cell_type": "code",
      "source": [
        "# Returns Min n, |((-1)^n) * (x^(2n+1) / (2n+1)!| < epsilon and ∑_{i=0}^{n} ((-1)^i) * (x^(2i+1) / (2i+1)!\n",
        "import math\n",
        "\n",
        "x = -4\n",
        "epsilon = 10**(-5)\n",
        "\n",
        "sin_of_x = 0\n",
        "\n",
        "delta = 1\n",
        "i = 0\n",
        "print(\"n\".rjust(10),\" \",\"∑_{i=0}^n ((-1)^i) * (x^(2i+1) / (2i+1)!\".center(20),\" \",\" delta=((-1)^n) * (x^(2n+1) / (2n+1)!\".center(20),\" \",\"epsilon\".center(9))\n",
        "while  epsilon <= abs(delta):\n",
        "  delta = ((-1)**i)*((x**(2*i+1)) / math.factorial(2*i+1)) \n",
        "  sin_of_x += delta\n",
        "  print(format(i, '10'),\"  \", format(sin_of_x, '.17f'),\"                      \",format(delta, '.17f'),\"                  \",\"{:.0e}\".format(epsilon)) \n",
        "  i = i+1\n",
        "\n",
        "print(\"n = \",i-1) \n",
        "print('x = ',x)\n",
        "print('sin_of_x ≈ ∑_{i=0}^'+str(i-1),'((-1)^i) * (x^(2i+1) / (2i+1)! =',sin_of_x)\n",
        "print(\"epsilon =\",\"{:.0e}\".format(epsilon))     \n",
        "print('math.sin(x) = ',math.sin(x))"
      ],
      "metadata": {
        "colab": {
          "base_uri": "https://localhost:8080/"
        },
        "id": "c3tgFlYc6sKn",
        "outputId": "394ce796-0791-4d4f-be9e-e1f35751e605"
      },
      "execution_count": null,
      "outputs": [
        {
          "output_type": "stream",
          "name": "stdout",
          "text": [
            "         n   ∑_{i=0}^n ((-1)^i) * (x^(2i+1) / (2i+1)!    delta=((-1)^n) * (x^(2n+1) / (2n+1)!    epsilon \n",
            "         0    -4.00000000000000000                        -4.00000000000000000                    1e-05\n",
            "         1    6.66666666666666607                        10.66666666666666607                    1e-05\n",
            "         2    -1.86666666666666714                        -8.53333333333333321                    1e-05\n",
            "         3    1.38412698412698365                        3.25079365079365079                    1e-05\n",
            "         4    0.66172839506172787                        -0.72239858906525578                    1e-05\n",
            "         5    0.76680455347121956                        0.10507615840949175                    1e-05\n",
            "         6    0.75602751158306658                        -0.01077704188815300                    1e-05\n",
            "         7    0.75684861953644966                        0.00082110795338309                    1e-05\n",
            "         8    0.75680031906860357                        -0.00004830046784606                    1e-05\n",
            "         9    0.75680257873961387                        0.00000225967101034                    1e-05\n",
            "n =  9\n",
            "x =  -4\n",
            "sin_of_x ≈ ∑_{i=0}^9 ((-1)^i) * (x^(2i+1) / (2i+1)! = 0.7568025787396139\n",
            "epsilon = 1e-05\n",
            "math.sin(x) =  0.7568024953079282\n"
          ]
        }
      ]
    },
    {
      "cell_type": "markdown",
      "source": [
        "# Efficeincy \n",
        "Efficient \n",
        "\n",
        "https://stackoverflow.com/questions/69978341/error-of-taylor-series-ex-for-negative-x\n",
        "\n",
        "$$ \n",
        "\\begin{array}{lll}\n",
        "e^{ x}  & \\approx   &\\sum_{i=0}^{n} \\frac{x^i}{i!}  \\\\\n",
        "        & = & 1 + x + \\frac{x^2}{2!} + \\frac{x^3}{3!} +\\cdots+ \\frac{x^n}{n!}  \\\\\n",
        "       & = &1 + \\left[ 1  * \\frac{x}{1} \\right]  + \\left[  \\left( 1 *  \\frac{x}{1} \\right)  \\frac{x}{2} \\right]+ \\left[ \\left( 1 *  \\frac{x}{1} \\frac{x}{2} \\right) * \\frac{x}{3} \\right]+ \\left[  \\left(1 *  \\frac{x}{1} \\frac{x}{2}   \\frac{x}{3}\\right) * \\frac{x}{4}\\right]  +\\cdots+ \\left[  \\left(1 *  \\frac{x}{1}  \\frac{x}{2} \\cdots  \\frac{x}{n-1} \\right)* \\frac{x}{n} \\right] \\ \\ \\text{ efficient}\n",
        "\\end{array} \n",
        "$$\n",
        "\n",
        "\n",
        "\n",
        "Additions\n",
        "$$ n \\text{ additions } $$\n",
        "\n",
        "Multiplications\n",
        "$$ n \\text{ multiplications } $$\n",
        "\n",
        "Divisions\n",
        "$$ n \\text{ divsions }$$ \n",
        "\n",
        "TOTAL \n",
        "$$ 3n = \\Theta(n) \\text{ FLOPS }$$ "
      ],
      "metadata": {
        "id": "PBe8gYqRwB-Z"
      }
    },
    {
      "cell_type": "code",
      "source": [
        "# Returns Min n, |x^{n}/n!| < epsilon and ∑_{i=0}^{n} x^i/i!\n",
        "\n",
        "#QUEDO ACA\n",
        "\n",
        "\n",
        "import time\n",
        "\n",
        "start = time.time()\n",
        "\n",
        "x = 700\n",
        "epsilon = 10**(-20)\n",
        "\n",
        "xo = x\n",
        "\n",
        "if x < 0 :\n",
        "   x = - x\n",
        "\n",
        "\n",
        "delta = 1\n",
        "e_to_x = 1\n",
        "i = 1\n",
        "\n",
        "while  epsilon <= abs(delta):\n",
        "  delta *= x/i \n",
        "  e_to_x += delta\n",
        "  i = i+1\n",
        "\n",
        "if x != xo: \n",
        "  e_to_x = 1 / e_to_x\n",
        "  x = xo\n",
        "\n",
        "end = time.time()\n",
        "\n",
        "print(\"n = \",i-1) \n",
        "print('x = ',x)\n",
        "print('e_to_x ≈ ∑_{i=0}^'+str(i-1),'x^i/i! =',e_to_x)\n",
        "print(\"epsilon =\",\"{:.0e}\".format(epsilon))     \n",
        "print('math.exp(x) = ',math.exp(x))\n",
        "print('time = ',end - start)"
      ],
      "metadata": {
        "colab": {
          "base_uri": "https://localhost:8080/"
        },
        "id": "uqmD3vEUQO8S",
        "outputId": "b1dbd919-78f4-4fd8-d09d-5ec9a91b3941"
      },
      "execution_count": null,
      "outputs": [
        {
          "output_type": "stream",
          "name": "stdout",
          "text": [
            "n =  1944\n",
            "x =  700\n",
            "e_to_x ≈ ∑_{i=0}^1944 x^i/i! = 1.0142320547350058e+304\n",
            "epsilon = 1e-20\n",
            "math.exp(x) =  1.0142320547350045e+304\n",
            "time =  0.0055201053619384766\n"
          ]
        }
      ]
    },
    {
      "cell_type": "code",
      "source": [
        "# Returns Min n, |x^{n}/n!| < epsilon and ∑_{i=0}^{n} x^i/i!\n",
        "\n",
        "import time\n",
        "\n",
        "start = time.time()\n",
        "\n",
        "x = -700\n",
        "epsilon = 10**(-20)\n",
        "\n",
        "neg = False\n",
        "if x < 0 :\n",
        "  x = abs(x)\n",
        "  neg = True\n",
        "\n",
        "delta = 1\n",
        "e_to_x = 1\n",
        "i = 1\n",
        "\n",
        "while  epsilon <= abs(delta):\n",
        "  delta *= x/i \n",
        "  e_to_x += delta\n",
        "  i = i+1\n",
        "\n",
        "if x != xo: \n",
        "  e_to_x = 1 / e_to_x\n",
        "  x = xo\n",
        "\n",
        "end = time.time()\n",
        "\n",
        "print(\"n = \",i-1) \n",
        "print('x = ',x)\n",
        "print('e_to_x ≈ ∑_{i=0}^'+str(i-1),'x^i/i! =',e_to_x)\n",
        "print(\"epsilon =\",\"{:.0e}\".format(epsilon))     \n",
        "print('math.exp(x) = ',math.exp(x))\n",
        "print('time = ',end - start)"
      ],
      "metadata": {
        "colab": {
          "base_uri": "https://localhost:8080/"
        },
        "id": "4SidsY8ylmM7",
        "outputId": "be8e8ec6-5ac4-44eb-ada3-bde14dadd457"
      },
      "execution_count": null,
      "outputs": [
        {
          "output_type": "stream",
          "name": "stdout",
          "text": [
            "n =  1944\n",
            "x =  700\n",
            "e_to_x ≈ ∑_{i=0}^1944 x^i/i! = 1.0142320547350058e+304\n",
            "epsilon = 1e-20\n",
            "math.exp(x) =  1.0142320547350045e+304\n",
            "time =  0.0014383792877197266\n"
          ]
        }
      ]
    },
    {
      "cell_type": "markdown",
      "source": [
        "Inefficient\n",
        "\n",
        "$$ e^{ x} \\approx \\sum_{i=0}^{n} \\frac{x^i}{i!} =\\sum_{i=0}^{n} \\frac{x**i}{math.factorial(i)}$$\n",
        "\n",
        "Additions\n",
        "$$ n \\text{ additions } $$\n",
        "\n",
        "Multiplications\n",
        "\n",
        "* Powers - exponentiation by squaring\n",
        "$$ x^i = x**i$$\n",
        "\n",
        "<center>\n",
        "<a href=\"https://en.wikipedia.org/wiki/Exponentiation_by_squaring\">https://en.wikipedia.org/wiki/Exponentiation_by_squaring</a>\n",
        "</center>\n",
        "$$\\lg i \\text{ multiplications }$$\n",
        "<center>\n",
        "<a href=\"https://math.stackexchange.com/questions/228744/value-of-summation-of-logn\">https://math.stackexchange.com/questions/228744/value-of-summation-of-logn</a>\n",
        "</center>\n",
        "$$ \\sum_{i=1}^{n}\\lg i \\approx  n \\lg n$$ \n",
        "\n",
        "\n",
        "* Factorials\n",
        "$$math.factorial(i), $$\n",
        "$$  i-1 \\text{ mutiplications }  $$\n",
        "$$ \\sum_{i=1}^{n} i-1 = \\frac{n(n-1)}{2} =  \\frac{1}{2} n^2 - \\frac{1}{2} n\\text{ mutiplications}$$\n",
        "\n",
        "Divisions\n",
        "$$ n-1 \\text{ divsions }$$ \n",
        "\n",
        "TOTAL \n",
        "$$ \\frac{1}{2} n^2 + n \\lg n + \\frac{3}{2} n -1 = \\Theta(n^2) \\text{ FLOPS }$$ "
      ],
      "metadata": {
        "id": "WBlbS2V9Y-IZ"
      }
    },
    {
      "cell_type": "code",
      "source": [
        "# Returns Min n, |x^{n}/n!| < epsilon and ∑_{i=0}^{n} x^i/i!\n",
        "\n",
        "import math\n",
        "import time\n",
        "\n",
        "start = time.time()\n",
        "\n",
        "x = 700\n",
        "epsilon = 10**(-20)\n",
        "\n",
        "xo = x\n",
        "\n",
        "if x < 0 :\n",
        "   x = - x\n",
        "\n",
        "delta = 1\n",
        "e_to_x = 0\n",
        "i = 0\n",
        "while  epsilon <= abs(delta):\n",
        "  delta = x**i/math.factorial(i) \n",
        "  e_to_x += delta\n",
        "  i = i+1\n",
        "\n",
        "if x != xo: \n",
        "  e_to_x = 1 / e_to_x\n",
        "  x = xo\n",
        "\n",
        "end = time.time()\n",
        "\n",
        "print(\"n = \",i-1) \n",
        "print('x = ',x)\n",
        "print('e_to_x ≈ ∑_{i=0}^'+str(i-1),'x^i/i! =',e_to_x)\n",
        "print(\"epsilon =\",\"{:.0e}\".format(epsilon))     \n",
        "print('math.exp(x) = ',math.exp(x))\n",
        "print('time = ',end - start)"
      ],
      "metadata": {
        "colab": {
          "base_uri": "https://localhost:8080/"
        },
        "id": "_w6F5Vv6P1TA",
        "outputId": "f3dcc2e5-850e-4d9e-a85b-c6ae6091a962"
      },
      "execution_count": null,
      "outputs": [
        {
          "output_type": "stream",
          "name": "stdout",
          "text": [
            "n =  1944\n",
            "x =  700\n",
            "e_to_x ≈ ∑_{i=0}^1944 x^i/i! = 1.0142320547350051e+304\n",
            "epsilon = 1e-20\n",
            "math.exp(x) =  1.0142320547350045e+304\n",
            "time =  0.23932409286499023\n"
          ]
        }
      ]
    },
    {
      "cell_type": "markdown",
      "source": [
        "Inefficient\n",
        "\n",
        "$$ e^{ x} \\approx \\sum_{i=0}^{n} \\frac{x^i}{i!} =  \\sum_{i=1}^{n} \\frac{\\overset{i\\ times}{x*x*\\cdots*x}}{1*2*\\cdots*i}$$\n",
        "\n",
        "> Indented block\n",
        "\n",
        "\n",
        "\n",
        "Additions\n",
        "$$ n \\text{ additions } $$\n",
        "\n",
        "Multiplications\n",
        "\n",
        "* Powers\n",
        "$$ \\overset{i\\ times}{x*x*\\cdots*x}$$\n",
        "$$i-1 \\text{ multiplications }$$\n",
        "$$ \\sum_{i=1}^{n}\\ i-1 = \\frac{n(n-1)}{2} = \\frac{1}{2} n^2 - \\frac{1}{2} n\\text{ mutiplications}$$\n",
        "\n",
        "* Factorials\n",
        "$$1*2*\\cdots*i$$\n",
        "$$  i-1 \\text{ mutiplications }  $$\n",
        "$$ \\sum_{i=1}^{n} i-1 = \\frac{n(n-1)}{2} = \\frac{1}{2} n^2 - \\frac{1}{2} n\\text{ mutiplications}$$\n",
        "\n",
        "Divisions\n",
        "$$ n-1 \\text{ divsions }$$ \n",
        "\n",
        "TOTAL \n",
        "$$ n^2  + n -1  = \\Theta(n^2) \\text{ FLOPS }$$ "
      ],
      "metadata": {
        "id": "WIOnwq-sTfVa"
      }
    },
    {
      "cell_type": "code",
      "source": [
        "# Returns Min n, |x^{n}/n!| < epsilon and ∑_{i=0}^{n} x^i/i!\n",
        "\n",
        "import time\n",
        "\n",
        "start = time.time()\n",
        "\n",
        "x = 700\n",
        "epsilon = 10**(-20)\n",
        "\n",
        "xo = x\n",
        "\n",
        "if x < 0 :\n",
        "   x = - x\n",
        "\n",
        "delta = 1\n",
        "e_to_x = 1\n",
        "i = 1\n",
        "while  epsilon <= abs(delta):\n",
        "  \n",
        "  x_to_i = 1\n",
        "  fact_of_i = 1\n",
        "  for k in range(1,i+1):\n",
        "      x_to_i *= x\n",
        "      fact_of_i *= k\n",
        "\n",
        "  delta = x_to_i/fact_of_i \n",
        "  e_to_x += delta\n",
        "  i = i+1\n",
        "\n",
        "if x != xo: \n",
        "  e_to_x = 1 / e_to_x\n",
        "  x = xo\n",
        "\n",
        "end = time.time()\n",
        "\n",
        "print(\"n = \",i-1) \n",
        "print('x = ',x)\n",
        "print('e_to_x ≈ ∑_{i=0}^'+str(i-1),'x^i/i! =',e_to_x)\n",
        "print(\"epsilon =\",\"{:.0e}\".format(epsilon))     \n",
        "print('math.exp(x) = ',math.exp(x))\n",
        "print('time = ',end - start)"
      ],
      "metadata": {
        "colab": {
          "base_uri": "https://localhost:8080/"
        },
        "id": "plhAy584UrUw",
        "outputId": "a389b3b1-6cb1-4d03-a409-9dcf82e51bb0"
      },
      "execution_count": null,
      "outputs": [
        {
          "output_type": "stream",
          "name": "stdout",
          "text": [
            "n =  1944\n",
            "x =  700\n",
            "e_to_x ≈ ∑_{i=0}^1944 x^i/i! = 1.0142320547350051e+304\n",
            "epsilon = 1e-20\n",
            "math.exp(x) =  1.0142320547350045e+304\n",
            "time =  2.0453274250030518\n"
          ]
        }
      ]
    },
    {
      "cell_type": "markdown",
      "metadata": {
        "id": "Vv6QfFh-8UGZ"
      },
      "source": [
        "# Error using the Lagrange's formula of the Residual $E_n$\n",
        "\n",
        "For the Taylor series for $f(x) = sin(x)$ about $c=0$ (Maclaurin) \n",
        "\n",
        "The derivative  $n+1$ of $sin(x) $ is $f^{(n+1)}(x) = sin(x+\\frac{(n+1)\\pi}{2})$, therefore the error using Lagrange's residual is:\n",
        "\n",
        "$$ E_n = \\frac{f^{(n+1)}(\\xi)}{(n+1)!}(x-c)^{(n+1)} = \\frac{sin(x+\\frac{(n+1)\\pi}{2})}{(n+1)!}x^{n+1} $$\n",
        "\n",
        "$$ = \\left|\\frac{sin(x+\\frac{(n+1)\\pi}{2})}{(n+1)!}x^{n+1}\\right| $$"
      ]
    },
    {
      "cell_type": "markdown",
      "metadata": {
        "id": "y1fLchcRq-mT"
      },
      "source": [
        "# What is the minimun $n$ for which the error using absolute value of the Lagrange's formula of the Residual $|E_n|$, of the Taylor series for $sin(x)$ about $0$ (Maclaurin  series), is less than  $\\epsilon$.\n",
        "\n"
      ]
    },
    {
      "cell_type": "code",
      "metadata": {
        "colab": {
          "base_uri": "https://localhost:8080/"
        },
        "id": "hBLCJ5mUqu4T",
        "outputId": "074c9d76-80a2-46b1-8ffa-29aaaa06687d"
      },
      "source": [
        "# Retunrs Min n, |x^{2n+1}/(2n+1)!| < epsilon and ∑_{i=0}^{n+1}  ((-1)^i) * (x^(2i+1) / (2i+1)!|\n",
        "import math\n",
        "\n",
        "x = 1\n",
        "epsilon = 10**(-12)\n",
        "sin_of_x = 0\n",
        "i = 0\n",
        "error = (math.sin(x+(((i+1)*math.pi)/2))/math.factorial(i+1))*x**(i+1)\n",
        "print(\"n\".rjust(10),\" \",\"∑_{i=1}^n  ((-1)^i) * (x^(2i+1) / (2i+1)!\".center(21),\" \",\"error=((-1)^i) * (x^(2i+1) / (2i+1)!\".center(20),\" \",\"epsilon\".center(20))\n",
        "while  epsilon <= abs(error):\n",
        "  sin_of_x +=  ((-1)**i)*((x**(2*i+1)) / math.factorial(2*i+1)) \n",
        "  error = (math.sin(x+(((i+1)*math.pi)/2))/math.factorial(i+1))*x**(i+1)\n",
        "  \n",
        "  print(format(i, '10'),\"  \", format(sin_of_x, '.17f'),\"                      \",format(error, '.17f'),\"                     \",format(epsilon, '.17f')) \n",
        "  i = i+1\n",
        "print(\"n = \",i-1) \n",
        "print('x = ',x)\n",
        "print('sin_of_x ≈ ∑_{i=1}^'+str(i-1),'((-1)^i) * (x^(2i+1) / (2i+1)! =',sin_of_x)    \n",
        "print('math.sin(x) = ',math.sin(x))"
      ],
      "execution_count": 15,
      "outputs": [
        {
          "output_type": "stream",
          "name": "stdout",
          "text": [
            "         n   ∑_{i=1}^n  ((-1)^i) * (x^(2i+1) / (2i+1)!   error=((-1)^i) * (x^(2i+1) / (2i+1)!         epsilon       \n",
            "         0    1.00000000000000000                        0.54030230586813977                       0.00000000000100000\n",
            "         1    0.83333333333333337                        -0.42073549240394820                       0.00000000000100000\n",
            "         2    0.84166666666666667                        -0.09005038431135665                       0.00000000000100000\n",
            "         3    0.84146825396825398                        0.03506129103366235                       0.00000000000100000\n",
            "         4    0.84147100970017641                        0.00450251921556783                       0.00000000000100000\n",
            "         5    0.84147098464806802                        -0.00116870970112208                       0.00000000000100000\n",
            "         6    0.84147098480865845                        -0.00010720283846590                       0.00000000000100000\n",
            "         7    0.84147098480789373                        0.00002086981609147                       0.00000000000100000\n",
            "         8    0.84147098480789650                        0.00000148892831203                       0.00000000000100000\n",
            "         9    0.84147098480789650                        -0.00000023188684546                       0.00000000000100000\n",
            "        10    0.84147098480789650                        -0.00000001353571193                       0.00000000000100000\n",
            "        11    0.84147098480789650                        0.00000000175671853                       0.00000000000100000\n",
            "        12    0.84147098480789650                        0.00000000008676738                       0.00000000000100000\n",
            "        13    0.84147098480789650                        -0.00000000000965230                       0.00000000000100000\n",
            "        14    0.84147098480789650                        -0.00000000000041318                       0.00000000000100000\n",
            "n =  14\n",
            "x =  1\n",
            "sin_of_x ≈ ∑_{i=1}^14 ((-1)^i) * (x^(2i+1) / (2i+1)! = 0.8414709848078965\n",
            "math.sin(x) =  0.8414709848078965\n"
          ]
        }
      ]
    },
    {
      "cell_type": "code",
      "source": [
        "# Retunrs Min n, |x^{2n+1}/(2n+1)!| < epsilon and ∑_{i=0}^{n+1}  [(-1)^n][(x^(2i+1))/((2i+1)!)]|\n",
        "import math\n",
        "\n",
        "x = -1\n",
        "epsilon = 10**(-12)\n",
        "sin_of_x = 0\n",
        "i = 0\n",
        "error = (math.sin(x+(((i+1)*math.pi)/2))/math.factorial(i+1))*x**(i+1)\n",
        "print(\"n\".rjust(10),\" \",\"∑_{i=1}^n  ((-1)^i) * (x^(2i+1) / (2i+1)!\".center(21),\" \",\"error=((-1)^i) * (x^(2i+1) / (2i+1)!\".center(20),\" \",\"epsilon\".center(20))\n",
        "while  epsilon <= abs(error):\n",
        "  sin_of_x +=  ((-1)**i)*((x**(2*i+1)) / math.factorial(2*i+1)) \n",
        "  error = (math.sin(x+(((i+1)*math.pi)/2))/math.factorial(i+1))*x**(i+1)\n",
        "  \n",
        "  print(format(i, '10'),\"  \", format(sin_of_x, '.17f'),\"                      \",format(error, '.17f'),\"                     \",format(epsilon, '.17f')) \n",
        "  i = i+1\n",
        "print(\"n = \",i-1) \n",
        "print('x = ',x)\n",
        "print('sin_of_x ≈ ∑_{i=1}^'+str(i-1),'((-1)^i) * (x^(2i+1) / (2i+1)! =',sin_of_x)    \n",
        "print('math.sin(x) = ',math.sin(x))"
      ],
      "metadata": {
        "colab": {
          "base_uri": "https://localhost:8080/"
        },
        "id": "EzCCSnD15R0X",
        "outputId": "cd0a1360-b165-49c5-d737-ba2dedb2dd70"
      },
      "execution_count": 16,
      "outputs": [
        {
          "output_type": "stream",
          "name": "stdout",
          "text": [
            "         n   ∑_{i=1}^n  ((-1)^i) * (x^(2i+1) / (2i+1)!   error=((-1)^i) * (x^(2i+1) / (2i+1)!         epsilon       \n",
            "         0    -1.00000000000000000                        -0.54030230586813965                       0.00000000000100000\n",
            "         1    -0.83333333333333337                        0.42073549240394831                       0.00000000000100000\n",
            "         2    -0.84166666666666667                        0.09005038431135659                       0.00000000000100000\n",
            "         3    -0.84146825396825398                        -0.03506129103366236                       0.00000000000100000\n",
            "         4    -0.84147100970017641                        -0.00450251921556783                       0.00000000000100000\n",
            "         5    -0.84147098464806802                        0.00116870970112208                       0.00000000000100000\n",
            "         6    -0.84147098480865845                        0.00010720283846590                       0.00000000000100000\n",
            "         7    -0.84147098480789373                        -0.00002086981609147                       0.00000000000100000\n",
            "         8    -0.84147098480789650                        -0.00000148892831203                       0.00000000000100000\n",
            "         9    -0.84147098480789650                        0.00000023188684546                       0.00000000000100000\n",
            "        10    -0.84147098480789650                        0.00000001353571193                       0.00000000000100000\n",
            "        11    -0.84147098480789650                        -0.00000000175671853                       0.00000000000100000\n",
            "        12    -0.84147098480789650                        -0.00000000008676738                       0.00000000000100000\n",
            "        13    -0.84147098480789650                        0.00000000000965230                       0.00000000000100000\n",
            "        14    -0.84147098480789650                        0.00000000000041318                       0.00000000000100000\n",
            "n =  14\n",
            "x =  -1\n",
            "sin_of_x ≈ ∑_{i=1}^14 ((-1)^i) * (x^(2i+1) / (2i+1)! = -0.8414709848078965\n",
            "math.sin(x) =  -0.8414709848078965\n"
          ]
        }
      ]
    },
    {
      "cell_type": "markdown",
      "source": [
        "#  Sympy\n",
        "\n",
        "Taylor Series Expansion with Python from Data Science Fabric\n",
        "\n",
        "https://dsfabric.org/taylor-series-expansion-with-python"
      ],
      "metadata": {
        "id": "cx2-LoLzahoa"
      }
    },
    {
      "cell_type": "code",
      "source": [
        "from sympy import series, Symbol, pi, E, N\n",
        "from sympy.functions import sin\n",
        "from sympy.functions import exp\n",
        "from sympy.plotting import plot\n",
        "import matplotlib.pyplot as plt"
      ],
      "metadata": {
        "id": "hGQPpZ8gaVWN"
      },
      "execution_count": 71,
      "outputs": []
    },
    {
      "cell_type": "code",
      "source": [
        "# Define symbol\n",
        "x = Symbol('x')"
      ],
      "metadata": {
        "id": "qiHCCJ3napkY"
      },
      "execution_count": 25,
      "outputs": []
    },
    {
      "cell_type": "code",
      "source": [
        "# Function for Taylor Series Expansion\n",
        "\n",
        "def taylor(function, x0, n):\n",
        "    \"\"\"\n",
        "    Parameter \"function\" is our function which we want to approximate\n",
        "    \"x0\" is the point where to approximate\n",
        "    \"n\" is the order of approximation\n",
        "    \"\"\"\n",
        "    return function.series(x,x0,n)"
      ],
      "metadata": {
        "id": "z9fkRjbJatry"
      },
      "execution_count": 26,
      "outputs": []
    },
    {
      "cell_type": "code",
      "source": [
        "print('sin(x)  ≅')\n",
        "taylor(sin(x), 0, 12)"
      ],
      "metadata": {
        "colab": {
          "base_uri": "https://localhost:8080/",
          "height": 71
        },
        "id": "bEtq3o7Waym6",
        "outputId": "d41e5110-2818-4b2c-889b-c6cc5c0a499f"
      },
      "execution_count": 30,
      "outputs": [
        {
          "output_type": "stream",
          "name": "stdout",
          "text": [
            "sin(x)  ≅\n"
          ]
        },
        {
          "output_type": "execute_result",
          "data": {
            "text/plain": [
              "x - x**3/6 + x**5/120 - x**7/5040 + x**9/362880 - x**11/39916800 + O(x**12)"
            ],
            "text/latex": "$\\displaystyle x - \\frac{x^{3}}{6} + \\frac{x^{5}}{120} - \\frac{x^{7}}{5040} + \\frac{x^{9}}{362880} - \\frac{x^{11}}{39916800} + O\\left(x^{12}\\right)$"
          },
          "metadata": {},
          "execution_count": 30
        }
      ]
    },
    {
      "cell_type": "code",
      "source": [
        "print('sin(x) ≅', taylor(sin(x), 0, 12))"
      ],
      "metadata": {
        "colab": {
          "base_uri": "https://localhost:8080/"
        },
        "id": "VU2Q0vuYa_xQ",
        "outputId": "784372a9-e294-4c63-ff4b-91c99321b8a6"
      },
      "execution_count": 31,
      "outputs": [
        {
          "output_type": "stream",
          "name": "stdout",
          "text": [
            "sin(x) ≅ x - x**3/6 + x**5/120 - x**7/5040 + x**9/362880 - x**11/39916800 + O(x**12)\n"
          ]
        }
      ]
    },
    {
      "cell_type": "code",
      "source": [
        "print('sin(x) ≅ at around 1')\n",
        "taylor(sin(x), 1, 8)"
      ],
      "metadata": {
        "colab": {
          "base_uri": "https://localhost:8080/",
          "height": 104
        },
        "id": "iX0DNQdrbtdY",
        "outputId": "19d60efe-3799-4599-9a01-771c3a5ee021"
      },
      "execution_count": 32,
      "outputs": [
        {
          "output_type": "stream",
          "name": "stdout",
          "text": [
            "sin(x) ≅ at around 1\n"
          ]
        },
        {
          "output_type": "execute_result",
          "data": {
            "text/plain": [
              "sin(1) + (x - 1)*cos(1) - (x - 1)**2*sin(1)/2 - (x - 1)**3*cos(1)/6 + (x - 1)**4*sin(1)/24 + (x - 1)**5*cos(1)/120 - (x - 1)**6*sin(1)/720 - (x - 1)**7*cos(1)/5040 + O((x - 1)**8, (x, 1))"
            ],
            "text/latex": "$\\displaystyle \\sin{\\left(1 \\right)} + \\left(x - 1\\right) \\cos{\\left(1 \\right)} - \\frac{\\left(x - 1\\right)^{2} \\sin{\\left(1 \\right)}}{2} - \\frac{\\left(x - 1\\right)^{3} \\cos{\\left(1 \\right)}}{6} + \\frac{\\left(x - 1\\right)^{4} \\sin{\\left(1 \\right)}}{24} + \\frac{\\left(x - 1\\right)^{5} \\cos{\\left(1 \\right)}}{120} - \\frac{\\left(x - 1\\right)^{6} \\sin{\\left(1 \\right)}}{720} - \\frac{\\left(x - 1\\right)^{7} \\cos{\\left(1 \\right)}}{5040} + O\\left(\\left(x - 1\\right)^{8}; x\\rightarrow 1\\right)$"
          },
          "metadata": {},
          "execution_count": 32
        }
      ]
    },
    {
      "cell_type": "code",
      "source": [
        "print('sin(1) =', taylor(sin(x), 0, 4).subs(x,1))"
      ],
      "metadata": {
        "colab": {
          "base_uri": "https://localhost:8080/"
        },
        "id": "0sfHK6K4b7KQ",
        "outputId": "6b3b24e5-5262-42d6-8844-c766fa979ad0"
      },
      "execution_count": 33,
      "outputs": [
        {
          "output_type": "stream",
          "name": "stdout",
          "text": [
            "sin(1) = O(1)\n"
          ]
        }
      ]
    },
    {
      "cell_type": "code",
      "source": [
        "print('sin(1) =', N(taylor(sin(x), 0, 4).subs(x,1)))"
      ],
      "metadata": {
        "colab": {
          "base_uri": "https://localhost:8080/"
        },
        "id": "t64ikINpcL-v",
        "outputId": "e7c8afb0-7a8b-4d14-f310-4165e4d2952e"
      },
      "execution_count": 34,
      "outputs": [
        {
          "output_type": "stream",
          "name": "stdout",
          "text": [
            "sin(1) = O(1)\n"
          ]
        }
      ]
    },
    {
      "cell_type": "code",
      "source": [
        "print('Taylor 0 sin(x) ≅', taylor(sin(x), 0, 0))\n",
        "print('Taylor 1 sin(x) ≅', taylor(sin(x), 0, 1))\n",
        "print('Taylor 2 sin(x) ≅', taylor(sin(x), 0, 2))\n",
        "print('Taylor 3 sin(x) ≅', taylor(sin(x), 0, 3))\n",
        "print('Taylor 4 sin(x) ≅', taylor(sin(x), 0, 4))\n",
        "print('Taylor 5 sin(x) ≅', taylor(sin(x), 0, 5))\n",
        "print('Taylor 6 sin(x) ≅', taylor(sin(x), 0, 6))\n",
        "print('Taylor 7 sin(x) ≅', taylor(sin(x), 0, 7))\n",
        "print('Taylor 8 sin(x) ≅', taylor(sin(x), 0, 8))\n",
        "print('Taylor 9 sin(x) ≅', taylor(sin(x), 0, 9))\n",
        "print('Taylor 10 sin(x) ≅', taylor(sin(x), 0, 10))\n",
        "print('Taylor 11 sin(x) ≅', taylor(sin(x), 0, 11))\n",
        "print('Taylor 12 sin(x) ≅', taylor(sin(x), 0, 12))"
      ],
      "metadata": {
        "colab": {
          "base_uri": "https://localhost:8080/"
        },
        "id": "ytUFqliacVnQ",
        "outputId": "a9e29aec-2e83-4c3c-ae4a-5bc4df2f0f52"
      },
      "execution_count": 36,
      "outputs": [
        {
          "output_type": "stream",
          "name": "stdout",
          "text": [
            "Taylor 0 sin(x) ≅ O(1)\n",
            "Taylor 1 sin(x) ≅ O(x)\n",
            "Taylor 2 sin(x) ≅ x + O(x**2)\n",
            "Taylor 3 sin(x) ≅ x + O(x**3)\n",
            "Taylor 4 sin(x) ≅ x - x**3/6 + O(x**4)\n",
            "Taylor 5 sin(x) ≅ x - x**3/6 + O(x**5)\n",
            "Taylor 6 sin(x) ≅ x - x**3/6 + x**5/120 + O(x**6)\n",
            "Taylor 7 sin(x) ≅ x - x**3/6 + x**5/120 + O(x**7)\n",
            "Taylor 8 sin(x) ≅ x - x**3/6 + x**5/120 - x**7/5040 + O(x**8)\n",
            "Taylor 9 sin(x) ≅ x - x**3/6 + x**5/120 - x**7/5040 + O(x**9)\n",
            "Taylor 10 sin(x) ≅ x - x**3/6 + x**5/120 - x**7/5040 + x**9/362880 + O(x**10)\n",
            "Taylor 11 sin(x) ≅ x - x**3/6 + x**5/120 - x**7/5040 + x**9/362880 + O(x**11)\n",
            "Taylor 12 sin(x) ≅ x - x**3/6 + x**5/120 - x**7/5040 + x**9/362880 - x**11/39916800 + O(x**12)\n"
          ]
        }
      ]
    },
    {
      "cell_type": "code",
      "source": [
        "print('Taylor 0 sin(x) ≅', taylor(sin(x), 0, 0).subs(x,1))\n",
        "print('Taylor 1 sin(x) ≅', taylor(sin(x), 0, 1).subs(x,1))\n",
        "print('Taylor 2 sin(x) ≅', taylor(sin(x), 0, 2).subs(x,1))\n",
        "print('Taylor 3 sin(x) ≅', taylor(sin(x), 0, 3).subs(x,1))\n",
        "print('Taylor 4 sin(x) ≅', taylor(sin(x), 0, 4).subs(x,1))\n",
        "print('Taylor 5 sin(x) ≅', taylor(sin(x), 0, 5).subs(x,1))\n",
        "print('Taylor 6 sin(x) ≅', taylor(sin(x), 0, 6).subs(x,1))\n",
        "print('Taylor 7 sin(x) ≅', taylor(sin(x), 0, 7).subs(x,1))\n",
        "print('Taylor 8 sin(x) ≅', taylor(sin(x), 0, 8).subs(x,1))\n",
        "print('Taylor 9 sin(x) ≅', taylor(sin(x), 0, 9).subs(x,1))\n",
        "print('Taylor 10 sin(x) ≅', taylor(sin(x), 0, 10).subs(x,1))\n",
        "print('Taylor 11 sin(x) ≅', taylor(sin(x), 0, 11).subs(x,1))\n",
        "print('Taylor 12 sin(x) ≅', taylor(sin(x), 0, 12).subs(x,1))"
      ],
      "metadata": {
        "colab": {
          "base_uri": "https://localhost:8080/"
        },
        "id": "iGvi9RgacapA",
        "outputId": "d6f346f7-3eda-486c-8a8d-4655de276fd4"
      },
      "execution_count": 38,
      "outputs": [
        {
          "output_type": "stream",
          "name": "stdout",
          "text": [
            "Taylor 0 sin(x) ≅ O(1)\n",
            "Taylor 1 sin(x) ≅ O(1)\n",
            "Taylor 2 sin(x) ≅ O(1)\n",
            "Taylor 3 sin(x) ≅ O(1)\n",
            "Taylor 4 sin(x) ≅ O(1)\n",
            "Taylor 5 sin(x) ≅ O(1)\n",
            "Taylor 6 sin(x) ≅ O(1)\n",
            "Taylor 7 sin(x) ≅ O(1)\n",
            "Taylor 8 sin(x) ≅ O(1)\n",
            "Taylor 9 sin(x) ≅ O(1)\n",
            "Taylor 10 sin(x) ≅ O(1)\n",
            "Taylor 11 sin(x) ≅ O(1)\n",
            "Taylor 12 sin(x) ≅ O(1)\n"
          ]
        }
      ]
    },
    {
      "cell_type": "code",
      "source": [
        "print('Taylor 0 sin(x) ≅', N(taylor(sin(x), 0, 0).subs(x,1)))\n",
        "print('Taylor 1 sin(x) ≅', N(taylor(sin(x), 0, 1).subs(x,1)))\n",
        "print('Taylor 2 sin(x) ≅', N(taylor(sin(x), 0, 2).subs(x,1)))\n",
        "print('Taylor 3 sin(x) ≅', N(taylor(sin(x), 0, 3).subs(x,1)))\n",
        "print('Taylor 4 sin(x) ≅', N(taylor(sin(x), 0, 4).subs(x,1)))\n",
        "print('Taylor 5 sin(x) ≅', N(taylor(sin(x), 0, 5).subs(x,1)))\n",
        "print('Taylor 6 sin(x) ≅', N(taylor(sin(x), 0, 6).subs(x,1)))\n",
        "print('Taylor 7 sin(x) ≅', N(taylor(sin(x), 0, 7).subs(x,1)))\n",
        "print('Taylor 8 sin(x) ≅', N(taylor(sin(x), 0, 8).subs(x,1)))\n",
        "print('Taylor 9 sin(x) ≅', N(taylor(sin(x), 0, 9).subs(x,1)))\n",
        "print('Taylor 10 sin(x) ≅', N(taylor(sin(x), 0, 10).subs(x,1)))\n",
        "print('Taylor 11 sin(x) ≅', N(taylor(sin(x), 0, 11).subs(x,1)))\n",
        "print('Taylor 12 sin(x) ≅', N(taylor(sin(x), 0, 12).subs(x,1)))"
      ],
      "metadata": {
        "colab": {
          "base_uri": "https://localhost:8080/"
        },
        "id": "N_VVBah_crmQ",
        "outputId": "a8f8dc44-c45d-4613-e337-067cf10f37f6"
      },
      "execution_count": 39,
      "outputs": [
        {
          "output_type": "stream",
          "name": "stdout",
          "text": [
            "Taylor 0 sin(x) ≅ O(1)\n",
            "Taylor 1 sin(x) ≅ O(1)\n",
            "Taylor 2 sin(x) ≅ O(1)\n",
            "Taylor 3 sin(x) ≅ O(1)\n",
            "Taylor 4 sin(x) ≅ O(1)\n",
            "Taylor 5 sin(x) ≅ O(1)\n",
            "Taylor 6 sin(x) ≅ O(1)\n",
            "Taylor 7 sin(x) ≅ O(1)\n",
            "Taylor 8 sin(x) ≅ O(1)\n",
            "Taylor 9 sin(x) ≅ O(1)\n",
            "Taylor 10 sin(x) ≅ O(1)\n",
            "Taylor 11 sin(x) ≅ O(1)\n",
            "Taylor 12 sin(x) ≅ O(1)\n"
          ]
        }
      ]
    },
    {
      "cell_type": "code",
      "source": [
        "# Function for Taylor Series Expansion\n",
        "\n",
        "def taylor(function, x0, n):\n",
        "    \"\"\"\n",
        "    Parameter \"function\" is our function which we want to approximate\n",
        "    \"x0\" is the point where to approximate\n",
        "    \"n\" is the order of approximation\n",
        "    \"\"\"\n",
        "    return function.series(x,x0,n).removeO()"
      ],
      "metadata": {
        "id": "Gv65YRzdc3qQ"
      },
      "execution_count": 97,
      "outputs": []
    },
    {
      "cell_type": "code",
      "source": [
        "print('e(x)  ≅')\n",
        "taylor(sin(x), 0, 8)"
      ],
      "metadata": {
        "colab": {
          "base_uri": "https://localhost:8080/",
          "height": 71
        },
        "id": "EQtZRYJpc5Ro",
        "outputId": "14feac01-f6ba-42f1-afb1-1a6aff7ad94b"
      },
      "execution_count": 40,
      "outputs": [
        {
          "output_type": "stream",
          "name": "stdout",
          "text": [
            "e(x)  ≅\n"
          ]
        },
        {
          "output_type": "execute_result",
          "data": {
            "text/plain": [
              "x - x**3/6 + x**5/120 - x**7/5040 + O(x**8)"
            ],
            "text/latex": "$\\displaystyle x - \\frac{x^{3}}{6} + \\frac{x^{5}}{120} - \\frac{x^{7}}{5040} + O\\left(x^{8}\\right)$"
          },
          "metadata": {},
          "execution_count": 40
        }
      ]
    },
    {
      "cell_type": "code",
      "source": [
        "print('sin(x) ≅', taylor(sin(x), 0, 8))"
      ],
      "metadata": {
        "colab": {
          "base_uri": "https://localhost:8080/"
        },
        "id": "DcPjj8PWdBap",
        "outputId": "e85ccca2-06ab-4446-c6e3-0e5ac8de47d1"
      },
      "execution_count": 41,
      "outputs": [
        {
          "output_type": "stream",
          "name": "stdout",
          "text": [
            "sin(x) ≅ x - x**3/6 + x**5/120 - x**7/5040 + O(x**8)\n"
          ]
        }
      ]
    },
    {
      "cell_type": "code",
      "source": [
        "print('sin(x) ≅ at around 1')\n",
        "taylor(sin(x), 1, 8)"
      ],
      "metadata": {
        "colab": {
          "base_uri": "https://localhost:8080/",
          "height": 104
        },
        "outputId": "9170ad5a-d59d-436d-e315-6a5a6ea85c94",
        "id": "OXZgOve0dS67"
      },
      "execution_count": 42,
      "outputs": [
        {
          "output_type": "stream",
          "name": "stdout",
          "text": [
            "sin(x) ≅ at around 1\n"
          ]
        },
        {
          "output_type": "execute_result",
          "data": {
            "text/plain": [
              "sin(1) + (x - 1)*cos(1) - (x - 1)**2*sin(1)/2 - (x - 1)**3*cos(1)/6 + (x - 1)**4*sin(1)/24 + (x - 1)**5*cos(1)/120 - (x - 1)**6*sin(1)/720 - (x - 1)**7*cos(1)/5040 + O((x - 1)**8, (x, 1))"
            ],
            "text/latex": "$\\displaystyle \\sin{\\left(1 \\right)} + \\left(x - 1\\right) \\cos{\\left(1 \\right)} - \\frac{\\left(x - 1\\right)^{2} \\sin{\\left(1 \\right)}}{2} - \\frac{\\left(x - 1\\right)^{3} \\cos{\\left(1 \\right)}}{6} + \\frac{\\left(x - 1\\right)^{4} \\sin{\\left(1 \\right)}}{24} + \\frac{\\left(x - 1\\right)^{5} \\cos{\\left(1 \\right)}}{120} - \\frac{\\left(x - 1\\right)^{6} \\sin{\\left(1 \\right)}}{720} - \\frac{\\left(x - 1\\right)^{7} \\cos{\\left(1 \\right)}}{5040} + O\\left(\\left(x - 1\\right)^{8}; x\\rightarrow 1\\right)$"
          },
          "metadata": {},
          "execution_count": 42
        }
      ]
    },
    {
      "cell_type": "code",
      "source": [
        "print('sin(1) =', taylor(sin(x), 0, 4).subs(x,1))"
      ],
      "metadata": {
        "colab": {
          "base_uri": "https://localhost:8080/"
        },
        "outputId": "4bfdb88e-a65e-4453-d53a-8b0f5c1c4bf8",
        "id": "8OvEA2B8dS69"
      },
      "execution_count": 43,
      "outputs": [
        {
          "output_type": "stream",
          "name": "stdout",
          "text": [
            "sin(1) = O(1)\n"
          ]
        }
      ]
    },
    {
      "cell_type": "code",
      "source": [
        "print('sin(1) =', N(taylor(sin(x), 0, 4).subs(x,1)))"
      ],
      "metadata": {
        "colab": {
          "base_uri": "https://localhost:8080/"
        },
        "outputId": "7be9b265-1ad9-4bda-903e-c0bb71e40ebe",
        "id": "HjQaTc7QdS6-"
      },
      "execution_count": 44,
      "outputs": [
        {
          "output_type": "stream",
          "name": "stdout",
          "text": [
            "sin(1) = O(1)\n"
          ]
        }
      ]
    },
    {
      "cell_type": "code",
      "source": [
        "print('Taylor 0 sin(x) ≅', taylor(sin(x), 0, 0))\n",
        "print('Taylor 1 sin(x) ≅', taylor(sin(x), 0, 1))\n",
        "print('Taylor 2 sin(x) ≅', taylor(sin(x), 0, 2))\n",
        "print('Taylor 3 sin(x) ≅', taylor(sin(x), 0, 3))\n",
        "print('Taylor 4 sin(x) ≅', taylor(sin(x), 0, 4))\n",
        "print('Taylor 5 sin(x) ≅', taylor(sin(x), 0, 5))\n",
        "print('Taylor 6 sin(x) ≅', taylor(sin(x), 0, 6))\n",
        "print('Taylor 7 sin(x) ≅', taylor(sin(x), 0, 7))\n",
        "print('Taylor 8 sin(x) ≅', taylor(sin(x), 0, 8))"
      ],
      "metadata": {
        "colab": {
          "base_uri": "https://localhost:8080/"
        },
        "outputId": "baef5807-d4d0-4b27-d9e7-8ca92f3d3526",
        "id": "8H_qhh0OdS6-"
      },
      "execution_count": 45,
      "outputs": [
        {
          "output_type": "stream",
          "name": "stdout",
          "text": [
            "Taylor 0 sin(x) ≅ O(1)\n",
            "Taylor 1 sin(x) ≅ O(x)\n",
            "Taylor 2 sin(x) ≅ x + O(x**2)\n",
            "Taylor 3 sin(x) ≅ x + O(x**3)\n",
            "Taylor 4 sin(x) ≅ x - x**3/6 + O(x**4)\n",
            "Taylor 5 sin(x) ≅ x - x**3/6 + O(x**5)\n",
            "Taylor 6 sin(x) ≅ x - x**3/6 + x**5/120 + O(x**6)\n",
            "Taylor 7 sin(x) ≅ x - x**3/6 + x**5/120 + O(x**7)\n",
            "Taylor 8 sin(x) ≅ x - x**3/6 + x**5/120 - x**7/5040 + O(x**8)\n"
          ]
        }
      ]
    },
    {
      "cell_type": "code",
      "source": [
        "print('Taylor 0 sin(x) ≅', taylor(sin(x), 0, 0).subs(x,1))\n",
        "print('Taylor 1 sin(x) ≅', taylor(sin(x), 0, 1).subs(x,1))\n",
        "print('Taylor 2 sin(x) ≅', taylor(sin(x), 0, 2).subs(x,1))\n",
        "print('Taylor 3 sin(x) ≅', taylor(sin(x), 0, 3).subs(x,1))\n",
        "print('Taylor 4 sin(x) ≅', taylor(sin(x), 0, 4).subs(x,1))\n",
        "print('Taylor 5 sin(x) ≅', taylor(sin(x), 0, 5).subs(x,1))\n",
        "print('Taylor 6 sin(x) ≅', taylor(sin(x), 0, 6).subs(x,1))\n",
        "print('Taylor 7 sin(x) ≅', taylor(sin(x), 0, 7).subs(x,1))\n",
        "print('Taylor 8 sin(x) ≅', taylor(sin(x), 0, 8).subs(x,1))"
      ],
      "metadata": {
        "colab": {
          "base_uri": "https://localhost:8080/"
        },
        "outputId": "958d4a03-453c-454c-e17a-20647cd5052b",
        "id": "Nlwipl8zdS6_"
      },
      "execution_count": 46,
      "outputs": [
        {
          "output_type": "stream",
          "name": "stdout",
          "text": [
            "Taylor 0 sin(x) ≅ O(1)\n",
            "Taylor 1 sin(x) ≅ O(1)\n",
            "Taylor 2 sin(x) ≅ O(1)\n",
            "Taylor 3 sin(x) ≅ O(1)\n",
            "Taylor 4 sin(x) ≅ O(1)\n",
            "Taylor 5 sin(x) ≅ O(1)\n",
            "Taylor 6 sin(x) ≅ O(1)\n",
            "Taylor 7 sin(x) ≅ O(1)\n",
            "Taylor 8 sin(x) ≅ O(1)\n"
          ]
        }
      ]
    },
    {
      "cell_type": "code",
      "source": [
        "print('Taylor 0 sin(x) ≅', N(taylor(sin(x), 0, 0).subs(x,1)))\n",
        "print('Taylor 1 sin(x) ≅', N(taylor(sin(x), 0, 1).subs(x,1)))\n",
        "print('Taylor 2 sin(x) ≅', N(taylor(sin(x), 0, 2).subs(x,1)))\n",
        "print('Taylor 3 sin(x) ≅', N(taylor(sin(x), 0, 3).subs(x,1)))\n",
        "print('Taylor 4 sin(x) ≅', N(taylor(sin(x), 0, 4).subs(x,1)))\n",
        "print('Taylor 5 sin(x) ≅', N(taylor(sin(x), 0, 5).subs(x,1)))\n",
        "print('Taylor 6 sin(x) ≅', N(taylor(sin(x), 0, 6).subs(x,1)))\n",
        "print('Taylor 7 sin(x) ≅', N(taylor(sin(x), 0, 7).subs(x,1)))\n",
        "print('Taylor 8 sin(x) ≅', N(taylor(sin(x), 0, 8).subs(x,1)))"
      ],
      "metadata": {
        "colab": {
          "base_uri": "https://localhost:8080/"
        },
        "outputId": "fc8c0e5a-c2a9-47a9-ec06-b7a6fde0256e",
        "id": "xAotZ1UMdS7A"
      },
      "execution_count": 77,
      "outputs": [
        {
          "output_type": "stream",
          "name": "stdout",
          "text": [
            "Taylor 0 sin(x) ≅ O(1)\n",
            "Taylor 1 sin(x) ≅ O(1)\n",
            "Taylor 2 sin(x) ≅ O(1)\n",
            "Taylor 3 sin(x) ≅ O(1)\n",
            "Taylor 4 sin(x) ≅ O(1)\n",
            "Taylor 5 sin(x) ≅ O(1)\n",
            "Taylor 6 sin(x) ≅ O(1)\n",
            "Taylor 7 sin(x) ≅ O(1)\n",
            "Taylor 8 sin(x) ≅ O(1)\n"
          ]
        }
      ]
    },
    {
      "cell_type": "code",
      "source": [
        "import math\n",
        "import numpy as np\n",
        "import matplotlib.pyplot as plt\n",
        "# if using a Jupyter notebook, include:\n",
        "%matplotlib inline\n",
        "\n",
        "values = np.arange(-1,2*np.pi,0.1)\n",
        "p_sin = np.sin(values)\n",
        "t_sin1 = [taylor(sin(x), 0, 1).subs(x,v) for v in values]\n",
        "legends = ['sin() ','Taylor 0 (constant)']\n",
        "\n",
        "fig, ax = plt.subplots()\n",
        "ax.plot(values,p_sin, color ='red')\n",
        "ax.plot(values,t_sin1)\n",
        "\n",
        "ax.set_ylim([-2,2])\n",
        "ax.axhline(y=0.0, xmin=-5.0, xmax=5.0, color='black')\n",
        "ax.axvline(x=0.0, ymin=-10.0, ymax=10.0, color='black')\n",
        "ax.legend(legends);"
      ],
      "metadata": {
        "colab": {
          "base_uri": "https://localhost:8080/",
          "height": 269
        },
        "id": "ckWMJz7_deTZ",
        "outputId": "29394218-4308-4981-b292-74586520cf8b"
      },
      "execution_count": 130,
      "outputs": [
        {
          "output_type": "display_data",
          "data": {
            "text/plain": [
              "<Figure size 432x288 with 1 Axes>"
            ],
            "image/png": "[encoded data removed]"
          },
          "metadata": {
            "needs_background": "light"
          }
        }
      ]
    },
    {
      "cell_type": "code",
      "metadata": {
        "colab": {
          "base_uri": "https://localhost:8080/",
          "height": 269
        },
        "id": "XvqxBhg8O7Oi",
        "outputId": "dbcce25b-1a29-4477-9092-78ae7e154b9c"
      },
      "source": [
        "import math\n",
        "import numpy as np\n",
        "import matplotlib.pyplot as plt\n",
        "# if using a Jupyter notebook, include:\n",
        "%matplotlib inline\n",
        "\n",
        "values = np.arange(-1,2*np.pi,0.1)\n",
        "p_sin = np.sin(values)\n",
        "t_sin2 = [taylor(sin(x), 0, 2).subs(x,v) for v in values]\n",
        "legends = ['sin() ','Taylor 1 (linear)']\n",
        "\n",
        "fig, ax = plt.subplots()\n",
        "ax.plot(values,p_sin, color ='red')\n",
        "ax.plot(values,t_sin2)\n",
        "\n",
        "ax.set_ylim([-2,2])\n",
        "ax.axhline(y=0.0, xmin=-5.0, xmax=5.0, color='black')\n",
        "ax.axvline(x=0.0, ymin=-10.0, ymax=10.0, color='black')\n",
        "ax.legend(legends)\n",
        "\n",
        "plt.show()"
      ],
      "execution_count": 131,
      "outputs": [
        {
          "output_type": "display_data",
          "data": {
            "text/plain": [
              "<Figure size 432x288 with 1 Axes>"
            ],
            "image/png": "[encoded data removed]"
          },
          "metadata": {
            "needs_background": "light"
          }
        }
      ]
    },
    {
      "cell_type": "code",
      "metadata": {
        "colab": {
          "base_uri": "https://localhost:8080/",
          "height": 269
        },
        "id": "PLR1O9HUPFwg",
        "outputId": "b9a3fdc1-4442-4868-c1fb-fcfc978cf689"
      },
      "source": [
        "import math\n",
        "import numpy as np\n",
        "import matplotlib.pyplot as plt\n",
        "# if using a Jupyter notebook, include:\n",
        "%matplotlib inline\n",
        "\n",
        "values = np.arange(-5,2*np.pi,0.1)\n",
        "p_sin = np.sin(values)\n",
        "t_sin3 = [taylor(sin(x), 0, 4).subs(x,v) for v in values]\n",
        "legends = ['sin() ','Taylor 3 (cubic)']\n",
        "\n",
        "fig, ax = plt.subplots()\n",
        "ax.plot(values,p_sin, color ='red')\n",
        "ax.plot(values,t_sin3)\n",
        "\n",
        "ax.set_ylim([-2,2])\n",
        "ax.axhline(y=0.0, xmin=-5.0, xmax=5.0, color='black')\n",
        "ax.axvline(x=0.0, ymin=-10.0, ymax=10.0, color='black')\n",
        "ax.legend(legends)\n",
        "\n",
        "plt.show()"
      ],
      "execution_count": 132,
      "outputs": [
        {
          "output_type": "display_data",
          "data": {
            "text/plain": [
              "<Figure size 432x288 with 1 Axes>"
            ],
            "image/png": "[encoded data removed]"
          },
          "metadata": {
            "needs_background": "light"
          }
        }
      ]
    },
    {
      "cell_type": "code",
      "metadata": {
        "colab": {
          "base_uri": "https://localhost:8080/",
          "height": 265
        },
        "id": "Z9AEeR_BPJCA",
        "outputId": "384c0dfb-7f3e-4c66-b574-2488fbacd5ad"
      },
      "source": [
        "import math\n",
        "import numpy as np\n",
        "import matplotlib.pyplot as plt\n",
        "# if using a Jupyter notebook, include:\n",
        "%matplotlib inline\n",
        "\n",
        "values = np.arange(-5,2*np.pi,0.1)\n",
        "p_sin = np.sin(values)\n",
        "t_sin4 = [taylor(sin(x), 0, 6).subs(x,v) for v in values]\n",
        "legends = ['sin() ','Taylor 5 (pol of order 5)']\n",
        "\n",
        "fig, ax = plt.subplots()\n",
        "ax.plot(values,p_sin, color ='red')\n",
        "ax.plot(values,t_sin4)\n",
        "\n",
        "ax.set_ylim([-5,5])\n",
        "ax.axhline(y=0.0, xmin=-5.0, xmax=5.0, color='black')\n",
        "ax.axvline(x=0.0, ymin=-10.0, ymax=10.0, color='black')\n",
        "ax.legend(legends)\n",
        "\n",
        "plt.show()"
      ],
      "execution_count": 133,
      "outputs": [
        {
          "output_type": "display_data",
          "data": {
            "text/plain": [
              "<Figure size 432x288 with 1 Axes>"
            ],
            "image/png": "[encoded data removed]"
          },
          "metadata": {
            "needs_background": "light"
          }
        }
      ]
    },
    {
      "cell_type": "code",
      "metadata": {
        "id": "vLO9icMdPMmg",
        "colab": {
          "base_uri": "https://localhost:8080/",
          "height": 265
        },
        "outputId": "dc218063-60ee-4f19-f0b0-0e8918e47db4"
      },
      "source": [
        "import math\n",
        "import numpy as np\n",
        "import matplotlib.pyplot as plt\n",
        "# if using a Jupyter notebook, include:\n",
        "%matplotlib inline\n",
        "\n",
        "values = np.arange(-5,5,0.1)\n",
        "p_sin = np.sin(values)\n",
        "t_sin1 = [taylor(sin(x), 0, 1).subs(x,v) for v in values]\n",
        "t_sin2 = [taylor(sin(x), 0, 2).subs(x,v) for v in values]\n",
        "t_sin3 = [taylor(sin(x), 0, 4).subs(x,v) for v in values]\n",
        "t_sin4 = [taylor(sin(x), 0, 6).subs(x,v) for v in values]\n",
        "legends = ['sin() ','Taylor 0 (constant)','Taylor 1 (linear)','Taylor 3 (cubic)','Taylor 5 (pol of order 5)']\n",
        "\n",
        "fig, ax = plt.subplots()\n",
        "ax.plot(values,p_sin)\n",
        "ax.plot(values,t_sin1)\n",
        "ax.plot(values,t_sin2)\n",
        "ax.plot(values,t_sin3)\n",
        "ax.plot(values,t_sin4)\n",
        "\n",
        "ax.set_ylim([-5,5])\n",
        "ax.axhline(y=0.0, xmin=-5.0, xmax=5.0, color='black')\n",
        "ax.axvline(x=0.0, ymin=-10.0, ymax=10.0, color='black')\n",
        "ax.legend(legends)\n",
        "\n",
        "plt.show()"
      ],
      "execution_count": 134,
      "outputs": [
        {
          "output_type": "display_data",
          "data": {
            "text/plain": [
              "<Figure size 432x288 with 1 Axes>"
            ],
            "image/png": "[encoded data removed]"
          },
          "metadata": {
            "needs_background": "light"
          }
        }
      ]
    }
  ]
}