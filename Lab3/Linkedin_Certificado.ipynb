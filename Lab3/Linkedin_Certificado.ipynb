{
  "nbformat": 4,
  "nbformat_minor": 0,
  "metadata": {
    "colab": {
      "name": "Linkedin Certificado.ipynb",
      "provenance": [],
      "authorship_tag": "ABX9TyNVHkr287B1luK8L4iY81e8",
      "include_colab_link": true
    },
    "kernelspec": {
      "name": "python3",
      "display_name": "Python 3"
    },
    "language_info": {
      "name": "python"
    }
  },
  "cells": [
    {
      "cell_type": "markdown",
      "metadata": {
        "id": "view-in-github",
        "colab_type": "text"
      },
      "source": [
        "<a href=\"https://colab.research.google.com/github/gimoralesg/MetNumUN2022I/blob/main/Lab3/Linkedin_Certificado.ipynb\" target=\"_parent\"><img src=\"https://colab.research.google.com/assets/colab-badge.svg\" alt=\"Open In Colab\"/></a>"
      ]
    },
    {
      "cell_type": "markdown",
      "source": [
        "**Certificado [linkedin](https://www.linkedin.com/in/gian-morales-gonz%C3%A1lez-365558175/)**"
      ],
      "metadata": {
        "id": "nX4e4qHNoEQw"
      }
    },
    {
      "cell_type": "markdown",
      "source": [
        "<img src=\"https://raw.githubusercontent.com/gimoralesg/MetNumUN2022I/main/Lab3/gimoralesgcognitiveclassaapplieddatadciencewithpython.JPG\" alt=\"Drawing\" style=\"width: 800px;\"/>"
      ],
      "metadata": {
        "id": "rHKBJjh6oWj-"
      }
    }
  ]
}