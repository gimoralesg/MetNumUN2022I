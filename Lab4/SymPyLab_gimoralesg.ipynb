{
  "nbformat": 4,
  "nbformat_minor": 0,
  "metadata": {
    "colab": {
      "name": "SymPyLab_gimoralesg.ipynb",
      "provenance": [],
      "collapsed_sections": [],
      "include_colab_link": true
    },
    "kernelspec": {
      "name": "python3",
      "display_name": "Python 3"
    }
  },
  "cells": [
    {
      "cell_type": "markdown",
      "metadata": {
        "id": "view-in-github",
        "colab_type": "text"
      },
      "source": [
        "<a href=\"https://colab.research.google.com/github/gimoralesg/MetNumUN2022I/blob/main/Lab4/SymPyLab_gimoralesg.ipynb\" target=\"_parent\"><img src=\"https://colab.research.google.com/assets/colab-badge.svg\" alt=\"Open In Colab\"/></a>"
      ]
    },
    {
      "cell_type": "markdown",
      "metadata": {
        "id": "vtY1shFnMal_"
      },
      "source": [
        "# SymPyLab\n",
        "\n",
        "SymPy’s documentation\n",
        "- https://docs.sympy.org/latest/index.html\n"
      ]
    },
    {
      "cell_type": "markdown",
      "metadata": {
        "id": "2U0fAIf5G4rR"
      },
      "source": [
        "## SymPy’s polynomials \n",
        "- https://docs.sympy.org/latest/modules/polys/basics.html#polynomials \n",
        "\n",
        "$$ P_n(x) =  a_n x^n + a_{n-1} x^{n-1} + a_{n-2} x^{n-2} +\\cdots +  a_1 x  + a_0$$\n",
        "\n",
        "$$P_n(x) = 0 $$\n",
        "\n",
        "$$a_n x^n + a_{n-1} x^{n-1} + a_{n-2} x^{n-2} +\\cdots +  a_1 x  + a_0 = 0$$\n",
        "\n",
        "$$(x-r_1) Q_{n-1}(x) = P_n(x)$$\n",
        "$$(x-r_1) (x - r_2) Q_{n-2}(x) = P_n(x)$$\n",
        "$$ \\vdots $$\n",
        "\n",
        "- (x-1)(x-2)(x-3)(x-4)(x-5)(x-6)(x-17)(x-7)(x-8)(x-9) = x^10 - 62 x^9  + 1635 x^8 - 24240 x^7 + 223923 x^6 - 1344966 x^5 + 5302205 x^4 - 13475260 x^3 + 20962476 x^2 - 17814672 x + 6168960\n",
        "\n",
        "- (x^10 - 62 x^9 + 1635 x^8 - 24240 x^7 + 223923 x^6 - 1344966 x^5 + 5302205 x^4 - 13475260 x^3 + 20962476 x^2 - 17814672 x + 6168960) / (x-5) = x^9 - 57x^8 + 1350 x^7 - 17490 x^6 + 136473 x^5 - 662601 x^4 + 1989200 x^3 - 3529260 x^2 + 3316176 x - 1233792"
      ]
    },
    {
      "cell_type": "markdown",
      "metadata": {
        "id": "GSRpl42A6UXg"
      },
      "source": [
        "<img src=\"https://raw.githubusercontent.com/gimoralesg/MetNumUN2022I/main/Lab4/sympylabwolfram1.jpg\" /> <img src=\"https://raw.githubusercontent.com/gimoralesg/MetNumUN2022I/main/Lab4/sympylabwolfram2.jpg\" />\n"
      ]
    },
    {
      "cell_type": "code",
      "metadata": {
        "id": "Fw1yPZWLMb5P",
        "colab": {
          "base_uri": "https://localhost:8080/"
        },
        "outputId": "24a8cd24-446a-43b1-bafb-ab0a30cfff86"
      },
      "source": [
        "from sympy import Symbol\n",
        "from sympy import div\n",
        "\n",
        "x = Symbol('x')\n",
        "\n",
        "#x^10 - 62 x^9 + 1635 x^8 - 24240 x^7 + 223923 x^6 - 1344966 x^5 + 5302205 x^4 - 13475260 x^3 + 20962476 x^2 - 17814672 x + 6168960\n",
        "\n",
        "p = x**10 - 62*x**9  + 1635*x**8 - 24240*x**7 + 223923*x**6 - 1344966*x**5 + 5302205*x**4 - 13475260*x**3 + 20962476*x**2 - 17814672*x + 6168960\n",
        "\n",
        "p, r = div(p,  x-1)\n",
        "\n",
        "print(p)\n",
        "print(r)\n",
        "\n",
        "p, r = div(p,  x-2)\n",
        "\n",
        "print(p)\n",
        "print(r)\n",
        "\n",
        "p, r = div(p,  x-3)\n",
        "\n",
        "print(p)\n",
        "print(r)\n",
        "\n",
        "p, r = div(p,  x-4)\n",
        "\n",
        "print(p)\n",
        "print(r)\n",
        "\n",
        "p, r = div(p,  x-5)\n",
        "\n",
        "print(p)\n",
        "print(r)\n",
        "\n",
        "p, r = div(p,  x-6)\n",
        "\n",
        "print(p)\n",
        "print(r)\n",
        "\n",
        "\n",
        "p, r = div(p,  x-7)\n",
        "\n",
        "print(p)\n",
        "print(r)\n",
        "\n",
        "p, r = div(p,  x-8)\n",
        "\n",
        "print(p)\n",
        "print(r)\n",
        "\n",
        "p, r = div(p,  x-9)\n",
        "\n",
        "print(p)\n",
        "print(r)\n"
      ],
      "execution_count": null,
      "outputs": [
        {
          "output_type": "stream",
          "name": "stdout",
          "text": [
            "x**9 - 61*x**8 + 1574*x**7 - 22666*x**6 + 201257*x**5 - 1143709*x**4 + 4158496*x**3 - 9316764*x**2 + 11645712*x - 6168960\n",
            "0\n",
            "x**8 - 59*x**7 + 1456*x**6 - 19754*x**5 + 161749*x**4 - 820211*x**3 + 2518074*x**2 - 4280616*x + 3084480\n",
            "0\n",
            "x**7 - 56*x**6 + 1288*x**5 - 15890*x**4 + 114079*x**3 - 477974*x**2 + 1084152*x - 1028160\n",
            "0\n",
            "x**6 - 52*x**5 + 1080*x**4 - 11570*x**3 + 67799*x**2 - 206778*x + 257040\n",
            "0\n",
            "x**5 - 47*x**4 + 845*x**3 - 7345*x**2 + 31074*x - 51408\n",
            "0\n",
            "x**4 - 41*x**3 + 599*x**2 - 3751*x + 8568\n",
            "0\n",
            "x**3 - 34*x**2 + 361*x - 1224\n",
            "0\n",
            "x**2 - 26*x + 153\n",
            "0\n",
            "x - 17\n",
            "0\n"
          ]
        }
      ]
    },
    {
      "cell_type": "code",
      "metadata": {
        "colab": {
          "base_uri": "https://localhost:8080/"
        },
        "id": "gQ-VwywTarYw",
        "outputId": "a6b4fac3-9b68-4447-e1fc-75aa80b9e27f"
      },
      "source": [
        "p = x**10 - 62*x**9  + 1635*x**8 - 24240*x**7 + 223923*x**6 - 1344966*x**5 + 5302205*x**4 - 13475260*x**3 + 20962476*x**2 - 17814672*x + 6168960\n",
        "\n",
        "p, r = div(p,  x-11)\n",
        "\n",
        "print(p)\n",
        "print(r)"
      ],
      "execution_count": null,
      "outputs": [
        {
          "output_type": "stream",
          "name": "stdout",
          "text": [
            "x**9 - 52*x**8 + 1115*x**7 - 13090*x**6 + 93023*x**5 - 414736*x**4 + 1154845*x**3 - 1926810*x**2 + 1694376*x - 870912\n",
            "-2540160\n"
          ]
        }
      ]
    },
    {
      "cell_type": "markdown",
      "metadata": {
        "id": "LrP1xT6VKZrE"
      },
      "source": [
        "## SymPy’s polynomial simple univariate polynomial factorization\n",
        "- https://docs.sympy.org/latest/modules/polys/wester.html#simple-univariate-polynomial-factorization\n",
        "- factor(x\\*\\*5 - 15\\*x\\*\\*4  + 85\\*x\\*\\*3 - 225\\*x\\*\\*2 + 274\\*x - 120)\n",
        "- factor(x\\*\\*10 - 62\\*x\\*\\*9 + 1635\\*x\\*\\*8 - 24240\\*x\\*\\*7 + 223923\\*x\\*\\*6 - 1344966\\*x\\*\\*5 + 5302205\\*x\\*\\*4 - 13475260\\*x\\*\\*3 + 20962476\\*x\\*\\*2 - 17814672\\*x + 6168960)"
      ]
    },
    {
      "cell_type": "markdown",
      "metadata": {
        "id": "2NPChCoPLsls"
      },
      "source": [
        "<img src=\"https://raw.githubusercontent.com/gimoralesg/MetNumUN2022I/main/Lab4/sympylabwolfram3.jpg\" />\n",
        "\n"
      ]
    },
    {
      "cell_type": "code",
      "metadata": {
        "id": "i2vHjXOIKvQu",
        "colab": {
          "base_uri": "https://localhost:8080/",
          "height": 38
        },
        "outputId": "6b3b45f9-6c3a-4d21-b9ff-d025bd5750ee"
      },
      "source": [
        "from sympy import Symbol,factor\n",
        "x = Symbol('x')\n",
        "factor(x**10 - 62*x**9  + 1635*x**8 - 24240*x**7 + 223923*x**6 - 1344966*x**5 + 5302205*x**4 - 13475260*x**3 + 20962476*x**2 - 17814672*x + 6168960)"
      ],
      "execution_count": null,
      "outputs": [
        {
          "output_type": "execute_result",
          "data": {
            "text/plain": [
              "(x - 17)*(x - 9)*(x - 8)*(x - 7)*(x - 6)*(x - 5)*(x - 4)*(x - 3)*(x - 2)*(x - 1)"
            ],
            "text/latex": "$\\displaystyle \\left(x - 17\\right) \\left(x - 9\\right) \\left(x - 8\\right) \\left(x - 7\\right) \\left(x - 6\\right) \\left(x - 5\\right) \\left(x - 4\\right) \\left(x - 3\\right) \\left(x - 2\\right) \\left(x - 1\\right)$"
          },
          "metadata": {},
          "execution_count": 9
        }
      ]
    },
    {
      "cell_type": "markdown",
      "metadata": {
        "id": "xoq8A5ipMdRa"
      },
      "source": [
        "## SymPy’s solvers\n",
        "- https://docs.sympy.org/latest/tutorial/solvers.html\n",
        "- x\\*\\*10 - 62\\*x\\*\\*9 + 1635\\*x\\*\\*8 - 24240\\*x\\*\\*7 + 223923\\*x\\*\\*6 - 1344966\\*x\\*\\*5 + 5302205\\*x\\*\\*4 - 13475260\\*x\\*\\*3 + 20962476\\*x\\*\\*2 - 17814672\\*x + 6168960 = 0"
      ]
    },
    {
      "cell_type": "markdown",
      "metadata": {
        "id": "UpEjlqXZMk8i"
      },
      "source": [
        "<img src=\"https://raw.githubusercontent.com/gimoralesg/MetNumUN2022I/main/Lab4/sympylabwolfram4.jpg\" />\n"
      ]
    },
    {
      "cell_type": "code",
      "metadata": {
        "id": "DLzUsS8YMlNK",
        "colab": {
          "base_uri": "https://localhost:8080/",
          "height": 159
        },
        "outputId": "a2c7ad2f-03fb-417e-94e5-e9ad942a6912"
      },
      "source": [
        "from sympy import Symbol, solveset, Eq\n",
        "x = Symbol('x')\n",
        "solveset(Eq(x**10 - 62*x**9  + 1635*x**8 - 24240*x**7 + 223923*x**6 - 1344966*x**5 + 5302205*x**4 - 13475260*x**3 + 20962476*x**2 - 17814672*x + 6168960), )\n"
      ],
      "execution_count": null,
      "outputs": [
        {
          "output_type": "stream",
          "name": "stderr",
          "text": [
            "/usr/local/lib/python3.7/dist-packages/sympy/core/relational.py:496: SymPyDeprecationWarning: \n",
            "\n",
            "Eq(expr) with rhs default to 0 has been deprecated since SymPy 1.5.\n",
            "Use Eq(expr, 0) instead. See\n",
            "https://github.com/sympy/sympy/issues/16587 for more info.\n",
            "\n",
            "  deprecated_since_version=\"1.5\"\n"
          ]
        },
        {
          "output_type": "execute_result",
          "data": {
            "text/plain": [
              "FiniteSet(1, 2, 3, 4, 5, 6, 7, 8, 9, 17)"
            ],
            "text/latex": "$\\displaystyle \\left\\{1, 2, 3, 4, 5, 6, 7, 8, 9, 17\\right\\}$"
          },
          "metadata": {},
          "execution_count": 12
        }
      ]
    },
    {
      "cell_type": "markdown",
      "source": [
        "<img src=\"https://raw.githubusercontent.com/gimoralesg/MetNumUN2022I/main/Lab4/sympylabwolfram6.jpg\" />"
      ],
      "metadata": {
        "id": "GOQW6_QjyTHD"
      }
    },
    {
      "cell_type": "code",
      "metadata": {
        "colab": {
          "base_uri": "https://localhost:8080/",
          "height": 372
        },
        "id": "ALzYmizCcXvv",
        "outputId": "53988d7b-403e-4d7e-c085-59df8644fe96"
      },
      "source": [
        "from sympy import Symbol, solveset, Eq, sqrt, pi\n",
        "x = Symbol('x')\n",
        "solveset(Eq(x**3-(sqrt(pi)+pi)*x**2 + (sqrt(pi)*pi) , 0), x)\n"
      ],
      "execution_count": null,
      "outputs": [
        {
          "output_type": "execute_result",
          "data": {
            "text/plain": [
              "FiniteSet(sqrt(pi)/3 + pi/3 + (-(2*(-pi - sqrt(pi))**3/27 + pi**(3/2))**2/4 + (-pi**(3/2)/2 - (-pi - sqrt(pi))**3/27)**2 + (-pi - sqrt(pi))**6/729)**(1/6)*cos(atan(sqrt(-(2*(-pi - sqrt(pi))**3/27 + pi**(3/2))**2/4 + (-pi - sqrt(pi))**6/729)/(-pi**(3/2)/2 - (-pi - sqrt(pi))**3/27))/3) + (-pi - sqrt(pi))**2*cos(atan(sqrt(-(2*(-pi - sqrt(pi))**3/27 + pi**(3/2))**2/4 + (-pi - sqrt(pi))**6/729)/(-pi**(3/2)/2 - (-pi - sqrt(pi))**3/27))/3)/(9*(-(2*(-pi - sqrt(pi))**3/27 + pi**(3/2))**2/4 + (-pi**(3/2)/2 - (-pi - sqrt(pi))**3/27)**2 + (-pi - sqrt(pi))**6/729)**(1/6)) + I*(-(-pi - sqrt(pi))**2*sin(atan(sqrt(-(2*(-pi - sqrt(pi))**3/27 + pi**(3/2))**2/4 + (-pi - sqrt(pi))**6/729)/(-pi**(3/2)/2 - (-pi - sqrt(pi))**3/27))/3)/(9*(-(2*(-pi - sqrt(pi))**3/27 + pi**(3/2))**2/4 + (-pi**(3/2)/2 - (-pi - sqrt(pi))**3/27)**2 + (-pi - sqrt(pi))**6/729)**(1/6)) + (-(2*(-pi - sqrt(pi))**3/27 + pi**(3/2))**2/4 + (-pi**(3/2)/2 - (-pi - sqrt(pi))**3/27)**2 + (-pi - sqrt(pi))**6/729)**(1/6)*sin(atan(sqrt(-(2*(-pi - sqrt(pi))**3/27 + pi**(3/2))**2/4 + (-pi - sqrt(pi))**6/729)/(-pi**(3/2)/2 - (-pi - sqrt(pi))**3/27))/3)), (-pi - sqrt(pi))**2*re(1/((-1/2 + sqrt(3)*I/2)*(-pi**(3/2)/2 - (-pi - sqrt(pi))**3/27 + sqrt(-(-pi - sqrt(pi))**6/729 + (2*(-pi - sqrt(pi))**3/27 + pi**(3/2))**2/4))**(1/3)))/9 - (-(2*(-pi - sqrt(pi))**3/27 + pi**(3/2))**2/4 + (-pi**(3/2)/2 - (-pi - sqrt(pi))**3/27)**2 + (-pi - sqrt(pi))**6/729)**(1/6)*cos(atan(sqrt(-(2*(-pi - sqrt(pi))**3/27 + pi**(3/2))**2/4 + (-pi - sqrt(pi))**6/729)/(-pi**(3/2)/2 - (-pi - sqrt(pi))**3/27))/3)/2 - sqrt(3)*(-(2*(-pi - sqrt(pi))**3/27 + pi**(3/2))**2/4 + (-pi**(3/2)/2 - (-pi - sqrt(pi))**3/27)**2 + (-pi - sqrt(pi))**6/729)**(1/6)*sin(atan(sqrt(-(2*(-pi - sqrt(pi))**3/27 + pi**(3/2))**2/4 + (-pi - sqrt(pi))**6/729)/(-pi**(3/2)/2 - (-pi - sqrt(pi))**3/27))/3)/2 + sqrt(pi)/3 + pi/3 + I*((-pi - sqrt(pi))**2*im(1/((-1/2 + sqrt(3)*I/2)*(-pi**(3/2)/2 - (-pi - sqrt(pi))**3/27 + sqrt(-(-pi - sqrt(pi))**6/729 + (2*(-pi - sqrt(pi))**3/27 + pi**(3/2))**2/4))**(1/3)))/9 - (-(2*(-pi - sqrt(pi))**3/27 + pi**(3/2))**2/4 + (-pi**(3/2)/2 - (-pi - sqrt(pi))**3/27)**2 + (-pi - sqrt(pi))**6/729)**(1/6)*sin(atan(sqrt(-(2*(-pi - sqrt(pi))**3/27 + pi**(3/2))**2/4 + (-pi - sqrt(pi))**6/729)/(-pi**(3/2)/2 - (-pi - sqrt(pi))**3/27))/3)/2 + sqrt(3)*(-(2*(-pi - sqrt(pi))**3/27 + pi**(3/2))**2/4 + (-pi**(3/2)/2 - (-pi - sqrt(pi))**3/27)**2 + (-pi - sqrt(pi))**6/729)**(1/6)*cos(atan(sqrt(-(2*(-pi - sqrt(pi))**3/27 + pi**(3/2))**2/4 + (-pi - sqrt(pi))**6/729)/(-pi**(3/2)/2 - (-pi - sqrt(pi))**3/27))/3)/2), -(-(2*(-pi - sqrt(pi))**3/27 + pi**(3/2))**2/4 + (-pi**(3/2)/2 - (-pi - sqrt(pi))**3/27)**2 + (-pi - sqrt(pi))**6/729)**(1/6)*cos(atan(sqrt(-(2*(-pi - sqrt(pi))**3/27 + pi**(3/2))**2/4 + (-pi - sqrt(pi))**6/729)/(-pi**(3/2)/2 - (-pi - sqrt(pi))**3/27))/3)/2 + (-pi - sqrt(pi))**2*re(1/((-1/2 - sqrt(3)*I/2)*(-pi**(3/2)/2 - (-pi - sqrt(pi))**3/27 + sqrt(-(-pi - sqrt(pi))**6/729 + (2*(-pi - sqrt(pi))**3/27 + pi**(3/2))**2/4))**(1/3)))/9 + sqrt(3)*(-(2*(-pi - sqrt(pi))**3/27 + pi**(3/2))**2/4 + (-pi**(3/2)/2 - (-pi - sqrt(pi))**3/27)**2 + (-pi - sqrt(pi))**6/729)**(1/6)*sin(atan(sqrt(-(2*(-pi - sqrt(pi))**3/27 + pi**(3/2))**2/4 + (-pi - sqrt(pi))**6/729)/(-pi**(3/2)/2 - (-pi - sqrt(pi))**3/27))/3)/2 + sqrt(pi)/3 + pi/3 + I*(-sqrt(3)*(-(2*(-pi - sqrt(pi))**3/27 + pi**(3/2))**2/4 + (-pi**(3/2)/2 - (-pi - sqrt(pi))**3/27)**2 + (-pi - sqrt(pi))**6/729)**(1/6)*cos(atan(sqrt(-(2*(-pi - sqrt(pi))**3/27 + pi**(3/2))**2/4 + (-pi - sqrt(pi))**6/729)/(-pi**(3/2)/2 - (-pi - sqrt(pi))**3/27))/3)/2 - (-(2*(-pi - sqrt(pi))**3/27 + pi**(3/2))**2/4 + (-pi**(3/2)/2 - (-pi - sqrt(pi))**3/27)**2 + (-pi - sqrt(pi))**6/729)**(1/6)*sin(atan(sqrt(-(2*(-pi - sqrt(pi))**3/27 + pi**(3/2))**2/4 + (-pi - sqrt(pi))**6/729)/(-pi**(3/2)/2 - (-pi - sqrt(pi))**3/27))/3)/2 + (-pi - sqrt(pi))**2*im(1/((-1/2 - sqrt(3)*I/2)*(-pi**(3/2)/2 - (-pi - sqrt(pi))**3/27 + sqrt(-(-pi - sqrt(pi))**6/729 + (2*(-pi - sqrt(pi))**3/27 + pi**(3/2))**2/4))**(1/3)))/9))"
            ],
            "text/latex": "$\\displaystyle \\left\\{\\frac{\\sqrt{\\pi}}{3} + \\frac{\\pi}{3} + \\sqrt[6]{- \\frac{\\left(\\frac{2 \\left(- \\pi - \\sqrt{\\pi}\\right)^{3}}{27} + \\pi^{\\frac{3}{2}}\\right)^{2}}{4} + \\left(- \\frac{\\pi^{\\frac{3}{2}}}{2} - \\frac{\\left(- \\pi - \\sqrt{\\pi}\\right)^{3}}{27}\\right)^{2} + \\frac{\\left(- \\pi - \\sqrt{\\pi}\\right)^{6}}{729}} \\cos{\\left(\\frac{\\operatorname{atan}{\\left(\\frac{\\sqrt{- \\frac{\\left(\\frac{2 \\left(- \\pi - \\sqrt{\\pi}\\right)^{3}}{27} + \\pi^{\\frac{3}{2}}\\right)^{2}}{4} + \\frac{\\left(- \\pi - \\sqrt{\\pi}\\right)^{6}}{729}}}{- \\frac{\\pi^{\\frac{3}{2}}}{2} - \\frac{\\left(- \\pi - \\sqrt{\\pi}\\right)^{3}}{27}} \\right)}}{3} \\right)} + \\frac{\\left(- \\pi - \\sqrt{\\pi}\\right)^{2} \\cos{\\left(\\frac{\\operatorname{atan}{\\left(\\frac{\\sqrt{- \\frac{\\left(\\frac{2 \\left(- \\pi - \\sqrt{\\pi}\\right)^{3}}{27} + \\pi^{\\frac{3}{2}}\\right)^{2}}{4} + \\frac{\\left(- \\pi - \\sqrt{\\pi}\\right)^{6}}{729}}}{- \\frac{\\pi^{\\frac{3}{2}}}{2} - \\frac{\\left(- \\pi - \\sqrt{\\pi}\\right)^{3}}{27}} \\right)}}{3} \\right)}}{9 \\sqrt[6]{- \\frac{\\left(\\frac{2 \\left(- \\pi - \\sqrt{\\pi}\\right)^{3}}{27} + \\pi^{\\frac{3}{2}}\\right)^{2}}{4} + \\left(- \\frac{\\pi^{\\frac{3}{2}}}{2} - \\frac{\\left(- \\pi - \\sqrt{\\pi}\\right)^{3}}{27}\\right)^{2} + \\frac{\\left(- \\pi - \\sqrt{\\pi}\\right)^{6}}{729}}} + i \\left(- \\frac{\\left(- \\pi - \\sqrt{\\pi}\\right)^{2} \\sin{\\left(\\frac{\\operatorname{atan}{\\left(\\frac{\\sqrt{- \\frac{\\left(\\frac{2 \\left(- \\pi - \\sqrt{\\pi}\\right)^{3}}{27} + \\pi^{\\frac{3}{2}}\\right)^{2}}{4} + \\frac{\\left(- \\pi - \\sqrt{\\pi}\\right)^{6}}{729}}}{- \\frac{\\pi^{\\frac{3}{2}}}{2} - \\frac{\\left(- \\pi - \\sqrt{\\pi}\\right)^{3}}{27}} \\right)}}{3} \\right)}}{9 \\sqrt[6]{- \\frac{\\left(\\frac{2 \\left(- \\pi - \\sqrt{\\pi}\\right)^{3}}{27} + \\pi^{\\frac{3}{2}}\\right)^{2}}{4} + \\left(- \\frac{\\pi^{\\frac{3}{2}}}{2} - \\frac{\\left(- \\pi - \\sqrt{\\pi}\\right)^{3}}{27}\\right)^{2} + \\frac{\\left(- \\pi - \\sqrt{\\pi}\\right)^{6}}{729}}} + \\sqrt[6]{- \\frac{\\left(\\frac{2 \\left(- \\pi - \\sqrt{\\pi}\\right)^{3}}{27} + \\pi^{\\frac{3}{2}}\\right)^{2}}{4} + \\left(- \\frac{\\pi^{\\frac{3}{2}}}{2} - \\frac{\\left(- \\pi - \\sqrt{\\pi}\\right)^{3}}{27}\\right)^{2} + \\frac{\\left(- \\pi - \\sqrt{\\pi}\\right)^{6}}{729}} \\sin{\\left(\\frac{\\operatorname{atan}{\\left(\\frac{\\sqrt{- \\frac{\\left(\\frac{2 \\left(- \\pi - \\sqrt{\\pi}\\right)^{3}}{27} + \\pi^{\\frac{3}{2}}\\right)^{2}}{4} + \\frac{\\left(- \\pi - \\sqrt{\\pi}\\right)^{6}}{729}}}{- \\frac{\\pi^{\\frac{3}{2}}}{2} - \\frac{\\left(- \\pi - \\sqrt{\\pi}\\right)^{3}}{27}} \\right)}}{3} \\right)}\\right), \\frac{\\left(- \\pi - \\sqrt{\\pi}\\right)^{2} \\operatorname{re}{\\left(\\frac{1}{\\left(- \\frac{1}{2} + \\frac{\\sqrt{3} i}{2}\\right) \\sqrt[3]{- \\frac{\\pi^{\\frac{3}{2}}}{2} - \\frac{\\left(- \\pi - \\sqrt{\\pi}\\right)^{3}}{27} + \\sqrt{- \\frac{\\left(- \\pi - \\sqrt{\\pi}\\right)^{6}}{729} + \\frac{\\left(\\frac{2 \\left(- \\pi - \\sqrt{\\pi}\\right)^{3}}{27} + \\pi^{\\frac{3}{2}}\\right)^{2}}{4}}}}\\right)}}{9} - \\frac{\\sqrt[6]{- \\frac{\\left(\\frac{2 \\left(- \\pi - \\sqrt{\\pi}\\right)^{3}}{27} + \\pi^{\\frac{3}{2}}\\right)^{2}}{4} + \\left(- \\frac{\\pi^{\\frac{3}{2}}}{2} - \\frac{\\left(- \\pi - \\sqrt{\\pi}\\right)^{3}}{27}\\right)^{2} + \\frac{\\left(- \\pi - \\sqrt{\\pi}\\right)^{6}}{729}} \\cos{\\left(\\frac{\\operatorname{atan}{\\left(\\frac{\\sqrt{- \\frac{\\left(\\frac{2 \\left(- \\pi - \\sqrt{\\pi}\\right)^{3}}{27} + \\pi^{\\frac{3}{2}}\\right)^{2}}{4} + \\frac{\\left(- \\pi - \\sqrt{\\pi}\\right)^{6}}{729}}}{- \\frac{\\pi^{\\frac{3}{2}}}{2} - \\frac{\\left(- \\pi - \\sqrt{\\pi}\\right)^{3}}{27}} \\right)}}{3} \\right)}}{2} - \\frac{\\sqrt{3} \\sqrt[6]{- \\frac{\\left(\\frac{2 \\left(- \\pi - \\sqrt{\\pi}\\right)^{3}}{27} + \\pi^{\\frac{3}{2}}\\right)^{2}}{4} + \\left(- \\frac{\\pi^{\\frac{3}{2}}}{2} - \\frac{\\left(- \\pi - \\sqrt{\\pi}\\right)^{3}}{27}\\right)^{2} + \\frac{\\left(- \\pi - \\sqrt{\\pi}\\right)^{6}}{729}} \\sin{\\left(\\frac{\\operatorname{atan}{\\left(\\frac{\\sqrt{- \\frac{\\left(\\frac{2 \\left(- \\pi - \\sqrt{\\pi}\\right)^{3}}{27} + \\pi^{\\frac{3}{2}}\\right)^{2}}{4} + \\frac{\\left(- \\pi - \\sqrt{\\pi}\\right)^{6}}{729}}}{- \\frac{\\pi^{\\frac{3}{2}}}{2} - \\frac{\\left(- \\pi - \\sqrt{\\pi}\\right)^{3}}{27}} \\right)}}{3} \\right)}}{2} + \\frac{\\sqrt{\\pi}}{3} + \\frac{\\pi}{3} + i \\left(\\frac{\\left(- \\pi - \\sqrt{\\pi}\\right)^{2} \\operatorname{im}{\\left(\\frac{1}{\\left(- \\frac{1}{2} + \\frac{\\sqrt{3} i}{2}\\right) \\sqrt[3]{- \\frac{\\pi^{\\frac{3}{2}}}{2} - \\frac{\\left(- \\pi - \\sqrt{\\pi}\\right)^{3}}{27} + \\sqrt{- \\frac{\\left(- \\pi - \\sqrt{\\pi}\\right)^{6}}{729} + \\frac{\\left(\\frac{2 \\left(- \\pi - \\sqrt{\\pi}\\right)^{3}}{27} + \\pi^{\\frac{3}{2}}\\right)^{2}}{4}}}}\\right)}}{9} - \\frac{\\sqrt[6]{- \\frac{\\left(\\frac{2 \\left(- \\pi - \\sqrt{\\pi}\\right)^{3}}{27} + \\pi^{\\frac{3}{2}}\\right)^{2}}{4} + \\left(- \\frac{\\pi^{\\frac{3}{2}}}{2} - \\frac{\\left(- \\pi - \\sqrt{\\pi}\\right)^{3}}{27}\\right)^{2} + \\frac{\\left(- \\pi - \\sqrt{\\pi}\\right)^{6}}{729}} \\sin{\\left(\\frac{\\operatorname{atan}{\\left(\\frac{\\sqrt{- \\frac{\\left(\\frac{2 \\left(- \\pi - \\sqrt{\\pi}\\right)^{3}}{27} + \\pi^{\\frac{3}{2}}\\right)^{2}}{4} + \\frac{\\left(- \\pi - \\sqrt{\\pi}\\right)^{6}}{729}}}{- \\frac{\\pi^{\\frac{3}{2}}}{2} - \\frac{\\left(- \\pi - \\sqrt{\\pi}\\right)^{3}}{27}} \\right)}}{3} \\right)}}{2} + \\frac{\\sqrt{3} \\sqrt[6]{- \\frac{\\left(\\frac{2 \\left(- \\pi - \\sqrt{\\pi}\\right)^{3}}{27} + \\pi^{\\frac{3}{2}}\\right)^{2}}{4} + \\left(- \\frac{\\pi^{\\frac{3}{2}}}{2} - \\frac{\\left(- \\pi - \\sqrt{\\pi}\\right)^{3}}{27}\\right)^{2} + \\frac{\\left(- \\pi - \\sqrt{\\pi}\\right)^{6}}{729}} \\cos{\\left(\\frac{\\operatorname{atan}{\\left(\\frac{\\sqrt{- \\frac{\\left(\\frac{2 \\left(- \\pi - \\sqrt{\\pi}\\right)^{3}}{27} + \\pi^{\\frac{3}{2}}\\right)^{2}}{4} + \\frac{\\left(- \\pi - \\sqrt{\\pi}\\right)^{6}}{729}}}{- \\frac{\\pi^{\\frac{3}{2}}}{2} - \\frac{\\left(- \\pi - \\sqrt{\\pi}\\right)^{3}}{27}} \\right)}}{3} \\right)}}{2}\\right), - \\frac{\\sqrt[6]{- \\frac{\\left(\\frac{2 \\left(- \\pi - \\sqrt{\\pi}\\right)^{3}}{27} + \\pi^{\\frac{3}{2}}\\right)^{2}}{4} + \\left(- \\frac{\\pi^{\\frac{3}{2}}}{2} - \\frac{\\left(- \\pi - \\sqrt{\\pi}\\right)^{3}}{27}\\right)^{2} + \\frac{\\left(- \\pi - \\sqrt{\\pi}\\right)^{6}}{729}} \\cos{\\left(\\frac{\\operatorname{atan}{\\left(\\frac{\\sqrt{- \\frac{\\left(\\frac{2 \\left(- \\pi - \\sqrt{\\pi}\\right)^{3}}{27} + \\pi^{\\frac{3}{2}}\\right)^{2}}{4} + \\frac{\\left(- \\pi - \\sqrt{\\pi}\\right)^{6}}{729}}}{- \\frac{\\pi^{\\frac{3}{2}}}{2} - \\frac{\\left(- \\pi - \\sqrt{\\pi}\\right)^{3}}{27}} \\right)}}{3} \\right)}}{2} + \\frac{\\left(- \\pi - \\sqrt{\\pi}\\right)^{2} \\operatorname{re}{\\left(\\frac{1}{\\left(- \\frac{1}{2} - \\frac{\\sqrt{3} i}{2}\\right) \\sqrt[3]{- \\frac{\\pi^{\\frac{3}{2}}}{2} - \\frac{\\left(- \\pi - \\sqrt{\\pi}\\right)^{3}}{27} + \\sqrt{- \\frac{\\left(- \\pi - \\sqrt{\\pi}\\right)^{6}}{729} + \\frac{\\left(\\frac{2 \\left(- \\pi - \\sqrt{\\pi}\\right)^{3}}{27} + \\pi^{\\frac{3}{2}}\\right)^{2}}{4}}}}\\right)}}{9} + \\frac{\\sqrt{3} \\sqrt[6]{- \\frac{\\left(\\frac{2 \\left(- \\pi - \\sqrt{\\pi}\\right)^{3}}{27} + \\pi^{\\frac{3}{2}}\\right)^{2}}{4} + \\left(- \\frac{\\pi^{\\frac{3}{2}}}{2} - \\frac{\\left(- \\pi - \\sqrt{\\pi}\\right)^{3}}{27}\\right)^{2} + \\frac{\\left(- \\pi - \\sqrt{\\pi}\\right)^{6}}{729}} \\sin{\\left(\\frac{\\operatorname{atan}{\\left(\\frac{\\sqrt{- \\frac{\\left(\\frac{2 \\left(- \\pi - \\sqrt{\\pi}\\right)^{3}}{27} + \\pi^{\\frac{3}{2}}\\right)^{2}}{4} + \\frac{\\left(- \\pi - \\sqrt{\\pi}\\right)^{6}}{729}}}{- \\frac{\\pi^{\\frac{3}{2}}}{2} - \\frac{\\left(- \\pi - \\sqrt{\\pi}\\right)^{3}}{27}} \\right)}}{3} \\right)}}{2} + \\frac{\\sqrt{\\pi}}{3} + \\frac{\\pi}{3} + i \\left(- \\frac{\\sqrt{3} \\sqrt[6]{- \\frac{\\left(\\frac{2 \\left(- \\pi - \\sqrt{\\pi}\\right)^{3}}{27} + \\pi^{\\frac{3}{2}}\\right)^{2}}{4} + \\left(- \\frac{\\pi^{\\frac{3}{2}}}{2} - \\frac{\\left(- \\pi - \\sqrt{\\pi}\\right)^{3}}{27}\\right)^{2} + \\frac{\\left(- \\pi - \\sqrt{\\pi}\\right)^{6}}{729}} \\cos{\\left(\\frac{\\operatorname{atan}{\\left(\\frac{\\sqrt{- \\frac{\\left(\\frac{2 \\left(- \\pi - \\sqrt{\\pi}\\right)^{3}}{27} + \\pi^{\\frac{3}{2}}\\right)^{2}}{4} + \\frac{\\left(- \\pi - \\sqrt{\\pi}\\right)^{6}}{729}}}{- \\frac{\\pi^{\\frac{3}{2}}}{2} - \\frac{\\left(- \\pi - \\sqrt{\\pi}\\right)^{3}}{27}} \\right)}}{3} \\right)}}{2} - \\frac{\\sqrt[6]{- \\frac{\\left(\\frac{2 \\left(- \\pi - \\sqrt{\\pi}\\right)^{3}}{27} + \\pi^{\\frac{3}{2}}\\right)^{2}}{4} + \\left(- \\frac{\\pi^{\\frac{3}{2}}}{2} - \\frac{\\left(- \\pi - \\sqrt{\\pi}\\right)^{3}}{27}\\right)^{2} + \\frac{\\left(- \\pi - \\sqrt{\\pi}\\right)^{6}}{729}} \\sin{\\left(\\frac{\\operatorname{atan}{\\left(\\frac{\\sqrt{- \\frac{\\left(\\frac{2 \\left(- \\pi - \\sqrt{\\pi}\\right)^{3}}{27} + \\pi^{\\frac{3}{2}}\\right)^{2}}{4} + \\frac{\\left(- \\pi - \\sqrt{\\pi}\\right)^{6}}{729}}}{- \\frac{\\pi^{\\frac{3}{2}}}{2} - \\frac{\\left(- \\pi - \\sqrt{\\pi}\\right)^{3}}{27}} \\right)}}{3} \\right)}}{2} + \\frac{\\left(- \\pi - \\sqrt{\\pi}\\right)^{2} \\operatorname{im}{\\left(\\frac{1}{\\left(- \\frac{1}{2} - \\frac{\\sqrt{3} i}{2}\\right) \\sqrt[3]{- \\frac{\\pi^{\\frac{3}{2}}}{2} - \\frac{\\left(- \\pi - \\sqrt{\\pi}\\right)^{3}}{27} + \\sqrt{- \\frac{\\left(- \\pi - \\sqrt{\\pi}\\right)^{6}}{729} + \\frac{\\left(\\frac{2 \\left(- \\pi - \\sqrt{\\pi}\\right)^{3}}{27} + \\pi^{\\frac{3}{2}}\\right)^{2}}{4}}}}\\right)}}{9}\\right)\\right\\}$"
          },
          "metadata": {},
          "execution_count": 14
        }
      ]
    },
    {
      "cell_type": "markdown",
      "metadata": {
        "id": "kw48-B_Z_vQc"
      },
      "source": [
        "*   Reference docs for the Poly Domains https://docs.sympy.org/dev/modules/polys/domainsref.html\n",
        "\n",
        "*   Introducing the Domains of the poly module https://docs.sympy.org/dev/modules/polys/domainsintro.html\n",
        "\n",
        "*   Internals of the Polynomial Manipulation Module https://docs.sympy.org/latest/modules/polys/internals.html"
      ]
    },
    {
      "cell_type": "markdown",
      "source": [
        "<img src=\"https://raw.githubusercontent.com/gimoralesg/MetNumUN2022I/main/Lab4/sympylabwolfram7.jpg\" />"
      ],
      "metadata": {
        "id": "G4hb9Ak_-ujE"
      }
    },
    {
      "cell_type": "code",
      "source": [
        "from sympy import Symbol,factor\n",
        "x = Symbol('x')\n",
        "factor(x**6 - 24*x**5  + x**4 + 2*x**3 - 4*x**2 + x + 1,domain='GF(3)')"
      ],
      "metadata": {
        "colab": {
          "base_uri": "https://localhost:8080/",
          "height": 38
        },
        "id": "EdK4Tfz0-dLW",
        "outputId": "f8914320-16f1-47d1-f3c9-d2b55ab4d4db"
      },
      "execution_count": null,
      "outputs": [
        {
          "output_type": "execute_result",
          "data": {
            "text/plain": [
              "(x**2 - x - 1)*(x**4 + x**3 - 1)"
            ],
            "text/latex": "$\\displaystyle \\left(x^{2} - x - 1\\right) \\left(x^{4} + x^{3} - 1\\right)$"
          },
          "metadata": {},
          "execution_count": 15
        }
      ]
    },
    {
      "cell_type": "markdown",
      "metadata": {
        "id": "OtsxSwPmV3Vs"
      },
      "source": [
        "## SymPy’s Symbolic and Numercical Complex Evaluations\n",
        "- https://docs.sympy.org/latest/modules/evalf.html](https://)\n",
        "- x = x1 + I*x2,y = y1 + I*y2, z = z1 + I*z2, x*y*z"
      ]
    },
    {
      "cell_type": "markdown",
      "metadata": {
        "id": "XxWt-AcaZxdp"
      },
      "source": [
        "<img src=\"https://raw.githubusercontent.com/gimoralesg/MetNumUN2022I/main/Lab4/sympylabwolfram8.jpg\" />"
      ]
    },
    {
      "cell_type": "code",
      "metadata": {
        "id": "ENDQbfLGV31r",
        "colab": {
          "base_uri": "https://localhost:8080/"
        },
        "outputId": "a7de73ad-d32e-4474-adc1-2ed418273861"
      },
      "source": [
        "from sympy import symbols, I, N, pi, expand\n",
        "x1, x2, y1, y2, z1, z2 = symbols(\"x1 x2 y1 y2 z1 z2\", real=True)  \n",
        "x = x1 + I*x2\n",
        "y = y1 + I*y2\n",
        "z = z1 + I*z2\n",
        "\n",
        "print(x*y/z)\n",
        "print(expand(x*y*z))\n",
        "print(expand((x*y)*z))\n",
        "print(expand(x*(y*z)))\n",
        "\n",
        "w=N(1/(pi + I), 20)\n",
        "print('w=',w)"
      ],
      "execution_count": null,
      "outputs": [
        {
          "output_type": "stream",
          "name": "stdout",
          "text": [
            "(x1 + I*x2)*(y1 + I*y2)/(z1 + I*z2)\n",
            "x1*y1*z1 + I*x1*y1*z2 + I*x1*y2*z1 - x1*y2*z2 + I*x2*y1*z1 - x2*y1*z2 - x2*y2*z1 - I*x2*y2*z2\n",
            "x1*y1*z1 + I*x1*y1*z2 + I*x1*y2*z1 - x1*y2*z2 + I*x2*y1*z1 - x2*y1*z2 - x2*y2*z1 - I*x2*y2*z2\n",
            "x1*y1*z1 + I*x1*y1*z2 + I*x1*y2*z1 - x1*y2*z2 + I*x2*y1*z1 - x2*y1*z2 - x2*y2*z1 - I*x2*y2*z2\n",
            "w= 0.28902548222223624241 - 0.091999668350375232456*I\n"
          ]
        }
      ]
    },
    {
      "cell_type": "markdown",
      "metadata": {
        "id": "eaqIgmnkPNVT"
      },
      "source": [
        "## Wolfram alpha answers quastion in natural languaje\n",
        "- What is the population of Barrancabermeja?\n",
        "\n",
        "<img src=\"https://raw.githubusercontent.com/gimoralesg/MetNumUN2022I/main/Lab4/sympylabwolfram9.jpg\" />"
      ]
    },
    {
      "cell_type": "markdown",
      "source": [
        "## SymPy’s integrate\n",
        "\n",
        "<img src=\"https://raw.githubusercontent.com/gimoralesg/MetNumUN2022I/main/Lab4/sympylabwolfram10.jpg\" />\n",
        "\n"
      ],
      "metadata": {
        "id": "FIbSSOvEC8R0"
      }
    },
    {
      "cell_type": "code",
      "source": [
        "from sympy import Symbol, integrate, sin,cos\n",
        "x = Symbol('x')\n",
        "integrate(sin(x) * cos(x)**2, x)"
      ],
      "metadata": {
        "colab": {
          "base_uri": "https://localhost:8080/",
          "height": 54
        },
        "id": "p5wwxfa7BtzU",
        "outputId": "7db58e6a-129f-4490-af39-ca9ce581a68b"
      },
      "execution_count": null,
      "outputs": [
        {
          "output_type": "execute_result",
          "data": {
            "text/plain": [
              "-cos(x)**3/3"
            ],
            "text/latex": "$\\displaystyle - \\frac{\\cos^{3}{\\left(x \\right)}}{3}$"
          },
          "metadata": {},
          "execution_count": 19
        }
      ]
    },
    {
      "cell_type": "markdown",
      "source": [
        "<img src=\"https://raw.githubusercontent.com/gimoralesg/MetNumUN2022I/main/Lab4/sympylabwolfram11.jpg\" />"
      ],
      "metadata": {
        "id": "JkW8LPxbD2Eq"
      }
    },
    {
      "cell_type": "code",
      "source": [
        "from sympy import Symbol, integrate, sin, cos\n",
        "x = Symbol('x')\n",
        "integrate(x**5 + sin(x) + cos(x)**2, (x,3,6))\n"
      ],
      "metadata": {
        "colab": {
          "base_uri": "https://localhost:8080/",
          "height": 53
        },
        "id": "EoipdE0UD7Aa",
        "outputId": "5af17e9d-de0b-4c01-e605-6eecefc1d1dc"
      },
      "execution_count": 1,
      "outputs": [
        {
          "output_type": "execute_result",
          "data": {
            "text/plain": [
              "cos(3) - cos(6) + sin(6)*cos(6)/2 - sin(3)*cos(3)/2 + 7656"
            ],
            "text/latex": "$\\displaystyle \\cos{\\left(3 \\right)} - \\cos{\\left(6 \\right)} + \\frac{\\sin{\\left(6 \\right)} \\cos{\\left(6 \\right)}}{2} - \\frac{\\sin{\\left(3 \\right)} \\cos{\\left(3 \\right)}}{2} + 7656$"
          },
          "metadata": {},
          "execution_count": 1
        }
      ]
    },
    {
      "cell_type": "code",
      "source": [
        "from sympy import Symbol, integrate, sin, N\n",
        "x = Symbol('x')\n",
        "N(integrate(x**5 + sin(x) + cos(x)**2, (x,3,6)))\n"
      ],
      "metadata": {
        "colab": {
          "base_uri": "https://localhost:8080/",
          "height": 37
        },
        "id": "rFRmuWfnEPWb",
        "outputId": "7186d49e-1c77-423c-977d-1915a2c5c14a"
      },
      "execution_count": 2,
      "outputs": [
        {
          "output_type": "execute_result",
          "data": {
            "text/plain": [
              "7653.98554786180"
            ],
            "text/latex": "$\\displaystyle 7653.9855478618$"
          },
          "metadata": {},
          "execution_count": 2
        }
      ]
    }
  ]
}