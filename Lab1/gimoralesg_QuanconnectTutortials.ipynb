{
  "nbformat": 4,
  "nbformat_minor": 0,
  "metadata": {
    "colab": {
      "name": "gimoralesg_QuanconnectTutortials.ipynb",
      "provenance": [],
      "collapsed_sections": []
    },
    "kernelspec": {
      "name": "python3",
      "display_name": "Python 3"
    },
    "language_info": {
      "name": "python"
    }
  },
  "cells": [
    {
      "cell_type": "markdown",
      "metadata": {
        "id": "3DYOBbtR68T2"
      },
      "source": [
        "<h1 align = \"center\">Quantconnect Introduction to Financial Python</h1>\n",
        "<h2 align = \"center\">Gian Emanuel Morales Gonzalez</h2>\n",
        "<h2 align = \"center\">Algorithms 2021-2</h2>\n",
        "\n",
        "\n",
        "\n"
      ]
    },
    {
      "cell_type": "markdown",
      "metadata": {
        "id": "MbTS0GUq_xzX"
      },
      "source": [
        "#**1. Data Types and Data Structures**\n",
        "\n",
        "## **Introduction**\n",
        "\n",
        "This tutorial provides a basic introduction to the Python programming language. If you are new to Python, you should run the code snippets while reading this tutorial. If you are an advanced Python user, please feel free to skip this chapter.\n",
        "\n",
        "## **Basic Variable Types**\n",
        "The basic types of variables in Python are: strings, integers, floating point numbers and booleans.\n",
        "\n",
        "Strings in python are identified as a contiguous set of characters represented in either single quotes (' ') or double quotes (\" \")."
      ]
    },
    {
      "cell_type": "code",
      "metadata": {
        "colab": {
          "base_uri": "https://localhost:8080/"
        },
        "id": "4I_81--5qj40",
        "outputId": "1dd99b14-5dd9-4caa-c948-95f6630429d5"
      },
      "source": [
        "#Ejemplo quantconnect\n",
        "my_string1 = 'Welcome to'\n",
        "my_string2 = \"QuantConnect\"\n",
        "print(my_string1 + ' ' + my_string2)"
      ],
      "execution_count": null,
      "outputs": [
        {
          "output_type": "stream",
          "name": "stdout",
          "text": [
            "Welcome to QuantConnect\n"
          ]
        }
      ]
    },
    {
      "cell_type": "code",
      "metadata": {
        "colab": {
          "base_uri": "https://localhost:8080/"
        },
        "id": "6XNe98rBBTPH",
        "outputId": "f3394da3-6f79-4080-b1bf-f52afcfe943c"
      },
      "source": [
        "#ejemplo propio\n",
        "my_string1 = 'Gian: Este'\n",
        "my_string2 = \"es mi ejemplo :v\"\n",
        "print(my_string1 + ' ' + my_string2)"
      ],
      "execution_count": null,
      "outputs": [
        {
          "output_type": "stream",
          "name": "stdout",
          "text": [
            "Gian: Este es mi ejemplo :v\n"
          ]
        }
      ]
    },
    {
      "cell_type": "markdown",
      "metadata": {
        "id": "V9dpMlrTCKUb"
      },
      "source": [
        "An integer is a round number with no values after the decimal point."
      ]
    },
    {
      "cell_type": "code",
      "metadata": {
        "colab": {
          "base_uri": "https://localhost:8080/"
        },
        "id": "PRMLG8csCYFL",
        "outputId": "209ff466-e27a-4f7d-87a6-79dacf130ca0"
      },
      "source": [
        "#Ejemplo quantconnect\n",
        "my_int = 10\n",
        "print(my_int)\n",
        "print(type(my_int))"
      ],
      "execution_count": null,
      "outputs": [
        {
          "output_type": "stream",
          "name": "stdout",
          "text": [
            "10\n",
            "<class 'int'>\n"
          ]
        }
      ]
    },
    {
      "cell_type": "code",
      "metadata": {
        "colab": {
          "base_uri": "https://localhost:8080/"
        },
        "id": "o1zpzz9LCmGT",
        "outputId": "ab5db74c-b892-4cc8-ce25-ce6cab115345"
      },
      "source": [
        "#Ejemplo propio\n",
        "my_int = 2389\n",
        "print(my_int)\n",
        "print(type(my_int))"
      ],
      "execution_count": null,
      "outputs": [
        {
          "output_type": "stream",
          "name": "stdout",
          "text": [
            "2389\n",
            "<class 'int'>\n"
          ]
        }
      ]
    },
    {
      "cell_type": "markdown",
      "metadata": {
        "id": "R_0X-5QmDJ8i"
      },
      "source": [
        "The built-in function int() can convert a string into an integer."
      ]
    },
    {
      "cell_type": "code",
      "metadata": {
        "colab": {
          "base_uri": "https://localhost:8080/"
        },
        "id": "HiG96R8TDNGa",
        "outputId": "5d4e4229-67ce-4b81-8faa-bc7c93ab7c64"
      },
      "source": [
        "#Ejemplo quantconnect\n",
        "my_string = \"100\"\n",
        "print(type(my_string))\n",
        "my_int = int(my_string)\n",
        "print(type(my_int))"
      ],
      "execution_count": null,
      "outputs": [
        {
          "output_type": "stream",
          "name": "stdout",
          "text": [
            "<class 'str'>\n",
            "<class 'int'>\n"
          ]
        }
      ]
    },
    {
      "cell_type": "code",
      "metadata": {
        "colab": {
          "base_uri": "https://localhost:8080/"
        },
        "id": "RxvKgOUmDYZZ",
        "outputId": "c8ee24d1-60b9-4ea1-84e2-719e682bd80e"
      },
      "source": [
        "#Ejemplo propio\n",
        "my_string = \"102\"\n",
        "print(type(my_string))\n",
        "\n",
        "my_int = int(my_string)\n",
        "print(type(my_int))\n"
      ],
      "execution_count": null,
      "outputs": [
        {
          "output_type": "stream",
          "name": "stdout",
          "text": [
            "<class 'str'>\n",
            "<class 'int'>\n"
          ]
        }
      ]
    },
    {
      "cell_type": "markdown",
      "metadata": {
        "id": "hzZbDbdxDnG3"
      },
      "source": [
        "A floating point number, or a float, is a real number in mathematics. In Python we need to include a value after a decimal point to define it as a float."
      ]
    },
    {
      "cell_type": "code",
      "metadata": {
        "colab": {
          "base_uri": "https://localhost:8080/"
        },
        "id": "BpGzxDB3DrB_",
        "outputId": "3d5118a6-c78a-4069-81b8-55f364dfcdc7"
      },
      "source": [
        "#Ejemplo quantconnect\n",
        "my_float = 1.0\n",
        "print(type(my_float))\n",
        "\n",
        "my_int = 1\n",
        "print(type(my_int))\n"
      ],
      "execution_count": null,
      "outputs": [
        {
          "output_type": "stream",
          "name": "stdout",
          "text": [
            "<class 'float'>\n",
            "<class 'int'>\n"
          ]
        }
      ]
    },
    {
      "cell_type": "code",
      "metadata": {
        "colab": {
          "base_uri": "https://localhost:8080/"
        },
        "id": "3U4pAW24DzUe",
        "outputId": "2c546933-eb36-43ef-ad57-fe5905f4b314"
      },
      "source": [
        "#Ejemplo propio\n",
        "my_float = 4.487\n",
        "print(type(my_float))\n",
        "\n",
        "my_int = 4\n",
        "print(type(my_int))\n"
      ],
      "execution_count": null,
      "outputs": [
        {
          "output_type": "stream",
          "name": "stdout",
          "text": [
            "<class 'float'>\n",
            "<class 'int'>\n"
          ]
        }
      ]
    },
    {
      "cell_type": "markdown",
      "metadata": {
        "id": "pEIgoXRIEReE"
      },
      "source": [
        "As you can see above, if we don't include a decimal value, the variable would be defined as an integer. The built-in function float() can convert a string or an integer into a float."
      ]
    },
    {
      "cell_type": "code",
      "metadata": {
        "colab": {
          "base_uri": "https://localhost:8080/"
        },
        "id": "jq-wx3pqEV0V",
        "outputId": "d5e86301-80ac-4b87-c3d1-ef9e6635314a"
      },
      "source": [
        "#Ejemplo quantconnect\n",
        "my_string = \"100\"\n",
        "my_float = float(my_string)\n",
        "print(type(my_float))\n"
      ],
      "execution_count": null,
      "outputs": [
        {
          "output_type": "stream",
          "name": "stdout",
          "text": [
            "<class 'float'>\n"
          ]
        }
      ]
    },
    {
      "cell_type": "code",
      "metadata": {
        "colab": {
          "base_uri": "https://localhost:8080/"
        },
        "id": "fq7dc-nBEYLL",
        "outputId": "3e6ac8df-a08a-4fc2-bd78-db0522a6e21e"
      },
      "source": [
        "#Ejemplo propio\n",
        "my_string = \"8\"\n",
        "my_float = float(my_string)\n",
        "print(type(my_float))\n"
      ],
      "execution_count": null,
      "outputs": [
        {
          "output_type": "stream",
          "name": "stdout",
          "text": [
            "<class 'float'>\n"
          ]
        }
      ]
    },
    {
      "cell_type": "markdown",
      "metadata": {
        "id": "u-n-SbZZE4ST"
      },
      "source": [
        "A boolean, or bool, is a binary variable. Its value can only be True or False. It is useful when we do some logic operations, which would be covered in our next chapter."
      ]
    },
    {
      "cell_type": "code",
      "metadata": {
        "colab": {
          "base_uri": "https://localhost:8080/"
        },
        "id": "p0nB-uu4E41q",
        "outputId": "cbe4688f-ebff-49f5-e1a6-f2051ebe21ad"
      },
      "source": [
        "#Ejemplo quantconnect\n",
        "my_bool = False\n",
        "print(my_bool)\n",
        "\n",
        "print(type(my_bool))\n"
      ],
      "execution_count": null,
      "outputs": [
        {
          "output_type": "stream",
          "name": "stdout",
          "text": [
            "False\n",
            "<class 'bool'>\n"
          ]
        }
      ]
    },
    {
      "cell_type": "code",
      "metadata": {
        "colab": {
          "base_uri": "https://localhost:8080/"
        },
        "id": "atb7xIUAE6pC",
        "outputId": "e68d261c-94a4-40d2-dc9b-103fbf3cfcfb"
      },
      "source": [
        "#ejemplo propio\n",
        "my_bool = True\n",
        "print(my_bool)\n",
        "\n",
        "print(type(my_bool))\n"
      ],
      "execution_count": null,
      "outputs": [
        {
          "output_type": "stream",
          "name": "stdout",
          "text": [
            "False\n",
            "<class 'bool'>\n"
          ]
        }
      ]
    },
    {
      "cell_type": "markdown",
      "metadata": {
        "id": "PgOIi_aVFWzh"
      },
      "source": [
        "## **Basic Math Operations**\n",
        "The basic math operators in python are demonstrated below:"
      ]
    },
    {
      "cell_type": "code",
      "metadata": {
        "id": "Px_X1fKMFo-n"
      },
      "source": [
        "#Ejemplo quantconnect\n",
        "print(\"Addition \", 1+1)\n",
        "print(\"Subtraction \", 5-2)\n",
        "print(\"Multiplication \", 2*3)\n",
        "print(\"Division\", 10/2)\n",
        "print(\"exponent\", 2**3)\n"
      ],
      "execution_count": null,
      "outputs": []
    },
    {
      "cell_type": "code",
      "metadata": {
        "colab": {
          "base_uri": "https://localhost:8080/"
        },
        "id": "hfKj3zkcFspX",
        "outputId": "a5020ea8-caa4-4f97-8a57-46682a56e180"
      },
      "source": [
        "#ejemplo propio\n",
        "print(\"Addition \", 752+8)\n",
        "print(\"Subtraction \", 55-200)\n",
        "print(\"Multiplication \", 42*43)\n",
        "print(\"Division\", 48/35)\n",
        "print(\"exponent\", 5**4)\n"
      ],
      "execution_count": null,
      "outputs": [
        {
          "output_type": "stream",
          "name": "stdout",
          "text": [
            "Addition  760\n",
            "Subtraction  -145\n",
            "Multiplication  1806\n",
            "Division 1.3714285714285714\n",
            "exponent 625\n"
          ]
        }
      ]
    },
    {
      "cell_type": "markdown",
      "metadata": {
        "id": "X4yFzc1lGKrW"
      },
      "source": [
        "## **Data Collections**\n",
        "### **_List_**\n",
        "A list is an ordered collection of values. A list is mutable, which means you can change a list's value without changing the list itself. Creating a list is simply putting different comma-separated values between square brackets."
      ]
    },
    {
      "cell_type": "code",
      "metadata": {
        "colab": {
          "base_uri": "https://localhost:8080/"
        },
        "id": "MKx_PMfiGeiv",
        "outputId": "67e900cd-d219-4e05-aaa6-f95209d2aa61"
      },
      "source": [
        "#Ejemplo quantconnect\n",
        "my_list = ['Quant', 'Connect', 1,2,3]\n",
        "print(my_list)\n"
      ],
      "execution_count": null,
      "outputs": [
        {
          "output_type": "stream",
          "name": "stdout",
          "text": [
            "['Quant', 'Connect', 1, 2, 3]\n"
          ]
        }
      ]
    },
    {
      "cell_type": "code",
      "metadata": {
        "colab": {
          "base_uri": "https://localhost:8080/"
        },
        "id": "yMsztjX9GfG2",
        "outputId": "2b6aa3d7-6645-4b2e-daa5-abfac5d0128f"
      },
      "source": [
        "#ejemplo propio\n",
        "my_list = ['Gian', 'Algoritmos', 2021,2,3.14]\n",
        "print(my_list)\n"
      ],
      "execution_count": null,
      "outputs": [
        {
          "output_type": "stream",
          "name": "stdout",
          "text": [
            "['Gian', 'Algoritmos', 2021, 2, 3.14]\n"
          ]
        }
      ]
    },
    {
      "cell_type": "markdown",
      "metadata": {
        "id": "lQFuLU9GG5Lc"
      },
      "source": [
        "The values in a list are called \"elements\". We can access list elements by indexing. Python index starts from 0. So if you have a list of length n, the index of the first element will be 0, and that of the last element will be n − 1. By the way, the length of a list can be obtained by the built-in function len()."
      ]
    },
    {
      "cell_type": "code",
      "metadata": {
        "colab": {
          "base_uri": "https://localhost:8080/"
        },
        "id": "FkIJKzLkG7oV",
        "outputId": "cdf5505e-0181-4fb9-84ba-2f96d24eb48e"
      },
      "source": [
        "#Ejemplo quantconnet\n",
        "my_list = ['Quant', 'Connect', 1,2,3]\n",
        "print(len(my_list))\n",
        "\n",
        "print(my_list[0])\n",
        "\n",
        "print(my_list[len(my_list) - 1])\n"
      ],
      "execution_count": null,
      "outputs": [
        {
          "output_type": "stream",
          "name": "stdout",
          "text": [
            "5\n",
            "Quant\n",
            "3\n"
          ]
        }
      ]
    },
    {
      "cell_type": "code",
      "metadata": {
        "colab": {
          "base_uri": "https://localhost:8080/"
        },
        "id": "h0jZfmUAG8SG",
        "outputId": "e7534086-cfb4-49c5-b74d-005bd56f70ad"
      },
      "source": [
        "#ejemplo propio\n",
        "my_list = ['Gian', 'Algoritmos', 2021,2,3.14,'UNAL',':)']\n",
        "print(len(my_list))\n",
        "\n",
        "print(my_list[1])\n",
        "\n",
        "print(my_list[len(my_list) - 3])\n"
      ],
      "execution_count": null,
      "outputs": [
        {
          "output_type": "stream",
          "name": "stdout",
          "text": [
            "7\n",
            "Algoritmos\n",
            "3.14\n"
          ]
        }
      ]
    },
    {
      "cell_type": "markdown",
      "metadata": {
        "id": "Uv2M58beHr3p"
      },
      "source": [
        "You can also change the elements in the list by accessing an index and assigning a new value."
      ]
    },
    {
      "cell_type": "code",
      "metadata": {
        "colab": {
          "base_uri": "https://localhost:8080/"
        },
        "id": "XM2xiyfXHsnt",
        "outputId": "9f2b6a24-7163-43b5-e10b-54178000a1a8"
      },
      "source": [
        "#Ejemplo quantconnect\n",
        "my_list = ['Quant','Connect',1,2,3]\n",
        "my_list[2] = 'go'\n",
        "print(my_list)\n"
      ],
      "execution_count": null,
      "outputs": [
        {
          "output_type": "stream",
          "name": "stdout",
          "text": [
            "['Quant', 'Connect', 'go', 2, 3]\n"
          ]
        }
      ]
    },
    {
      "cell_type": "code",
      "metadata": {
        "colab": {
          "base_uri": "https://localhost:8080/"
        },
        "id": "GF4eGUGFHwe4",
        "outputId": "50f29822-c647-4940-9c84-7a0f1b390142"
      },
      "source": [
        "#Ejemplo propio\n",
        "my_list = ['Gian', 'Algoritmos', 2021,2,3.14,'UNAL',':)']\n",
        "my_list[1] = 'Morales'\n",
        "my_list[6] = 2389\n",
        "print(my_list)\n"
      ],
      "execution_count": null,
      "outputs": [
        {
          "output_type": "stream",
          "name": "stdout",
          "text": [
            "['Gian', 'Morales', 2021, 2, 3.14, 'UNAL', 2389]\n"
          ]
        }
      ]
    },
    {
      "cell_type": "markdown",
      "metadata": {
        "id": "E_fkMUZ-IPJZ"
      },
      "source": [
        "A list can also be sliced with a colon:"
      ]
    },
    {
      "cell_type": "code",
      "metadata": {
        "colab": {
          "base_uri": "https://localhost:8080/"
        },
        "id": "MQgQ8zwpIPzo",
        "outputId": "f1cec67b-3126-470c-840a-fd89c1761a9a"
      },
      "source": [
        "#Ejemplo quantconnect\n",
        "my_list = ['Quant','Connect',1,2,3]\n",
        "print(my_list[1:3])\n"
      ],
      "execution_count": null,
      "outputs": [
        {
          "output_type": "stream",
          "name": "stdout",
          "text": [
            "['Connect', 1]\n"
          ]
        }
      ]
    },
    {
      "cell_type": "code",
      "metadata": {
        "colab": {
          "base_uri": "https://localhost:8080/"
        },
        "id": "8ZuEgzrxISk3",
        "outputId": "33de0b07-8ec4-4402-e8fa-c0482616b413"
      },
      "source": [
        "#Ejemplo propio\n",
        "my_list = ['Gian', 'Algoritmos', 2021,2,'inter exclu',':)']\n",
        "print(my_list[0:4])\n"
      ],
      "execution_count": null,
      "outputs": [
        {
          "output_type": "stream",
          "name": "stdout",
          "text": [
            "['Gian', 'Algoritmos', 2021, 2]\n"
          ]
        }
      ]
    },
    {
      "cell_type": "markdown",
      "metadata": {
        "id": "RKbkgKw1Jkkz"
      },
      "source": [
        "The slice starts from the first element indicated, but excludes the last element indicated. Here we select all elements starting from index 1, which refers to the second element:"
      ]
    },
    {
      "cell_type": "code",
      "metadata": {
        "colab": {
          "base_uri": "https://localhost:8080/"
        },
        "id": "Sfn-9RQKJq-V",
        "outputId": "4e9d595b-4762-432a-9bf3-ed96e8fbf8b4"
      },
      "source": [
        "#Ejemplo quantconnect\n",
        "print(my_list[1:])\n"
      ],
      "execution_count": null,
      "outputs": [
        {
          "output_type": "stream",
          "name": "stdout",
          "text": [
            "['Algoritmos', 2021, 2, 'inter exclu', ':)']\n"
          ]
        }
      ]
    },
    {
      "cell_type": "code",
      "metadata": {
        "colab": {
          "base_uri": "https://localhost:8080/"
        },
        "id": "5a-uqeGRKpco",
        "outputId": "d67d1bb1-2663-4641-b4cc-67a9b89304ff"
      },
      "source": [
        "#Ejemplo propio\n",
        "print(my_list[3:])"
      ],
      "execution_count": null,
      "outputs": [
        {
          "output_type": "stream",
          "name": "stdout",
          "text": [
            "[2, 'inter exclu', ':)']\n"
          ]
        }
      ]
    },
    {
      "cell_type": "markdown",
      "metadata": {
        "id": "YqbaXdfmLGVe"
      },
      "source": [
        "And all elements up to but excluding index 3:"
      ]
    },
    {
      "cell_type": "code",
      "metadata": {
        "colab": {
          "base_uri": "https://localhost:8080/"
        },
        "id": "unH6MPW5LGzu",
        "outputId": "79f5d146-596e-4eef-e398-1ed052aa5be5"
      },
      "source": [
        "#Ejemplo quantconnect\n",
        "print(my_list[:3])"
      ],
      "execution_count": null,
      "outputs": [
        {
          "output_type": "stream",
          "name": "stdout",
          "text": [
            "['Gian', 'Algoritmos', 2021]\n"
          ]
        }
      ]
    },
    {
      "cell_type": "code",
      "metadata": {
        "colab": {
          "base_uri": "https://localhost:8080/"
        },
        "id": "XP6Dx5BPLIIu",
        "outputId": "45f8b688-7151-43fd-ab91-0ff28512cd82"
      },
      "source": [
        "#ejemplo propio\n",
        "print(my_list[:2])"
      ],
      "execution_count": null,
      "outputs": [
        {
          "output_type": "stream",
          "name": "stdout",
          "text": [
            "['Gian', 'Algoritmos']\n"
          ]
        }
      ]
    },
    {
      "cell_type": "markdown",
      "metadata": {
        "id": "G5o_41HXLxDs"
      },
      "source": [
        "If you wish to add or remove an element from a list, you can use the append() and remove() methods for lists as follows:"
      ]
    },
    {
      "cell_type": "code",
      "metadata": {
        "colab": {
          "base_uri": "https://localhost:8080/"
        },
        "id": "-QuvJvxXLxp0",
        "outputId": "07c8ab90-7fb2-4d04-a74d-3f7dbda3d542"
      },
      "source": [
        "#Ejemplo quantconnect\n",
        "my_list = ['Hello', 'Quant']\n",
        "my_list.append('Hello')\n",
        "print(my_list)\n",
        "\n",
        "my_list.remove('Hello')\n",
        "print(my_list)\n"
      ],
      "execution_count": null,
      "outputs": [
        {
          "output_type": "stream",
          "name": "stdout",
          "text": [
            "['Hello', 'Quant', 'Hello']\n",
            "['Quant', 'Hello']\n"
          ]
        }
      ]
    },
    {
      "cell_type": "code",
      "metadata": {
        "colab": {
          "base_uri": "https://localhost:8080/"
        },
        "id": "OHb9M9CgL0OL",
        "outputId": "b1518373-7c9e-498d-a62f-a6eb31cb7ce1"
      },
      "source": [
        "#ejemplo propio\n",
        "my_list = ['Hola', 'Compañeros']\n",
        "my_list.append('Como')\n",
        "my_list.append('estan')\n",
        "print(my_list)\n",
        "\n",
        "my_list.remove('Compañeros')\n",
        "print(my_list)\n"
      ],
      "execution_count": null,
      "outputs": [
        {
          "output_type": "stream",
          "name": "stdout",
          "text": [
            "['Hola', 'Compañeros', 'Como', 'estan']\n",
            "['Hola', 'Como', 'estan']\n"
          ]
        }
      ]
    },
    {
      "cell_type": "markdown",
      "metadata": {
        "id": "-6dhHu39MTDz"
      },
      "source": [
        "When there are repeated instances of \"Hello\", the first one is removed."
      ]
    },
    {
      "cell_type": "markdown",
      "metadata": {
        "id": "7u-GMNdeMdGB"
      },
      "source": [
        "### **_Tuple_**\n",
        "A tuple is a data structure type similar to a list. The difference is that a tuple is immutable, which means you can't change the elements in it once it's defined. We create a tuple by putting comma-separated values between parentheses."
      ]
    },
    {
      "cell_type": "code",
      "metadata": {
        "id": "J1AGLMntMt_s"
      },
      "source": [
        "#Ejemplo quantconnect\n",
        "my_tuple = ('Welcome','to','QuantConnect')"
      ],
      "execution_count": null,
      "outputs": []
    },
    {
      "cell_type": "code",
      "metadata": {
        "id": "iUphLPtWMuXi"
      },
      "source": [
        "#Ejemplo propio\n",
        "my_tuple = ('Bienvenido','ª','Algoritmos')"
      ],
      "execution_count": null,
      "outputs": []
    },
    {
      "cell_type": "markdown",
      "metadata": {
        "id": "CLc85JIgNmLw"
      },
      "source": [
        "Just like a list, a tuple can be sliced by using index."
      ]
    },
    {
      "cell_type": "code",
      "metadata": {
        "colab": {
          "base_uri": "https://localhost:8080/"
        },
        "id": "d5TmnSEpNqti",
        "outputId": "3a98a7b0-13c2-4756-e3d2-4052490a8472"
      },
      "source": [
        "#Ejemplo quantconnect\n",
        "my_tuple = ('Welcome','to','QuantConnect')\n",
        "print(my_tuple[1:])"
      ],
      "execution_count": null,
      "outputs": [
        {
          "output_type": "stream",
          "name": "stdout",
          "text": [
            "('to', 'QuantConnect')\n"
          ]
        }
      ]
    },
    {
      "cell_type": "code",
      "metadata": {
        "colab": {
          "base_uri": "https://localhost:8080/"
        },
        "id": "gs3a4M4pNrK9",
        "outputId": "f7cb65f5-7ce0-43f2-ad13-0e0c34b2ffbc"
      },
      "source": [
        "#Ejemplo propio\n",
        "my_tuple = ('Bienvenido','ª','Algoritmos')\n",
        "print(my_tuple[1:])"
      ],
      "execution_count": null,
      "outputs": [
        {
          "output_type": "stream",
          "name": "stdout",
          "text": [
            "('ª', 'Algoritmos')\n"
          ]
        }
      ]
    },
    {
      "cell_type": "markdown",
      "metadata": {
        "id": "NlkaMUbZN6--"
      },
      "source": [
        "### **_Set_**\n",
        "A set is an **_unordered_** collection with **_no duplicate_** elements. The built-in function set() can be used to create sets."
      ]
    },
    {
      "cell_type": "code",
      "metadata": {
        "colab": {
          "base_uri": "https://localhost:8080/"
        },
        "id": "NRXhPdanOSxp",
        "outputId": "cdfa4c76-08c5-4732-c14d-b01b273c43f8"
      },
      "source": [
        "#Ejemplo quantconnect\n",
        "stock_list = ['AAPL','GOOG','IBM','AAPL','IBM','FB','F','GOOG']\n",
        "stock_set = set(stock_list)\n",
        "print(stock_set)"
      ],
      "execution_count": null,
      "outputs": [
        {
          "output_type": "stream",
          "name": "stdout",
          "text": [
            "{'FB', 'F', 'GOOG', 'AAPL', 'IBM'}\n"
          ]
        }
      ]
    },
    {
      "cell_type": "code",
      "metadata": {
        "colab": {
          "base_uri": "https://localhost:8080/"
        },
        "id": "d77N4LVkOUGz",
        "outputId": "4193bea6-a488-457f-f38a-6a5d9d6549c0"
      },
      "source": [
        "#Ejemplo propio\n",
        "stock_list = ['Algoritmos','UNAL','Gian','Morales','UNAL','Algoritmos','F','GOOG']\n",
        "stock_set = set(stock_list)\n",
        "print(stock_set)"
      ],
      "execution_count": null,
      "outputs": [
        {
          "output_type": "stream",
          "name": "stdout",
          "text": [
            "{'Algoritmos', 'Gian', 'F', 'GOOG', 'UNAL', 'Morales'}\n"
          ]
        }
      ]
    },
    {
      "cell_type": "markdown",
      "metadata": {
        "id": "uIiiNsUlO01a"
      },
      "source": [
        "***Set is an easy way to remove duplicate elements from a list.***"
      ]
    },
    {
      "cell_type": "markdown",
      "metadata": {
        "id": "IHpsRT1OO5Tw"
      },
      "source": [
        "### **_Dictionary_**\n",
        "A dictionary is one of the most important data structures in Python. Unlike sequences which are indexed by integers, dictionaries are indexed by keys which can be either strings or floats.\n",
        "\n",
        "A dictionary is an **_unordered_** collection of key : value pairs, with the requirement that the keys are unique. We create a dictionary by placing a comma-separated list of key : value pairs within the braces."
      ]
    },
    {
      "cell_type": "code",
      "metadata": {
        "id": "vkFHMg-dPYDC"
      },
      "source": [
        "#Ejemplo quantconnect\n",
        "my_dic_q = {'AAPL': 'Apple', 'FB': 'FaceBook', 'GOOG': 'Alphabet'}"
      ],
      "execution_count": null,
      "outputs": []
    },
    {
      "cell_type": "code",
      "metadata": {
        "id": "bd0q9kjLPa8f"
      },
      "source": [
        "#Ejemplo propio\n",
        "my_dic_p = {'ALG':'Algoritmos', 'GEMG':'Gian', '3165000':'UNAL'}"
      ],
      "execution_count": null,
      "outputs": []
    },
    {
      "cell_type": "markdown",
      "metadata": {
        "id": "wueOBkG0P5XA"
      },
      "source": [
        "After defining a dictionary, we can access any value by indicating its key in brackets.\n"
      ]
    },
    {
      "cell_type": "code",
      "metadata": {
        "colab": {
          "base_uri": "https://localhost:8080/"
        },
        "id": "jbaM8w-oP7cR",
        "outputId": "d83272a6-d270-4163-fbac-10b9dc47bdcb"
      },
      "source": [
        "#Ejemplo quantconnect\n",
        "print(my_dic_q['GOOG'])"
      ],
      "execution_count": null,
      "outputs": [
        {
          "output_type": "stream",
          "name": "stdout",
          "text": [
            "Alphabet\n"
          ]
        }
      ]
    },
    {
      "cell_type": "code",
      "metadata": {
        "colab": {
          "base_uri": "https://localhost:8080/"
        },
        "id": "e0ZXRDEqP8o2",
        "outputId": "429ce617-2994-40de-b07f-a8f7763f69a2"
      },
      "source": [
        "#Ejemplo propio\n",
        "print(my_dic_p['3165000'])"
      ],
      "execution_count": null,
      "outputs": [
        {
          "output_type": "stream",
          "name": "stdout",
          "text": [
            "UNAL\n"
          ]
        }
      ]
    },
    {
      "cell_type": "markdown",
      "metadata": {
        "id": "VCv3qVD_Qj4G"
      },
      "source": [
        "We can also change the value associated with a specified key:"
      ]
    },
    {
      "cell_type": "code",
      "metadata": {
        "colab": {
          "base_uri": "https://localhost:8080/"
        },
        "id": "qGt2OikVQnAI",
        "outputId": "9d602933-ca00-4373-8c0b-85f111a3821a"
      },
      "source": [
        "#Ejemplo quantconnect\n",
        "my_dic_q['GOOG'] = 'Alphabet Company'\n",
        "print(my_dic_q['GOOG'])"
      ],
      "execution_count": null,
      "outputs": [
        {
          "output_type": "stream",
          "name": "stdout",
          "text": [
            "Alphabet Company\n"
          ]
        }
      ]
    },
    {
      "cell_type": "code",
      "metadata": {
        "colab": {
          "base_uri": "https://localhost:8080/"
        },
        "id": "t6lDd6ZsQnfs",
        "outputId": "d0812681-46e7-4754-bfe0-5d4caa32cfac"
      },
      "source": [
        "#Ejemplo propio\n",
        "my_dic_p['ALG'] = 'unalAlgoritmos'\n",
        "print(my_dic_p['ALG'])"
      ],
      "execution_count": null,
      "outputs": [
        {
          "output_type": "stream",
          "name": "stdout",
          "text": [
            "unalAlgoritmos\n"
          ]
        }
      ]
    },
    {
      "cell_type": "markdown",
      "metadata": {
        "id": "rqdRpu7bQ9Rf"
      },
      "source": [
        "The built-in method of the dictionary object dict.keys() returns a list of all the keys used in the dictionary."
      ]
    },
    {
      "cell_type": "code",
      "metadata": {
        "colab": {
          "base_uri": "https://localhost:8080/"
        },
        "id": "_9IeuiQURA7t",
        "outputId": "d178ace9-98f3-4b2f-a8ae-77273d9ec99f"
      },
      "source": [
        "#Ejemplo quantconnect\n",
        "print(my_dic_q.keys())"
      ],
      "execution_count": null,
      "outputs": [
        {
          "output_type": "stream",
          "name": "stdout",
          "text": [
            "dict_keys(['AAPL', 'FB', 'GOOG'])\n"
          ]
        }
      ]
    },
    {
      "cell_type": "code",
      "metadata": {
        "colab": {
          "base_uri": "https://localhost:8080/"
        },
        "id": "gNQ4cLJmRBnh",
        "outputId": "5ea63719-1cd4-409c-9c1a-2048899782f3"
      },
      "source": [
        "#Ejemplo propio\n",
        "print(my_dic_p.keys())"
      ],
      "execution_count": null,
      "outputs": [
        {
          "output_type": "stream",
          "name": "stdout",
          "text": [
            "dict_keys(['ALG', 'GEMG', '3165000'])\n"
          ]
        }
      ]
    },
    {
      "cell_type": "markdown",
      "metadata": {
        "id": "y80DeAhCRSM5"
      },
      "source": [
        "## **Common String Operations** ##\n",
        "A string is an immutable sequence of characters. It can be sliced by index just like a tuple:"
      ]
    },
    {
      "cell_type": "code",
      "metadata": {
        "colab": {
          "base_uri": "https://localhost:8080/"
        },
        "id": "cpjPVXsnRc13",
        "outputId": "03c7dfc6-2fbc-4147-97ee-6de5c31524f9"
      },
      "source": [
        "#Ejemplo quantconnect\n",
        "my_str = 'Welcome to QuantConnect'\n",
        "print(my_str[8:])"
      ],
      "execution_count": null,
      "outputs": [
        {
          "output_type": "stream",
          "name": "stdout",
          "text": [
            "to QuantConnect\n"
          ]
        }
      ]
    },
    {
      "cell_type": "code",
      "metadata": {
        "colab": {
          "base_uri": "https://localhost:8080/"
        },
        "id": "SBzuXiO3RdoL",
        "outputId": "3b3ff14a-1ed2-456a-e216-d6f70756922a"
      },
      "source": [
        "#Ejemplo propio\n",
        "my_str = 'UNAL Algoritmos 2021'\n",
        "print(my_str[4:])"
      ],
      "execution_count": null,
      "outputs": [
        {
          "output_type": "stream",
          "name": "stdout",
          "text": [
            " Algoritmos 2021\n"
          ]
        }
      ]
    },
    {
      "cell_type": "markdown",
      "metadata": {
        "id": "hPLs3NFJSrKt"
      },
      "source": [
        "There are many methods associated with strings. We can use **_string.count()_** to count the occurrences of a character in a string, use **_string.find()_** to return the index of a specific character, and use **_string.replace()_** to replace characters."
      ]
    },
    {
      "cell_type": "code",
      "metadata": {
        "colab": {
          "base_uri": "https://localhost:8080/"
        },
        "id": "DSBr1jkbTAg6",
        "outputId": "1ea5100f-7bf5-4e50-ace8-d8b9d24177ea"
      },
      "source": [
        "#Ejemplo quantconnect\n",
        "print(\"Counting the number of e's in this sentence\".count('e'))\n",
        "\n",
        "print('The first time e appears in this sentence'.find('e'))\n",
        "\n",
        "print('all the a in this sentence now becomes e'.replace('a','e'))\n"
      ],
      "execution_count": null,
      "outputs": [
        {
          "output_type": "stream",
          "name": "stdout",
          "text": [
            "6\n",
            "2\n",
            "ell the e in this sentence now becomes e\n"
          ]
        }
      ]
    },
    {
      "cell_type": "code",
      "metadata": {
        "colab": {
          "base_uri": "https://localhost:8080/"
        },
        "id": "0IVQ1_x1TDG8",
        "outputId": "51eac4ce-9902-4a48-873c-c76c3f44f122"
      },
      "source": [
        "#ejemplo propio\n",
        "print(\"Pedro Perez Pereira pobre pintor portugues\".count('p'))\n",
        "\n",
        "print('pinta Preciosos paisaje '.find('P'))\n",
        "\n",
        "print('Para poder partir para Paris'.replace('p','l'))\n"
      ],
      "execution_count": null,
      "outputs": [
        {
          "output_type": "stream",
          "name": "stdout",
          "text": [
            "3\n",
            "6\n",
            "Para loder lartir lara Paris\n"
          ]
        }
      ]
    },
    {
      "cell_type": "markdown",
      "metadata": {
        "id": "Dm-Ca39WUrLD"
      },
      "source": [
        "The most commonly used method for strings is **_string.split()_**. This method will split the string by the indicated character and return a list:"
      ]
    },
    {
      "cell_type": "code",
      "metadata": {
        "colab": {
          "base_uri": "https://localhost:8080/"
        },
        "id": "wtOn3oKbUwHQ",
        "outputId": "ffa4e80d-9814-4e8e-8075-c69737889405"
      },
      "source": [
        "#Ejemplo quantconnect \n",
        "Time = '2016-04-01 09:43:00'\n",
        "splited_list = Time.split(' ')\n",
        "date = splited_list[0]\n",
        "time = splited_list[1]\n",
        "print(date, time)\n",
        "\n",
        "hour = time.split(':')[0]\n",
        "print(hour)\n"
      ],
      "execution_count": null,
      "outputs": [
        {
          "output_type": "stream",
          "name": "stdout",
          "text": [
            "2016-04-01 09:43:00\n",
            "09\n"
          ]
        }
      ]
    },
    {
      "cell_type": "code",
      "metadata": {
        "colab": {
          "base_uri": "https://localhost:8080/"
        },
        "id": "HHAqqcUQUwpX",
        "outputId": "a651a3fd-a409-4306-d526-67e072b0b6b0"
      },
      "source": [
        "#ejemplo propio\n",
        "Time = '2016-12-25 09:43:00'\n",
        "splited_list = Time.split(' ')\n",
        "date = splited_list[0]\n",
        "time = splited_list[1]\n",
        "print(date, time)\n",
        "\n",
        "minute = time.split(':')[1]\n",
        "mes = date.split('-')[1]\n",
        "dia = date.split('-')[2]\n",
        "print(minute, mes, dia)\n"
      ],
      "execution_count": null,
      "outputs": [
        {
          "output_type": "stream",
          "name": "stdout",
          "text": [
            "2016-12-25 09:43:00\n",
            "43 12 25\n"
          ]
        }
      ]
    },
    {
      "cell_type": "markdown",
      "metadata": {
        "id": "8tdXf-E2Wb-a"
      },
      "source": [
        "We can replace parts of a string by our variable. This is called string formatting."
      ]
    },
    {
      "cell_type": "code",
      "metadata": {
        "colab": {
          "base_uri": "https://localhost:8080/"
        },
        "id": "fbJYxejHWddC",
        "outputId": "668b47fb-b40b-4bab-8bb9-520d56864308"
      },
      "source": [
        "#Ejemplo quantconnect\n",
        "my_time = 'Hour: {}, Minute: {}'.format(9, 43)\n",
        "print(my_time)"
      ],
      "execution_count": null,
      "outputs": [
        {
          "output_type": "stream",
          "name": "stdout",
          "text": [
            "Hour: 9, Minute: 43\n"
          ]
        }
      ]
    },
    {
      "cell_type": "code",
      "metadata": {
        "colab": {
          "base_uri": "https://localhost:8080/"
        },
        "id": "mq9Q6e69Wd20",
        "outputId": "220e4fba-e058-4a72-b516-f0e54f349d6f"
      },
      "source": [
        "#ejemplo propio\n",
        "my_date = 'year: {}, mes: {}, dia: {}'.format(2021, 'oct', 16)\n",
        "print(my_date)"
      ],
      "execution_count": null,
      "outputs": [
        {
          "output_type": "stream",
          "name": "stdout",
          "text": [
            "year: 2021, mes: oct, dia: 16\n"
          ]
        }
      ]
    },
    {
      "cell_type": "markdown",
      "metadata": {
        "id": "EWi8jX2cXMhv"
      },
      "source": [
        "Another way to format a string is to use the % symbol."
      ]
    },
    {
      "cell_type": "code",
      "metadata": {
        "colab": {
          "base_uri": "https://localhost:8080/"
        },
        "id": "BWWoC6H8XOUV",
        "outputId": "3fd220cd-9fae-4f26-f934-e3d11edb347b"
      },
      "source": [
        "#Ejemplo quantconnect\n",
        "print('pi is %f' % 3.14)\n",
        "\n",
        "print('%s to %s' % ('Welcome', 'QuantConnect'))\n"
      ],
      "execution_count": null,
      "outputs": [
        {
          "output_type": "stream",
          "name": "stdout",
          "text": [
            "pi is 3.140000\n",
            "Welcome to QuantConnect\n"
          ]
        }
      ]
    },
    {
      "cell_type": "code",
      "metadata": {
        "colab": {
          "base_uri": "https://localhost:8080/"
        },
        "id": "ng3UK6m0XOug",
        "outputId": "cd0ce604-61cd-45b7-d21d-6d5f7aba8e4d"
      },
      "source": [
        "#ejemplo propio\n",
        "print('la suma de e y pi es %f' % 5.8598)\n",
        "\n",
        "print('%s a la clase de %s' % ('Bienvenido', 'Algoritmos'))\n"
      ],
      "execution_count": null,
      "outputs": [
        {
          "output_type": "stream",
          "name": "stdout",
          "text": [
            "la suma de e y pi es 5.859800\n",
            "Bienvenido a la clase de Algoritmos\n"
          ]
        }
      ]
    },
    {
      "cell_type": "markdown",
      "metadata": {
        "id": "Jc8mEb1La2m8"
      },
      "source": [
        "%s is a placeholder that takes in a string. Similarly %f takes a float and %d takes an integer."
      ]
    },
    {
      "cell_type": "markdown",
      "metadata": {
        "id": "pV5KtYQya350"
      },
      "source": [
        "### **Summary**\n",
        "We have seen the basic data types and data structures in Python. It's important to keep practicing to become familiar with these data structures. In the next tutorial, we will cover for and while loops and logical operations in Python."
      ]
    },
    {
      "cell_type": "markdown",
      "metadata": {
        "id": "PnsRLgEpbHjS"
      },
      "source": [
        "#**2. Logical Operations and Loops**\n",
        "## **Introduction**\n",
        "We discussed the basic data types and data structures in Python in the last tutorial. This chapter covers logical operations and loops in Python, which are very common in programming.\n",
        "\n",
        "## **Logical Operations**\n",
        "Like most programming languages, Python has comparison operators:"
      ]
    },
    {
      "cell_type": "code",
      "metadata": {
        "colab": {
          "base_uri": "https://localhost:8080/"
        },
        "id": "11Ft-tDHbY7h",
        "outputId": "17aceb54-15d2-41a4-8746-79e9e4fcdc2f"
      },
      "source": [
        "#Ejemplo quantconnect\n",
        "print(1 == 0)    # 1 equals 0\n",
        "print(1 == 1)    # 1 equals 1\n",
        "print(1 != 0)   # 1 is not equal to 0\n",
        "print(5 >= 5)    # 5 is greater than or equal to 5\n",
        "print(5 >= 6)    # 5 is greater than or equal to 6\n"
      ],
      "execution_count": null,
      "outputs": [
        {
          "output_type": "stream",
          "name": "stdout",
          "text": [
            "False\n",
            "True\n",
            "True\n",
            "True\n",
            "False\n"
          ]
        }
      ]
    },
    {
      "cell_type": "code",
      "metadata": {
        "colab": {
          "base_uri": "https://localhost:8080/"
        },
        "id": "U4ptYDZ7cNnN",
        "outputId": "b6c51494-9544-4cd3-d852-d2ef7140c499"
      },
      "source": [
        "#ejemplo propio\n",
        "print(1 == 1)    \n",
        "print(\"d\" == \"s\") \n",
        "print(1 != 0)    \n",
        "print(8 >= 1)    \n",
        "print('s' < 'a')   "
      ],
      "execution_count": null,
      "outputs": [
        {
          "output_type": "stream",
          "name": "stdout",
          "text": [
            "True\n",
            "False\n",
            "True\n",
            "True\n",
            "True\n"
          ]
        }
      ]
    },
    {
      "cell_type": "markdown",
      "metadata": {
        "id": "Bl3ZOYuNdF3_"
      },
      "source": [
        "Each statement above has a boolean value, which must be either True or False, but not both.\n",
        "\n",
        "We can combine simple statements P and Q to form complex statements using logical operators:\n",
        "\n",
        "* The statement **\"P and Q\"** is true if both P and Q are true, otherwise it is false.\n",
        "* The statement **\"P or Q\"** is false if both P and Q are false, otherwise it is true.\n",
        "* The statement **\"not P\"** is true if P is false, and vice versa."
      ]
    },
    {
      "cell_type": "code",
      "metadata": {
        "colab": {
          "base_uri": "https://localhost:8080/"
        },
        "id": "ZmFkoB10dcP2",
        "outputId": "297e9653-40b9-44a0-bff5-ab4f63018c2a"
      },
      "source": [
        "#Ejemplo quantconnect\n",
        "print(2 > 1 and 3 > 2)\n",
        "print(2 > 1 and 3 < 2)\n",
        "print(2 > 1 or  3 < 2)\n",
        "print(2 < 1 and 3 < 2)"
      ],
      "execution_count": null,
      "outputs": [
        {
          "output_type": "stream",
          "name": "stdout",
          "text": [
            "True\n",
            "True\n",
            "True\n",
            "False\n"
          ]
        }
      ]
    },
    {
      "cell_type": "code",
      "metadata": {
        "colab": {
          "base_uri": "https://localhost:8080/"
        },
        "id": "3XJUJY8AdfZa",
        "outputId": "bf18cffb-3b90-4f3c-bf58-bed9e6cd6794"
      },
      "source": [
        "#ejemplo propio\n",
        "print('a' > 'A' and 8 > 7)\n",
        "print(52 >= 52 and 45 < 68)\n",
        "print(554 <= 74 or  'M' < 'v')\n",
        "print(3.54 < 3.55 and 1 < 7)"
      ],
      "execution_count": null,
      "outputs": [
        {
          "output_type": "stream",
          "name": "stdout",
          "text": [
            "True\n",
            "True\n",
            "True\n",
            "True\n"
          ]
        }
      ]
    },
    {
      "cell_type": "markdown",
      "metadata": {
        "id": "YgquJYvPe-7m"
      },
      "source": [
        "When dealing with a very complex logical statement that involves in several statements, we can use brackets to separate and combine them.\n",
        "\n"
      ]
    },
    {
      "cell_type": "code",
      "metadata": {
        "colab": {
          "base_uri": "https://localhost:8080/"
        },
        "id": "DlyLqVdbfAp_",
        "outputId": "49283c2a-9edc-44eb-a91a-386e6a8b39f8"
      },
      "source": [
        "#Ejemplo quantconnect\n",
        "print((3 > 2 or 1 < 3) and (1!=3 and 4>3) and not (3 < 2 or 1 < 3 and (1!=3 and 4>3)))\n",
        "print(3 > 2 or 1 < 3 and (1!=3 and 4>3) and not (3 < 2 or 1 < 3 and (1!=3 and 4>3)))\n"
      ],
      "execution_count": null,
      "outputs": [
        {
          "output_type": "stream",
          "name": "stdout",
          "text": [
            "False\n",
            "True\n"
          ]
        }
      ]
    },
    {
      "cell_type": "code",
      "metadata": {
        "colab": {
          "base_uri": "https://localhost:8080/"
        },
        "id": "Vf1FdzSKfEGe",
        "outputId": "9e17b41d-8ea0-478c-c924-63ac09b813a9"
      },
      "source": [
        "#ejemplo propio\n",
        "print(9 > 2 or (1 < 3 and 1!=3 and 4>3) and not (3 < 2 or 1 < 3 and (1!=3 and 4>3)))\n",
        "print(3 > 2 or 1 < 3 and (1!=3 and 4>3 and not (5 < 5 or 1 < 3) and 3!=3) and 4>3)\n"
      ],
      "execution_count": null,
      "outputs": [
        {
          "output_type": "stream",
          "name": "stdout",
          "text": [
            "True\n",
            "True\n"
          ]
        }
      ]
    },
    {
      "cell_type": "markdown",
      "metadata": {
        "id": "rYW5f0ZuvjIP"
      },
      "source": [
        "Comparing the above two statements, we can see that it's wise to use brackets when we make a complex logical statement."
      ]
    },
    {
      "cell_type": "markdown",
      "metadata": {
        "id": "vUdOZCz9vovg"
      },
      "source": [
        "## **If Statement**\n",
        "An if statement executes a segment of code only if its condition is true. A standard if statement consists of 3 segments: if, elif and else.\n",
        "\n",
        "\n",
        "```\n",
        "if condition1:\n",
        "    # if condition1 is true, execute the code here\n",
        "    # and ignore the rest of this if statement\n",
        "elif condition2:\n",
        "    # if condition1 is false, and condition2 is true, execute the code here\n",
        "    # and ignore the rest of this if statement\n",
        "else:\n",
        "    # if none of the above conditions is True, execute the code here\n",
        "```\n",
        "An if statement doesn't necessarily has elif and else part. If it's not specified, the indented block of code will be executed when the condition is true, otherwise the whole if statement will be skipped.\n"
      ]
    },
    {
      "cell_type": "code",
      "metadata": {
        "colab": {
          "base_uri": "https://localhost:8080/"
        },
        "id": "tHkWDf_Gvv2N",
        "outputId": "b38a7090-80c6-4461-8a3e-05ff8dc08e30"
      },
      "source": [
        "#Ejemplo quantconnect\n",
        "i = 0\n",
        "if i == 0: print('i == 0 is True')\n"
      ],
      "execution_count": null,
      "outputs": [
        {
          "output_type": "stream",
          "name": "stdout",
          "text": [
            "i == 0 is True\n"
          ]
        }
      ]
    },
    {
      "cell_type": "code",
      "metadata": {
        "colab": {
          "base_uri": "https://localhost:8080/"
        },
        "id": "x7XI0kNoYJD8",
        "outputId": "675c378a-5e2b-4001-baa1-ef62ff98fe60"
      },
      "source": [
        "#ejemplo propio\n",
        "i = 'truth'\n",
        "if i == 'truth': print('i es verdad')\n"
      ],
      "execution_count": null,
      "outputs": [
        {
          "output_type": "stream",
          "name": "stdout",
          "text": [
            "i es verdad\n"
          ]
        }
      ]
    },
    {
      "cell_type": "markdown",
      "metadata": {
        "id": "fs8uYOmPYf0T"
      },
      "source": [
        "As we mentioned above, we can write some complex statements here:\n",
        "\n"
      ]
    },
    {
      "cell_type": "code",
      "metadata": {
        "colab": {
          "base_uri": "https://localhost:8080/"
        },
        "id": "JWCX6a6qYn7M",
        "outputId": "c20d19bd-31c3-4537-f238-10e474ec59ad"
      },
      "source": [
        "#Ejemplo quantconnect\n",
        "p = 1 > 0\n",
        "q = 2 > 3\n",
        "if p and q:\n",
        "    print('p and q is true')\n",
        "elif p and not q:\n",
        "    print('q is false')\n",
        "elif q and not p:\n",
        "    print('p is false')\n",
        "else:\n",
        "    print('None of p and q is true')"
      ],
      "execution_count": null,
      "outputs": [
        {
          "output_type": "stream",
          "name": "stdout",
          "text": [
            "q is false\n"
          ]
        }
      ]
    },
    {
      "cell_type": "code",
      "metadata": {
        "colab": {
          "base_uri": "https://localhost:8080/"
        },
        "id": "j9vS7vl7Y08p",
        "outputId": "40ac35f7-6db7-4457-8b13-4f7553efcede"
      },
      "source": [
        "#ejemplo propio\n",
        "p = 8 > 8\n",
        "q = 1 >= 3\n",
        "if p and q:\n",
        "    print('p and q is true')\n",
        "elif p and not q:\n",
        "    print('q is false')\n",
        "elif q and not p:\n",
        "    print('p is false')\n",
        "else:\n",
        "    print('None of p and q is true')"
      ],
      "execution_count": null,
      "outputs": [
        {
          "output_type": "stream",
          "name": "stdout",
          "text": [
            "None of p and q is true\n"
          ]
        }
      ]
    },
    {
      "cell_type": "markdown",
      "metadata": {
        "id": "EyLWrGnFZMT2"
      },
      "source": [
        "## **Loop Structure**\n",
        "Loops are an essential part of programming. The \"for\" and \"while\" loops run a block of code repeatedly.\n",
        "\n",
        "### **_While Loop_**\n",
        "A \"while\" loop will run repeatedly until a certain condition has been met."
      ]
    },
    {
      "cell_type": "code",
      "metadata": {
        "colab": {
          "base_uri": "https://localhost:8080/"
        },
        "id": "hq61HLJKZVuA",
        "outputId": "c999f0ab-6d43-4e01-d7b2-d12268ff2836"
      },
      "source": [
        "#Ejemplo quantconnect\n",
        "i = 0\n",
        "while i < 5:\n",
        "    print(i)\n",
        "    i += 1"
      ],
      "execution_count": null,
      "outputs": [
        {
          "output_type": "stream",
          "name": "stdout",
          "text": [
            "0\n",
            "1\n",
            "2\n",
            "3\n",
            "4\n"
          ]
        }
      ]
    },
    {
      "cell_type": "code",
      "metadata": {
        "colab": {
          "base_uri": "https://localhost:8080/"
        },
        "id": "nkXV_n2rZW-l",
        "outputId": "ec4e107b-38cd-448a-e269-6678e6bb1707"
      },
      "source": [
        "#Ejemplo propio\n",
        "i = 5\n",
        "while i >= 0:\n",
        "    print(i)\n",
        "    i -= 1"
      ],
      "execution_count": null,
      "outputs": [
        {
          "output_type": "stream",
          "name": "stdout",
          "text": [
            "5\n",
            "4\n",
            "3\n",
            "2\n",
            "1\n",
            "0\n"
          ]
        }
      ]
    },
    {
      "cell_type": "markdown",
      "metadata": {
        "id": "vObH8TYPZwqQ"
      },
      "source": [
        "When making a while loop, we need to ensure that something changes from iteration to iteration so that the while loop will terminate, otherwise, it will run forever. Here we used i += 1 (short for i = i + 1) to make i larger after each iteration. This is the most commonly used method to control a while loop.\n",
        "\n",
        "### **_For Loop_**\n",
        "A \"for\" loop will iterate over a sequence of value and terminate when the sequence has ended."
      ]
    },
    {
      "cell_type": "code",
      "metadata": {
        "colab": {
          "base_uri": "https://localhost:8080/"
        },
        "id": "VLS3Oe-WZ8FA",
        "outputId": "380369a1-3c48-41b4-bf3b-60879da69cec"
      },
      "source": [
        "#Ejemplo quantconnect\n",
        "for x in [1,2,3,4,5]: print(x)"
      ],
      "execution_count": null,
      "outputs": [
        {
          "output_type": "stream",
          "name": "stdout",
          "text": [
            "1\n",
            "2\n",
            "3\n",
            "4\n",
            "5\n"
          ]
        }
      ]
    },
    {
      "cell_type": "code",
      "metadata": {
        "colab": {
          "base_uri": "https://localhost:8080/"
        },
        "id": "FCKEw34nZ-VN",
        "outputId": "008531b4-93ef-4a56-e3e2-d25e2c15c779"
      },
      "source": [
        "#Ejemplo propio\n",
        "for x in range(6): print(x)"
      ],
      "execution_count": null,
      "outputs": [
        {
          "output_type": "stream",
          "name": "stdout",
          "text": [
            "0\n",
            "1\n",
            "2\n",
            "3\n",
            "4\n",
            "5\n"
          ]
        }
      ]
    },
    {
      "cell_type": "markdown",
      "metadata": {
        "id": "KLivH-psaRRs"
      },
      "source": [
        "We can also add if statements in a for loop. Here is a real example from our pairs trading algorithm:"
      ]
    },
    {
      "cell_type": "code",
      "metadata": {
        "colab": {
          "base_uri": "https://localhost:8080/"
        },
        "id": "KcYni7t5aVov",
        "outputId": "410c99a8-7178-4b56-95f1-eb8dd228d300"
      },
      "source": [
        "#Ejemplo quantconnect\n",
        "stocks = ['AAPL','GOOG','IBM','FB','F','V', 'G', 'GE']\n",
        "selected = ['AAPL','IBM']\n",
        "new_list = []\n",
        "for stock in stocks:\n",
        "    if stock not in selected:\n",
        "        new_list.append(stock)\n",
        "print(new_list)"
      ],
      "execution_count": null,
      "outputs": [
        {
          "output_type": "stream",
          "name": "stdout",
          "text": [
            "['GOOG', 'FB', 'F', 'V', 'G', 'GE']\n"
          ]
        }
      ]
    },
    {
      "cell_type": "code",
      "metadata": {
        "colab": {
          "base_uri": "https://localhost:8080/"
        },
        "id": "cv8yjO9MaaZE",
        "outputId": "dbb9d9b9-a735-4502-a146-53b3450fd843"
      },
      "source": [
        "#ejemplo propio\n",
        "numbers = [4,5,6,7,6,8,1,9,5]\n",
        "selected_numbers = [5,1]\n",
        "new_num_list = []\n",
        "for number in numbers:\n",
        "    if number not in selected_numbers:\n",
        "        new_num_list.append(number)\n",
        "print(numbers)\n",
        "print(new_num_list)"
      ],
      "execution_count": null,
      "outputs": [
        {
          "output_type": "stream",
          "name": "stdout",
          "text": [
            "[4, 5, 6, 7, 6, 8, 1, 9, 5]\n",
            "[4, 6, 7, 6, 8, 9]\n"
          ]
        }
      ]
    },
    {
      "cell_type": "markdown",
      "metadata": {
        "id": "7Ua4hWMob_iZ"
      },
      "source": [
        "Here we iterated all the elements in the list 'stocks'. Later in this chapter, we will introduce a smarter way to do this, which is just a one-line code.\n",
        "\n",
        "### **_Break and continue_**\n",
        "These are two commonly used commands in a for loop. If \"break\" is triggered while a loop is executing, the loop will terminate immediately:"
      ]
    },
    {
      "cell_type": "code",
      "metadata": {
        "id": "QRyIwhlzcO_Y"
      },
      "source": [
        "#Ejemplo quantconnect\n",
        "stocks = ['AAPL','GOOG','IBM','FB','F','V', 'G', 'GE']\n",
        "for stock in stocks:\n",
        "    print(stock)\n",
        "    if stock == 'FB': break"
      ],
      "execution_count": null,
      "outputs": []
    },
    {
      "cell_type": "code",
      "metadata": {
        "colab": {
          "base_uri": "https://localhost:8080/"
        },
        "id": "fsRCRL7ccT_m",
        "outputId": "feb1178b-e310-48e3-c30c-d94c7c436649"
      },
      "source": [
        "#Ejemplo propio\n",
        "numbers = [4,5,5,6,6,4,0,9,6,5,5]\n",
        "for number in numbers:\n",
        "    print(number)\n",
        "    if number == 0:\n",
        "      break"
      ],
      "execution_count": null,
      "outputs": [
        {
          "output_type": "stream",
          "name": "stdout",
          "text": [
            "4\n",
            "5\n",
            "5\n",
            "6\n",
            "6\n",
            "4\n",
            "0\n"
          ]
        }
      ]
    },
    {
      "cell_type": "markdown",
      "metadata": {
        "id": "1TQdNlu7c0u5"
      },
      "source": [
        "The \"continue\" command tells the loop to end this iteration and skip to the next iteration:"
      ]
    },
    {
      "cell_type": "code",
      "metadata": {
        "colab": {
          "base_uri": "https://localhost:8080/"
        },
        "id": "psGjCAC5c4E0",
        "outputId": "4060798c-916b-405b-e481-2d47d1f06dcf"
      },
      "source": [
        "#Ejemplo quantconnect\n",
        "stocks = ['AAPL','GOOG','IBM','FB','F','V', 'G', 'GE']\n",
        "for stock in stocks:\n",
        "    if stock == 'FB': continue\n",
        "    print(stock)"
      ],
      "execution_count": null,
      "outputs": [
        {
          "output_type": "stream",
          "name": "stdout",
          "text": [
            "AAPL\n",
            "GOOG\n",
            "IBM\n",
            "F\n",
            "V\n",
            "G\n",
            "GE\n"
          ]
        }
      ]
    },
    {
      "cell_type": "code",
      "metadata": {
        "colab": {
          "base_uri": "https://localhost:8080/"
        },
        "id": "EPfdYVlYdOHz",
        "outputId": "f3c4cc2d-2e9e-4d45-8b81-65c79e3e9981"
      },
      "source": [
        "#Ejemplo propio\n",
        "numbers = [4,5,5,6,6,4,0,9,6,5,5]\n",
        "for number in numbers:\n",
        "    if number == 0: \n",
        "      continue\n",
        "    print(number)"
      ],
      "execution_count": null,
      "outputs": [
        {
          "output_type": "stream",
          "name": "stdout",
          "text": [
            "4\n",
            "5\n",
            "5\n",
            "6\n",
            "6\n",
            "4\n",
            "9\n",
            "6\n",
            "5\n",
            "5\n"
          ]
        }
      ]
    },
    {
      "cell_type": "markdown",
      "metadata": {
        "id": "fik5CTPZdzbZ"
      },
      "source": [
        "## **list Comprehension**\n",
        "List comprehension is a Pythonic way to create lists. Common applications are to make new lists where each element is the result of some operations applied to each member of another sequence. For example, if we want to create a list of squares using for loop:"
      ]
    },
    {
      "cell_type": "code",
      "metadata": {
        "colab": {
          "base_uri": "https://localhost:8080/"
        },
        "id": "UrpAjICOd88b",
        "outputId": "76326458-6aa5-4adb-e342-de714ffdeac1"
      },
      "source": [
        "#Ejemplo quantconnect\n",
        "squares = []\n",
        "for i in [1,2,3,4,5]:\n",
        "    squares.append(i**2)\n",
        "print(squares)"
      ],
      "execution_count": null,
      "outputs": [
        {
          "output_type": "stream",
          "name": "stdout",
          "text": [
            "[1, 4, 9, 16, 25]\n"
          ]
        }
      ]
    },
    {
      "cell_type": "code",
      "metadata": {
        "colab": {
          "base_uri": "https://localhost:8080/"
        },
        "id": "y922nRLSeYe5",
        "outputId": "21886fad-45e9-45af-c756-2b410e581c8a"
      },
      "source": [
        "#Ejemplo propio\n",
        "abc = []\n",
        "for i in ['a','b','c','d','e','f']:\n",
        "    abc.append(i*3)\n",
        "print(abc)"
      ],
      "execution_count": null,
      "outputs": [
        {
          "output_type": "stream",
          "name": "stdout",
          "text": [
            "['aaa', 'bbb', 'ccc', 'ddd', 'eee', 'fff']\n"
          ]
        }
      ]
    },
    {
      "cell_type": "markdown",
      "metadata": {
        "id": "xNtjFOfqfBtm"
      },
      "source": [
        "Using list comprehension:"
      ]
    },
    {
      "cell_type": "code",
      "metadata": {
        "colab": {
          "base_uri": "https://localhost:8080/"
        },
        "id": "Pkx2BaT6fDgc",
        "outputId": "ac0a49a9-4970-44c3-83c1-b2b71cc79e58"
      },
      "source": [
        "#Ejemplo quantconnect\n",
        "foo = [1,2,3,4,5]\n",
        "squares = [x**2 for x in foo]\n",
        "print(squares)"
      ],
      "execution_count": null,
      "outputs": [
        {
          "output_type": "stream",
          "name": "stdout",
          "text": [
            "[1, 4, 9, 16, 25]\n"
          ]
        }
      ]
    },
    {
      "cell_type": "code",
      "metadata": {
        "colab": {
          "base_uri": "https://localhost:8080/"
        },
        "id": "K7FJgQDYfJXF",
        "outputId": "5f0c85c9-03d0-4913-8dfc-b3f05655cca2"
      },
      "source": [
        "#Ejemplo propio\n",
        "until_f = ['a','b','c','d','e','f']\n",
        "abc = [x*3 for x in until_f]\n",
        "print(abc)"
      ],
      "execution_count": null,
      "outputs": [
        {
          "output_type": "stream",
          "name": "stdout",
          "text": [
            "['aaa', 'bbb', 'ccc', 'ddd', 'eee', 'fff']\n"
          ]
        }
      ]
    },
    {
      "cell_type": "markdown",
      "metadata": {
        "id": "s5X11JMmftoV"
      },
      "source": [
        "Recall the example above where we used a for loop to select stocks. Here we use list comprehension:"
      ]
    },
    {
      "cell_type": "code",
      "metadata": {
        "colab": {
          "base_uri": "https://localhost:8080/"
        },
        "id": "fvbzF505fvj3",
        "outputId": "c4f4bf27-ac3e-443b-a404-456b0d9b51c2"
      },
      "source": [
        "#Ejemplo quantconnect\n",
        "stocks = ['AAPL','GOOG','IBM','FB','F','V', 'G', 'GE']\n",
        "selected = ['AAPL','IBM']\n",
        "new_list = [x for x in stocks if x not in selected]\n",
        "print(new_list)"
      ],
      "execution_count": null,
      "outputs": [
        {
          "output_type": "stream",
          "name": "stdout",
          "text": [
            "['GOOG', 'FB', 'F', 'V', 'G', 'GE']\n"
          ]
        }
      ]
    },
    {
      "cell_type": "code",
      "metadata": {
        "colab": {
          "base_uri": "https://localhost:8080/"
        },
        "id": "qNV9nlb5f1wj",
        "outputId": "08526366-f4ce-47f7-b7d3-c3ea48d1dea5"
      },
      "source": [
        "#ejemplo propio\n",
        "numbers = [4,5,6,7,6,8,1,9,5]\n",
        "selected_numbers = [5,1]\n",
        "new_num_list = [x for x in numbers if x not in selected_numbers]\n",
        "\n",
        "print(numbers)\n",
        "print(new_num_list)"
      ],
      "execution_count": null,
      "outputs": [
        {
          "output_type": "stream",
          "name": "stdout",
          "text": [
            "[4, 5, 6, 7, 6, 8, 1, 9, 5]\n",
            "[4, 6, 7, 6, 8, 9]\n"
          ]
        }
      ]
    },
    {
      "cell_type": "markdown",
      "metadata": {
        "id": "6bD015pvgOUh"
      },
      "source": [
        "A list comprehension consists of square brackets containing an expression followed by a \"for\" clause, and possibly \"for\" or \"if\" clauses. For example:"
      ]
    },
    {
      "cell_type": "code",
      "metadata": {
        "colab": {
          "base_uri": "https://localhost:8080/"
        },
        "id": "U-2hUc2RgUBR",
        "outputId": "34b0d625-9382-408a-cf9c-097e6e6aa286"
      },
      "source": [
        "#Ejemplo quantconnect\n",
        "print([(x, y) for x in [1,2,3] for y in [3,1,4] if x != y])\n",
        "print([str(x) + ' vs ' + str(y) for x in ['AAPL','GOOG','IBM','FB'] for y in ['F','V','G','GE'] if x != y])"
      ],
      "execution_count": null,
      "outputs": [
        {
          "output_type": "stream",
          "name": "stdout",
          "text": [
            "[(1, 3), (1, 4), (2, 3), (2, 1), (2, 4), (3, 1), (3, 4)]\n",
            "['AAPL vs F', 'AAPL vs V', 'AAPL vs G', 'AAPL vs GE', 'GOOG vs F', 'GOOG vs V', 'GOOG vs G', 'GOOG vs GE', 'IBM vs F', 'IBM vs V', 'IBM vs G', 'IBM vs GE', 'FB vs F', 'FB vs V', 'FB vs G', 'FB vs GE']\n"
          ]
        }
      ]
    },
    {
      "cell_type": "code",
      "metadata": {
        "colab": {
          "base_uri": "https://localhost:8080/"
        },
        "id": "uuevejRAgsr4",
        "outputId": "82211685-9619-4fba-b016-b5f595de45fc"
      },
      "source": [
        "#Ejemplo quantconnect\n",
        "print([(x, y) for x in ['a','b'] for y in [1,2,3,4,5,6] if x != y])\n",
        "\n",
        "print([str(x) + ' vs ' + str(y) for x in ['COL','ECU','BRA'] for y in ['CHI','ARG','URU','BRA'] if x != y])"
      ],
      "execution_count": null,
      "outputs": [
        {
          "output_type": "stream",
          "name": "stdout",
          "text": [
            "[('a', 1), ('a', 2), ('a', 3), ('a', 4), ('a', 5), ('a', 6), ('b', 1), ('b', 2), ('b', 3), ('b', 4), ('b', 5), ('b', 6)]\n",
            "['COL vs CHI', 'COL vs ARG', 'COL vs URU', 'COL vs BRA', 'ECU vs CHI', 'ECU vs ARG', 'ECU vs URU', 'ECU vs BRA', 'BRA vs CHI', 'BRA vs ARG', 'BRA vs URU']\n"
          ]
        }
      ]
    },
    {
      "cell_type": "markdown",
      "metadata": {
        "id": "6sCyEFNqiOFm"
      },
      "source": [
        "List comprehension is an elegant way to organize one or more for loops when creating a list.\n",
        "\n",
        "### **Summary**\n",
        "This chapter has introduced logical operations, loops, and list comprehension. In the next chapter, we will introduce functions and object-oriented programming, which will enable us to make our codes clean and versatile."
      ]
    },
    {
      "cell_type": "markdown",
      "metadata": {
        "id": "271Nl1D6iUxa"
      },
      "source": [
        "# **3. Functions and Objective-Oriented Programming**\n",
        "## **Introduction**\n",
        "In the last tutorial we introduced logical operations, loops and list comprehension. We will introduce functions and object-oriented programming in this chapter, which will enable us to build complex algorithms in more flexible ways.\n",
        "\n",
        "## **Functions**\n",
        "A function is a reusable block of code. We can use a function to output a value, or do anything else we want. We can easily define our own function by using the keyword \"def\"."
      ]
    },
    {
      "cell_type": "code",
      "metadata": {
        "colab": {
          "base_uri": "https://localhost:8080/"
        },
        "id": "LhbVn9_Kjg2X",
        "outputId": "934edd14-6b6c-480b-a4bc-b89838675a4f"
      },
      "source": [
        "#Ejemplo quantconnect\n",
        "def product(x,y):\n",
        "    return x*y\n",
        "print(product(2,3))\n",
        "\n",
        "print(product(5,10))\n"
      ],
      "execution_count": null,
      "outputs": [
        {
          "output_type": "stream",
          "name": "stdout",
          "text": [
            "6\n",
            "50\n"
          ]
        }
      ]
    },
    {
      "cell_type": "code",
      "metadata": {
        "colab": {
          "base_uri": "https://localhost:8080/"
        },
        "id": "MsXYcToAjr4v",
        "outputId": "125ae33f-f29c-4e2c-c7f0-a7d17ad5a389"
      },
      "source": [
        "#Ejemplo propio\n",
        "def suma(x,y):\n",
        "    return x+y\n",
        "print(suma(56,44))\n",
        "\n",
        "print(suma(5,14))\n"
      ],
      "execution_count": null,
      "outputs": [
        {
          "output_type": "stream",
          "name": "stdout",
          "text": [
            "100\n",
            "19\n"
          ]
        }
      ]
    },
    {
      "cell_type": "markdown",
      "metadata": {
        "id": "RtkWwgKotJeb"
      },
      "source": [
        "The keyword \"def\" is followed by the function name and the parenthesized list of formal parameters. The statements that form the body of the function start at the next line, and must be indented. The product() function above has \"x\" and \"y\" as its parameters. A function doesn't necessarily have parameters:"
      ]
    },
    {
      "cell_type": "code",
      "metadata": {
        "colab": {
          "base_uri": "https://localhost:8080/"
        },
        "id": "OPO5xL1YtR0M",
        "outputId": "43e4d87b-735f-492d-c879-6d7e7fb40ba0"
      },
      "source": [
        "#Ejemplo quantconnect\n",
        "def say_hi():\n",
        "    print('Welcome to QuantConnect')\n",
        "say_hi()"
      ],
      "execution_count": null,
      "outputs": [
        {
          "output_type": "stream",
          "name": "stdout",
          "text": [
            "Welcome to QuantConnect\n"
          ]
        }
      ]
    },
    {
      "cell_type": "code",
      "metadata": {
        "colab": {
          "base_uri": "https://localhost:8080/"
        },
        "id": "zuEfYfcNtSbP",
        "outputId": "d239bc49-6af0-41ed-bc2c-046798c12649"
      },
      "source": [
        "#Ejemplo propio\n",
        "def UNAL_hi():\n",
        "    print('Universidad Nacional de Colombia')\n",
        "UNAL_hi()"
      ],
      "execution_count": null,
      "outputs": [
        {
          "output_type": "stream",
          "name": "stdout",
          "text": [
            "Universidad Nacional de Colombia\n"
          ]
        }
      ]
    },
    {
      "cell_type": "markdown",
      "metadata": {
        "id": "uWQM5DxTtv2t"
      },
      "source": [
        "## **Built-in Function**\n",
        "**_range()_** is a function that creates a list containing an arithmetic sequence. It's often used in for loops. The arguments must be integers. If the \"step\" argument is omitted, it defaults to 1."
      ]
    },
    {
      "cell_type": "code",
      "metadata": {
        "colab": {
          "base_uri": "https://localhost:8080/"
        },
        "id": "IHrVmI6Yt7Iu",
        "outputId": "d8c051ff-c070-4538-b827-12851d4bf865"
      },
      "source": [
        "#Ejemplo quantconnect\n",
        "print(range(10))\n",
        "\n",
        "print(range(1, 11))\n",
        "\n",
        "print(range(1, 11, 2))\n"
      ],
      "execution_count": null,
      "outputs": [
        {
          "output_type": "stream",
          "name": "stdout",
          "text": [
            "range(0, 10)\n",
            "range(1, 11)\n",
            "range(1, 11, 2)\n"
          ]
        }
      ]
    },
    {
      "cell_type": "code",
      "metadata": {
        "colab": {
          "base_uri": "https://localhost:8080/"
        },
        "id": "X-_LuErbuB4j",
        "outputId": "03e2be64-5997-4a9c-9d6c-e5c0af60085a"
      },
      "source": [
        "#Ejemplo propio\n",
        "print(range(15))\n",
        "\n",
        "print(range(5, 20))\n",
        "\n",
        "print(range(6, 35, 3))\n"
      ],
      "execution_count": null,
      "outputs": [
        {
          "output_type": "stream",
          "name": "stdout",
          "text": [
            "range(0, 15)\n",
            "range(5, 20)\n",
            "range(6, 35, 3)\n"
          ]
        }
      ]
    },
    {
      "cell_type": "markdown",
      "metadata": {
        "id": "_Gs6yj5Eu4Fc"
      },
      "source": [
        "**_len()_** is another function used together with range() to create a for loop. This function returns the length of an object. The argument must be a sequence or a collection."
      ]
    },
    {
      "cell_type": "code",
      "metadata": {
        "colab": {
          "base_uri": "https://localhost:8080/"
        },
        "id": "2DADNG54vE27",
        "outputId": "e9912fca-a345-4f55-9c24-6442c276fad3"
      },
      "source": [
        "#Ejemplo quantconnect\n",
        "tickers = ['AAPL', 'GOOGL', 'IBM', 'FB', 'F', 'V', 'G', 'GE']\n",
        "print(\"The number of tickers is {}\".format(len(tickers)))\n",
        "for k in range(len(tickers)):\n",
        "    print(k + 1, tickers[k])"
      ],
      "execution_count": null,
      "outputs": [
        {
          "output_type": "stream",
          "name": "stdout",
          "text": [
            "The number of tickers is 8\n",
            "1 AAPL\n",
            "2 GOOGL\n",
            "3 IBM\n",
            "4 FB\n",
            "5 F\n",
            "6 V\n",
            "7 G\n",
            "8 GE\n"
          ]
        }
      ]
    },
    {
      "cell_type": "code",
      "metadata": {
        "colab": {
          "base_uri": "https://localhost:8080/"
        },
        "id": "nZ2TF6Aubg6Q",
        "outputId": "3384d370-a6bb-4bfa-a0a4-be084bfc5e3b"
      },
      "source": [
        "#ejemplo propio\n",
        "letters = ['a','b','c','d','e','f']\n",
        "print(\"The number of letters is {}\".format(len(letters)))\n",
        "for i in range(len(letters)):\n",
        "    print(i + 1, letters[i])"
      ],
      "execution_count": null,
      "outputs": [
        {
          "output_type": "stream",
          "name": "stdout",
          "text": [
            "The number of letters is 6\n",
            "1 a\n",
            "2 b\n",
            "3 c\n",
            "4 d\n",
            "5 e\n",
            "6 f\n"
          ]
        }
      ]
    },
    {
      "cell_type": "markdown",
      "metadata": {
        "id": "kIHNQVYgcWss"
      },
      "source": [
        "Note: If you want to print only the tickers without those numbers, then simply write \"for ticker in tickers: print ticker\"\n",
        "\n",
        "**_map()_** is a function that applies a specific function to every item of a sequence or collection, and returns a list of the results."
      ]
    },
    {
      "cell_type": "code",
      "metadata": {
        "colab": {
          "base_uri": "https://localhost:8080/"
        },
        "id": "UR4fEMSicaed",
        "outputId": "6c156f19-7654-4cff-eeb7-6a4258975e9c"
      },
      "source": [
        "#Ejemplo quantconnect\n",
        "tickers = ['AAPL','GOOG','IBM','FB','F','V', 'G', 'GE']\n",
        "print(list(map(len,tickers)))"
      ],
      "execution_count": null,
      "outputs": [
        {
          "output_type": "stream",
          "name": "stdout",
          "text": [
            "[4, 4, 3, 2, 1, 1, 1, 2]\n"
          ]
        }
      ]
    },
    {
      "cell_type": "code",
      "metadata": {
        "colab": {
          "base_uri": "https://localhost:8080/"
        },
        "id": "wJtkpj7hcjP7",
        "outputId": "b9600459-238e-47a4-d45f-a40ce992607a"
      },
      "source": [
        "#ejemplo propio\n",
        "words = ['ant','bee','cold','dust','exit','fork']\n",
        "print(list(map(len,words)))"
      ],
      "execution_count": null,
      "outputs": [
        {
          "output_type": "stream",
          "name": "stdout",
          "text": [
            "[3, 3, 4, 4, 4, 4]\n"
          ]
        }
      ]
    },
    {
      "cell_type": "markdown",
      "metadata": {
        "id": "hdVf8dpddiXL"
      },
      "source": [
        "The **_lambda operator_** is a way to create small anonymous functions. These functions are just needed where they have been created. For example:"
      ]
    },
    {
      "cell_type": "code",
      "metadata": {
        "colab": {
          "base_uri": "https://localhost:8080/"
        },
        "id": "DMM875grdnNK",
        "outputId": "df2294d0-1ee7-4aca-c5cb-03cf19de9468"
      },
      "source": [
        "#Ejemplo quantconnect\n",
        "list(map(lambda x: x**2, range(10)))"
      ],
      "execution_count": null,
      "outputs": [
        {
          "output_type": "execute_result",
          "data": {
            "text/plain": [
              "[0, 1, 4, 9, 16, 25, 36, 49, 64, 81]"
            ]
          },
          "metadata": {},
          "execution_count": 7
        }
      ]
    },
    {
      "cell_type": "code",
      "metadata": {
        "colab": {
          "base_uri": "https://localhost:8080/"
        },
        "id": "oLIK0d_nd86H",
        "outputId": "53a3a9d5-1af9-4a3a-be12-e9e96f23cf79"
      },
      "source": [
        "#Ejemplo propio\n",
        "list(map(lambda x: (x+x)*x, range(10)))"
      ],
      "execution_count": null,
      "outputs": [
        {
          "output_type": "execute_result",
          "data": {
            "text/plain": [
              "[0, 2, 8, 18, 32, 50, 72, 98, 128, 162]"
            ]
          },
          "metadata": {},
          "execution_count": 10
        }
      ]
    },
    {
      "cell_type": "markdown",
      "metadata": {
        "id": "teUFy3ZSeZHt"
      },
      "source": [
        "map() can be applied to more than one list. The lists have to have the same length."
      ]
    },
    {
      "cell_type": "code",
      "metadata": {
        "colab": {
          "base_uri": "https://localhost:8080/"
        },
        "id": "BZD2Kos3ef9H",
        "outputId": "20f54ad1-d324-4d5d-fce6-514fd3738060"
      },
      "source": [
        "#Ejemplo quantconnect\n",
        "list(map(lambda x, y: x+y, [1,2,3,4,5], [5,4,3,2,1]))"
      ],
      "execution_count": null,
      "outputs": [
        {
          "output_type": "execute_result",
          "data": {
            "text/plain": [
              "[6, 6, 6, 6, 6]"
            ]
          },
          "metadata": {},
          "execution_count": 13
        }
      ]
    },
    {
      "cell_type": "code",
      "metadata": {
        "colab": {
          "base_uri": "https://localhost:8080/"
        },
        "id": "gto3F8ODemSm",
        "outputId": "877da018-3615-4dd0-b566-febc4287cdbc"
      },
      "source": [
        "#Ejemplo propio\n",
        "list(map(lambda x, y: x**y, [1,2,3,4,5], [5,4,3,2,1]))"
      ],
      "execution_count": null,
      "outputs": [
        {
          "output_type": "execute_result",
          "data": {
            "text/plain": [
              "[1, 16, 27, 16, 5]"
            ]
          },
          "metadata": {},
          "execution_count": 14
        }
      ]
    },
    {
      "cell_type": "markdown",
      "metadata": {
        "id": "aXiNepBUew9H"
      },
      "source": [
        "**_sorted()_** takes a list or set and returns a new sorted list:"
      ]
    },
    {
      "cell_type": "code",
      "metadata": {
        "colab": {
          "base_uri": "https://localhost:8080/"
        },
        "id": "qtj8dL1le7G9",
        "outputId": "b28c2486-017e-4059-f1c1-1b6932040e0a"
      },
      "source": [
        "#Ejemplo quantconnect\n",
        "sorted([5,2,3,4,1])"
      ],
      "execution_count": null,
      "outputs": [
        {
          "output_type": "execute_result",
          "data": {
            "text/plain": [
              "[1, 2, 3, 4, 5]"
            ]
          },
          "metadata": {},
          "execution_count": 15
        }
      ]
    },
    {
      "cell_type": "code",
      "metadata": {
        "colab": {
          "base_uri": "https://localhost:8080/"
        },
        "id": "ekMWYlDAe8P7",
        "outputId": "69070f18-1442-4462-a58d-8f961e871415"
      },
      "source": [
        "#Ejemplo propio\n",
        "sorted(['i','u','o','e','a'], reverse=True)"
      ],
      "execution_count": null,
      "outputs": [
        {
          "output_type": "execute_result",
          "data": {
            "text/plain": [
              "['u', 'o', 'i', 'e', 'a']"
            ]
          },
          "metadata": {},
          "execution_count": 18
        }
      ]
    },
    {
      "cell_type": "markdown",
      "metadata": {
        "id": "FYUr0DhBe1HU"
      },
      "source": [
        "We can add a \"key\" parameter to specify a function to be called on each list element prior to making comparisons. For example:"
      ]
    },
    {
      "cell_type": "code",
      "metadata": {
        "colab": {
          "base_uri": "https://localhost:8080/"
        },
        "id": "VusitSwAfesn",
        "outputId": "49cd0b4e-0333-42c3-c3cf-c1a1a64fe649"
      },
      "source": [
        "#Ejemplo quantconnect\n",
        "price_list = [('AAPL', 144.09), ('GOOGL', 911.71), ('MSFT', 69), ('FB', 150), ('WMT', 75.32)]\n",
        "sorted(price_list, key = lambda x: x[1])\n"
      ],
      "execution_count": null,
      "outputs": [
        {
          "output_type": "execute_result",
          "data": {
            "text/plain": [
              "[('MSFT', 69),\n",
              " ('WMT', 75.32),\n",
              " ('AAPL', 144.09),\n",
              " ('FB', 150),\n",
              " ('GOOGL', 911.71)]"
            ]
          },
          "metadata": {},
          "execution_count": 24
        }
      ]
    },
    {
      "cell_type": "code",
      "metadata": {
        "colab": {
          "base_uri": "https://localhost:8080/"
        },
        "id": "XvvjJOL8ffJq",
        "outputId": "f6b30573-bc7e-4d09-9eed-05fa9a4d478b"
      },
      "source": [
        "#Ejemplo propio\n",
        "subject_list = [('ALG', 211), ('MUN', 212), ('M&S', 213), ('PHI', 214), ('GGP', 215)]\n",
        "sorted(subject_list, key = lambda x: x[1])\n"
      ],
      "execution_count": null,
      "outputs": [
        {
          "output_type": "execute_result",
          "data": {
            "text/plain": [
              "[('ALG', 211), ('MUN', 212), ('M&S', 213), ('PHI', 214), ('GGP', 215)]"
            ]
          },
          "metadata": {},
          "execution_count": 27
        }
      ]
    },
    {
      "cell_type": "markdown",
      "metadata": {
        "id": "QDfGDKJxe3PX"
      },
      "source": [
        "By default the values are sorted by ascending order. We can change it to descending by adding an optional parameter \"reverse'."
      ]
    },
    {
      "cell_type": "code",
      "metadata": {
        "id": "hMYxccE_g28e"
      },
      "source": [
        "#Ejemplo quantconnect\n",
        "price_list = [('AAPL', 144.09), ('GOOGL', 911.71), ('MSFT', 69), ('FB', 150), ('WMT', 75.32)]\n",
        "sorted(price_list, key = lambda x: x[1], reverse=True)"
      ],
      "execution_count": null,
      "outputs": []
    },
    {
      "cell_type": "code",
      "metadata": {
        "id": "msddRF_7g8tN"
      },
      "source": [
        "#Ejemplo propio\n",
        "subject_list = [('ALG', 211), ('MUN', 212), ('M&S', 213), ('PHI', 214), ('GGP', 215)]\n",
        "sorted(subject_list, key = lambda x: x[1], reverse=True)"
      ],
      "execution_count": null,
      "outputs": []
    },
    {
      "cell_type": "markdown",
      "metadata": {
        "id": "F0jjZBgTe5Ce"
      },
      "source": [
        "Lists also have a function list.sort(). This function takes the same \"key\" and \"reverse\" arguments as sorted(), but it doesn't return a new list."
      ]
    },
    {
      "cell_type": "code",
      "metadata": {
        "colab": {
          "base_uri": "https://localhost:8080/"
        },
        "id": "EVQ6QAK1hB0K",
        "outputId": "1ef4e212-d890-431f-ba5e-1ef2a7652d7c"
      },
      "source": [
        "#Ejemplo quantconnect\n",
        "price_list = [('AAPL', 144.09), ('GOOGL', 911.71), ('MSFT', 69), ('FB', 150), ('WMT', 75.32)]\n",
        "price_list.sort(key = lambda x: x[1])\n",
        "print(price_list)"
      ],
      "execution_count": null,
      "outputs": [
        {
          "output_type": "stream",
          "name": "stdout",
          "text": [
            "[('MSFT', 69), ('WMT', 75.32), ('AAPL', 144.09), ('FB', 150), ('GOOGL', 911.71)]\n"
          ]
        }
      ]
    },
    {
      "cell_type": "code",
      "metadata": {
        "colab": {
          "base_uri": "https://localhost:8080/"
        },
        "id": "N6kV5JgKhGKd",
        "outputId": "8edd22bb-b549-4ac8-8da9-1dec25fd73e6"
      },
      "source": [
        "#Ejemplo propio\n",
        "subject_list = [('ALG', 211), ('MUN', 212), ('M&S', 213), ('PHI', 214), ('GGP', 215)]\n",
        "subject_list.sort(key=lambda x: x[1])\n",
        "print(subject_list)"
      ],
      "execution_count": null,
      "outputs": [
        {
          "output_type": "stream",
          "name": "stdout",
          "text": [
            "[('ALG', 211), ('MUN', 212), ('M&S', 213), ('PHI', 214), ('GGP', 215)]\n"
          ]
        }
      ]
    },
    {
      "cell_type": "markdown",
      "metadata": {
        "id": "38PTqHSWhjub"
      },
      "source": [
        "## **Object-Oriented Programming**\n",
        "Python is an object-oriented programming language. It's important to understand the concept of \"objects\" because almost every kind of data from QuantConnect API is an object.\n",
        "\n",
        "### **_Class_**\n",
        "A class is a type of data, just like a string, float, or list. When we create an object of that data type, we call it an **_instance_** of a class.\n",
        "\n",
        "In Python, everything is an object - everything is an instance of some class. The data stored inside an object are called **_attributes_**, and the functions which are associated with the object are called **_methods_**.\n",
        "\n",
        "For example, as mentioned above, a list is an object of the \"list\" class, and it has a method list.sort().\n",
        "\n",
        "We can create our own objects by defining a class. We would do this when it's helpful to group certain functions together. For example, we define a class named \"Stock\" here:"
      ]
    },
    {
      "cell_type": "code",
      "metadata": {
        "id": "5S_kdiFGikY5"
      },
      "source": [
        "#Ejemplo quantconnect\n",
        "class Stock:\n",
        "    def __init__(self, ticker, open, close, volume):\n",
        "        self.ticker = ticker\n",
        "        self.open = open\n",
        "        self.close = close\n",
        "        self.volume = volume\n",
        "        self.rate_return = float(close)/open - 1\n",
        "\n",
        "    def update(self, open, close):\n",
        "        self.open = open\n",
        "        self.close = close\n",
        "        self.rate_return = float(self.close)/self.open - 1\n",
        "\n",
        "    def print_return(self):\n",
        "        print(self.rate_return)"
      ],
      "execution_count": null,
      "outputs": []
    },
    {
      "cell_type": "code",
      "metadata": {
        "id": "UE3DJKTii_4y"
      },
      "source": [
        "#Ejemplo propio\n",
        "class Student:\n",
        "  def __init__(self, ID, name, age):\n",
        "    self.ID = ID\n",
        "    self.name = name\n",
        "    self.age = age\n",
        "    \n",
        "  def update_s(self, ID, age):\n",
        "    self.ID = ID\n",
        "    self.age = age"
      ],
      "execution_count": null,
      "outputs": []
    },
    {
      "cell_type": "markdown",
      "metadata": {
        "id": "W2GMRGMXiuRb"
      },
      "source": [
        "The \"Stock\" class has attributes \"ticker\", \"open\", \"close\", \"volume\" and \"rate_return\". Inside the class body, the first method is called __init__, which is a special method. When we create a new instance of the class, the __init__ method is immediately executed with all the parameters that we pass to the \"Stock\" object. The purpose of this method is to set up a new \"Stock\" object using data we have provided.\n",
        "\n",
        "Here we create two Stock objects named \"apple\" and \"google\"."
      ]
    },
    {
      "cell_type": "code",
      "metadata": {
        "id": "zsB1oiNpkIyC"
      },
      "source": [
        "#Ejemplo quantconnect\n",
        "apple  = Stock('AAPL', 143.69, 144.09, 20109375)\n",
        "google = Stock('GOOGL', 898.7, 911.7, 1561616)"
      ],
      "execution_count": null,
      "outputs": []
    },
    {
      "cell_type": "code",
      "metadata": {
        "id": "eNtMb-qNkJ1t"
      },
      "source": [
        "#Ejemplo propio\n",
        "Juan = Student(123,'Juan Gonzalez', 15)\n",
        "Juana = Student(321,'Juana Rodriguez', 16)"
      ],
      "execution_count": null,
      "outputs": []
    },
    {
      "cell_type": "markdown",
      "metadata": {
        "id": "vTQFSXlIl0g6"
      },
      "source": [
        "\n",
        "Stock objects also have two other methods: update() and print_return(). We can access the attribues of a Stock object and call its methods:"
      ]
    },
    {
      "cell_type": "code",
      "metadata": {
        "colab": {
          "base_uri": "https://localhost:8080/"
        },
        "id": "cwifBWkwl-ky",
        "outputId": "76365ab8-49f4-4a6f-d406-3846a3926e42"
      },
      "source": [
        "#Ejemplo quantconnect\n",
        "apple.ticker\n",
        "\n",
        "google.print_return()\n",
        "\n",
        "google.update(912.8, 913.4)\n",
        "google.print_return()"
      ],
      "execution_count": null,
      "outputs": [
        {
          "output_type": "stream",
          "name": "stdout",
          "text": [
            "0.014465338822744034\n",
            "0.0006573181419806673\n"
          ]
        }
      ]
    },
    {
      "cell_type": "code",
      "metadata": {
        "colab": {
          "base_uri": "https://localhost:8080/"
        },
        "id": "xKOxUguTmVu0",
        "outputId": "7cddaa15-4d92-4760-cb64-6bda948b7faa"
      },
      "source": [
        "#Ejemplo propio\n",
        "print(Juan.age)\n",
        "Juan.update_s(789,19)\n",
        "print(Juan.age)"
      ],
      "execution_count": null,
      "outputs": [
        {
          "output_type": "stream",
          "name": "stdout",
          "text": [
            "15\n",
            "19\n"
          ]
        }
      ]
    },
    {
      "cell_type": "markdown",
      "metadata": {
        "id": "wZ8eGlCumADG"
      },
      "source": [
        "\n",
        "By calling the update() function, we updated the open and close prices of a stock. Please note that when we use the attributes or call the methods inside a class, we need to specify them as self.attribute or self.method(), otherwise Python will deem them as global variables and thus raise an error.\n",
        "\n",
        "We can add an attribute to an object anywhere:"
      ]
    },
    {
      "cell_type": "code",
      "metadata": {
        "colab": {
          "base_uri": "https://localhost:8080/",
          "height": 35
        },
        "id": "nzVr6VLOnrL3",
        "outputId": "bb5cabd2-0ebd-44f1-dd1e-847a327b8d20"
      },
      "source": [
        "#Ejemplo quantconnect\n",
        "apple.ceo = 'Tim Cook'\n",
        "apple.ceo"
      ],
      "execution_count": null,
      "outputs": [
        {
          "output_type": "execute_result",
          "data": {
            "application/vnd.google.colaboratory.intrinsic+json": {
              "type": "string"
            },
            "text/plain": [
              "'Tim Cook'"
            ]
          },
          "metadata": {},
          "execution_count": 50
        }
      ]
    },
    {
      "cell_type": "code",
      "metadata": {
        "colab": {
          "base_uri": "https://localhost:8080/",
          "height": 35
        },
        "id": "gSNfnb68tMj8",
        "outputId": "1232305e-d2ac-4549-f6f3-0dd535dc2312"
      },
      "source": [
        "#Ejemplo propio\n",
        "Juan.address = 'calle falsa 123'\n",
        "Juan.address "
      ],
      "execution_count": null,
      "outputs": [
        {
          "output_type": "execute_result",
          "data": {
            "application/vnd.google.colaboratory.intrinsic+json": {
              "type": "string"
            },
            "text/plain": [
              "'calle falsa 123'"
            ]
          },
          "metadata": {},
          "execution_count": 52
        }
      ]
    },
    {
      "cell_type": "markdown",
      "metadata": {
        "id": "IpqrGOh8upX3"
      },
      "source": [
        "We can check what names (i.e. attributes and methods) are defined on an object using the dir() function:"
      ]
    },
    {
      "cell_type": "code",
      "metadata": {
        "colab": {
          "base_uri": "https://localhost:8080/"
        },
        "id": "d3Pizf3vur4m",
        "outputId": "38a762bc-871c-48a7-ec05-8e6e2e3285b3"
      },
      "source": [
        "#Ejemplo quantconnect\n",
        "dir(apple)"
      ],
      "execution_count": null,
      "outputs": [
        {
          "output_type": "execute_result",
          "data": {
            "text/plain": [
              "['__class__',\n",
              " '__delattr__',\n",
              " '__dict__',\n",
              " '__dir__',\n",
              " '__doc__',\n",
              " '__eq__',\n",
              " '__format__',\n",
              " '__ge__',\n",
              " '__getattribute__',\n",
              " '__gt__',\n",
              " '__hash__',\n",
              " '__init__',\n",
              " '__init_subclass__',\n",
              " '__le__',\n",
              " '__lt__',\n",
              " '__module__',\n",
              " '__ne__',\n",
              " '__new__',\n",
              " '__reduce__',\n",
              " '__reduce_ex__',\n",
              " '__repr__',\n",
              " '__setattr__',\n",
              " '__sizeof__',\n",
              " '__str__',\n",
              " '__subclasshook__',\n",
              " '__weakref__',\n",
              " 'ceo',\n",
              " 'close',\n",
              " 'open',\n",
              " 'print_return',\n",
              " 'rate_return',\n",
              " 'ticker',\n",
              " 'update',\n",
              " 'volume']"
            ]
          },
          "metadata": {},
          "execution_count": 53
        }
      ]
    },
    {
      "cell_type": "code",
      "metadata": {
        "colab": {
          "base_uri": "https://localhost:8080/"
        },
        "id": "rqwn86VMu1zg",
        "outputId": "4cae1cc2-36b5-494d-af7e-885fa2533cf7"
      },
      "source": [
        "dir(Juan)"
      ],
      "execution_count": null,
      "outputs": [
        {
          "output_type": "execute_result",
          "data": {
            "text/plain": [
              "['ID',\n",
              " '__class__',\n",
              " '__delattr__',\n",
              " '__dict__',\n",
              " '__dir__',\n",
              " '__doc__',\n",
              " '__eq__',\n",
              " '__format__',\n",
              " '__ge__',\n",
              " '__getattribute__',\n",
              " '__gt__',\n",
              " '__hash__',\n",
              " '__init__',\n",
              " '__init_subclass__',\n",
              " '__le__',\n",
              " '__lt__',\n",
              " '__module__',\n",
              " '__ne__',\n",
              " '__new__',\n",
              " '__reduce__',\n",
              " '__reduce_ex__',\n",
              " '__repr__',\n",
              " '__setattr__',\n",
              " '__sizeof__',\n",
              " '__str__',\n",
              " '__subclasshook__',\n",
              " '__weakref__',\n",
              " 'address',\n",
              " 'age',\n",
              " 'name',\n",
              " 'update_s']"
            ]
          },
          "metadata": {},
          "execution_count": 54
        }
      ]
    },
    {
      "cell_type": "markdown",
      "metadata": {
        "id": "HDrkATy5u8MK"
      },
      "source": [
        "### **_Inheritance_**\n",
        "Inheritance is a way of arranging classes in a hierarchy from the most general to the most specific. A \"child\" class is a more specific type of a \"parent\" class because a child class will inherit all the attribues and methods of its parent. For example, we define a class named \"Child\" which inherits \"Stock\":"
      ]
    },
    {
      "cell_type": "code",
      "metadata": {
        "id": "8mZLHi7jvDLW"
      },
      "source": [
        "#Ejemplo quantconnect\n",
        "class Child(Stock):\n",
        "    def __init__(self, name):\n",
        "        self.name = name"
      ],
      "execution_count": null,
      "outputs": []
    },
    {
      "cell_type": "code",
      "metadata": {
        "id": "TEVQj93WvunN"
      },
      "source": [
        "#ejemplo propio\n",
        "class ForeignStudent(Student):\n",
        "  def __init__(self,country):\n",
        "    self.country = country"
      ],
      "execution_count": null,
      "outputs": []
    },
    {
      "cell_type": "markdown",
      "metadata": {
        "id": "j4sFeiWcvUyo"
      },
      "source": [
        "Then we create an object:"
      ]
    },
    {
      "cell_type": "code",
      "metadata": {
        "colab": {
          "base_uri": "https://localhost:8080/"
        },
        "id": "M9WkCfYNvV_m",
        "outputId": "e38a301e-de33-4878-8dd1-da8fe36458ce"
      },
      "source": [
        "#Ejemplo quantconnect\n",
        "aa = Child('AA')\n",
        "print(aa.name)\n",
        "\n",
        "aa.update(100, 102)\n",
        "print(aa.open)\n",
        "\n",
        "print(aa.close)\n",
        "\n",
        "print(aa.print_return())\n"
      ],
      "execution_count": null,
      "outputs": [
        {
          "output_type": "stream",
          "name": "stdout",
          "text": [
            "AA\n",
            "100\n",
            "102\n",
            "0.020000000000000018\n",
            "None\n"
          ]
        }
      ]
    },
    {
      "cell_type": "code",
      "metadata": {
        "colab": {
          "base_uri": "https://localhost:8080/"
        },
        "id": "7ob7hO3UwrSU",
        "outputId": "4b202860-dcab-4705-8c80-da96e155b8a3"
      },
      "source": [
        "#ejemplo propio\n",
        "Esteban = ForeignStudent('España')\n",
        "print(Esteban.country)\n",
        "\n",
        "Esteban.update_s(109, 18)\n",
        "print(Esteban.age)\n",
        "print(Esteban.ID)"
      ],
      "execution_count": null,
      "outputs": [
        {
          "output_type": "stream",
          "name": "stdout",
          "text": [
            "España\n",
            "18\n",
            "109\n"
          ]
        }
      ]
    },
    {
      "cell_type": "markdown",
      "metadata": {
        "id": "G2ss8ExYvZwe"
      },
      "source": [
        "As seen above, the new class Child has inherited the methods from Stock."
      ]
    },
    {
      "cell_type": "markdown",
      "metadata": {
        "id": "kHvcXN4oyag9"
      },
      "source": [
        "###**Summary**\n",
        "In this chapter we have introduced functions and classes. When we write a QuantConnect algorithm, we would define our algorithm as a class (QCAlgorithm). This means our algorithm inherited the QC API methods from QCAlgorithm class.\n",
        "\n",
        "In the next chapter, we will introduce NumPy and Pandas, which enable us to conduct scientific calculations in Python."
      ]
    },
    {
      "cell_type": "markdown",
      "metadata": {
        "id": "Mm-TMzDiymiL"
      },
      "source": [
        "# **4. NumPy and Basic Pandas**\n",
        "## **Introduction**\n",
        "Now that we have introduced the fundamentals of Python, it's time to learn about NumPy and Pandas.\n",
        "\n",
        "## **NumPy**\n",
        "NumPy is the core library for scientific computing in Python. It provides a high-performance multidimensional array object, and tools for working with these arrays. It also has strong integration with Pandas, which is another powerful tool for manipulating financial data.\n",
        "\n",
        "Python packages like NumPy and Pandas contain classes and methods which we can use by importing the package:"
      ]
    },
    {
      "cell_type": "code",
      "metadata": {
        "id": "-xGvLzWSy_TR"
      },
      "source": [
        "import numpy as np"
      ],
      "execution_count": null,
      "outputs": []
    },
    {
      "cell_type": "markdown",
      "metadata": {
        "id": "PGZYVxh2zC9h"
      },
      "source": [
        "\n",
        "### **_Basic NumPy Arrays_**\n",
        "A NumPy array is a grid of values, all of the same type, and is indexed by a tuple of nonnegative integers. Here we make an array by passing a list of Apple stock prices:"
      ]
    },
    {
      "cell_type": "code",
      "metadata": {
        "colab": {
          "base_uri": "https://localhost:8080/"
        },
        "id": "yPweem410J_l",
        "outputId": "b37b87fc-ae0e-4d2d-dd7f-0d12b4c4ed0b"
      },
      "source": [
        "#Ejemplo quantconnect\n",
        "price_list = [143.73, 145.83, 143.68, 144.02, 143.5, 142.62]\n",
        "price_array = np.array(price_list)\n",
        "print(price_array, type(price_array)"
      ],
      "execution_count": null,
      "outputs": [
        {
          "output_type": "stream",
          "name": "stdout",
          "text": [
            "[143.73 145.83 143.68 144.02 143.5  142.62] <class 'numpy.ndarray'>\n"
          ]
        }
      ]
    },
    {
      "cell_type": "code",
      "metadata": {
        "colab": {
          "base_uri": "https://localhost:8080/"
        },
        "id": "eLALHECS3F0z",
        "outputId": "7b8bc385-1726-4607-dde8-be6558635447"
      },
      "source": [
        "#Ejemplo propio\n",
        "cha_list = ['a', '6', '3', 'b', '5', 'v']\n",
        "cha_array = np.array(cha_list)\n",
        "print(cha_array, type(cha_array))"
      ],
      "execution_count": null,
      "outputs": [
        {
          "output_type": "stream",
          "name": "stdout",
          "text": [
            "['a' '6' '3' 'b' '5' 'v'] <class 'numpy.ndarray'>\n"
          ]
        }
      ]
    },
    {
      "cell_type": "markdown",
      "metadata": {
        "id": "3MePPEtk4K6I"
      },
      "source": [
        "Notice that the type of array is \"ndarray\" which is a multi-dimensional array. ***If we pass np.array() a list of lists, it will create a 2-dimensional array.***"
      ]
    },
    {
      "cell_type": "code",
      "metadata": {
        "colab": {
          "base_uri": "https://localhost:8080/"
        },
        "id": "wmKoR58w4Xmd",
        "outputId": "570ed590-839e-4219-b4a5-b73ab3e1bb1c"
      },
      "source": [
        "#Ejemplo quantconnect\n",
        "Ar = np.array([[1,3], [2,4]])\n",
        "print(Ar, type(Ar))"
      ],
      "execution_count": null,
      "outputs": [
        {
          "output_type": "stream",
          "name": "stdout",
          "text": [
            "[[1 3]\n",
            " [2 4]] <class 'numpy.ndarray'>\n"
          ]
        }
      ]
    },
    {
      "cell_type": "code",
      "metadata": {
        "colab": {
          "base_uri": "https://localhost:8080/"
        },
        "id": "y9n1bSZ74wRm",
        "outputId": "dac8812b-9e05-4926-9e22-551029f32c10"
      },
      "source": [
        "#Ejemplo propio\n",
        "ndarr = np.array([[1,2,3], [4,5,6], [7,8,9]])\n",
        "print(ndarr, type(ndarr))"
      ],
      "execution_count": null,
      "outputs": [
        {
          "output_type": "stream",
          "name": "stdout",
          "text": [
            "[[1 2 3]\n",
            " [4 5 6]\n",
            " [7 8 9]] <class 'numpy.ndarray'>\n"
          ]
        }
      ]
    },
    {
      "cell_type": "markdown",
      "metadata": {
        "id": "Vw7ieT4V5CUw"
      },
      "source": [
        "We get the dimensions of an ndarray using the .shape attribute:"
      ]
    },
    {
      "cell_type": "code",
      "metadata": {
        "colab": {
          "base_uri": "https://localhost:8080/"
        },
        "id": "Lz4vY1bB5FHl",
        "outputId": "4b4a7e4e-7ca2-469a-c511-42ee923c1af0"
      },
      "source": [
        "#Ejemplo quantconnect\n",
        "print(Ar.shape)"
      ],
      "execution_count": null,
      "outputs": [
        {
          "output_type": "stream",
          "name": "stdout",
          "text": [
            "(2, 2)\n"
          ]
        }
      ]
    },
    {
      "cell_type": "code",
      "metadata": {
        "colab": {
          "base_uri": "https://localhost:8080/"
        },
        "id": "HQC4-bGE5Lvl",
        "outputId": "01375bdb-88b5-4001-ab8b-f7bbfd70b379"
      },
      "source": [
        "#Ejemplo propio\n",
        "print(ndarr.shape)"
      ],
      "execution_count": null,
      "outputs": [
        {
          "output_type": "stream",
          "name": "stdout",
          "text": [
            "(3, 3)\n"
          ]
        }
      ]
    },
    {
      "cell_type": "markdown",
      "metadata": {
        "id": "OP5RSGLA5U38"
      },
      "source": [
        "If we create an 2-dimensional array (i.e. matrix), each row can be accessed by index:"
      ]
    },
    {
      "cell_type": "code",
      "metadata": {
        "colab": {
          "base_uri": "https://localhost:8080/"
        },
        "id": "PaIx3LHR5Xmd",
        "outputId": "3f8a68e0-a2c0-498c-8a5c-89b59207805c"
      },
      "source": [
        "#Ejemplo quantconnect\n",
        "print(Ar[0])\n",
        "\n",
        "print(Ar[1])"
      ],
      "execution_count": null,
      "outputs": [
        {
          "output_type": "stream",
          "name": "stdout",
          "text": [
            "[1 3]\n",
            "[2 4]\n"
          ]
        }
      ]
    },
    {
      "cell_type": "code",
      "metadata": {
        "colab": {
          "base_uri": "https://localhost:8080/"
        },
        "id": "EkMY_gse5gT7",
        "outputId": "7cc4dcfa-3b15-4fc9-9b6b-ebedeb3d4189"
      },
      "source": [
        "#Ejemplo propio\n",
        "print(ndarr[0])\n",
        "\n",
        "print(ndarr[2])"
      ],
      "execution_count": null,
      "outputs": [
        {
          "output_type": "stream",
          "name": "stdout",
          "text": [
            "[1 2 3]\n",
            "[7 8 9]\n"
          ]
        }
      ]
    },
    {
      "cell_type": "markdown",
      "metadata": {
        "id": "haDSoybH5wTc"
      },
      "source": [
        "If we want to access the matrix by column instead:"
      ]
    },
    {
      "cell_type": "code",
      "metadata": {
        "colab": {
          "base_uri": "https://localhost:8080/"
        },
        "id": "Q_IS9Yzw5yKp",
        "outputId": "ff1e1fc8-8ef0-46d5-9de4-933cfb494069"
      },
      "source": [
        "#Ejemplo quantconnect\n",
        "print('First column:', Ar[:,0])\n",
        "\n",
        "print('Second column:', Ar[:,1])"
      ],
      "execution_count": null,
      "outputs": [
        {
          "output_type": "stream",
          "name": "stdout",
          "text": [
            "First column: [1 2]\n",
            "Second column: [3 4]\n"
          ]
        }
      ]
    },
    {
      "cell_type": "code",
      "metadata": {
        "colab": {
          "base_uri": "https://localhost:8080/"
        },
        "id": "hsN-bIfA54dS",
        "outputId": "f28e2808-b573-4d8b-e241-42f17349b808"
      },
      "source": [
        "#Ejemplo propio\n",
        "print('second column:', ndarr[:,1])\n",
        "\n",
        "print('Third column:', ndarr[:,2])"
      ],
      "execution_count": null,
      "outputs": [
        {
          "output_type": "stream",
          "name": "stdout",
          "text": [
            "second column: [2 5 8]\n",
            "Third column: [3 6 9]\n"
          ]
        }
      ]
    },
    {
      "cell_type": "markdown",
      "metadata": {
        "id": "rEYlt_7n_wOr"
      },
      "source": [
        "### **_Array Functions_**\n",
        "\n",
        "Some functions built in NumPy that allow us to perform calculations on arrays. For example, we can apply the natural logarithm to each element of an array:"
      ]
    },
    {
      "cell_type": "code",
      "metadata": {
        "colab": {
          "base_uri": "https://localhost:8080/"
        },
        "id": "jaZyNgdd_7ie",
        "outputId": "d3154693-b779-405e-9f1a-0937f126d520"
      },
      "source": [
        "#Ejemplo quantconnect\n",
        "np.log(price_array)"
      ],
      "execution_count": null,
      "outputs": [
        {
          "output_type": "execute_result",
          "data": {
            "text/plain": [
              "array([4.96793654, 4.98244156, 4.9675886 , 4.96995218, 4.96633504,\n",
              "       4.96018375])"
            ]
          },
          "metadata": {},
          "execution_count": 87
        }
      ]
    },
    {
      "cell_type": "code",
      "metadata": {
        "colab": {
          "base_uri": "https://localhost:8080/"
        },
        "id": "uXqyty06AB32",
        "outputId": "c2735a81-d7a7-421d-c490-aaacff2c28bb"
      },
      "source": [
        "#Ejemplo propio\n",
        "np.log(ndarr[1])"
      ],
      "execution_count": null,
      "outputs": [
        {
          "output_type": "execute_result",
          "data": {
            "text/plain": [
              "array([1.38629436, 1.60943791, 1.79175947])"
            ]
          },
          "metadata": {},
          "execution_count": 90
        }
      ]
    },
    {
      "cell_type": "markdown",
      "metadata": {
        "id": "iPrANWhrAj12"
      },
      "source": [
        "Other functions return a single value:"
      ]
    },
    {
      "cell_type": "code",
      "metadata": {
        "colab": {
          "base_uri": "https://localhost:8080/"
        },
        "id": "fr6s2O-5AlZW",
        "outputId": "50d2a4b2-f03f-4a83-f6f3-4cc3c7975425"
      },
      "source": [
        "#Ejemplo quantconnect\n",
        "np.mean(price_array)\n",
        "\n",
        "print(np.std(price_array))\n",
        "\n",
        "print(np.sum(price_array))\n",
        "\n",
        "print(np.max(price_array))\n"
      ],
      "execution_count": null,
      "outputs": [
        {
          "output_type": "stream",
          "name": "stdout",
          "text": [
            "0.9673790478515796\n",
            "863.38\n",
            "145.83\n"
          ]
        }
      ]
    },
    {
      "cell_type": "code",
      "metadata": {
        "colab": {
          "base_uri": "https://localhost:8080/"
        },
        "id": "bmYdhYMTAxWk",
        "outputId": "118a33f1-9d4c-45de-9bde-5ac4e6d872bf"
      },
      "source": [
        "#Ejemplo propio\n",
        "np.mean(ndarr[2])\n",
        "\n",
        "print(np.std(ndarr[2])) #standard deviation\n",
        "\n",
        "print(np.sum(ndarr[2]))\n",
        "\n",
        "print(np.max(ndarr[2]))\n"
      ],
      "execution_count": null,
      "outputs": [
        {
          "output_type": "stream",
          "name": "stdout",
          "text": [
            "0.816496580927726\n",
            "24\n",
            "9\n"
          ]
        }
      ]
    },
    {
      "cell_type": "markdown",
      "metadata": {
        "id": "7SFkeefqBZPv"
      },
      "source": [
        "The functions above return the mean, standard deviation, total and maximum value of an array."
      ]
    },
    {
      "cell_type": "markdown",
      "metadata": {
        "id": "OgDS8JlZBah-"
      },
      "source": [
        "## **Pandas**\n",
        "Pandas is one of the most powerful tools for dealing with financial data. First we need to import Pandas:"
      ]
    },
    {
      "cell_type": "code",
      "metadata": {
        "id": "UU2hyYP0B_aT"
      },
      "source": [
        "import pandas as pd"
      ],
      "execution_count": null,
      "outputs": []
    },
    {
      "cell_type": "markdown",
      "metadata": {
        "id": "Me7coUwlCEis"
      },
      "source": [
        "### **_Series_**\n",
        "Series is a one-dimensional labeled array capable of holding any data type (integers, strings, float, Python object, etc.)\n",
        "\n",
        "We create a Series by calling pd.Series(data), where data can be a dictionary, an array or just a scalar value."
      ]
    },
    {
      "cell_type": "code",
      "metadata": {
        "colab": {
          "base_uri": "https://localhost:8080/"
        },
        "id": "aRxNhKqNCWPO",
        "outputId": "39c4f79b-d881-4110-8458-ae39ff84a83f"
      },
      "source": [
        "#Ejemplo quantconnect\n",
        "price = [143.73, 145.83, 143.68, 144.02, 143.5, 142.62]\n",
        "s = pd.Series(price)\n",
        "print(s)\n"
      ],
      "execution_count": null,
      "outputs": [
        {
          "output_type": "stream",
          "name": "stdout",
          "text": [
            "0    143.73\n",
            "1    145.83\n",
            "2    143.68\n",
            "3    144.02\n",
            "4    143.50\n",
            "5    142.62\n",
            "dtype: float64\n"
          ]
        }
      ]
    },
    {
      "cell_type": "code",
      "metadata": {
        "colab": {
          "base_uri": "https://localhost:8080/"
        },
        "id": "mOQ18SpUClaA",
        "outputId": "6846391b-a12d-4567-ff40-fdb80de10f14"
      },
      "source": [
        "#Ejemplo propio\n",
        "num_flo = [1.2, 2.3, 3.4, 4.52, 4.65, 5.67]\n",
        "se = pd.Series(num_flo)\n",
        "print(se)"
      ],
      "execution_count": null,
      "outputs": [
        {
          "output_type": "stream",
          "name": "stdout",
          "text": [
            "0    1.20\n",
            "1    2.30\n",
            "2    3.40\n",
            "3    4.52\n",
            "4    4.65\n",
            "5    5.67\n",
            "dtype: float64\n"
          ]
        }
      ]
    },
    {
      "cell_type": "markdown",
      "metadata": {
        "id": "iK1nHrKKDBzN"
      },
      "source": [
        "We can customize the indices of a new Series:\n",
        "\n"
      ]
    },
    {
      "cell_type": "code",
      "metadata": {
        "colab": {
          "base_uri": "https://localhost:8080/"
        },
        "id": "nq4PGgWUDDi1",
        "outputId": "b5cf1cba-fff8-4406-c2f0-47ca47702ba3"
      },
      "source": [
        "#Ejemplo quantconnect\n",
        "s = pd.Series(price, index = ['a', 'b', 'c', 'd', 'e', 'f'])\n",
        "print(s)"
      ],
      "execution_count": null,
      "outputs": [
        {
          "output_type": "stream",
          "name": "stdout",
          "text": [
            "a    143.73\n",
            "b    145.83\n",
            "c    143.68\n",
            "d    144.02\n",
            "e    143.50\n",
            "f    142.62\n",
            "dtype: float64\n"
          ]
        }
      ]
    },
    {
      "cell_type": "code",
      "metadata": {
        "colab": {
          "base_uri": "https://localhost:8080/"
        },
        "id": "JRJpwmj6DIhp",
        "outputId": "a1ccb015-2cc6-4843-c5f6-4e969bb95ac1"
      },
      "source": [
        "#Ejemplo propio\n",
        "se = pd.Series(num_flo, index = [-1, -2, -3, -4, -5, -6])\n",
        "print(se)"
      ],
      "execution_count": null,
      "outputs": [
        {
          "output_type": "stream",
          "name": "stdout",
          "text": [
            "-1    1.20\n",
            "-2    2.30\n",
            "-3    3.40\n",
            "-4    4.52\n",
            "-5    4.65\n",
            "-6    5.67\n",
            "dtype: float64\n"
          ]
        }
      ]
    },
    {
      "cell_type": "markdown",
      "metadata": {
        "id": "s4tWEmu1EVkN"
      },
      "source": [
        "Or we can change the indices of an existing Series:"
      ]
    },
    {
      "cell_type": "code",
      "metadata": {
        "colab": {
          "base_uri": "https://localhost:8080/"
        },
        "id": "rcCDYhiMEXUM",
        "outputId": "de79e739-eb84-4c7d-c969-5a0206df2658"
      },
      "source": [
        "#Ejemplo quantconnect\n",
        "s.index = [6,5,4,3,2,1]\n",
        "print(s)"
      ],
      "execution_count": null,
      "outputs": [
        {
          "output_type": "stream",
          "name": "stdout",
          "text": [
            "6    143.73\n",
            "5    145.83\n",
            "4    143.68\n",
            "3    144.02\n",
            "2    143.50\n",
            "1    142.62\n",
            "dtype: float64\n"
          ]
        }
      ]
    },
    {
      "cell_type": "code",
      "metadata": {
        "colab": {
          "base_uri": "https://localhost:8080/"
        },
        "id": "ReCsXIviEgLI",
        "outputId": "ed4e32cd-359b-4f6e-d9c1-5ff9c811c994"
      },
      "source": [
        "#Ejemplo propio\n",
        "se.index = ['*','!','*','!','*','!']\n",
        "print(se)"
      ],
      "execution_count": null,
      "outputs": [
        {
          "output_type": "stream",
          "name": "stdout",
          "text": [
            "*    1.20\n",
            "!    2.30\n",
            "*    3.40\n",
            "!    4.52\n",
            "*    4.65\n",
            "!    5.67\n",
            "dtype: float64\n"
          ]
        }
      ]
    },
    {
      "cell_type": "markdown",
      "metadata": {
        "id": "IxPtzsQbGyc1"
      },
      "source": [
        "Series is like a list since it can be sliced by index:\n",
        "\n"
      ]
    },
    {
      "cell_type": "code",
      "metadata": {
        "colab": {
          "base_uri": "https://localhost:8080/"
        },
        "id": "P5BQeIFbG1uK",
        "outputId": "e28bd6d0-68bd-463a-9aef-b1369056bb95"
      },
      "source": [
        "#Ejemplo quantconnect\n",
        "print(s[1:])\n",
        "print(s[:-2])"
      ],
      "execution_count": null,
      "outputs": [
        {
          "output_type": "stream",
          "name": "stdout",
          "text": [
            "5    145.83\n",
            "4    143.68\n",
            "3    144.02\n",
            "2    143.50\n",
            "1    142.62\n",
            "dtype: float64\n",
            "6    143.73\n",
            "5    145.83\n",
            "4    143.68\n",
            "3    144.02\n",
            "dtype: float64\n"
          ]
        }
      ]
    },
    {
      "cell_type": "code",
      "metadata": {
        "colab": {
          "base_uri": "https://localhost:8080/"
        },
        "id": "zhb3jgrHn44D",
        "outputId": "088fd5a2-a82c-4f54-d337-09be03ac7a87"
      },
      "source": [
        "#Ejemplo propio\n",
        "print(se[2:])\n",
        "print(se[:-4])"
      ],
      "execution_count": null,
      "outputs": [
        {
          "output_type": "stream",
          "name": "stdout",
          "text": [
            "*    3.40\n",
            "!    4.52\n",
            "*    4.65\n",
            "!    5.67\n",
            "dtype: float64\n",
            "*    1.2\n",
            "!    2.3\n",
            "dtype: float64\n"
          ]
        }
      ]
    },
    {
      "cell_type": "markdown",
      "metadata": {
        "id": "zspb0J_fpR1L"
      },
      "source": [
        "Series is also like a dictionary whose values can be set or fetched by index label:"
      ]
    },
    {
      "cell_type": "code",
      "metadata": {
        "colab": {
          "base_uri": "https://localhost:8080/"
        },
        "id": "ziRpwsNEpU2Y",
        "outputId": "6b018878-d1cb-4133-ce7a-7e3ff420becf"
      },
      "source": [
        "#Ejemplo quantconnect \n",
        "print(s[4])\n",
        "s[4] = 0\n",
        "print(s)"
      ],
      "execution_count": null,
      "outputs": [
        {
          "output_type": "stream",
          "name": "stdout",
          "text": [
            "143.68\n",
            "6    143.73\n",
            "5    145.83\n",
            "4      0.00\n",
            "3    144.02\n",
            "2    143.50\n",
            "1    142.62\n",
            "dtype: float64\n"
          ]
        }
      ]
    },
    {
      "cell_type": "code",
      "metadata": {
        "colab": {
          "base_uri": "https://localhost:8080/"
        },
        "id": "E89X1TVnptTD",
        "outputId": "32e567a8-9fb6-420f-f6af-71375e0b7a80"
      },
      "source": [
        "#Ejemplo propio\n",
        "print(se[4])\n",
        "se[3] = 20\n",
        "print(se)"
      ],
      "execution_count": null,
      "outputs": [
        {
          "output_type": "stream",
          "name": "stdout",
          "text": [
            "4.65\n",
            "*     1.20\n",
            "!     2.30\n",
            "*     3.40\n",
            "!    20.00\n",
            "*     4.65\n",
            "!     5.67\n",
            "dtype: float64\n"
          ]
        }
      ]
    },
    {
      "cell_type": "markdown",
      "metadata": {
        "id": "au9Ah593p3cN"
      },
      "source": [
        "Series can also have a name attribute, which will be used when we make up a Pandas DataFrame using several series."
      ]
    },
    {
      "cell_type": "code",
      "metadata": {
        "colab": {
          "base_uri": "https://localhost:8080/"
        },
        "id": "rdDS2pl-p8H8",
        "outputId": "fe0b750f-bdc0-4383-8789-49c21e7ab352"
      },
      "source": [
        "#Ejemplo quantconnect\n",
        "s = pd.Series(price, name = 'Apple Prices')\n",
        "print(s)\n",
        "print(s.name)"
      ],
      "execution_count": null,
      "outputs": [
        {
          "output_type": "stream",
          "name": "stdout",
          "text": [
            "0    143.73\n",
            "1    145.83\n",
            "2    143.68\n",
            "3    144.02\n",
            "4    143.50\n",
            "5    142.62\n",
            "Name: Apple Prices, dtype: float64\n",
            "Apple Prices\n"
          ]
        }
      ]
    },
    {
      "cell_type": "code",
      "metadata": {
        "colab": {
          "base_uri": "https://localhost:8080/"
        },
        "id": "qdKeRFWfqF-z",
        "outputId": "03ad93de-ab57-4c8e-d326-56993fcfe6ad"
      },
      "source": [
        "#Ejemplo propio\n",
        "se = pd.Series(num_flo, name = 'numeros flotantes y entero')\n",
        "print(se)\n",
        "print(se.name)"
      ],
      "execution_count": null,
      "outputs": [
        {
          "output_type": "stream",
          "name": "stdout",
          "text": [
            "0    1.20\n",
            "1    2.30\n",
            "2    3.40\n",
            "3    4.52\n",
            "4    4.65\n",
            "5    5.67\n",
            "Name: numeros flotantes y entero, dtype: float64\n",
            "numeros flotantes y entero\n"
          ]
        }
      ]
    },
    {
      "cell_type": "markdown",
      "metadata": {
        "id": "94MRDNyLqXX9"
      },
      "source": [
        "We can get the statistical summaries of a Series:"
      ]
    },
    {
      "cell_type": "code",
      "metadata": {
        "colab": {
          "base_uri": "https://localhost:8080/"
        },
        "id": "9U6mLYsOqZ0L",
        "outputId": "2cb0e7a0-c6bc-41ed-e677-49a7d7090ed4"
      },
      "source": [
        "#Ejemplo quantconnect\n",
        "print(s.describe())\n"
      ],
      "execution_count": null,
      "outputs": [
        {
          "output_type": "stream",
          "name": "stdout",
          "text": [
            "count      6.000000\n",
            "mean     143.896667\n",
            "std        1.059711\n",
            "min      142.620000\n",
            "25%      143.545000\n",
            "50%      143.705000\n",
            "75%      143.947500\n",
            "max      145.830000\n",
            "Name: Apple Prices, dtype: float64\n"
          ]
        }
      ]
    },
    {
      "cell_type": "code",
      "metadata": {
        "colab": {
          "base_uri": "https://localhost:8080/"
        },
        "id": "2338bvbqqfJj",
        "outputId": "bfacb0ae-7636-48c9-c904-1455878adc9c"
      },
      "source": [
        "#Ejemplo propio\n",
        "print(se.describe())"
      ],
      "execution_count": null,
      "outputs": [
        {
          "output_type": "stream",
          "name": "stdout",
          "text": [
            "count    6.000000\n",
            "mean     3.623333\n",
            "std      1.656535\n",
            "min      1.200000\n",
            "25%      2.575000\n",
            "50%      3.960000\n",
            "75%      4.617500\n",
            "max      5.670000\n",
            "Name: numeros flotantes y entero, dtype: float64\n"
          ]
        }
      ]
    },
    {
      "cell_type": "markdown",
      "metadata": {
        "id": "0ML81ssLqqxn"
      },
      "source": [
        "### **_Time Index_**\n",
        "Pandas has a built-in function specifically for creating date indices: pd.date_range(). We use it to create a new index for our Series:"
      ]
    },
    {
      "cell_type": "code",
      "metadata": {
        "colab": {
          "base_uri": "https://localhost:8080/"
        },
        "id": "X_HSVErzrB5O",
        "outputId": "9f8957ad-7a89-4084-b2f0-0d832d75e719"
      },
      "source": [
        "#Ejemplo quantconnect\n",
        "time_index = pd.date_range('2017-01-01', periods = len(s), freq = 'D')\n",
        "print(time_index)\n",
        "s.index = time_index\n",
        "print(s)"
      ],
      "execution_count": null,
      "outputs": [
        {
          "output_type": "stream",
          "name": "stdout",
          "text": [
            "DatetimeIndex(['2017-01-01', '2017-01-02', '2017-01-03', '2017-01-04',\n",
            "               '2017-01-05', '2017-01-06'],\n",
            "              dtype='datetime64[ns]', freq='D')\n",
            "2017-01-01    143.73\n",
            "2017-01-02    145.83\n",
            "2017-01-03    143.68\n",
            "2017-01-04    144.02\n",
            "2017-01-05    143.50\n",
            "2017-01-06    142.62\n",
            "Freq: D, Name: Apple Prices, dtype: float64\n"
          ]
        }
      ]
    },
    {
      "cell_type": "code",
      "metadata": {
        "colab": {
          "base_uri": "https://localhost:8080/"
        },
        "id": "3QEwMbdlrP6B",
        "outputId": "b8ebbbf2-3d1b-426c-feef-6eb42904a67a"
      },
      "source": [
        "#Ejemplo quantconnect\n",
        "time_index = pd.date_range('2021-10-22', periods = len(se), freq = 'M')#freq = year/month/day \n",
        "print(time_index)\n",
        "se.index = time_index\n",
        "print(se)"
      ],
      "execution_count": null,
      "outputs": [
        {
          "output_type": "stream",
          "name": "stdout",
          "text": [
            "DatetimeIndex(['2021-10-31', '2021-11-30', '2021-12-31', '2022-01-31',\n",
            "               '2022-02-28', '2022-03-31'],\n",
            "              dtype='datetime64[ns]', freq='M')\n",
            "2021-10-31    1.20\n",
            "2021-11-30    2.30\n",
            "2021-12-31    3.40\n",
            "2022-01-31    4.52\n",
            "2022-02-28    4.65\n",
            "2022-03-31    5.67\n",
            "Freq: M, Name: numeros flotantes y entero, dtype: float64\n"
          ]
        }
      ]
    },
    {
      "cell_type": "markdown",
      "metadata": {
        "id": "fkVjrWPar-RI"
      },
      "source": [
        "Series are usually accessed using the iloc[] and loc[] methods. iloc[] is used to access elements by integer index, and loc[] is used to access the index of the series.\n",
        "\n",
        "iloc[] is necessary when the index of a series are integers, take our previous defined series as example:"
      ]
    },
    {
      "cell_type": "code",
      "metadata": {
        "colab": {
          "base_uri": "https://localhost:8080/"
        },
        "id": "HET3bHRPsCPk",
        "outputId": "a5a313ed-43cc-4229-bf6b-2353a00bf001"
      },
      "source": [
        "#Ejemplo quantconnect\n",
        "s.index = [6,5,4,3,2,1]\n",
        "print(s)\n",
        "print(s[1])"
      ],
      "execution_count": null,
      "outputs": [
        {
          "output_type": "stream",
          "name": "stdout",
          "text": [
            "6    143.73\n",
            "5    145.83\n",
            "4    143.68\n",
            "3    144.02\n",
            "2    143.50\n",
            "1    142.62\n",
            "Name: Apple Prices, dtype: float64\n",
            "142.62\n"
          ]
        }
      ]
    },
    {
      "cell_type": "code",
      "metadata": {
        "colab": {
          "base_uri": "https://localhost:8080/"
        },
        "id": "XZHRe3knsrsb",
        "outputId": "4aef7594-e4a4-4f98-9e80-b6292d7741c0"
      },
      "source": [
        "#Ejemplo propio\n",
        "se.index = [1,2,3,4,5,6]\n",
        "print(se)\n",
        "print(se[1])"
      ],
      "execution_count": null,
      "outputs": [
        {
          "output_type": "stream",
          "name": "stdout",
          "text": [
            "1    1.20\n",
            "2    2.30\n",
            "3    3.40\n",
            "4    4.52\n",
            "5    4.65\n",
            "6    5.67\n",
            "Name: numeros flotantes y entero, dtype: float64\n",
            "1.2\n"
          ]
        }
      ]
    },
    {
      "cell_type": "markdown",
      "metadata": {
        "id": "bGvYvczas7v-"
      },
      "source": [
        "If we intended to take the second element of the series, we would make a mistake here, because the index are integers. In order to access to the element we want, we use iloc[] here:"
      ]
    },
    {
      "cell_type": "code",
      "metadata": {
        "colab": {
          "base_uri": "https://localhost:8080/"
        },
        "id": "QLAPunhus9YG",
        "outputId": "d65a3ec9-0378-432b-d9a3-0d61b75c4214"
      },
      "source": [
        "#Ejemplo quantconnect\n",
        "print(s.iloc[1])"
      ],
      "execution_count": null,
      "outputs": [
        {
          "output_type": "stream",
          "name": "stdout",
          "text": [
            "145.83\n"
          ]
        }
      ]
    },
    {
      "cell_type": "code",
      "metadata": {
        "colab": {
          "base_uri": "https://localhost:8080/"
        },
        "id": "V15SuCYFtIh-",
        "outputId": "9dd11a49-44a8-4df6-9ae7-e8057340c0c7"
      },
      "source": [
        "#Ejemplo propio\n",
        "print(se.iloc[4])"
      ],
      "execution_count": null,
      "outputs": [
        {
          "output_type": "stream",
          "name": "stdout",
          "text": [
            "4.65\n"
          ]
        }
      ]
    },
    {
      "cell_type": "markdown",
      "metadata": {
        "id": "4HC4ebgBtYDU"
      },
      "source": [
        "While working with time series data, we often use time as the index. Pandas provides us with various methods to access the data by time index.\n",
        "\n"
      ]
    },
    {
      "cell_type": "code",
      "metadata": {
        "colab": {
          "base_uri": "https://localhost:8080/"
        },
        "id": "GybU133wtZ7C",
        "outputId": "43e5e646-70ad-4a03-8302-735ba6b1fbbf"
      },
      "source": [
        "#Ejemplo quantconnect\n",
        "s.index = time_index\n",
        "print(s['2017-01-03'])"
      ],
      "execution_count": null,
      "outputs": [
        {
          "output_type": "stream",
          "name": "stdout",
          "text": [
            "143.68\n"
          ]
        }
      ]
    },
    {
      "cell_type": "code",
      "metadata": {
        "colab": {
          "base_uri": "https://localhost:8080/"
        },
        "id": "7H1iOVsjtsaF",
        "outputId": "aae24882-2d84-4de6-99e1-800b7f8d7786"
      },
      "source": [
        "#Ejemplo propio\n",
        "se.index = time_index\n",
        "print(se['2021-12-31'])"
      ],
      "execution_count": null,
      "outputs": [
        {
          "output_type": "stream",
          "name": "stdout",
          "text": [
            "3.4\n"
          ]
        }
      ]
    },
    {
      "cell_type": "markdown",
      "metadata": {
        "id": "z8QBtzzbud3k"
      },
      "source": [
        "We can even access to a range of dates:"
      ]
    },
    {
      "cell_type": "code",
      "metadata": {
        "colab": {
          "base_uri": "https://localhost:8080/"
        },
        "id": "dzyCo887ugOx",
        "outputId": "e9a3bf0d-c303-478b-d4c7-9284e77454fb"
      },
      "source": [
        "#Ejemplo quantconnect\n",
        "print(s['2017-01-02':'2017-01-05'])\n"
      ],
      "execution_count": null,
      "outputs": [
        {
          "output_type": "stream",
          "name": "stdout",
          "text": [
            "2017-01-02    145.83\n",
            "2017-01-03    143.68\n",
            "2017-01-04    144.02\n",
            "2017-01-05    143.50\n",
            "Freq: D, Name: Apple Prices, dtype: float64\n"
          ]
        }
      ]
    },
    {
      "cell_type": "code",
      "metadata": {
        "colab": {
          "base_uri": "https://localhost:8080/"
        },
        "id": "2enfstJwumQS",
        "outputId": "83d23a8a-7afb-4892-f258-1a383a8fcaf2"
      },
      "source": [
        "#Ejemplo propio\n",
        "print(se['2021-11-30':'2022-02-28'])"
      ],
      "execution_count": null,
      "outputs": [
        {
          "output_type": "stream",
          "name": "stdout",
          "text": [
            "2021-11-30    2.30\n",
            "2021-12-31    3.40\n",
            "2022-01-31    4.52\n",
            "2022-02-28    4.65\n",
            "Freq: M, Name: numeros flotantes y entero, dtype: float64\n"
          ]
        }
      ]
    },
    {
      "cell_type": "markdown",
      "metadata": {
        "id": "4T3NTgLRu-wg"
      },
      "source": [
        "Series[] provides us a very flexible way to index data. We can add any condition in the square brackets:"
      ]
    },
    {
      "cell_type": "code",
      "metadata": {
        "colab": {
          "base_uri": "https://localhost:8080/"
        },
        "id": "XKhZc0GTvEHE",
        "outputId": "8bd1ff72-8ae5-495d-e207-614e65334882"
      },
      "source": [
        "#Ejemplo quantconnect\n",
        "print(s[s < np.mean(s)])\n",
        "print(s[(s > np.mean(s)) & (s < np.mean(s) + 1.64*np.std(s))])"
      ],
      "execution_count": null,
      "outputs": [
        {
          "output_type": "stream",
          "name": "stdout",
          "text": [
            "2017-01-01    143.73\n",
            "2017-01-03    143.68\n",
            "2017-01-05    143.50\n",
            "2017-01-06    142.62\n",
            "Name: Apple Prices, dtype: float64\n",
            "2017-01-04    144.02\n",
            "Freq: D, Name: Apple Prices, dtype: float64\n"
          ]
        }
      ]
    },
    {
      "cell_type": "code",
      "metadata": {
        "colab": {
          "base_uri": "https://localhost:8080/"
        },
        "id": "_IbPYSPLvWTK",
        "outputId": "fd773f57-cf63-4bc0-84c5-a10eaeba8503"
      },
      "source": [
        "#Ejemplo propio\n",
        "print(se[se > np.mean(se)])\n",
        "print(se[(se > np.mean(se)) | (se < np.mean(se) + 1.64*np.std(se))])"
      ],
      "execution_count": null,
      "outputs": [
        {
          "output_type": "stream",
          "name": "stdout",
          "text": [
            "2022-01-31    4.52\n",
            "2022-02-28    4.65\n",
            "2022-03-31    5.67\n",
            "Freq: M, Name: numeros flotantes y entero, dtype: float64\n",
            "2021-10-31    1.20\n",
            "2021-11-30    2.30\n",
            "2021-12-31    3.40\n",
            "2022-01-31    4.52\n",
            "2022-02-28    4.65\n",
            "2022-03-31    5.67\n",
            "Freq: M, Name: numeros flotantes y entero, dtype: float64\n"
          ]
        }
      ]
    },
    {
      "cell_type": "markdown",
      "metadata": {
        "id": "guGedfTzwQg_"
      },
      "source": [
        "As demonstrated, we can use logical operators like & (and), | (or) and ~ (not) to group multiple conditions."
      ]
    },
    {
      "cell_type": "markdown",
      "metadata": {
        "id": "k__zkvj3wXPu"
      },
      "source": [
        "### **Summary**\n",
        "Here we have introduced NumPy and Pandas for scientific computing in Python. In the next chapter, we will dive into Pandas to learn resampling and manipulating Pandas DataFrame, which are commonly used in financial data analysis."
      ]
    },
    {
      "cell_type": "markdown",
      "metadata": {
        "id": "63wHZLQ82UWk"
      },
      "source": [
        "#**5. Pandas-Resampling and DataFrame**.\n",
        "##**Introduction**\n",
        "In the last chapter we had a glimpse of Pandas. In this chapter we will learn about resampling methods and the DataFrame object, which is a powerful tool for financial data analysis.\n",
        "\n",
        "##**Fetching Data**\n",
        "Here we use the Yahoo Finance to retrieve data."
      ]
    },
    {
      "cell_type": "code",
      "metadata": {
        "colab": {
          "base_uri": "https://localhost:8080/"
        },
        "id": "1tACupNp3-mA",
        "outputId": "2b39b38f-fdcb-4919-d802-de60d73e2ab1"
      },
      "source": [
        "!pip install yfinance"
      ],
      "execution_count": null,
      "outputs": [
        {
          "output_type": "stream",
          "name": "stdout",
          "text": [
            "Collecting yfinance\n",
            "  Downloading yfinance-0.1.64.tar.gz (26 kB)\n",
            "Requirement already satisfied: pandas>=0.24 in /usr/local/lib/python3.7/dist-packages (from yfinance) (1.1.5)\n",
            "Requirement already satisfied: numpy>=1.15 in /usr/local/lib/python3.7/dist-packages (from yfinance) (1.19.5)\n",
            "Requirement already satisfied: requests>=2.20 in /usr/local/lib/python3.7/dist-packages (from yfinance) (2.23.0)\n",
            "Requirement already satisfied: multitasking>=0.0.7 in /usr/local/lib/python3.7/dist-packages (from yfinance) (0.0.9)\n",
            "Collecting lxml>=4.5.1\n",
            "  Downloading lxml-4.6.3-cp37-cp37m-manylinux2014_x86_64.whl (6.3 MB)\n",
            "\u001b[K     |████████████████████████████████| 6.3 MB 11.5 MB/s \n",
            "\u001b[?25hRequirement already satisfied: pytz>=2017.2 in /usr/local/lib/python3.7/dist-packages (from pandas>=0.24->yfinance) (2018.9)\n",
            "Requirement already satisfied: python-dateutil>=2.7.3 in /usr/local/lib/python3.7/dist-packages (from pandas>=0.24->yfinance) (2.8.2)\n",
            "Requirement already satisfied: six>=1.5 in /usr/local/lib/python3.7/dist-packages (from python-dateutil>=2.7.3->pandas>=0.24->yfinance) (1.15.0)\n",
            "Requirement already satisfied: certifi>=2017.4.17 in /usr/local/lib/python3.7/dist-packages (from requests>=2.20->yfinance) (2021.5.30)\n",
            "Requirement already satisfied: idna<3,>=2.5 in /usr/local/lib/python3.7/dist-packages (from requests>=2.20->yfinance) (2.10)\n",
            "Requirement already satisfied: chardet<4,>=3.0.2 in /usr/local/lib/python3.7/dist-packages (from requests>=2.20->yfinance) (3.0.4)\n",
            "Requirement already satisfied: urllib3!=1.25.0,!=1.25.1,<1.26,>=1.21.1 in /usr/local/lib/python3.7/dist-packages (from requests>=2.20->yfinance) (1.24.3)\n",
            "Building wheels for collected packages: yfinance\n",
            "  Building wheel for yfinance (setup.py) ... \u001b[?25l\u001b[?25hdone\n",
            "  Created wheel for yfinance: filename=yfinance-0.1.64-py2.py3-none-any.whl size=24109 sha256=97bd03a3df8deb77532c5a3ee78c11f530eb2da83e2ae41d2a052c7bfb9297e9\n",
            "  Stored in directory: /root/.cache/pip/wheels/86/fe/9b/a4d3d78796b699e37065e5b6c27b75cff448ddb8b24943c288\n",
            "Successfully built yfinance\n",
            "Installing collected packages: lxml, yfinance\n",
            "  Attempting uninstall: lxml\n",
            "    Found existing installation: lxml 4.2.6\n",
            "    Uninstalling lxml-4.2.6:\n",
            "      Successfully uninstalled lxml-4.2.6\n",
            "Successfully installed lxml-4.6.3 yfinance-0.1.64\n"
          ]
        }
      ]
    },
    {
      "cell_type": "code",
      "metadata": {
        "colab": {
          "base_uri": "https://localhost:8080/",
          "height": 487
        },
        "id": "SEyi8Iad4KCv",
        "outputId": "d18d7faa-7cbb-46be-e1ee-4d8de57e06aa"
      },
      "source": [
        "import yfinance as yf\n",
        "\n",
        "aapl = yf.Ticker(\"AAPL\")\n",
        "\n",
        "# get stock info\n",
        "print(aapl.info)\n",
        "\n",
        "# get historical market data\n",
        "aapl_table = aapl.history(start=\"2016-01-01\",  end=\"2017-12-31\")\n",
        "aapl_table"
      ],
      "execution_count": null,
      "outputs": [
        {
          "output_type": "stream",
          "name": "stdout",
          "text": [
            "{'zip': '95014', 'sector': 'Technology', 'fullTimeEmployees': 147000, 'longBusinessSummary': 'Apple Inc. designs, manufactures, and markets smartphones, personal computers, tablets, wearables, and accessories worldwide. It also sells various related services. The company offers iPhone, a line of smartphones; Mac, a line of personal computers; iPad, a line of multi-purpose tablets; and wearables, home, and accessories comprising AirPods, Apple TV, Apple Watch, Beats products, HomePod, iPod touch, and other Apple-branded and third-party accessories. It also provides AppleCare support services; cloud services store services; and operates various platforms, including the App Store, that allow customers to discover and download applications and digital content, such as books, music, video, games, and podcasts. In addition, the company offers various services, such as Apple Arcade, a game subscription service; Apple Music, which offers users a curated listening experience with on-demand radio stations; Apple News+, a subscription news and magazine service; Apple TV+, which offers exclusive original content; Apple Card, a co-branded credit card; and Apple Pay, a cashless payment service, as well as licenses its intellectual property. The company serves consumers, and small and mid-sized businesses; and the education, enterprise, and government markets. It sells and delivers third-party applications for its products through the App Store. The company also sells its products through its retail and online stores, and direct sales force; and third-party cellular network carriers, wholesalers, retailers, and resellers. Apple Inc. was founded in 1977 and is headquartered in Cupertino, California.', 'city': 'Cupertino', 'phone': '408-996-1010', 'state': 'CA', 'country': 'United States', 'companyOfficers': [], 'website': 'http://www.apple.com', 'maxAge': 1, 'address1': 'One Apple Park Way', 'industry': 'Consumer Electronics', 'ebitdaMargins': 0.31955, 'profitMargins': 0.25004, 'grossMargins': 0.41005, 'operatingCashflow': 104414003200, 'revenueGrowth': 0.364, 'operatingMargins': 0.28788, 'ebitda': 110934999040, 'targetLowPrice': 132, 'recommendationKey': 'buy', 'grossProfits': 104956000000, 'freeCashflow': 80625876992, 'targetMedianPrice': 170, 'currentPrice': 148.69, 'earningsGrowth': 1, 'currentRatio': 1.062, 'returnOnAssets': 0.19302, 'numberOfAnalystOpinions': 40, 'targetMeanPrice': 168.89, 'debtToEquity': 210.782, 'returnOnEquity': 1.27125, 'targetHighPrice': 190, 'totalCash': 61696000000, 'totalDebt': 135491002368, 'totalRevenue': 347155005440, 'totalCashPerShare': 3.732, 'financialCurrency': 'USD', 'revenuePerShare': 20.61, 'quickRatio': 0.887, 'recommendationMean': 1.8, 'exchange': 'NMS', 'shortName': 'Apple Inc.', 'longName': 'Apple Inc.', 'exchangeTimezoneName': 'America/New_York', 'exchangeTimezoneShortName': 'EDT', 'isEsgPopulated': False, 'gmtOffSetMilliseconds': '-14400000', 'quoteType': 'EQUITY', 'symbol': 'AAPL', 'messageBoardId': 'finmb_24937', 'market': 'us_market', 'annualHoldingsTurnover': None, 'enterpriseToRevenue': 7.293, 'beta3Year': None, 'enterpriseToEbitda': 22.821, '52WeekChange': 0.29239464, 'morningStarRiskRating': None, 'forwardEps': 5.68, 'revenueQuarterlyGrowth': None, 'sharesOutstanding': 16530199552, 'fundInceptionDate': None, 'annualReportExpenseRatio': None, 'totalAssets': None, 'bookValue': 3.882, 'sharesShort': 101107412, 'sharesPercentSharesOut': 0.0061000003, 'fundFamily': None, 'lastFiscalYearEnd': 1601078400, 'heldPercentInstitutions': 0.58671004, 'netIncomeToCommon': 86801997824, 'trailingEps': 5.108, 'lastDividendValue': 0.22, 'SandP52WeekChange': 0.33635402, 'priceToBook': 38.30242, 'heldPercentInsiders': 0.00072999997, 'nextFiscalYearEnd': 1664150400, 'yield': None, 'mostRecentQuarter': 1624665600, 'shortRatio': 1.18, 'sharesShortPreviousMonthDate': 1630368000, 'floatShares': 16513139929, 'beta': 1.222222, 'enterpriseValue': 2531665379328, 'priceHint': 2, 'threeYearAverageReturn': None, 'lastSplitDate': 1598832000, 'lastSplitFactor': '4:1', 'legalType': None, 'lastDividendDate': 1628208000, 'morningStarOverallRating': None, 'earningsQuarterlyGrowth': 0.932, 'priceToSalesTrailing12Months': 7.080052, 'dateShortInterest': 1632960000, 'pegRatio': 1.34, 'ytdReturn': None, 'forwardPE': 26.177818, 'lastCapGain': None, 'shortPercentOfFloat': 0.0061000003, 'sharesShortPriorMonth': 96838699, 'impliedSharesOutstanding': None, 'category': None, 'fiveYearAverageReturn': None, 'previousClose': 149.48, 'regularMarketOpen': 149.69, 'twoHundredDayAverage': 139.41185, 'trailingAnnualDividendYield': 0.005586032, 'payoutRatio': 0.16309999, 'volume24Hr': None, 'regularMarketDayHigh': 150.18, 'navPrice': None, 'averageDailyVolume10Day': 68348542, 'regularMarketPreviousClose': 149.48, 'fiftyDayAverage': 145.9303, 'trailingAnnualDividendRate': 0.835, 'open': 149.69, 'toCurrency': None, 'averageVolume10days': 68348542, 'expireDate': None, 'algorithm': None, 'dividendRate': 0.88, 'exDividendDate': 1628208000, 'circulatingSupply': None, 'startDate': None, 'regularMarketDayLow': 148.64, 'currency': 'USD', 'trailingPE': 29.109241, 'regularMarketVolume': 58883443, 'lastMarket': None, 'maxSupply': None, 'openInterest': None, 'marketCap': 2457875513344, 'volumeAllCurrencies': None, 'strikePrice': None, 'averageVolume': 75838454, 'dayLow': 148.64, 'ask': 148.47, 'askSize': 3200, 'volume': 58883443, 'fiftyTwoWeekHigh': 157.26, 'fromCurrency': None, 'fiveYearAvgDividendYield': 1.24, 'fiftyTwoWeekLow': 107.32, 'bid': 148.45, 'tradeable': False, 'dividendYield': 0.0058999998, 'bidSize': 2900, 'dayHigh': 150.18, 'regularMarketPrice': 148.69, 'preMarketPrice': None, 'logo_url': 'https://logo.clearbit.com/apple.com'}\n"
          ]
        },
        {
          "output_type": "execute_result",
          "data": {
            "text/html": [
              "<div>\n",
              "<style scoped>\n",
              "    .dataframe tbody tr th:only-of-type {\n",
              "        vertical-align: middle;\n",
              "    }\n",
              "\n",
              "    .dataframe tbody tr th {\n",
              "        vertical-align: top;\n",
              "    }\n",
              "\n",
              "    .dataframe thead th {\n",
              "        text-align: right;\n",
              "    }\n",
              "</style>\n",
              "<table border=\"1\" class=\"dataframe\">\n",
              "  <thead>\n",
              "    <tr style=\"text-align: right;\">\n",
              "      <th></th>\n",
              "      <th>Open</th>\n",
              "      <th>High</th>\n",
              "      <th>Low</th>\n",
              "      <th>Close</th>\n",
              "      <th>Volume</th>\n",
              "      <th>Dividends</th>\n",
              "      <th>Stock Splits</th>\n",
              "    </tr>\n",
              "    <tr>\n",
              "      <th>Date</th>\n",
              "      <th></th>\n",
              "      <th></th>\n",
              "      <th></th>\n",
              "      <th></th>\n",
              "      <th></th>\n",
              "      <th></th>\n",
              "      <th></th>\n",
              "    </tr>\n",
              "  </thead>\n",
              "  <tbody>\n",
              "    <tr>\n",
              "      <th>2016-01-04</th>\n",
              "      <td>23.655163</td>\n",
              "      <td>24.291439</td>\n",
              "      <td>23.514536</td>\n",
              "      <td>24.286827</td>\n",
              "      <td>270597600</td>\n",
              "      <td>0.0</td>\n",
              "      <td>0</td>\n",
              "    </tr>\n",
              "    <tr>\n",
              "      <th>2016-01-05</th>\n",
              "      <td>24.379043</td>\n",
              "      <td>24.402096</td>\n",
              "      <td>23.609058</td>\n",
              "      <td>23.678217</td>\n",
              "      <td>223164000</td>\n",
              "      <td>0.0</td>\n",
              "      <td>0</td>\n",
              "    </tr>\n",
              "    <tr>\n",
              "      <th>2016-01-06</th>\n",
              "      <td>23.182569</td>\n",
              "      <td>23.599838</td>\n",
              "      <td>23.023501</td>\n",
              "      <td>23.214844</td>\n",
              "      <td>273829600</td>\n",
              "      <td>0.0</td>\n",
              "      <td>0</td>\n",
              "    </tr>\n",
              "    <tr>\n",
              "      <th>2016-01-07</th>\n",
              "      <td>22.749162</td>\n",
              "      <td>23.083437</td>\n",
              "      <td>22.230459</td>\n",
              "      <td>22.235069</td>\n",
              "      <td>324377600</td>\n",
              "      <td>0.0</td>\n",
              "      <td>0</td>\n",
              "    </tr>\n",
              "    <tr>\n",
              "      <th>2016-01-08</th>\n",
              "      <td>22.719199</td>\n",
              "      <td>22.848298</td>\n",
              "      <td>22.306542</td>\n",
              "      <td>22.352648</td>\n",
              "      <td>283192000</td>\n",
              "      <td>0.0</td>\n",
              "      <td>0</td>\n",
              "    </tr>\n",
              "    <tr>\n",
              "      <th>...</th>\n",
              "      <td>...</td>\n",
              "      <td>...</td>\n",
              "      <td>...</td>\n",
              "      <td>...</td>\n",
              "      <td>...</td>\n",
              "      <td>...</td>\n",
              "      <td>...</td>\n",
              "    </tr>\n",
              "    <tr>\n",
              "      <th>2017-12-22</th>\n",
              "      <td>41.827745</td>\n",
              "      <td>42.004942</td>\n",
              "      <td>41.784645</td>\n",
              "      <td>41.906765</td>\n",
              "      <td>65397600</td>\n",
              "      <td>0.0</td>\n",
              "      <td>0</td>\n",
              "    </tr>\n",
              "    <tr>\n",
              "      <th>2017-12-26</th>\n",
              "      <td>40.898682</td>\n",
              "      <td>41.059116</td>\n",
              "      <td>40.630492</td>\n",
              "      <td>40.843609</td>\n",
              "      <td>132742000</td>\n",
              "      <td>0.0</td>\n",
              "      <td>0</td>\n",
              "    </tr>\n",
              "    <tr>\n",
              "      <th>2017-12-27</th>\n",
              "      <td>40.731058</td>\n",
              "      <td>40.893884</td>\n",
              "      <td>40.637671</td>\n",
              "      <td>40.850784</td>\n",
              "      <td>85992800</td>\n",
              "      <td>0.0</td>\n",
              "      <td>0</td>\n",
              "    </tr>\n",
              "    <tr>\n",
              "      <th>2017-12-28</th>\n",
              "      <td>40.946568</td>\n",
              "      <td>41.150105</td>\n",
              "      <td>40.822051</td>\n",
              "      <td>40.965725</td>\n",
              "      <td>65920800</td>\n",
              "      <td>0.0</td>\n",
              "      <td>0</td>\n",
              "    </tr>\n",
              "    <tr>\n",
              "      <th>2017-12-29</th>\n",
              "      <td>40.831629</td>\n",
              "      <td>40.848389</td>\n",
              "      <td>40.520339</td>\n",
              "      <td>40.522732</td>\n",
              "      <td>103999600</td>\n",
              "      <td>0.0</td>\n",
              "      <td>0</td>\n",
              "    </tr>\n",
              "  </tbody>\n",
              "</table>\n",
              "<p>503 rows × 7 columns</p>\n",
              "</div>"
            ],
            "text/plain": [
              "                 Open       High        Low  ...     Volume  Dividends  Stock Splits\n",
              "Date                                         ...                                    \n",
              "2016-01-04  23.655163  24.291439  23.514536  ...  270597600        0.0             0\n",
              "2016-01-05  24.379043  24.402096  23.609058  ...  223164000        0.0             0\n",
              "2016-01-06  23.182569  23.599838  23.023501  ...  273829600        0.0             0\n",
              "2016-01-07  22.749162  23.083437  22.230459  ...  324377600        0.0             0\n",
              "2016-01-08  22.719199  22.848298  22.306542  ...  283192000        0.0             0\n",
              "...               ...        ...        ...  ...        ...        ...           ...\n",
              "2017-12-22  41.827745  42.004942  41.784645  ...   65397600        0.0             0\n",
              "2017-12-26  40.898682  41.059116  40.630492  ...  132742000        0.0             0\n",
              "2017-12-27  40.731058  40.893884  40.637671  ...   85992800        0.0             0\n",
              "2017-12-28  40.946568  41.150105  40.822051  ...   65920800        0.0             0\n",
              "2017-12-29  40.831629  40.848389  40.520339  ...  103999600        0.0             0\n",
              "\n",
              "[503 rows x 7 columns]"
            ]
          },
          "metadata": {},
          "execution_count": 2
        }
      ]
    },
    {
      "cell_type": "code",
      "metadata": {
        "colab": {
          "base_uri": "https://localhost:8080/"
        },
        "id": "ZWcYlC8b5dJ9",
        "outputId": "4097e7bc-da8a-45a6-811a-089c5cf5cac3"
      },
      "source": [
        "#Ejemplo propio Ecopetrol\n",
        "\n",
        "ec = yf.Ticker(\"EC\")\n",
        "\n",
        "# get stock info\n",
        "print(ec.info)\n",
        "\n",
        "# get historical market data\n",
        "tabla_ec = ec.history(start=\"2018-12-31\",  end=\"2021-01-01\")\n",
        "print(tabla_ec)"
      ],
      "execution_count": null,
      "outputs": [
        {
          "output_type": "stream",
          "name": "stdout",
          "text": [
            "{'sector': 'Energy', 'fullTimeEmployees': 13977, 'longBusinessSummary': 'Ecopetrol S.A. operates as an integrated oil and gas company. The company operates through three segments: Exploration and Production; Transport and Logistics; and Refining, Petrochemical and Biofuels. It engages in the exploration, production, and sale of oil and gas; offshore exploration; energy supply services; specialized management services; and distribution of natural gas and LPG activities. It also transports and distributes hydrocarbons and derivative products. As of December 31, 2020, the company had approximately 9,127 kilometers of crude oil and multi-purpose pipelines. In addition, the company manufactures and commercializes polypropylene resins, compounds, and masterbatches; and offers refined and petrochemical products, and biofuels, as well as industrial service sales to customers. It has operations in Colombia, the United States, Asia, Central America and the Caribbean, Europe, South America, and internationally. Ecopetrol S.A. has a strategic alliance with Occidental Petroleum Corporation. The company was formerly known as Empresa Colombiana de PetrÃ³leos and changed its name to Ecopetrol S.A. in June 2003. Ecopetrol S.A. was incorporated in 1948 and is based in BogotÃ¡, Colombia.', 'city': 'BogotÃ¡', 'phone': '57 1 234 4000', 'country': 'Colombia', 'companyOfficers': [], 'website': 'http://www.ecopetrol.com.co', 'maxAge': 1, 'address1': 'Carrera 13 No. 36 - 24', 'fax': '57 1 234 4099', 'industry': 'Oil & Gas Integrated', 'ebitdaMargins': 0.42883, 'profitMargins': 0.13003, 'grossMargins': 0.36821997, 'operatingCashflow': None, 'revenueGrowth': 1.303, 'operatingMargins': 0, 'ebitda': None, 'targetLowPrice': 12, 'recommendationKey': 'buy', 'grossProfits': 13170781000000, 'freeCashflow': None, 'targetMedianPrice': 16.1, 'currentPrice': 15.32, 'earningsGrowth': 150, 'currentRatio': 1.514, 'returnOnAssets': 0.07163, 'numberOfAnalystOpinions': 11, 'targetMeanPrice': 15.45, 'debtToEquity': 79.975, 'returnOnEquity': 0.15821, 'targetHighPrice': 17.5, 'totalCash': None, 'totalDebt': None, 'totalRevenue': None, 'totalCashPerShare': None, 'financialCurrency': 'COP', 'revenuePerShare': None, 'quickRatio': 0.996, 'recommendationMean': 2.4, 'exchange': 'NYQ', 'shortName': 'Ecopetrol S.A.', 'longName': 'Ecopetrol S.A.', 'exchangeTimezoneName': 'America/New_York', 'exchangeTimezoneShortName': 'EDT', 'isEsgPopulated': False, 'gmtOffSetMilliseconds': '-14400000', 'quoteType': 'EQUITY', 'symbol': 'EC', 'messageBoardId': 'finmb_8142536', 'market': 'us_market', 'annualHoldingsTurnover': None, 'enterpriseToRevenue': None, 'beta3Year': None, 'enterpriseToEbitda': None, '52WeekChange': 0.6008359, 'morningStarRiskRating': None, 'forwardEps': 1.94, 'revenueQuarterlyGrowth': None, 'sharesOutstanding': 2055830016, 'fundInceptionDate': None, 'annualReportExpenseRatio': None, 'totalAssets': None, 'bookValue': 8.82, 'sharesShort': 5956774, 'sharesPercentSharesOut': 0.0029, 'fundFamily': None, 'lastFiscalYearEnd': 1609372800, 'heldPercentInstitutions': 0.01702, 'netIncomeToCommon': None, 'trailingEps': 2.14, 'lastDividendValue': 0.093, 'SandP52WeekChange': 0.33635402, 'priceToBook': 1.7369615, 'heldPercentInsiders': 0, 'nextFiscalYearEnd': 1672444800, 'yield': None, 'mostRecentQuarter': 1625011200, 'shortRatio': 6.7, 'sharesShortPreviousMonthDate': 1630368000, 'floatShares': 235578102, 'beta': 1.040546, 'enterpriseValue': 31495387136, 'priceHint': 2, 'threeYearAverageReturn': None, 'lastSplitDate': None, 'lastSplitFactor': None, 'legalType': None, 'lastDividendDate': 1618876800, 'morningStarOverallRating': None, 'earningsQuarterlyGrowth': 147.296, 'priceToSalesTrailing12Months': None, 'dateShortInterest': 1632960000, 'pegRatio': -0.62, 'ytdReturn': None, 'forwardPE': 7.896907, 'lastCapGain': None, 'shortPercentOfFloat': None, 'sharesShortPriorMonth': 5643360, 'impliedSharesOutstanding': None, 'category': None, 'fiveYearAverageReturn': None, 'previousClose': 15.31, 'regularMarketOpen': 15.32, 'twoHundredDayAverage': 13.426429, 'trailingAnnualDividendYield': 0.0019595034, 'payoutRatio': 0.098000005, 'volume24Hr': None, 'regularMarketDayHigh': 15.385, 'navPrice': None, 'averageDailyVolume10Day': 589114, 'regularMarketPreviousClose': 15.31, 'fiftyDayAverage': 14.385, 'trailingAnnualDividendRate': 0.03, 'open': 15.32, 'toCurrency': None, 'averageVolume10days': 589114, 'expireDate': None, 'algorithm': None, 'dividendRate': 0.09, 'exDividendDate': 1618876800, 'circulatingSupply': None, 'startDate': None, 'regularMarketDayLow': 15.2, 'currency': 'USD', 'trailingPE': 7.158878, 'regularMarketVolume': 719926, 'lastMarket': None, 'maxSupply': None, 'openInterest': None, 'marketCap': 31495315456, 'volumeAllCurrencies': None, 'strikePrice': None, 'averageVolume': 838095, 'dayLow': 15.2, 'ask': 25, 'askSize': 2200, 'volume': 719926, 'fiftyTwoWeekHigh': 15.91, 'fromCurrency': None, 'fiveYearAvgDividendYield': None, 'fiftyTwoWeekLow': 8.5, 'bid': 15, 'tradeable': False, 'dividendYield': 0.0061000003, 'bidSize': 1000, 'dayHigh': 15.385, 'regularMarketPrice': 15.32, 'preMarketPrice': None, 'logo_url': 'https://logo.clearbit.com/ecopetrol.com.co'}\n",
            "                 Open       High        Low  ...   Volume  Dividends  Stock Splits\n",
            "Date                                         ...                                  \n",
            "2018-12-31  13.339983  13.463501  13.010601  ...   560500        0.0             0\n",
            "2019-01-02  12.845910  13.652896  12.771799  ...  1087400        0.0             0\n",
            "2019-01-03  13.636428  13.899933  13.447033  ...  1099200        0.0             0\n",
            "2019-01-04  13.899932  14.468117  13.866994  ...  1240100        0.0             0\n",
            "2019-01-07  14.394006  14.739857  14.295192  ...   586500        0.0             0\n",
            "...               ...        ...        ...  ...      ...        ...           ...\n",
            "2020-12-24  13.074906  13.074906  12.806855  ...   250300        0.0             0\n",
            "2020-12-28  12.925990  13.074906  12.777072  ...   630000        0.0             0\n",
            "2020-12-29  12.995483  13.025267  12.826711  ...   590700        0.0             0\n",
            "2020-12-30  12.995484  13.233750  12.995484  ...   377600        0.0             0\n",
            "2020-12-31  12.935916  13.015339  12.727433  ...   602100        0.0             0\n",
            "\n",
            "[506 rows x 7 columns]\n"
          ]
        }
      ]
    },
    {
      "cell_type": "markdown",
      "metadata": {
        "id": "WbVQ_mDnlviD"
      },
      "source": [
        "We will create a Series named \"aapl\" whose values are Apple's daily closing prices, which are of course indexed by dates:"
      ]
    },
    {
      "cell_type": "code",
      "metadata": {
        "colab": {
          "base_uri": "https://localhost:8080/"
        },
        "id": "RwI0uVfe91_D",
        "outputId": "98a547ce-969a-44b1-eced-216b78438fa9"
      },
      "source": [
        "aapl = aapl_table['Close']['2017']\n",
        "print(aapl)"
      ],
      "execution_count": null,
      "outputs": [
        {
          "output_type": "stream",
          "name": "stdout",
          "text": [
            "Date\n",
            "2017-01-03    27.372364\n",
            "2017-01-04    27.341724\n",
            "2017-01-05    27.480768\n",
            "2017-01-06    27.787130\n",
            "2017-01-09    28.041647\n",
            "                ...    \n",
            "2017-12-22    41.906765\n",
            "2017-12-26    40.843609\n",
            "2017-12-27    40.850784\n",
            "2017-12-28    40.965725\n",
            "2017-12-29    40.522732\n",
            "Name: Close, Length: 251, dtype: float64\n"
          ]
        }
      ]
    },
    {
      "cell_type": "code",
      "metadata": {
        "colab": {
          "base_uri": "https://localhost:8080/"
        },
        "id": "MbKAOTnU95rb",
        "outputId": "e5130189-735f-4e44-f81b-72cbfbba99d8"
      },
      "source": [
        "#Ejemplo propio\n",
        "ec = tabla_ec['Open']['2020']\n",
        "print(ec)"
      ],
      "execution_count": null,
      "outputs": [
        {
          "output_type": "stream",
          "name": "stdout",
          "text": [
            "Date\n",
            "2020-01-02    18.302886\n",
            "2020-01-03    18.702551\n",
            "2020-01-06    18.620802\n",
            "2020-01-07    18.457304\n",
            "2020-01-08    18.402803\n",
            "                ...    \n",
            "2020-12-24    13.074906\n",
            "2020-12-28    12.925990\n",
            "2020-12-29    12.995483\n",
            "2020-12-30    12.995484\n",
            "2020-12-31    12.935916\n",
            "Name: Open, Length: 253, dtype: float64\n"
          ]
        }
      ]
    },
    {
      "cell_type": "markdown",
      "metadata": {
        "id": "cP3iGwiBlyrS"
      },
      "source": [
        "Recall that we can fetch a specific data point using series['yyyy-mm-dd']. We can also fetch the data in a specific month using series['yyyy-mm']."
      ]
    },
    {
      "cell_type": "code",
      "metadata": {
        "colab": {
          "base_uri": "https://localhost:8080/"
        },
        "id": "-gg-N03G-mxn",
        "outputId": "cc878d39-56c4-4188-e263-29b68ea455f2"
      },
      "source": [
        "print(aapl['2017-3'])"
      ],
      "execution_count": null,
      "outputs": [
        {
          "output_type": "stream",
          "name": "stdout",
          "text": [
            "Date\n",
            "2017-03-01    33.086285\n",
            "2017-03-02    32.889832\n",
            "2017-03-03    33.083920\n",
            "2017-03-06    32.979774\n",
            "2017-03-07    33.022381\n",
            "2017-03-08    32.899300\n",
            "2017-03-09    32.823555\n",
            "2017-03-10    32.932438\n",
            "2017-03-13    32.946644\n",
            "2017-03-14    32.896938\n",
            "2017-03-15    33.244865\n",
            "2017-03-16    33.299301\n",
            "2017-03-17    33.133614\n",
            "2017-03-20    33.481548\n",
            "2017-03-21    33.098122\n",
            "2017-03-22    33.472088\n",
            "2017-03-23    33.353745\n",
            "2017-03-24    33.287472\n",
            "2017-03-27    33.344276\n",
            "2017-03-28    34.035393\n",
            "2017-03-29    34.111134\n",
            "2017-03-30    34.066162\n",
            "2017-03-31    34.002258\n",
            "Name: Close, dtype: float64\n"
          ]
        }
      ]
    },
    {
      "cell_type": "code",
      "metadata": {
        "colab": {
          "base_uri": "https://localhost:8080/"
        },
        "id": "zKjlrkR9-oWD",
        "outputId": "ffa8a8e2-1278-45ec-948c-fac2abc52970"
      },
      "source": [
        "#Ejemplo propio\n",
        "print(ec['2020-12'])"
      ],
      "execution_count": null,
      "outputs": [
        {
          "output_type": "stream",
          "name": "stdout",
          "text": [
            "Date\n",
            "2020-12-01    11.694942\n",
            "2020-12-02    11.953065\n",
            "2020-12-03    12.062270\n",
            "2020-12-04    12.310466\n",
            "2020-12-07    12.717506\n",
            "2020-12-08    12.558660\n",
            "2020-12-09    12.727433\n",
            "2020-12-10    12.777072\n",
            "2020-12-11    13.422379\n",
            "2020-12-14    13.501801\n",
            "2020-12-15    13.243679\n",
            "2020-12-16    13.412451\n",
            "2020-12-17    13.730140\n",
            "2020-12-18    13.680501\n",
            "2020-12-21    13.144401\n",
            "2020-12-22    12.925989\n",
            "2020-12-23    13.055050\n",
            "2020-12-24    13.074906\n",
            "2020-12-28    12.925990\n",
            "2020-12-29    12.995483\n",
            "2020-12-30    12.995484\n",
            "2020-12-31    12.935916\n",
            "Name: Open, dtype: float64\n"
          ]
        }
      ]
    },
    {
      "cell_type": "code",
      "metadata": {
        "colab": {
          "base_uri": "https://localhost:8080/"
        },
        "id": "lAiDsruEAYT7",
        "outputId": "254abcec-b7f5-49c2-f245-c515aa054435"
      },
      "source": [
        "aapl['2017-2':'2017-4']"
      ],
      "execution_count": null,
      "outputs": [
        {
          "output_type": "execute_result",
          "data": {
            "text/plain": [
              "Date\n",
              "2017-02-01    30.341722\n",
              "2017-02-02    30.289881\n",
              "2017-02-03    30.419498\n",
              "2017-02-06    30.704649\n",
              "2017-02-07    30.996870\n",
              "                ...    \n",
              "2017-04-24    33.997513\n",
              "2017-04-25    34.208179\n",
              "2017-04-26    34.006996\n",
              "2017-04-27    34.033028\n",
              "2017-04-28    33.999889\n",
              "Name: Close, Length: 61, dtype: float64"
            ]
          },
          "metadata": {},
          "execution_count": 53
        }
      ]
    },
    {
      "cell_type": "code",
      "metadata": {
        "colab": {
          "base_uri": "https://localhost:8080/"
        },
        "id": "5Yv-N1oKAae7",
        "outputId": "feabf1ec-08d6-48af-f137-498916d4787c"
      },
      "source": [
        "#ejemplo propio\n",
        "ec['2020-3':'2020-6']"
      ],
      "execution_count": null,
      "outputs": [
        {
          "output_type": "execute_result",
          "data": {
            "text/plain": [
              "Date\n",
              "2020-03-02    16.177390\n",
              "2020-03-03    16.240971\n",
              "2020-03-04    16.186472\n",
              "2020-03-05    16.177389\n",
              "2020-03-06    15.841308\n",
              "                ...    \n",
              "2020-06-24    11.387181\n",
              "2020-06-25    10.900718\n",
              "2020-06-26    11.039708\n",
              "2020-06-29    10.980142\n",
              "2020-06-30    10.970214\n",
              "Name: Open, Length: 85, dtype: float64"
            ]
          },
          "metadata": {},
          "execution_count": 63
        }
      ]
    },
    {
      "cell_type": "markdown",
      "metadata": {
        "id": "nnNCyWpOl4hz"
      },
      "source": [
        ".head(N) and .tail(N) are methods for quickly accessing the first or last N elements."
      ]
    },
    {
      "cell_type": "code",
      "metadata": {
        "colab": {
          "base_uri": "https://localhost:8080/"
        },
        "id": "nSDAOtJ-A4Ne",
        "outputId": "3e6ceb4a-0a85-4a08-8ddb-3053c7a0c5dd"
      },
      "source": [
        "print(aapl.head(5))\n",
        "print(aapl.tail(10))"
      ],
      "execution_count": null,
      "outputs": [
        {
          "output_type": "stream",
          "name": "stdout",
          "text": [
            "Date\n",
            "2017-01-03    27.372364\n",
            "2017-01-04    27.341724\n",
            "2017-01-05    27.480768\n",
            "2017-01-06    27.787130\n",
            "2017-01-09    28.041647\n",
            "Name: Close, dtype: float64\n",
            "Date\n",
            "2017-12-15    41.657749\n",
            "2017-12-18    42.244404\n",
            "2017-12-19    41.794220\n",
            "2017-12-20    41.748734\n",
            "2017-12-21    41.906765\n",
            "2017-12-22    41.906765\n",
            "2017-12-26    40.843609\n",
            "2017-12-27    40.850784\n",
            "2017-12-28    40.965725\n",
            "2017-12-29    40.522732\n",
            "Name: Close, dtype: float64\n"
          ]
        }
      ]
    },
    {
      "cell_type": "code",
      "metadata": {
        "colab": {
          "base_uri": "https://localhost:8080/"
        },
        "id": "SUfvIEV3A6QZ",
        "outputId": "c59fad31-c599-4680-9e77-3c3f8bcdc9b6"
      },
      "source": [
        "#ejemplo propio\n",
        "print(ec.head(3))\n",
        "print(ec.tail(20))"
      ],
      "execution_count": null,
      "outputs": [
        {
          "output_type": "stream",
          "name": "stdout",
          "text": [
            "Date\n",
            "2020-01-02    18.302886\n",
            "2020-01-03    18.702551\n",
            "2020-01-06    18.620802\n",
            "Name: Open, dtype: float64\n",
            "Date\n",
            "2020-12-03    12.062270\n",
            "2020-12-04    12.310466\n",
            "2020-12-07    12.717506\n",
            "2020-12-08    12.558660\n",
            "2020-12-09    12.727433\n",
            "2020-12-10    12.777072\n",
            "2020-12-11    13.422379\n",
            "2020-12-14    13.501801\n",
            "2020-12-15    13.243679\n",
            "2020-12-16    13.412451\n",
            "2020-12-17    13.730140\n",
            "2020-12-18    13.680501\n",
            "2020-12-21    13.144401\n",
            "2020-12-22    12.925989\n",
            "2020-12-23    13.055050\n",
            "2020-12-24    13.074906\n",
            "2020-12-28    12.925990\n",
            "2020-12-29    12.995483\n",
            "2020-12-30    12.995484\n",
            "2020-12-31    12.935916\n",
            "Name: Open, dtype: float64\n"
          ]
        }
      ]
    },
    {
      "cell_type": "markdown",
      "metadata": {
        "id": "r4B8UlUcBI9B"
      },
      "source": [
        "##**Resampling**\n",
        "**_series.resample(freq)_** is a class called \"DatetimeIndexResampler\" which groups data in a Series object into regular time intervals. The argument \"freq\" determines the length of each interval.\n",
        "\n",
        "**_series.resample.mean()_** is a complete statement that groups data into intervals, and then compute the mean of each interval. For example, if we want to aggregate the daily data into monthly data by mean:"
      ]
    },
    {
      "cell_type": "code",
      "metadata": {
        "colab": {
          "base_uri": "https://localhost:8080/"
        },
        "id": "y_AUxxHzBV02",
        "outputId": "c6a54635-e893-431b-daf8-ea4191f26579"
      },
      "source": [
        "by_month = aapl.resample('M').mean()\n",
        "print(by_month)"
      ],
      "execution_count": null,
      "outputs": [
        {
          "output_type": "stream",
          "name": "stdout",
          "text": [
            "Date\n",
            "2017-01-31    28.178332\n",
            "2017-02-28    31.606276\n",
            "2017-03-31    33.282219\n",
            "2017-04-30    33.819263\n",
            "2017-05-31    36.125684\n",
            "2017-06-30    35.133982\n",
            "2017-07-31    35.245241\n",
            "2017-08-31    37.897228\n",
            "2017-09-30    37.604738\n",
            "2017-10-31    37.654550\n",
            "2017-11-30    41.233915\n",
            "2017-12-31    41.160037\n",
            "Freq: M, Name: Close, dtype: float64\n"
          ]
        }
      ]
    },
    {
      "cell_type": "code",
      "metadata": {
        "colab": {
          "base_uri": "https://localhost:8080/"
        },
        "id": "m4xyr9TiODTX",
        "outputId": "f0db0c76-d74e-410a-f993-b1a807e0fe26"
      },
      "source": [
        "#ejemplo propio\n",
        "by_quarter = ec.resample('Q').mean()\n",
        "print(by_quarter)"
      ],
      "execution_count": null,
      "outputs": [
        {
          "output_type": "stream",
          "name": "stdout",
          "text": [
            "Date\n",
            "2020-03-31    15.116253\n",
            "2020-06-30    10.584327\n",
            "2020-09-30    11.314118\n",
            "2020-12-31    11.187694\n",
            "Freq: Q-DEC, Name: Open, dtype: float64\n"
          ]
        }
      ]
    },
    {
      "cell_type": "markdown",
      "metadata": {
        "id": "LDbWgE_lPlXU"
      },
      "source": [
        "We can also aggregate the data by week:"
      ]
    },
    {
      "cell_type": "code",
      "metadata": {
        "colab": {
          "base_uri": "https://localhost:8080/"
        },
        "id": "08RV_fx3PV77",
        "outputId": "5ae2d75f-aaff-4366-f8e1-4dcd45faa4f0"
      },
      "source": [
        "by_week = aapl.resample('W').mean()\n",
        "print(by_week.head())"
      ],
      "execution_count": null,
      "outputs": [
        {
          "output_type": "stream",
          "name": "stdout",
          "text": [
            "Date\n",
            "2017-01-08    27.495497\n",
            "2017-01-15    28.097736\n",
            "2017-01-22    28.266114\n",
            "2017-01-29    28.553981\n",
            "2017-02-05    29.662543\n",
            "Freq: W-SUN, Name: Close, dtype: float64\n"
          ]
        }
      ]
    },
    {
      "cell_type": "code",
      "metadata": {
        "colab": {
          "base_uri": "https://localhost:8080/"
        },
        "id": "j1YZ_cA5PZic",
        "outputId": "671bbc68-d305-4abc-d36b-74a44d79ae11"
      },
      "source": [
        "#ejemplo propio\n",
        "by_year = ec.resample('Y').mean()\n",
        "print(by_year.head())"
      ],
      "execution_count": null,
      "outputs": [
        {
          "output_type": "stream",
          "name": "stdout",
          "text": [
            "Date\n",
            "2020-12-31    12.032159\n",
            "Freq: A-DEC, Name: Open, dtype: float64\n"
          ]
        }
      ]
    },
    {
      "cell_type": "markdown",
      "metadata": {
        "id": "fj_9nRIjPmka"
      },
      "source": [
        "We can also aggregate the data by month with max:"
      ]
    },
    {
      "cell_type": "code",
      "metadata": {
        "colab": {
          "base_uri": "https://localhost:8080/"
        },
        "id": "e-6QHt6VPssh",
        "outputId": "d172165c-739f-4337-cd16-7ba2c7b33b29"
      },
      "source": [
        "aapl.resample('M').max()"
      ],
      "execution_count": null,
      "outputs": [
        {
          "output_type": "execute_result",
          "data": {
            "text/plain": [
              "Date\n",
              "2017-01-31    28.739214\n",
              "2017-02-28    32.451969\n",
              "2017-03-31    34.111134\n",
              "2017-04-30    34.264977\n",
              "2017-05-31    37.099129\n",
              "2017-06-30    36.944649\n",
              "2017-07-31    36.471699\n",
              "2017-08-31    39.129723\n",
              "2017-09-30    39.141655\n",
              "2017-10-31    40.332245\n",
              "2017-11-30    42.050144\n",
              "2017-12-31    42.244404\n",
              "Freq: M, Name: Close, dtype: float64"
            ]
          },
          "metadata": {},
          "execution_count": 77
        }
      ]
    },
    {
      "cell_type": "code",
      "metadata": {
        "colab": {
          "base_uri": "https://localhost:8080/"
        },
        "id": "HEME3QNdPu0p",
        "outputId": "5895d5a4-e668-4ef9-ffb6-a6d817bedf8d"
      },
      "source": [
        "#ejemplo propio\n",
        "ec.resample('Q').max()"
      ],
      "execution_count": null,
      "outputs": [
        {
          "output_type": "execute_result",
          "data": {
            "text/plain": [
              "Date\n",
              "2020-03-31    19.029552\n",
              "2020-06-30    13.462091\n",
              "2020-09-30    12.191332\n",
              "2020-12-31    13.730140\n",
              "Freq: Q-DEC, Name: Open, dtype: float64"
            ]
          },
          "metadata": {},
          "execution_count": 78
        }
      ]
    },
    {
      "cell_type": "markdown",
      "metadata": {
        "id": "SGOY9SClP5zm"
      },
      "source": [
        "We can choose almost any frequency by using the format 'nf', where 'n' is an integer and 'f' is M for month, W for week and D for day."
      ]
    },
    {
      "cell_type": "code",
      "metadata": {
        "colab": {
          "base_uri": "https://localhost:8080/"
        },
        "id": "Vmb_agpIP6-s",
        "outputId": "3512eb26-59e3-479a-94fe-2523801adcc3"
      },
      "source": [
        "three_day = aapl.resample('3D').mean()\n",
        "two_week = aapl.resample('2W').mean()\n",
        "two_month = aapl.resample('2M').mean()\n",
        "\n",
        "\n",
        "print(three_day)\n",
        "print(two_week)\n",
        "print(two_month )"
      ],
      "execution_count": null,
      "outputs": [
        {
          "output_type": "stream",
          "name": "stdout",
          "text": [
            "Date\n",
            "2017-01-03    27.398286\n",
            "2017-01-06    27.787130\n",
            "2017-01-09    28.110777\n",
            "2017-01-12    28.078175\n",
            "2017-01-15    28.279665\n",
            "                ...    \n",
            "2017-12-17    42.019312\n",
            "2017-12-20    41.854088\n",
            "2017-12-23          NaN\n",
            "2017-12-26    40.886706\n",
            "2017-12-29    40.522732\n",
            "Freq: 3D, Name: Close, Length: 121, dtype: float64\n",
            "Date\n",
            "2017-01-08    27.495497\n",
            "2017-01-22    28.172571\n",
            "2017-02-05    29.108262\n",
            "2017-02-19    31.516816\n",
            "2017-03-05    32.595558\n",
            "2017-03-19    33.017881\n",
            "2017-04-02    33.625220\n",
            "2017-04-16    33.849729\n",
            "2017-04-30    33.791843\n",
            "2017-05-14    35.697631\n",
            "2017-05-28    36.496180\n",
            "2017-06-11    36.515006\n",
            "2017-06-25    34.529044\n",
            "2017-07-09    34.265135\n",
            "2017-07-23    35.278871\n",
            "2017-08-06    36.272776\n",
            "2017-08-20    37.904118\n",
            "2017-09-03    38.458793\n",
            "2017-09-17    38.282706\n",
            "2017-10-01    36.840876\n",
            "2017-10-15    37.071594\n",
            "2017-10-29    37.757322\n",
            "2017-11-12    41.032238\n",
            "2017-11-26    41.204376\n",
            "2017-12-10    40.867065\n",
            "2017-12-24    41.620864\n",
            "2018-01-07    40.795712\n",
            "Freq: 2W-SUN, Name: Close, dtype: float64\n",
            "Date\n",
            "2017-01-31    28.178332\n",
            "2017-03-31    32.524055\n",
            "2017-05-31    35.056855\n",
            "2017-07-31    35.186963\n",
            "2017-09-30    37.761187\n",
            "2017-11-30    39.402612\n",
            "2018-01-31    41.160037\n",
            "Freq: 2M, Name: Close, dtype: float64\n"
          ]
        }
      ]
    },
    {
      "cell_type": "code",
      "metadata": {
        "colab": {
          "base_uri": "https://localhost:8080/"
        },
        "id": "_9axoHZJQDSI",
        "outputId": "659641bf-3f98-4a4f-e1ce-f4ad3e839e1c"
      },
      "source": [
        "#ejemplo propio\n",
        "three_month = ec.resample('3M').mean()\n",
        "six_month = ec.resample('6M').mean()\n",
        "five_day = ec.resample('5D').mean()\n",
        "\n",
        "\n",
        "print(three_month)\n",
        "print(six_month)\n",
        "print(five_day )"
      ],
      "execution_count": null,
      "outputs": [
        {
          "output_type": "stream",
          "name": "stdout",
          "text": [
            "Date\n",
            "2020-01-31    18.152795\n",
            "2020-04-30    12.319835\n",
            "2020-07-31    11.179628\n",
            "2020-10-31    10.620879\n",
            "2021-01-31    11.996795\n",
            "Freq: 3M, Name: Open, dtype: float64\n",
            "Date\n",
            "2020-01-31    18.152795\n",
            "2020-07-31    11.740682\n",
            "2021-01-31    11.166053\n",
            "Freq: 6M, Name: Open, dtype: float64\n",
            "Date\n",
            "2020-01-02    18.542080\n",
            "2020-01-07    18.500449\n",
            "2020-01-12    18.800197\n",
            "2020-01-17    18.480011\n",
            "2020-01-22    18.018276\n",
            "                ...    \n",
            "2020-12-07    12.840610\n",
            "2020-12-12    13.385977\n",
            "2020-12-17    13.518347\n",
            "2020-12-22    13.018648\n",
            "2020-12-27    12.963218\n",
            "Freq: 5D, Name: Open, Length: 73, dtype: float64\n"
          ]
        }
      ]
    },
    {
      "cell_type": "markdown",
      "metadata": {
        "id": "mqj76mJuQe24"
      },
      "source": [
        "Besides the mean() method, other methods can also be used with the resampler:"
      ]
    },
    {
      "cell_type": "code",
      "metadata": {
        "colab": {
          "base_uri": "https://localhost:8080/"
        },
        "id": "jSownpAmQgX-",
        "outputId": "b297e4d2-d212-476f-e5bd-aac5157d0036"
      },
      "source": [
        "std = aapl.resample('W').std()\n",
        "max = aapl.resample('W').max()\n",
        "min = aapl.resample('W').min()\n",
        "\n",
        "\n",
        "print(std)\n",
        "print(max)\n",
        "print(min)"
      ],
      "execution_count": null,
      "outputs": [
        {
          "output_type": "stream",
          "name": "stdout",
          "text": [
            "Date\n",
            "2017-01-08    0.203367\n",
            "2017-01-15    0.072530\n",
            "2017-01-22    0.025554\n",
            "2017-01-29    0.245286\n",
            "2017-02-05    0.943260\n",
            "2017-02-12    0.251999\n",
            "2017-02-19    0.231390\n",
            "2017-02-26    0.059346\n",
            "2017-03-05    0.340087\n",
            "2017-03-12    0.076288\n",
            "2017-03-19    0.177833\n",
            "2017-03-26    0.157263\n",
            "2017-04-02    0.319806\n",
            "2017-04-09    0.128689\n",
            "2017-04-16    0.212477\n",
            "2017-04-23    0.174677\n",
            "2017-04-30    0.090028\n",
            "2017-05-07    0.235640\n",
            "2017-05-14    0.352978\n",
            "2017-05-21    0.536095\n",
            "2017-05-28    0.060395\n",
            "2017-06-04    0.281222\n",
            "2017-06-11    0.620034\n",
            "2017-06-18    0.382564\n",
            "2017-06-25    0.128893\n",
            "2017-07-02    0.264106\n",
            "2017-07-09    0.158891\n",
            "2017-07-16    0.404281\n",
            "2017-07-23    0.124994\n",
            "2017-07-30    0.384439\n",
            "2017-08-06    0.924391\n",
            "2017-08-13    0.467470\n",
            "2017-08-20    0.435254\n",
            "2017-08-27    0.275770\n",
            "2017-09-03    0.251720\n",
            "2017-09-10    0.381634\n",
            "2017-09-17    0.294141\n",
            "2017-09-24    0.735191\n",
            "2017-10-01    0.354845\n",
            "2017-10-08    0.204854\n",
            "2017-10-15    0.118731\n",
            "2017-10-22    0.516997\n",
            "2017-10-29    0.680452\n",
            "2017-11-05    0.560681\n",
            "2017-11-12    0.190973\n",
            "2017-11-19    0.436202\n",
            "2017-11-26    0.563044\n",
            "2017-12-03    0.427443\n",
            "2017-12-10    0.073128\n",
            "2017-12-17    0.205266\n",
            "2017-12-24    0.194127\n",
            "2017-12-31    0.190394\n",
            "Freq: W-SUN, Name: Close, dtype: float64\n",
            "Date\n",
            "2017-01-08    27.787130\n",
            "2017-01-15    28.220755\n",
            "2017-01-22    28.279665\n",
            "2017-01-29    28.739214\n",
            "2017-02-05    30.419498\n",
            "2017-02-12    31.341906\n",
            "2017-02-19    32.122974\n",
            "2017-02-26    32.451969\n",
            "2017-03-05    33.086285\n",
            "2017-03-12    33.022381\n",
            "2017-03-19    33.299301\n",
            "2017-03-26    33.481548\n",
            "2017-04-02    34.111134\n",
            "2017-04-09    34.264977\n",
            "2017-04-16    33.886288\n",
            "2017-04-23    33.713505\n",
            "2017-04-30    34.208179\n",
            "2017-05-07    35.256691\n",
            "2017-05-14    37.099129\n",
            "2017-05-21    37.004074\n",
            "2017-05-28    36.597660\n",
            "2017-06-04    36.944649\n",
            "2017-06-11    36.925629\n",
            "2017-06-18    34.838955\n",
            "2017-06-25    34.779545\n",
            "2017-07-02    34.658337\n",
            "2017-07-09    34.266186\n",
            "2017-07-16    35.421227\n",
            "2017-07-23    35.891808\n",
            "2017-07-30    36.471699\n",
            "2017-08-06    37.346291\n",
            "2017-08-13    38.277935\n",
            "2017-08-20    38.557102\n",
            "2017-08-27    38.170563\n",
            "2017-09-03    39.141655\n",
            "2017-09-10    38.671619\n",
            "2017-09-17    38.533226\n",
            "2017-09-24    37.872330\n",
            "2017-10-01    36.798645\n",
            "2017-10-08    37.075413\n",
            "2017-10-15    37.457165\n",
            "2017-10-22    38.287483\n",
            "2017-10-29    38.903053\n",
            "2017-11-05    41.157784\n",
            "2017-11-12    42.050144\n",
            "2017-11-19    41.657749\n",
            "2017-11-26    41.897198\n",
            "2017-12-03    41.686470\n",
            "2017-12-10    40.659218\n",
            "2017-12-17    41.657749\n",
            "2017-12-24    42.244404\n",
            "2017-12-31    40.965725\n",
            "Freq: W-SUN, Name: Close, dtype: float64\n",
            "Date\n",
            "2017-01-08    27.341724\n",
            "2017-01-15    28.041647\n",
            "2017-01-22    28.227819\n",
            "2017-01-29    28.272598\n",
            "2017-02-05    28.597815\n",
            "2017-02-12    30.704649\n",
            "2017-02-19    31.547832\n",
            "2017-02-26    32.314686\n",
            "2017-03-05    32.409367\n",
            "2017-03-12    32.823555\n",
            "2017-03-19    32.896938\n",
            "2017-03-26    33.098122\n",
            "2017-04-02    33.344276\n",
            "2017-04-09    33.926510\n",
            "2017-04-16    33.384514\n",
            "2017-04-23    33.296925\n",
            "2017-04-30    33.997513\n",
            "2017-05-07    34.681541\n",
            "2017-05-14    36.215275\n",
            "2017-05-21    35.708801\n",
            "2017-05-28    36.443172\n",
            "2017-06-04    36.305336\n",
            "2017-06-11    35.406967\n",
            "2017-06-18    33.812256\n",
            "2017-06-25    34.463451\n",
            "2017-07-02    34.147366\n",
            "2017-07-09    33.921577\n",
            "2017-07-16    34.475327\n",
            "2017-07-23    35.544807\n",
            "2017-07-30    35.530563\n",
            "2017-08-06    35.347549\n",
            "2017-08-13    37.058708\n",
            "2017-08-20    37.578850\n",
            "2017-08-27    37.509647\n",
            "2017-09-03    38.526089\n",
            "2017-09-10    37.848473\n",
            "2017-09-17    37.764946\n",
            "2017-09-24    36.240337\n",
            "2017-10-01    35.920612\n",
            "2017-10-08    36.619698\n",
            "2017-10-15    37.182781\n",
            "2017-10-22    37.216190\n",
            "2017-10-29    37.261520\n",
            "2017-11-05    39.778706\n",
            "2017-11-12    41.575333\n",
            "2017-11-19    40.486813\n",
            "2017-11-26    40.702324\n",
            "2017-12-03    40.582596\n",
            "2017-12-10    40.470055\n",
            "2017-12-17    41.114189\n",
            "2017-12-24    41.748734\n",
            "2017-12-31    40.522732\n",
            "Freq: W-SUN, Name: Close, dtype: float64\n"
          ]
        }
      ]
    },
    {
      "cell_type": "code",
      "metadata": {
        "colab": {
          "base_uri": "https://localhost:8080/"
        },
        "id": "K0y5M1bsQhbN",
        "outputId": "676c0a72-26cc-4f36-984e-325825a4a351"
      },
      "source": [
        "#ejemplo propio\n",
        "y_std = ec.resample('Y').std()\n",
        "m_max = ec.resample('M').max()\n",
        "fday_min = ec.resample('5D').min()\n",
        "\n",
        "\n",
        "print(y_std)\n",
        "print(m_max)\n",
        "print(fday_min)"
      ],
      "execution_count": null,
      "outputs": [
        {
          "output_type": "stream",
          "name": "stdout",
          "text": [
            "Date\n",
            "2020-12-31    2.919654\n",
            "Freq: A-DEC, Name: Open, dtype: float64\n",
            "Date\n",
            "2020-01-31    19.029552\n",
            "2020-02-29    18.620803\n",
            "2020-03-31    16.240971\n",
            "2020-04-30    11.435898\n",
            "2020-05-31    10.811369\n",
            "2020-06-30    13.462091\n",
            "2020-07-31    12.191332\n",
            "2020-08-31    11.704870\n",
            "2020-09-30    11.794220\n",
            "2020-10-31    10.235557\n",
            "2020-11-30    12.300538\n",
            "2020-12-31    13.730140\n",
            "Freq: M, Name: Open, dtype: float64\n",
            "Date\n",
            "2020-01-02    18.302886\n",
            "2020-01-07    18.402803\n",
            "2020-01-12    18.675302\n",
            "2020-01-17    18.384635\n",
            "2020-01-22    17.821472\n",
            "                ...    \n",
            "2020-12-07    12.558660\n",
            "2020-12-12    13.243679\n",
            "2020-12-17    13.144401\n",
            "2020-12-22    12.925989\n",
            "2020-12-27    12.925990\n",
            "Freq: 5D, Name: Open, Length: 73, dtype: float64\n"
          ]
        }
      ]
    },
    {
      "cell_type": "markdown",
      "metadata": {
        "id": "aB2DuD54RA2I"
      },
      "source": [
        "Often we want to calculate monthly returns of a stock, based on prices on the last day of each month. To fetch those prices, we use the series.resample.agg() method:"
      ]
    },
    {
      "cell_type": "code",
      "metadata": {
        "colab": {
          "base_uri": "https://localhost:8080/"
        },
        "id": "gMgKb05BRCVK",
        "outputId": "c6592791-1818-4a31-ad5f-afaa32877ca5"
      },
      "source": [
        "last_day = aapl.resample('M').agg(lambda x: x[-1])\n",
        "print(last_day)"
      ],
      "execution_count": null,
      "outputs": [
        {
          "output_type": "stream",
          "name": "stdout",
          "text": [
            "Date\n",
            "2017-01-31    28.597815\n",
            "2017-02-28    32.423576\n",
            "2017-03-31    34.002258\n",
            "2017-04-30    33.999889\n",
            "2017-05-31    36.305336\n",
            "2017-06-30    34.228168\n",
            "2017-07-31    35.347549\n",
            "2017-08-31    39.129723\n",
            "2017-09-30    36.772400\n",
            "2017-10-31    40.332245\n",
            "2017-11-30    41.150101\n",
            "2017-12-31    40.522732\n",
            "Freq: M, Name: Close, dtype: float64\n"
          ]
        }
      ]
    },
    {
      "cell_type": "code",
      "metadata": {
        "colab": {
          "base_uri": "https://localhost:8080/"
        },
        "id": "_twJcruMRKDU",
        "outputId": "47920340-0791-4ebb-9c93-9bb15ce0b150"
      },
      "source": [
        "#ejemplo propio\n",
        "my_last_q_day = ec.resample('Q').agg(lambda x: x[-1])\n",
        "print(my_last_q_day)"
      ],
      "execution_count": null,
      "outputs": [
        {
          "output_type": "stream",
          "name": "stdout",
          "text": [
            "Date\n",
            "2020-03-31     8.547403\n",
            "2020-06-30    10.970214\n",
            "2020-09-30     9.759022\n",
            "2020-12-31    12.935916\n",
            "Freq: Q-DEC, Name: Open, dtype: float64\n"
          ]
        }
      ]
    },
    {
      "cell_type": "markdown",
      "metadata": {
        "id": "BsZEXJHhRm0Q"
      },
      "source": [
        "\n",
        "Or directly calculate the monthly rates of return using the data for the first day and the last day:"
      ]
    },
    {
      "cell_type": "code",
      "metadata": {
        "colab": {
          "base_uri": "https://localhost:8080/"
        },
        "id": "3CSDpaRuRoJa",
        "outputId": "9da07109-29fa-4571-8e11-913488a19934"
      },
      "source": [
        "monthly_return = aapl.resample('M').agg(lambda x: x[-1]/x[0] - 1)\n",
        "print(monthly_return)"
      ],
      "execution_count": null,
      "outputs": [
        {
          "output_type": "stream",
          "name": "stdout",
          "text": [
            "Date\n",
            "2017-01-31    0.044770\n",
            "2017-02-28    0.068614\n",
            "2017-03-31    0.027684\n",
            "2017-04-30   -0.000348\n",
            "2017-05-31    0.046463\n",
            "2017-06-30   -0.059799\n",
            "2017-07-31    0.036446\n",
            "2017-08-31    0.097261\n",
            "2017-09-30   -0.060530\n",
            "2017-10-31    0.099018\n",
            "2017-11-30    0.033422\n",
            "2017-12-31   -0.010640\n",
            "Freq: M, Name: Close, dtype: float64\n"
          ]
        }
      ]
    },
    {
      "cell_type": "code",
      "metadata": {
        "colab": {
          "base_uri": "https://localhost:8080/"
        },
        "id": "uMmg4R3nRrCi",
        "outputId": "cf8ac823-1267-4718-b84a-0733b66156bd"
      },
      "source": [
        "#Ejemplo propio\n",
        "weekly_return = ec.resample('W').agg(lambda x: x[-1]/x[0] - 1)\n",
        "print(weekly_return)"
      ],
      "execution_count": null,
      "outputs": [
        {
          "output_type": "stream",
          "name": "stdout",
          "text": [
            "Date\n",
            "2020-01-05    0.021836\n",
            "2020-01-12    0.000976\n",
            "2020-01-19   -0.012554\n",
            "2020-01-26   -0.030632\n",
            "2020-02-02   -0.033438\n",
            "2020-02-09    0.011333\n",
            "2020-02-16    0.065811\n",
            "2020-02-23    0.033540\n",
            "2020-03-01   -0.124236\n",
            "2020-03-08   -0.020775\n",
            "2020-03-15   -0.223704\n",
            "2020-03-22   -0.181111\n",
            "2020-03-29    0.332871\n",
            "2020-04-05    0.148796\n",
            "2020-04-12    0.101487\n",
            "2020-04-19   -0.129085\n",
            "2020-04-26    0.037737\n",
            "2020-05-03    0.085106\n",
            "2020-05-10    0.121344\n",
            "2020-05-17   -0.071090\n",
            "2020-05-24   -0.005758\n",
            "2020-05-31   -0.023213\n",
            "2020-06-07    0.205598\n",
            "2020-06-14   -0.151180\n",
            "2020-06-21    0.071625\n",
            "2020-06-28   -0.006256\n",
            "2020-07-05    0.028933\n",
            "2020-07-12   -0.047009\n",
            "2020-07-19    0.033130\n",
            "2020-07-26    0.008306\n",
            "2020-08-02   -0.026689\n",
            "2020-08-09   -0.009475\n",
            "2020-08-16    0.006098\n",
            "2020-08-23   -0.022511\n",
            "2020-08-30   -0.009641\n",
            "2020-09-06    0.014580\n",
            "2020-09-13   -0.033688\n",
            "2020-09-20    0.003636\n",
            "2020-09-27   -0.069124\n",
            "2020-10-04   -0.058532\n",
            "2020-10-11    0.041414\n",
            "2020-10-18   -0.032032\n",
            "2020-10-25    0.025747\n",
            "2020-11-01   -0.063278\n",
            "2020-11-08    0.040512\n",
            "2020-11-15    0.007477\n",
            "2020-11-22    0.018182\n",
            "2020-11-29    0.028216\n",
            "2020-12-06    0.032473\n",
            "2020-12-13    0.055425\n",
            "2020-12-20    0.013235\n",
            "2020-12-27   -0.005287\n",
            "2021-01-03    0.000768\n",
            "Freq: W-SUN, Name: Open, dtype: float64\n"
          ]
        }
      ]
    },
    {
      "cell_type": "markdown",
      "metadata": {
        "id": "0_a2-gvXTrgs"
      },
      "source": [
        "Series object also provides us some convenient methods to do some quick calculation."
      ]
    },
    {
      "cell_type": "code",
      "metadata": {
        "colab": {
          "base_uri": "https://localhost:8080/"
        },
        "id": "pPoXrpkTTs3v",
        "outputId": "3ec0b5da-5a33-4cf8-fe08-34536cc7f3e0"
      },
      "source": [
        "print(monthly_return.mean())\n",
        "print(monthly_return.std())\n",
        "print(monthly_return.max())"
      ],
      "execution_count": null,
      "outputs": [
        {
          "output_type": "stream",
          "name": "stdout",
          "text": [
            "0.026863334985461156\n",
            "0.05225856620903383\n",
            "0.09901840613238377\n"
          ]
        }
      ]
    },
    {
      "cell_type": "code",
      "metadata": {
        "colab": {
          "base_uri": "https://localhost:8080/"
        },
        "id": "QaKiIQUGTw_b",
        "outputId": "76401604-c70d-4d81-e3af-777588a3b603"
      },
      "source": [
        "#ejemplo propio\n",
        "\n",
        "print(weekly_return.mean())\n",
        "print(weekly_return.std())\n",
        "print(weekly_return.max())"
      ],
      "execution_count": null,
      "outputs": [
        {
          "output_type": "stream",
          "name": "stdout",
          "text": [
            "0.003884812731169461\n",
            "0.08717635573629277\n",
            "0.3328709342619438\n"
          ]
        }
      ]
    },
    {
      "cell_type": "markdown",
      "metadata": {
        "id": "x0i-q49MT7_4"
      },
      "source": [
        "\n",
        "Another two methods frequently used on Series are .diff() and .pct_change(). The former calculates the difference between consecutive elements, and the latter calculates the percentage change."
      ]
    },
    {
      "cell_type": "code",
      "metadata": {
        "colab": {
          "base_uri": "https://localhost:8080/"
        },
        "id": "pwAqRHIcUA0j",
        "outputId": "e841f196-640d-4e8e-a626-5a63d5b0619e"
      },
      "source": [
        "print(last_day.diff())\n",
        "print(last_day.pct_change())"
      ],
      "execution_count": null,
      "outputs": [
        {
          "output_type": "stream",
          "name": "stdout",
          "text": [
            "Date\n",
            "2017-01-31         NaN\n",
            "2017-02-28    3.825762\n",
            "2017-03-31    1.578682\n",
            "2017-04-30   -0.002369\n",
            "2017-05-31    2.305447\n",
            "2017-06-30   -2.077168\n",
            "2017-07-31    1.119381\n",
            "2017-08-31    3.782173\n",
            "2017-09-30   -2.357323\n",
            "2017-10-31    3.559845\n",
            "2017-11-30    0.817856\n",
            "2017-12-31   -0.627369\n",
            "Freq: M, Name: Close, dtype: float64\n",
            "Date\n",
            "2017-01-31         NaN\n",
            "2017-02-28    0.133778\n",
            "2017-03-31    0.048689\n",
            "2017-04-30   -0.000070\n",
            "2017-05-31    0.067807\n",
            "2017-06-30   -0.057214\n",
            "2017-07-31    0.032704\n",
            "2017-08-31    0.107000\n",
            "2017-09-30   -0.060244\n",
            "2017-10-31    0.096808\n",
            "2017-11-30    0.020278\n",
            "2017-12-31   -0.015246\n",
            "Freq: M, Name: Close, dtype: float64\n"
          ]
        }
      ]
    },
    {
      "cell_type": "code",
      "metadata": {
        "colab": {
          "base_uri": "https://localhost:8080/"
        },
        "id": "nDqqavR3UEFj",
        "outputId": "371eed36-e990-4e18-c2b7-710b060de921"
      },
      "source": [
        "#ejemplo propio\n",
        "print(my_last_q_day.diff())\n",
        "print(my_last_q_day.pct_change())"
      ],
      "execution_count": null,
      "outputs": [
        {
          "output_type": "stream",
          "name": "stdout",
          "text": [
            "Date\n",
            "2020-03-31         NaN\n",
            "2020-06-30    2.422811\n",
            "2020-09-30   -1.211191\n",
            "2020-12-31    3.176894\n",
            "Freq: Q-DEC, Name: Open, dtype: float64\n",
            "Date\n",
            "2020-03-31         NaN\n",
            "2020-06-30    0.283456\n",
            "2020-09-30   -0.110407\n",
            "2020-12-31    0.325534\n",
            "Freq: Q-DEC, Name: Open, dtype: float64\n"
          ]
        }
      ]
    },
    {
      "cell_type": "markdown",
      "metadata": {
        "id": "Y95071GIUQUI"
      },
      "source": [
        "Notice that we induced a NaN value while calculating percentage changes i.e. returns.\n",
        "\n",
        "When dealing with NaN values, we usually either removing the data point or fill it with a specific value. Here we fill it with 0:"
      ]
    },
    {
      "cell_type": "code",
      "metadata": {
        "colab": {
          "base_uri": "https://localhost:8080/"
        },
        "id": "RAbCcnM8UPHd",
        "outputId": "df7e11b6-a1cf-47a6-bfc0-8d53c8d1fe74"
      },
      "source": [
        "daily_return = last_day.pct_change()\n",
        "print(daily_return.fillna(0))"
      ],
      "execution_count": null,
      "outputs": [
        {
          "output_type": "stream",
          "name": "stdout",
          "text": [
            "Date\n",
            "2017-01-31    0.000000\n",
            "2017-02-28    0.133778\n",
            "2017-03-31    0.048689\n",
            "2017-04-30   -0.000070\n",
            "2017-05-31    0.067807\n",
            "2017-06-30   -0.057214\n",
            "2017-07-31    0.032704\n",
            "2017-08-31    0.107000\n",
            "2017-09-30   -0.060244\n",
            "2017-10-31    0.096808\n",
            "2017-11-30    0.020278\n",
            "2017-12-31   -0.015246\n",
            "Freq: M, Name: Close, dtype: float64\n"
          ]
        }
      ]
    },
    {
      "cell_type": "code",
      "metadata": {
        "colab": {
          "base_uri": "https://localhost:8080/"
        },
        "id": "G_u_s3hKUi5x",
        "outputId": "17971085-aead-43f7-e63b-aadd903eb45f"
      },
      "source": [
        "#ejemplo propio\n",
        "daily_quarter_return = my_last_q_day.pct_change()\n",
        "print(daily_quarter_return.fillna(0))"
      ],
      "execution_count": null,
      "outputs": [
        {
          "output_type": "stream",
          "name": "stdout",
          "text": [
            "Date\n",
            "2020-03-31    0.000000\n",
            "2020-06-30    0.283456\n",
            "2020-09-30   -0.110407\n",
            "2020-12-31    0.325534\n",
            "Freq: Q-DEC, Name: Open, dtype: float64\n"
          ]
        }
      ]
    },
    {
      "cell_type": "markdown",
      "metadata": {
        "id": "PvCJkMRfVHN5"
      },
      "source": [
        "Alternatively, we can fill a NaN with the next fitted value. This is called 'backward fill', or 'bfill' in short:"
      ]
    },
    {
      "cell_type": "code",
      "metadata": {
        "colab": {
          "base_uri": "https://localhost:8080/"
        },
        "id": "CJN6FYlEVMdE",
        "outputId": "3e8d7f51-7db4-41f2-fb7a-33fca1a2e97d"
      },
      "source": [
        "daily_return = last_day.pct_change()\n",
        "print(daily_return.fillna(method = 'bfill'))"
      ],
      "execution_count": null,
      "outputs": [
        {
          "output_type": "stream",
          "name": "stdout",
          "text": [
            "Date\n",
            "2017-01-31    0.133778\n",
            "2017-02-28    0.133778\n",
            "2017-03-31    0.048689\n",
            "2017-04-30   -0.000070\n",
            "2017-05-31    0.067807\n",
            "2017-06-30   -0.057214\n",
            "2017-07-31    0.032704\n",
            "2017-08-31    0.107000\n",
            "2017-09-30   -0.060244\n",
            "2017-10-31    0.096808\n",
            "2017-11-30    0.020278\n",
            "2017-12-31   -0.015246\n",
            "Freq: M, Name: Close, dtype: float64\n"
          ]
        }
      ]
    },
    {
      "cell_type": "code",
      "metadata": {
        "colab": {
          "base_uri": "https://localhost:8080/"
        },
        "id": "AdAhFFwFVtTt",
        "outputId": "0d27b368-1372-4f31-8aad-0ca20fc81890"
      },
      "source": [
        "#ejemplo propio\n",
        "daily_quarter_return = my_last_q_day.pct_change()\n",
        "print(daily_quarter_return.fillna(method = 'bfill'))"
      ],
      "execution_count": null,
      "outputs": [
        {
          "output_type": "stream",
          "name": "stdout",
          "text": [
            "Date\n",
            "2020-03-31    0.283456\n",
            "2020-06-30    0.283456\n",
            "2020-09-30   -0.110407\n",
            "2020-12-31    0.325534\n",
            "Freq: Q-DEC, Name: Open, dtype: float64\n"
          ]
        }
      ]
    },
    {
      "cell_type": "markdown",
      "metadata": {
        "id": "60snfx2vV_LG"
      },
      "source": [
        "As expected, since there is a 'backward fill' method, there must be a 'forward fill' method, or 'ffill' in short. However we can't use it here because the NaN is the first value.\n",
        "\n",
        "We can also simply remove NaN values by .**_dropna()_**"
      ]
    },
    {
      "cell_type": "code",
      "metadata": {
        "colab": {
          "base_uri": "https://localhost:8080/"
        },
        "id": "v4b_eR1EV-3W",
        "outputId": "da4a431c-ad6b-4c37-e59a-b450c9591fbc"
      },
      "source": [
        "daily_return = last_day.pct_change()\n",
        "daily_return.dropna()"
      ],
      "execution_count": null,
      "outputs": [
        {
          "output_type": "execute_result",
          "data": {
            "text/plain": [
              "Date\n",
              "2017-02-28    0.133778\n",
              "2017-03-31    0.048689\n",
              "2017-04-30   -0.000070\n",
              "2017-05-31    0.067807\n",
              "2017-06-30   -0.057214\n",
              "2017-07-31    0.032704\n",
              "2017-08-31    0.107000\n",
              "2017-09-30   -0.060244\n",
              "2017-10-31    0.096808\n",
              "2017-11-30    0.020278\n",
              "2017-12-31   -0.015246\n",
              "Freq: M, Name: Close, dtype: float64"
            ]
          },
          "metadata": {},
          "execution_count": 121
        }
      ]
    },
    {
      "cell_type": "code",
      "metadata": {
        "colab": {
          "base_uri": "https://localhost:8080/"
        },
        "id": "pBas2NkOWD4U",
        "outputId": "d7262468-c6e9-4bf5-a35d-9980d082ba77"
      },
      "source": [
        "#ejemplo propio\n",
        "daily_quarter_return = my_last_q_day.pct_change()\n",
        "daily_quarter_return.dropna()"
      ],
      "execution_count": null,
      "outputs": [
        {
          "output_type": "execute_result",
          "data": {
            "text/plain": [
              "Date\n",
              "2020-06-30    0.283456\n",
              "2020-09-30   -0.110407\n",
              "2020-12-31    0.325534\n",
              "Freq: Q-DEC, Name: Open, dtype: float64"
            ]
          },
          "metadata": {},
          "execution_count": 122
        }
      ]
    },
    {
      "cell_type": "markdown",
      "metadata": {
        "id": "2LMWA0MMWeHj"
      },
      "source": [
        "#**DataFrame**\n",
        "The **DataFrame** is the most commonly used data structure in Pandas. It is essentially a table, just like an Excel spreadsheet.\n",
        "\n",
        "More precisely, a DataFrame is a collection of Series objects, each of which may contain different data types. A DataFrame can be created from various data types: dictionary, 2-D numpy.ndarray, a Series or another DataFrame.\n",
        "\n",
        "##**Create DataFrames**\n",
        "The most common method of creating a DataFrame is passing a dictionary:"
      ]
    },
    {
      "cell_type": "code",
      "metadata": {
        "colab": {
          "base_uri": "https://localhost:8080/"
        },
        "id": "CCMogdaIWqgt",
        "outputId": "52b69c4a-170b-4b5a-f1b7-eebf7bb97480"
      },
      "source": [
        "import pandas as pd\n",
        "\n",
        "dict = {'AAPL': [143.5, 144.09, 142.73, 144.18, 143.77],'GOOG':[898.7, 911.71, 906.69, 918.59, 926.99],\n",
        "        'IBM':[155.58, 153.67, 152.36, 152.94, 153.49]}\n",
        "data_index = pd.date_range('2017-07-03',periods = 5, freq = 'D')\n",
        "df = pd.DataFrame(dict, index = data_index)\n",
        "print(df)"
      ],
      "execution_count": null,
      "outputs": [
        {
          "output_type": "stream",
          "name": "stdout",
          "text": [
            "              AAPL    GOOG     IBM\n",
            "2017-07-03  143.50  898.70  155.58\n",
            "2017-07-04  144.09  911.71  153.67\n",
            "2017-07-05  142.73  906.69  152.36\n",
            "2017-07-06  144.18  918.59  152.94\n",
            "2017-07-07  143.77  926.99  153.49\n"
          ]
        }
      ]
    },
    {
      "cell_type": "code",
      "metadata": {
        "colab": {
          "base_uri": "https://localhost:8080/"
        },
        "id": "CdR8wbLHWwMu",
        "outputId": "90795c0c-522e-4b1d-a505-9f898ef400f8"
      },
      "source": [
        "#ejemplo propio\n",
        "mydict = {'ALG': [917.5, 182.58, 131.32, 125.95, 196.42, 197.15],'GEMG':[854.47, 943.41, 974.45, 956.98, 852.67, 996.99],\n",
        "        'M&S':[545.58, 195.67, 152.36, 152.94, 181.12, 153.49]}\n",
        "my_data_index = pd.date_range('2021-09-08',periods = 6, freq = 'W')\n",
        "mydataframe = pd.DataFrame(mydict, index = my_data_index)\n",
        "print(mydataframe)"
      ],
      "execution_count": null,
      "outputs": [
        {
          "output_type": "stream",
          "name": "stdout",
          "text": [
            "               ALG    GEMG     M&S\n",
            "2021-09-12  917.50  854.47  545.58\n",
            "2021-09-19  182.58  943.41  195.67\n",
            "2021-09-26  131.32  974.45  152.36\n",
            "2021-10-03  125.95  956.98  152.94\n",
            "2021-10-10  196.42  852.67  181.12\n",
            "2021-10-17  197.15  996.99  153.49\n"
          ]
        }
      ]
    },
    {
      "cell_type": "markdown",
      "metadata": {
        "id": "RIuHUdAyYO6I"
      },
      "source": [
        "\n",
        "##**Manipulating DataFrames**\n",
        "We can fetch values in a DataFrame by columns and index. Each column in a DataFrame is essentially a Pandas Series. We can fetch a column by square brackets: **df['column_name']**\n",
        "\n",
        "If a column name contains no spaces, then we can also use df.column_name to fetch a column:"
      ]
    },
    {
      "cell_type": "code",
      "metadata": {
        "colab": {
          "base_uri": "https://localhost:8080/"
        },
        "id": "4OO0U5HZYea-",
        "outputId": "c3de32c0-3087-4214-c8e2-6b04bfa7cab6"
      },
      "source": [
        "df = aapl_table\n",
        "print(df.Close.tail(5))\n",
        "print(df['Volume'].tail(5))"
      ],
      "execution_count": null,
      "outputs": [
        {
          "output_type": "stream",
          "name": "stdout",
          "text": [
            "Date\n",
            "2017-12-22    41.906765\n",
            "2017-12-26    40.843609\n",
            "2017-12-27    40.850784\n",
            "2017-12-28    40.965725\n",
            "2017-12-29    40.522732\n",
            "Name: Close, dtype: float64\n",
            "Date\n",
            "2017-12-22     65397600\n",
            "2017-12-26    132742000\n",
            "2017-12-27     85992800\n",
            "2017-12-28     65920800\n",
            "2017-12-29    103999600\n",
            "Name: Volume, dtype: int64\n"
          ]
        }
      ]
    },
    {
      "cell_type": "code",
      "metadata": {
        "colab": {
          "base_uri": "https://localhost:8080/"
        },
        "id": "lMFVKpmqYfcL",
        "outputId": "7d4162b2-8fe2-4666-e68d-2b84448583f5"
      },
      "source": [
        "#ejemplo propio\n",
        "mydataframe = tabla_ec\n",
        "print(mydataframe.Open.head(6))\n",
        "print(mydataframe['Volume'].head(6))"
      ],
      "execution_count": null,
      "outputs": [
        {
          "output_type": "stream",
          "name": "stdout",
          "text": [
            "Date\n",
            "2018-12-31    13.339983\n",
            "2019-01-02    12.845910\n",
            "2019-01-03    13.636428\n",
            "2019-01-04    13.899932\n",
            "2019-01-07    14.394006\n",
            "2019-01-08    14.846909\n",
            "Name: Open, dtype: float64\n",
            "Date\n",
            "2018-12-31     560500\n",
            "2019-01-02    1087400\n",
            "2019-01-03    1099200\n",
            "2019-01-04    1240100\n",
            "2019-01-07     586500\n",
            "2019-01-08     760000\n",
            "Name: Volume, dtype: int64\n"
          ]
        }
      ]
    },
    {
      "cell_type": "markdown",
      "metadata": {
        "id": "0Yara-hUZFr8"
      },
      "source": [
        "All the methods we applied to a Series index such as iloc[], loc[] and resampling methods, can also be applied to a DataFrame:"
      ]
    },
    {
      "cell_type": "code",
      "metadata": {
        "colab": {
          "base_uri": "https://localhost:8080/"
        },
        "id": "IUx6jgu6ZJpW",
        "outputId": "7f1e8b82-45ac-4f19-a1d2-7b6d4be34f7d"
      },
      "source": [
        "aapl_2016 = df['2016']\n",
        "aapl_month = aapl_2016.resample('M').agg(lambda x: x[-1])\n",
        "print(aapl_month)"
      ],
      "execution_count": null,
      "outputs": [
        {
          "output_type": "stream",
          "name": "stdout",
          "text": [
            "                 Open       High        Low  ...     Volume  Dividends  Stock Splits\n",
            "Date                                         ...                                    \n",
            "2016-01-31  21.852382  22.440245  21.750946  ...  257666000        0.0             0\n",
            "2016-02-29  22.450755  22.768302  22.402081  ...  140865200        0.0             0\n",
            "2016-03-31  25.431516  25.473238  25.236815  ...  103553600        0.0             0\n",
            "2016-04-30  21.785529  21.954734  21.442488  ...  274126000        0.0             0\n",
            "2016-05-31  23.226403  23.412961  23.044510  ...  169228800        0.0             0\n",
            "2016-06-30  22.023108  22.333258  21.990461  ...  143345600        0.0             0\n",
            "2016-07-31  24.296776  24.380727  24.177845  ...  110934800        0.0             0\n",
            "2016-08-31  24.773056  24.986413  24.768365  ...  118649600        0.0             0\n",
            "2016-09-30  26.367386  26.580745  26.212643  ...  145516400        0.0             0\n",
            "2016-10-31  26.646396  26.782384  26.540888  ...  105677600        0.0             0\n",
            "2016-11-30  26.300088  26.441486  25.986654  ...  144649200        0.0             0\n",
            "2016-12-31  27.490193  27.619807  27.202683  ...  122345200        0.0             0\n",
            "\n",
            "[12 rows x 7 columns]\n"
          ]
        }
      ]
    },
    {
      "cell_type": "code",
      "metadata": {
        "colab": {
          "base_uri": "https://localhost:8080/"
        },
        "id": "yDljtvjrZKSf",
        "outputId": "03c6d4b7-a82f-4edc-e7e3-9a47d18cb8d0"
      },
      "source": [
        "#ejemplo propio\n",
        "ec_2020 = mydataframe['2020']\n",
        "ec_quarter = ec_2020.resample('Q').agg(lambda x: x[-1])\n",
        "print(ec_quarter)"
      ],
      "execution_count": null,
      "outputs": [
        {
          "output_type": "stream",
          "name": "stdout",
          "text": [
            "                 Open       High        Low  ...   Volume  Dividends  Stock Splits\n",
            "Date                                         ...                                  \n",
            "2020-03-31   8.547403   8.919818   8.538319  ...  2501300        0.0             0\n",
            "2020-06-30  10.970214  11.129058  10.781585  ...   863400        0.0             0\n",
            "2020-09-30   9.759022   9.898012   9.729239  ...   964900        0.0             0\n",
            "2020-12-31  12.935916  13.015339  12.727433  ...   602100        0.0             0\n",
            "\n",
            "[4 rows x 7 columns]\n"
          ]
        }
      ]
    },
    {
      "cell_type": "markdown",
      "metadata": {
        "id": "Zy-nCBgQZuRi"
      },
      "source": [
        "We may select certain columns of a DataFrame using their names:"
      ]
    },
    {
      "cell_type": "code",
      "metadata": {
        "colab": {
          "base_uri": "https://localhost:8080/"
        },
        "id": "kXPN74VHZwgy",
        "outputId": "12a4131c-a3f7-448a-981e-2cebc85503ad"
      },
      "source": [
        "aapl_bar = aapl_month[['Open', 'High', 'Low', 'Close']]\n",
        "print(aapl_bar)"
      ],
      "execution_count": null,
      "outputs": [
        {
          "output_type": "stream",
          "name": "stdout",
          "text": [
            "                 Open       High        Low      Close\n",
            "Date                                                  \n",
            "2016-01-31  21.852382  22.440245  21.750946  22.440245\n",
            "2016-02-29  22.450755  22.768302  22.402081  22.411352\n",
            "2016-03-31  25.431516  25.473238  25.236815  25.262312\n",
            "2016-04-30  21.785529  21.954734  21.442488  21.727583\n",
            "2016-05-31  23.226403  23.412961  23.044510  23.287035\n",
            "2016-06-30  22.023108  22.333258  21.990461  22.293615\n",
            "2016-07-31  24.296776  24.380727  24.177845  24.301439\n",
            "2016-08-31  24.773056  24.986413  24.768365  24.876217\n",
            "2016-09-30  26.367386  26.580745  26.212643  26.505718\n",
            "2016-10-31  26.646396  26.782384  26.540888  26.620605\n",
            "2016-11-30  26.300088  26.441486  25.986654  26.045570\n",
            "2016-12-31  27.490193  27.619807  27.202683  27.294592\n"
          ]
        }
      ]
    },
    {
      "cell_type": "code",
      "metadata": {
        "colab": {
          "base_uri": "https://localhost:8080/"
        },
        "id": "v_ZLTmHNZxO3",
        "outputId": "6870001a-30ae-4e7c-fe58-f707b1977c6b"
      },
      "source": [
        "#ejemplo propio\n",
        "ec_bar = ec_quarter[['Open', 'Close', 'Volume']]\n",
        "print(ec_bar)"
      ],
      "execution_count": null,
      "outputs": [
        {
          "output_type": "stream",
          "name": "stdout",
          "text": [
            "                 Open      Close   Volume\n",
            "Date                                     \n",
            "2020-03-31   8.547403   8.638236  2501300\n",
            "2020-06-30  10.970214  11.049636   863400\n",
            "2020-09-30   9.759022   9.768950   964900\n",
            "2020-12-31  12.935916  12.816783   602100\n"
          ]
        }
      ]
    },
    {
      "cell_type": "markdown",
      "metadata": {
        "id": "Q2xDRKf2aTj0"
      },
      "source": [
        "We can even specify both rows and columns using loc[]. The row indices and column names are separated by a comma:"
      ]
    },
    {
      "cell_type": "code",
      "metadata": {
        "colab": {
          "base_uri": "https://localhost:8080/"
        },
        "id": "9THLWrZfaVQ5",
        "outputId": "e679ed96-6cd2-4651-b786-31b908c2705b"
      },
      "source": [
        "print(aapl_month.loc['2016-03':'2016-06',['Open', 'High', 'Low', 'Close']])"
      ],
      "execution_count": null,
      "outputs": [
        {
          "output_type": "stream",
          "name": "stdout",
          "text": [
            "                 Open       High        Low      Close\n",
            "Date                                                  \n",
            "2016-03-31  25.431516  25.473238  25.236815  25.262312\n",
            "2016-04-30  21.785529  21.954734  21.442488  21.727583\n",
            "2016-05-31  23.226403  23.412961  23.044510  23.287035\n",
            "2016-06-30  22.023108  22.333258  21.990461  22.293615\n"
          ]
        }
      ]
    },
    {
      "cell_type": "code",
      "metadata": {
        "colab": {
          "base_uri": "https://localhost:8080/"
        },
        "id": "D7iEnHGKaWS-",
        "outputId": "b1128782-afaa-4e77-97c1-d403dcb20379"
      },
      "source": [
        "#ejemplo propio\n",
        "print(ec_quarter.loc['2020-09':'2020-12',['Open', 'High', 'Low', 'Close','Volume']])"
      ],
      "execution_count": null,
      "outputs": [
        {
          "output_type": "stream",
          "name": "stdout",
          "text": [
            "                 Open       High        Low      Close  Volume\n",
            "Date                                                          \n",
            "2020-09-30   9.759022   9.898012   9.729239   9.768950  964900\n",
            "2020-12-31  12.935916  13.015339  12.727433  12.816783  602100\n"
          ]
        }
      ]
    },
    {
      "cell_type": "markdown",
      "metadata": {
        "id": "kau5rFuIa95w"
      },
      "source": [
        "The subset methods in DataFrame is quite useful. By writing logical statements in square brackets, we can make customized subsets:"
      ]
    },
    {
      "cell_type": "code",
      "metadata": {
        "colab": {
          "base_uri": "https://localhost:8080/"
        },
        "id": "tyqcymd9a_qW",
        "outputId": "962557c7-17d5-4c9a-d8af-7ee89330ad7f"
      },
      "source": [
        "import numpy as np\n",
        "\n",
        "above = aapl_bar[aapl_bar.Close > np.mean(aapl_bar.Close)]\n",
        "print(above)"
      ],
      "execution_count": null,
      "outputs": [
        {
          "output_type": "stream",
          "name": "stdout",
          "text": [
            "                 Open       High        Low      Close\n",
            "Date                                                  \n",
            "2016-03-31  25.431516  25.473238  25.236815  25.262312\n",
            "2016-08-31  24.773056  24.986413  24.768365  24.876217\n",
            "2016-09-30  26.367386  26.580745  26.212643  26.505718\n",
            "2016-10-31  26.646396  26.782384  26.540888  26.620605\n",
            "2016-11-30  26.300088  26.441486  25.986654  26.045570\n",
            "2016-12-31  27.490193  27.619807  27.202683  27.294592\n"
          ]
        }
      ]
    },
    {
      "cell_type": "code",
      "metadata": {
        "colab": {
          "base_uri": "https://localhost:8080/"
        },
        "id": "PM_Rb_OQbAzr",
        "outputId": "3a585987-0582-42ab-ddcc-7530fbed340c"
      },
      "source": [
        "#ejemplo propio\n",
        "below = ec_bar[ec_bar.Close < np.mean(ec_bar.Close)]\n",
        "print(below)"
      ],
      "execution_count": null,
      "outputs": [
        {
          "output_type": "stream",
          "name": "stdout",
          "text": [
            "                Open     Close   Volume\n",
            "Date                                   \n",
            "2020-03-31  8.547403  8.638236  2501300\n",
            "2020-09-30  9.759022  9.768950   964900\n"
          ]
        }
      ]
    },
    {
      "cell_type": "markdown",
      "metadata": {
        "id": "WKHkZseObg5J"
      },
      "source": [
        "##**Data Validation**\n",
        "As mentioned, all methods that apply to a Series can also be applied to a DataFrame. Here we add a new column to an existing DataFrame:"
      ]
    },
    {
      "cell_type": "code",
      "metadata": {
        "colab": {
          "base_uri": "https://localhost:8080/"
        },
        "id": "7WcNTB-3bquM",
        "outputId": "d9ebbe2e-340e-4438-83a0-b6cd20737394"
      },
      "source": [
        "aapl_bar['rate_return'] = aapl_bar.Close.pct_change()\n",
        "print(aapl_bar)"
      ],
      "execution_count": null,
      "outputs": [
        {
          "output_type": "stream",
          "name": "stdout",
          "text": [
            "                 Open       High        Low      Close  rate_return\n",
            "Date                                                               \n",
            "2016-01-31  21.852382  22.440245  21.750946  22.440245          NaN\n",
            "2016-02-29  22.450755  22.768302  22.402081  22.411352    -0.001288\n",
            "2016-03-31  25.431516  25.473238  25.236815  25.262312     0.127211\n",
            "2016-04-30  21.785529  21.954734  21.442488  21.727583    -0.139921\n",
            "2016-05-31  23.226403  23.412961  23.044510  23.287035     0.071773\n",
            "2016-06-30  22.023108  22.333258  21.990461  22.293615    -0.042660\n",
            "2016-07-31  24.296776  24.380727  24.177845  24.301439     0.090063\n",
            "2016-08-31  24.773056  24.986413  24.768365  24.876217     0.023652\n",
            "2016-09-30  26.367386  26.580745  26.212643  26.505718     0.065504\n",
            "2016-10-31  26.646396  26.782384  26.540888  26.620605     0.004334\n",
            "2016-11-30  26.300088  26.441486  25.986654  26.045570    -0.021601\n",
            "2016-12-31  27.490193  27.619807  27.202683  27.294592     0.047955\n"
          ]
        },
        {
          "output_type": "stream",
          "name": "stderr",
          "text": [
            "/usr/local/lib/python3.7/dist-packages/ipykernel_launcher.py:1: SettingWithCopyWarning: \n",
            "A value is trying to be set on a copy of a slice from a DataFrame.\n",
            "Try using .loc[row_indexer,col_indexer] = value instead\n",
            "\n",
            "See the caveats in the documentation: https://pandas.pydata.org/pandas-docs/stable/user_guide/indexing.html#returning-a-view-versus-a-copy\n",
            "  \"\"\"Entry point for launching an IPython kernel.\n"
          ]
        }
      ]
    },
    {
      "cell_type": "code",
      "metadata": {
        "colab": {
          "base_uri": "https://localhost:8080/"
        },
        "id": "J995W8BKbrUi",
        "outputId": "f35947c5-7fc4-4426-d003-5b9b88ab007e"
      },
      "source": [
        "#ejemplo propio\n",
        "ec_bar['rate_return'] = ec_bar.Close.pct_change()\n",
        "print(ec_bar)"
      ],
      "execution_count": null,
      "outputs": [
        {
          "output_type": "stream",
          "name": "stdout",
          "text": [
            "                 Open      Close   Volume  rate_return\n",
            "Date                                                  \n",
            "2020-03-31   8.547403   8.638236  2501300          NaN\n",
            "2020-06-30  10.970214  11.049636   863400     0.279154\n",
            "2020-09-30   9.759022   9.768950   964900    -0.115903\n",
            "2020-12-31  12.935916  12.816783   602100     0.311992\n"
          ]
        },
        {
          "output_type": "stream",
          "name": "stderr",
          "text": [
            "/usr/local/lib/python3.7/dist-packages/ipykernel_launcher.py:2: SettingWithCopyWarning: \n",
            "A value is trying to be set on a copy of a slice from a DataFrame.\n",
            "Try using .loc[row_indexer,col_indexer] = value instead\n",
            "\n",
            "See the caveats in the documentation: https://pandas.pydata.org/pandas-docs/stable/user_guide/indexing.html#returning-a-view-versus-a-copy\n",
            "  \n"
          ]
        }
      ]
    },
    {
      "cell_type": "markdown",
      "metadata": {
        "id": "wI_9uOlBb_Jo"
      },
      "source": [
        "Here the calculation introduced a NaN value. If the DataFrame is large, we would not be able to observe it. **isnull()** provides a convenient way to check abnormal values."
      ]
    },
    {
      "cell_type": "code",
      "metadata": {
        "colab": {
          "base_uri": "https://localhost:8080/"
        },
        "id": "F6O3lHsycDTK",
        "outputId": "a372d771-7dbb-4da1-b842-361b2db3a2b8"
      },
      "source": [
        "missing = aapl_bar.isnull()\n",
        "print(missing)\n",
        "print('---------------------------------------------')\n",
        "print(missing.describe())"
      ],
      "execution_count": null,
      "outputs": [
        {
          "output_type": "stream",
          "name": "stdout",
          "text": [
            "             Open   High    Low  Close  rate_return\n",
            "Date                                               \n",
            "2016-01-31  False  False  False  False         True\n",
            "2016-02-29  False  False  False  False        False\n",
            "2016-03-31  False  False  False  False        False\n",
            "2016-04-30  False  False  False  False        False\n",
            "2016-05-31  False  False  False  False        False\n",
            "2016-06-30  False  False  False  False        False\n",
            "2016-07-31  False  False  False  False        False\n",
            "2016-08-31  False  False  False  False        False\n",
            "2016-09-30  False  False  False  False        False\n",
            "2016-10-31  False  False  False  False        False\n",
            "2016-11-30  False  False  False  False        False\n",
            "2016-12-31  False  False  False  False        False\n",
            "---------------------------------------------\n",
            "         Open   High    Low  Close rate_return\n",
            "count      12     12     12     12          12\n",
            "unique      1      1      1      1           2\n",
            "top     False  False  False  False       False\n",
            "freq       12     12     12     12          11\n"
          ]
        }
      ]
    },
    {
      "cell_type": "code",
      "metadata": {
        "colab": {
          "base_uri": "https://localhost:8080/"
        },
        "id": "EKyI-npOcEoS",
        "outputId": "3ff6ad8b-1b50-448e-cc7d-b1d64825890d"
      },
      "source": [
        "#ejemplo propio\n",
        "mymissing = ec_bar.isnull()\n",
        "print(mymissing)\n",
        "print('********************************************')\n",
        "print(mymissing.describe())"
      ],
      "execution_count": null,
      "outputs": [
        {
          "output_type": "stream",
          "name": "stdout",
          "text": [
            "             Open  Close  Volume  rate_return\n",
            "Date                                         \n",
            "2020-03-31  False  False   False         True\n",
            "2020-06-30  False  False   False        False\n",
            "2020-09-30  False  False   False        False\n",
            "2020-12-31  False  False   False        False\n",
            "********************************************\n",
            "         Open  Close Volume rate_return\n",
            "count       4      4      4           4\n",
            "unique      1      1      1           2\n",
            "top     False  False  False       False\n",
            "freq        4      4      4           3\n"
          ]
        }
      ]
    },
    {
      "cell_type": "markdown",
      "metadata": {
        "id": "3vROu_tVciYr"
      },
      "source": [
        "The row labelled \"unique\" indicates the number of unique values in each column. Since the \"rate_return\" column has 2 unique values, it has at least one missing value.\n",
        "\n",
        "We can deduce the number of missing values by comparing \"count\" with \"freq\". There are 12 counts and 11 False values, so there is one True value which corresponds to the missing value.\n",
        "\n",
        "We can also find the rows with missing values easily:"
      ]
    },
    {
      "cell_type": "code",
      "metadata": {
        "colab": {
          "base_uri": "https://localhost:8080/"
        },
        "id": "X35ujGuAcljB",
        "outputId": "09a6d257-750b-467f-f02d-6b377cf34ff0"
      },
      "source": [
        "print(missing[missing.rate_return == True])"
      ],
      "execution_count": null,
      "outputs": [
        {
          "output_type": "stream",
          "name": "stdout",
          "text": [
            "             Open   High    Low  Close  rate_return\n",
            "Date                                               \n",
            "2016-01-31  False  False  False  False         True\n"
          ]
        }
      ]
    },
    {
      "cell_type": "code",
      "metadata": {
        "colab": {
          "base_uri": "https://localhost:8080/"
        },
        "id": "-8WJ5DUNdANW",
        "outputId": "f21cb039-957a-4ef3-cc6b-36dd0c99ce67"
      },
      "source": [
        "#ejemplo propio\n",
        "print(mymissing[mymissing.rate_return == True])"
      ],
      "execution_count": null,
      "outputs": [
        {
          "output_type": "stream",
          "name": "stdout",
          "text": [
            "             Open  Close  Volume  rate_return\n",
            "Date                                         \n",
            "2020-03-31  False  False   False         True\n"
          ]
        }
      ]
    },
    {
      "cell_type": "markdown",
      "metadata": {
        "id": "8J2HPK0ydNEa"
      },
      "source": [
        "\n",
        "Usually when dealing with missing data, we either delete the whole row or fill it with some value. As we introduced in the Series chapter, the same method **dropna()** and **fillna()** can be applied to a DataFrame."
      ]
    },
    {
      "cell_type": "code",
      "metadata": {
        "colab": {
          "base_uri": "https://localhost:8080/"
        },
        "id": "EClVc49BdRFU",
        "outputId": "3eaed823-8052-4052-ece0-6e28d55c5ee8"
      },
      "source": [
        "drop = aapl_bar.dropna()\n",
        "print(drop)\n",
        "print('\\n--------------------------------------------------\\n')\n",
        "fill = aapl_bar.fillna(0)\n",
        "print(fill)"
      ],
      "execution_count": null,
      "outputs": [
        {
          "output_type": "stream",
          "name": "stdout",
          "text": [
            "                 Open       High        Low      Close  rate_return\n",
            "Date                                                               \n",
            "2016-02-29  22.450755  22.768302  22.402081  22.411352    -0.001288\n",
            "2016-03-31  25.431516  25.473238  25.236815  25.262312     0.127211\n",
            "2016-04-30  21.785529  21.954734  21.442488  21.727583    -0.139921\n",
            "2016-05-31  23.226403  23.412961  23.044510  23.287035     0.071773\n",
            "2016-06-30  22.023108  22.333258  21.990461  22.293615    -0.042660\n",
            "2016-07-31  24.296776  24.380727  24.177845  24.301439     0.090063\n",
            "2016-08-31  24.773056  24.986413  24.768365  24.876217     0.023652\n",
            "2016-09-30  26.367386  26.580745  26.212643  26.505718     0.065504\n",
            "2016-10-31  26.646396  26.782384  26.540888  26.620605     0.004334\n",
            "2016-11-30  26.300088  26.441486  25.986654  26.045570    -0.021601\n",
            "2016-12-31  27.490193  27.619807  27.202683  27.294592     0.047955\n",
            "\n",
            "--------------------------------------------------\n",
            "\n",
            "                 Open       High        Low      Close  rate_return\n",
            "Date                                                               \n",
            "2016-01-31  21.852382  22.440245  21.750946  22.440245     0.000000\n",
            "2016-02-29  22.450755  22.768302  22.402081  22.411352    -0.001288\n",
            "2016-03-31  25.431516  25.473238  25.236815  25.262312     0.127211\n",
            "2016-04-30  21.785529  21.954734  21.442488  21.727583    -0.139921\n",
            "2016-05-31  23.226403  23.412961  23.044510  23.287035     0.071773\n",
            "2016-06-30  22.023108  22.333258  21.990461  22.293615    -0.042660\n",
            "2016-07-31  24.296776  24.380727  24.177845  24.301439     0.090063\n",
            "2016-08-31  24.773056  24.986413  24.768365  24.876217     0.023652\n",
            "2016-09-30  26.367386  26.580745  26.212643  26.505718     0.065504\n",
            "2016-10-31  26.646396  26.782384  26.540888  26.620605     0.004334\n",
            "2016-11-30  26.300088  26.441486  25.986654  26.045570    -0.021601\n",
            "2016-12-31  27.490193  27.619807  27.202683  27.294592     0.047955\n"
          ]
        }
      ]
    },
    {
      "cell_type": "code",
      "metadata": {
        "colab": {
          "base_uri": "https://localhost:8080/"
        },
        "id": "bsFhdjtGdRe0",
        "outputId": "91affa22-68fd-4d9c-bbb5-489898b7d875"
      },
      "source": [
        "#ejemplo propio\n",
        "mydrop = ec_bar.dropna()\n",
        "print(mydrop)\n",
        "print('\\n--------------------------------------------------\\n')\n",
        "myfill = ec_bar.fillna(0)\n",
        "print(myfill)"
      ],
      "execution_count": null,
      "outputs": [
        {
          "output_type": "stream",
          "name": "stdout",
          "text": [
            "                 Open      Close  Volume  rate_return\n",
            "Date                                                 \n",
            "2020-06-30  10.970214  11.049636  863400     0.279154\n",
            "2020-09-30   9.759022   9.768950  964900    -0.115903\n",
            "2020-12-31  12.935916  12.816783  602100     0.311992\n",
            "\n",
            "--------------------------------------------------\n",
            "\n",
            "                 Open      Close   Volume  rate_return\n",
            "Date                                                  \n",
            "2020-03-31   8.547403   8.638236  2501300     0.000000\n",
            "2020-06-30  10.970214  11.049636   863400     0.279154\n",
            "2020-09-30   9.759022   9.768950   964900    -0.115903\n",
            "2020-12-31  12.935916  12.816783   602100     0.311992\n"
          ]
        }
      ]
    },
    {
      "cell_type": "markdown",
      "metadata": {
        "id": "9R2kdygHdfg8"
      },
      "source": [
        "##**DataFrame Concat**\n",
        "We have seen how to extract a Series from a dataFrame. Now we need to consider how to merge a Series or a DataFrame into another one.\n",
        "\n",
        "In Pandas, the function **_concat()_** allows us to merge multiple Series into a DataFrame:"
      ]
    },
    {
      "cell_type": "code",
      "metadata": {
        "colab": {
          "base_uri": "https://localhost:8080/"
        },
        "id": "51IS-Grxdk9E",
        "outputId": "e5258ed7-3e03-46c4-d3ce-8f9ba5a1e16c"
      },
      "source": [
        "s1 = pd.Series([143.5, 144.09, 142.73, 144.18, 143.77], name = 'AAPL')\n",
        "s2 = pd.Series([898.7, 911.71, 906.69, 918.59, 926.99], name = 'GOOG')\n",
        "data_frame = pd.concat([s1,s2], axis = 1)\n",
        "print(data_frame)"
      ],
      "execution_count": null,
      "outputs": [
        {
          "output_type": "stream",
          "name": "stdout",
          "text": [
            "     AAPL    GOOG\n",
            "0  143.50  898.70\n",
            "1  144.09  911.71\n",
            "2  142.73  906.69\n",
            "3  144.18  918.59\n",
            "4  143.77  926.99\n"
          ]
        }
      ]
    },
    {
      "cell_type": "code",
      "metadata": {
        "colab": {
          "base_uri": "https://localhost:8080/"
        },
        "id": "IofIhfoWdorT",
        "outputId": "0b2aa06d-f2d9-4e88-9eba-a01617a43b44"
      },
      "source": [
        "#ejemplo propio\n",
        "mys1 = pd.Series([917.5, 182.58, 131.32, 125.95, 196.42, 197.15], name = 'ALG')\n",
        "mys2 = pd.Series([854.47, 943.41, 974.45, 956.98, 852.67, 996.99], name = 'GEMG')\n",
        "my_data_frame = pd.concat([mys1,mys2], axis = 1)\n",
        "print(my_data_frame)"
      ],
      "execution_count": null,
      "outputs": [
        {
          "output_type": "stream",
          "name": "stdout",
          "text": [
            "      ALG    GEMG\n",
            "0  917.50  854.47\n",
            "1  182.58  943.41\n",
            "2  131.32  974.45\n",
            "3  125.95  956.98\n",
            "4  196.42  852.67\n",
            "5  197.15  996.99\n"
          ]
        }
      ]
    },
    {
      "cell_type": "markdown",
      "metadata": {
        "id": "_RAXk9afeVW-"
      },
      "source": [
        "The \"axis = 1\" parameter will join two DataFrames by columns:"
      ]
    },
    {
      "cell_type": "code",
      "metadata": {
        "colab": {
          "base_uri": "https://localhost:8080/"
        },
        "id": "5FbxeP6DeY9m",
        "outputId": "4f8b0bed-7fa6-4c1c-e6b3-a300fce972d4"
      },
      "source": [
        "log_price = np.log(aapl_bar.Close)\n",
        "log_price.name = 'log_price'\n",
        "print(log_price)\n",
        "print('\\n---------------------- separate line--------------------\\n')\n",
        "concat = pd.concat([aapl_bar, log_price], axis = 1)\n",
        "print(concat)"
      ],
      "execution_count": null,
      "outputs": [
        {
          "output_type": "stream",
          "name": "stdout",
          "text": [
            "Date\n",
            "2016-01-31    3.110856\n",
            "2016-02-29    3.109568\n",
            "2016-03-31    3.229314\n",
            "2016-04-30    3.078583\n",
            "2016-05-31    3.147897\n",
            "2016-06-30    3.104300\n",
            "2016-07-31    3.190536\n",
            "2016-08-31    3.213912\n",
            "2016-09-30    3.277360\n",
            "2016-10-31    3.281686\n",
            "2016-11-30    3.259848\n",
            "2016-12-31    3.306689\n",
            "Freq: M, Name: log_price, dtype: float64\n",
            "\n",
            "---------------------- separate line--------------------\n",
            "\n",
            "                 Open       High        Low      Close  rate_return  log_price\n",
            "Date                                                                          \n",
            "2016-01-31  21.852382  22.440245  21.750946  22.440245          NaN   3.110856\n",
            "2016-02-29  22.450755  22.768302  22.402081  22.411352    -0.001288   3.109568\n",
            "2016-03-31  25.431516  25.473238  25.236815  25.262312     0.127211   3.229314\n",
            "2016-04-30  21.785529  21.954734  21.442488  21.727583    -0.139921   3.078583\n",
            "2016-05-31  23.226403  23.412961  23.044510  23.287035     0.071773   3.147897\n",
            "2016-06-30  22.023108  22.333258  21.990461  22.293615    -0.042660   3.104300\n",
            "2016-07-31  24.296776  24.380727  24.177845  24.301439     0.090063   3.190536\n",
            "2016-08-31  24.773056  24.986413  24.768365  24.876217     0.023652   3.213912\n",
            "2016-09-30  26.367386  26.580745  26.212643  26.505718     0.065504   3.277360\n",
            "2016-10-31  26.646396  26.782384  26.540888  26.620605     0.004334   3.281686\n",
            "2016-11-30  26.300088  26.441486  25.986654  26.045570    -0.021601   3.259848\n",
            "2016-12-31  27.490193  27.619807  27.202683  27.294592     0.047955   3.306689\n"
          ]
        }
      ]
    },
    {
      "cell_type": "code",
      "metadata": {
        "colab": {
          "base_uri": "https://localhost:8080/"
        },
        "id": "bC0euAIleZ0R",
        "outputId": "d701b435-242a-43da-cfe6-b3197ac8ba64"
      },
      "source": [
        "#ejemplo propio\n",
        "mylog_price = np.log(ec_bar.Close)\n",
        "mylog_price.name = 'log_price'\n",
        "print(mylog_price)\n",
        "print('\\n---------------------- separador --------------------\\n')\n",
        "myconcat = pd.concat([ec_bar, mylog_price], axis = 1)\n",
        "print(myconcat)"
      ],
      "execution_count": null,
      "outputs": [
        {
          "output_type": "stream",
          "name": "stdout",
          "text": [
            "Date\n",
            "2020-03-31    2.156198\n",
            "2020-06-30    2.402397\n",
            "2020-09-30    2.279209\n",
            "2020-12-31    2.550755\n",
            "Freq: Q-DEC, Name: log_price, dtype: float64\n",
            "\n",
            "---------------------- separador --------------------\n",
            "\n",
            "                 Open      Close   Volume  rate_return  log_price\n",
            "Date                                                             \n",
            "2020-03-31   8.547403   8.638236  2501300          NaN   2.156198\n",
            "2020-06-30  10.970214  11.049636   863400     0.279154   2.402397\n",
            "2020-09-30   9.759022   9.768950   964900    -0.115903   2.279209\n",
            "2020-12-31  12.935916  12.816783   602100     0.311992   2.550755\n"
          ]
        }
      ]
    },
    {
      "cell_type": "markdown",
      "metadata": {
        "id": "Zjes6wrOezfS"
      },
      "source": [
        "We can also join two DataFrames by rows. Consider these two DataFrames:"
      ]
    },
    {
      "cell_type": "code",
      "metadata": {
        "colab": {
          "base_uri": "https://localhost:8080/"
        },
        "id": "pJaRrsNTe2jK",
        "outputId": "4c785781-ad54-452e-f5d8-32672ba53f7a"
      },
      "source": [
        "df_volume = aapl_table.loc['2016-10':'2017-04',['Volume', 'Stock Splits']].resample('M').agg(lambda x: x[-1])\n",
        "print(df_volume)\n",
        "print('\\n---------------------- separate line--------------------\\n')\n",
        "df_2017 = aapl_table.loc['2016-10':'2017-04',['Open', 'High', 'Low', 'Close']].resample('M').agg(lambda x: x[-1])\n",
        "print(df_2017)"
      ],
      "execution_count": null,
      "outputs": [
        {
          "output_type": "stream",
          "name": "stdout",
          "text": [
            "               Volume  Stock Splits\n",
            "Date                               \n",
            "2016-10-31  105677600             0\n",
            "2016-11-30  144649200             0\n",
            "2016-12-31  122345200             0\n",
            "2017-01-31  196804000             0\n",
            "2017-02-28   93931600             0\n",
            "2017-03-31   78646800             0\n",
            "2017-04-30   83441600             0\n",
            "\n",
            "---------------------- separate line--------------------\n",
            "\n",
            "                 Open       High        Low      Close\n",
            "Date                                                  \n",
            "2016-10-31  26.646396  26.782384  26.540888  26.620605\n",
            "2016-11-30  26.300088  26.441486  25.986654  26.045570\n",
            "2016-12-31  27.490193  27.619807  27.202683  27.294592\n",
            "2017-01-31  28.550682  28.607241  28.425781  28.597815\n",
            "2017-02-28  32.444877  32.530084  32.354935  32.423576\n",
            "2017-03-31  34.016459  34.146637  33.848410  34.002258\n",
            "2017-04-30  34.104032  34.153737  33.909951  33.999889\n"
          ]
        }
      ]
    },
    {
      "cell_type": "code",
      "metadata": {
        "colab": {
          "base_uri": "https://localhost:8080/"
        },
        "id": "RJlusCKae31A",
        "outputId": "5e99fb52-f8e3-4951-ff51-a87ab08d87e3"
      },
      "source": [
        "#ejemplo propio\n",
        "mydf_volume = tabla_ec.loc['2020-03':'2020-12',['Volume', 'Stock Splits']].resample('M').agg(lambda x: x[-1])\n",
        "print(mydf_volume)\n",
        "print('\\n---------------------- separate line--------------------\\n')\n",
        "mydf_2020 = tabla_ec.loc['2020-03':'2020-12',['Open', 'High', 'Low', 'Close']].resample('M').agg(lambda x: x[-1])\n",
        "print(mydf_2020)"
      ],
      "execution_count": null,
      "outputs": [
        {
          "output_type": "stream",
          "name": "stdout",
          "text": [
            "             Volume  Stock Splits\n",
            "Date                             \n",
            "2020-03-31  2501300             0\n",
            "2020-04-30  1861000             0\n",
            "2020-05-31  2431800             0\n",
            "2020-06-30   863400             0\n",
            "2020-07-31  1085800             0\n",
            "2020-08-31  1233700             0\n",
            "2020-09-30   964900             0\n",
            "2020-10-31   957100             0\n",
            "2020-11-30  1535300             0\n",
            "2020-12-31   602100             0\n",
            "\n",
            "---------------------- separate line--------------------\n",
            "\n",
            "                 Open       High        Low      Close\n",
            "Date                                                  \n",
            "2020-03-31   8.547403   8.919818   8.538319   8.638236\n",
            "2020-04-30  10.632668  10.741873  10.037000  10.374545\n",
            "2020-05-31  10.444040  10.493679  10.175990  10.334834\n",
            "2020-06-30  10.970214  11.129058  10.781585  11.049636\n",
            "2020-07-31  11.585737  11.665159  11.387181  11.555954\n",
            "2020-08-31  11.575808  11.575808  11.268047  11.307758\n",
            "2020-09-30   9.759022   9.898012   9.729239   9.768950\n",
            "2020-10-31   8.964799   9.193138   8.875448   9.183210\n",
            "2020-11-30  11.923282  11.972921  11.436820  11.436820\n",
            "2020-12-31  12.935916  13.015339  12.727433  12.816783\n"
          ]
        }
      ]
    },
    {
      "cell_type": "markdown",
      "metadata": {
        "id": "f8wwaRycfvr7"
      },
      "source": [
        "Now we merge the DataFrames with our DataFrame 'aapl_bar'"
      ]
    },
    {
      "cell_type": "code",
      "metadata": {
        "colab": {
          "base_uri": "https://localhost:8080/"
        },
        "id": "sTG8CddffxTn",
        "outputId": "e411678d-59b7-416b-b969-16d419773acd"
      },
      "source": [
        "concat = pd.concat([aapl_bar, df_volume], axis = 1)\n",
        "print(concat)"
      ],
      "execution_count": null,
      "outputs": [
        {
          "output_type": "stream",
          "name": "stdout",
          "text": [
            "                 Open       High  ...       Volume  Stock Splits\n",
            "Date                              ...                           \n",
            "2016-01-31  21.852382  22.440245  ...          NaN           NaN\n",
            "2016-02-29  22.450755  22.768302  ...          NaN           NaN\n",
            "2016-03-31  25.431516  25.473238  ...          NaN           NaN\n",
            "2016-04-30  21.785529  21.954734  ...          NaN           NaN\n",
            "2016-05-31  23.226403  23.412961  ...          NaN           NaN\n",
            "2016-06-30  22.023108  22.333258  ...          NaN           NaN\n",
            "2016-07-31  24.296776  24.380727  ...          NaN           NaN\n",
            "2016-08-31  24.773056  24.986413  ...          NaN           NaN\n",
            "2016-09-30  26.367386  26.580745  ...          NaN           NaN\n",
            "2016-10-31  26.646396  26.782384  ...  105677600.0           0.0\n",
            "2016-11-30  26.300088  26.441486  ...  144649200.0           0.0\n",
            "2016-12-31  27.490193  27.619807  ...  122345200.0           0.0\n",
            "2017-01-31        NaN        NaN  ...  196804000.0           0.0\n",
            "2017-02-28        NaN        NaN  ...   93931600.0           0.0\n",
            "2017-03-31        NaN        NaN  ...   78646800.0           0.0\n",
            "2017-04-30        NaN        NaN  ...   83441600.0           0.0\n",
            "\n",
            "[16 rows x 7 columns]\n"
          ]
        }
      ]
    },
    {
      "cell_type": "code",
      "metadata": {
        "colab": {
          "base_uri": "https://localhost:8080/"
        },
        "id": "RkeSw2Rnfx48",
        "outputId": "1b54a249-06fe-4102-b2e3-f5dbfdae3042"
      },
      "source": [
        "#ejemplo propio\n",
        "myconcat = pd.concat([ec_bar, mydf_volume], axis = 1)\n",
        "print(myconcat)"
      ],
      "execution_count": null,
      "outputs": [
        {
          "output_type": "stream",
          "name": "stdout",
          "text": [
            "                 Open      Close     Volume  rate_return   Volume  Stock Splits\n",
            "Date                                                                           \n",
            "2020-03-31   8.547403   8.638236  2501300.0          NaN  2501300             0\n",
            "2020-04-30        NaN        NaN        NaN          NaN  1861000             0\n",
            "2020-05-31        NaN        NaN        NaN          NaN  2431800             0\n",
            "2020-06-30  10.970214  11.049636   863400.0     0.279154   863400             0\n",
            "2020-07-31        NaN        NaN        NaN          NaN  1085800             0\n",
            "2020-08-31        NaN        NaN        NaN          NaN  1233700             0\n",
            "2020-09-30   9.759022   9.768950   964900.0    -0.115903   964900             0\n",
            "2020-10-31        NaN        NaN        NaN          NaN   957100             0\n",
            "2020-11-30        NaN        NaN        NaN          NaN  1535300             0\n",
            "2020-12-31  12.935916  12.816783   602100.0     0.311992   602100             0\n"
          ]
        }
      ]
    },
    {
      "cell_type": "markdown",
      "metadata": {
        "id": "PiO60BtagLFy"
      },
      "source": [
        "By default the DataFrame are joined with all of the data. This default options results in zero information loss. We can also merge them by intersection, this is called 'inner join"
      ]
    },
    {
      "cell_type": "code",
      "metadata": {
        "colab": {
          "base_uri": "https://localhost:8080/"
        },
        "id": "Dk5gFp53gaFC",
        "outputId": "4d503271-a24c-48be-a97e-7ba2ef52b79c"
      },
      "source": [
        "concat = pd.concat([aapl_bar,df_volume],axis = 1, join = 'inner')\n",
        "print(concat)"
      ],
      "execution_count": null,
      "outputs": [
        {
          "output_type": "stream",
          "name": "stdout",
          "text": [
            "                 Open       High  ...     Volume  Stock Splits\n",
            "Date                              ...                         \n",
            "2016-10-31  26.646396  26.782384  ...  105677600             0\n",
            "2016-11-30  26.300088  26.441486  ...  144649200             0\n",
            "2016-12-31  27.490193  27.619807  ...  122345200             0\n",
            "\n",
            "[3 rows x 7 columns]\n"
          ]
        }
      ]
    },
    {
      "cell_type": "code",
      "metadata": {
        "colab": {
          "base_uri": "https://localhost:8080/"
        },
        "id": "OgzP5TocgcHj",
        "outputId": "a7218ce5-d0c9-42e5-859c-51cef22c8524"
      },
      "source": [
        "#ejemplo propio\n",
        "myconcat = pd.concat([ec_bar,mydf_volume],axis = 1, join = 'inner')\n",
        "print(myconcat)"
      ],
      "execution_count": null,
      "outputs": [
        {
          "output_type": "stream",
          "name": "stdout",
          "text": [
            "                 Open      Close   Volume  rate_return   Volume  Stock Splits\n",
            "Date                                                                         \n",
            "2020-03-31   8.547403   8.638236  2501300          NaN  2501300             0\n",
            "2020-06-30  10.970214  11.049636   863400     0.279154   863400             0\n",
            "2020-09-30   9.759022   9.768950   964900    -0.115903   964900             0\n",
            "2020-12-31  12.935916  12.816783   602100     0.311992   602100             0\n"
          ]
        }
      ]
    },
    {
      "cell_type": "markdown",
      "metadata": {
        "id": "LzE_XTmVgmV-"
      },
      "source": [
        "Only the intersection part was left if use 'inner join' method. Now let's try to append a DataFrame to another one:"
      ]
    },
    {
      "cell_type": "code",
      "metadata": {
        "colab": {
          "base_uri": "https://localhost:8080/"
        },
        "id": "IHjdHKJHgo5R",
        "outputId": "dcc17f72-22dc-42cc-9e8e-da990bfda6bd"
      },
      "source": [
        "append = aapl_bar.append(df_2017)\n",
        "print(append)"
      ],
      "execution_count": null,
      "outputs": [
        {
          "output_type": "stream",
          "name": "stdout",
          "text": [
            "                 Open       High        Low      Close  rate_return\n",
            "Date                                                               \n",
            "2016-01-31  21.852382  22.440245  21.750946  22.440245          NaN\n",
            "2016-02-29  22.450755  22.768302  22.402081  22.411352    -0.001288\n",
            "2016-03-31  25.431516  25.473238  25.236815  25.262312     0.127211\n",
            "2016-04-30  21.785529  21.954734  21.442488  21.727583    -0.139921\n",
            "2016-05-31  23.226403  23.412961  23.044510  23.287035     0.071773\n",
            "2016-06-30  22.023108  22.333258  21.990461  22.293615    -0.042660\n",
            "2016-07-31  24.296776  24.380727  24.177845  24.301439     0.090063\n",
            "2016-08-31  24.773056  24.986413  24.768365  24.876217     0.023652\n",
            "2016-09-30  26.367386  26.580745  26.212643  26.505718     0.065504\n",
            "2016-10-31  26.646396  26.782384  26.540888  26.620605     0.004334\n",
            "2016-11-30  26.300088  26.441486  25.986654  26.045570    -0.021601\n",
            "2016-12-31  27.490193  27.619807  27.202683  27.294592     0.047955\n",
            "2016-10-31  26.646396  26.782384  26.540888  26.620605          NaN\n",
            "2016-11-30  26.300088  26.441486  25.986654  26.045570          NaN\n",
            "2016-12-31  27.490193  27.619807  27.202683  27.294592          NaN\n",
            "2017-01-31  28.550682  28.607241  28.425781  28.597815          NaN\n",
            "2017-02-28  32.444877  32.530084  32.354935  32.423576          NaN\n",
            "2017-03-31  34.016459  34.146637  33.848410  34.002258          NaN\n",
            "2017-04-30  34.104032  34.153737  33.909951  33.999889          NaN\n"
          ]
        }
      ]
    },
    {
      "cell_type": "code",
      "metadata": {
        "colab": {
          "base_uri": "https://localhost:8080/"
        },
        "id": "nzswZGn-gqPT",
        "outputId": "37439faa-a228-4113-f4ca-31cb0447a7ad"
      },
      "source": [
        "#ejemplo propio\n",
        "myappend = ec_bar.append(mydf_2020)\n",
        "print(myappend)"
      ],
      "execution_count": null,
      "outputs": [
        {
          "output_type": "stream",
          "name": "stdout",
          "text": [
            "                 Open      Close     Volume  rate_return       High        Low\n",
            "Date                                                                          \n",
            "2020-03-31   8.547403   8.638236  2501300.0          NaN        NaN        NaN\n",
            "2020-06-30  10.970214  11.049636   863400.0     0.279154        NaN        NaN\n",
            "2020-09-30   9.759022   9.768950   964900.0    -0.115903        NaN        NaN\n",
            "2020-12-31  12.935916  12.816783   602100.0     0.311992        NaN        NaN\n",
            "2020-03-31   8.547403   8.638236        NaN          NaN   8.919818   8.538319\n",
            "2020-04-30  10.632668  10.374545        NaN          NaN  10.741873  10.037000\n",
            "2020-05-31  10.444040  10.334834        NaN          NaN  10.493679  10.175990\n",
            "2020-06-30  10.970214  11.049636        NaN          NaN  11.129058  10.781585\n",
            "2020-07-31  11.585737  11.555954        NaN          NaN  11.665159  11.387181\n",
            "2020-08-31  11.575808  11.307758        NaN          NaN  11.575808  11.268047\n",
            "2020-09-30   9.759022   9.768950        NaN          NaN   9.898012   9.729239\n",
            "2020-10-31   8.964799   9.183210        NaN          NaN   9.193138   8.875448\n",
            "2020-11-30  11.923282  11.436820        NaN          NaN  11.972921  11.436820\n",
            "2020-12-31  12.935916  12.816783        NaN          NaN  13.015339  12.727433\n"
          ]
        }
      ]
    },
    {
      "cell_type": "markdown",
      "metadata": {
        "id": "lDNAMqw_g1UG"
      },
      "source": [
        "'Append' is essentially to concat two DataFrames by axis = 0, thus here is an alternative way to append:"
      ]
    },
    {
      "cell_type": "code",
      "metadata": {
        "colab": {
          "base_uri": "https://localhost:8080/"
        },
        "id": "5zyqO2Kvg4nl",
        "outputId": "6880a769-5b0f-47a3-8fdc-37d67b1675a7"
      },
      "source": [
        "concat = pd.concat([aapl_bar, df_2017], axis = 0)\n",
        "print(concat)"
      ],
      "execution_count": null,
      "outputs": [
        {
          "output_type": "stream",
          "name": "stdout",
          "text": [
            "                 Open       High        Low      Close  rate_return\n",
            "Date                                                               \n",
            "2016-01-31  21.852382  22.440245  21.750946  22.440245          NaN\n",
            "2016-02-29  22.450755  22.768302  22.402081  22.411352    -0.001288\n",
            "2016-03-31  25.431516  25.473238  25.236815  25.262312     0.127211\n",
            "2016-04-30  21.785529  21.954734  21.442488  21.727583    -0.139921\n",
            "2016-05-31  23.226403  23.412961  23.044510  23.287035     0.071773\n",
            "2016-06-30  22.023108  22.333258  21.990461  22.293615    -0.042660\n",
            "2016-07-31  24.296776  24.380727  24.177845  24.301439     0.090063\n",
            "2016-08-31  24.773056  24.986413  24.768365  24.876217     0.023652\n",
            "2016-09-30  26.367386  26.580745  26.212643  26.505718     0.065504\n",
            "2016-10-31  26.646396  26.782384  26.540888  26.620605     0.004334\n",
            "2016-11-30  26.300088  26.441486  25.986654  26.045570    -0.021601\n",
            "2016-12-31  27.490193  27.619807  27.202683  27.294592     0.047955\n",
            "2016-10-31  26.646396  26.782384  26.540888  26.620605          NaN\n",
            "2016-11-30  26.300088  26.441486  25.986654  26.045570          NaN\n",
            "2016-12-31  27.490193  27.619807  27.202683  27.294592          NaN\n",
            "2017-01-31  28.550682  28.607241  28.425781  28.597815          NaN\n",
            "2017-02-28  32.444877  32.530084  32.354935  32.423576          NaN\n",
            "2017-03-31  34.016459  34.146637  33.848410  34.002258          NaN\n",
            "2017-04-30  34.104032  34.153737  33.909951  33.999889          NaN\n"
          ]
        }
      ]
    },
    {
      "cell_type": "code",
      "metadata": {
        "colab": {
          "base_uri": "https://localhost:8080/"
        },
        "id": "_Rxr9NWSg5iZ",
        "outputId": "c7cf6e33-e5ae-40c5-ec06-3de7d95e3006"
      },
      "source": [
        "#ejemplo propio\n",
        "myconcat = pd.concat([ec_bar, mydf_2020], axis = 0)\n",
        "print(myconcat)"
      ],
      "execution_count": null,
      "outputs": [
        {
          "output_type": "stream",
          "name": "stdout",
          "text": [
            "                 Open      Close     Volume  rate_return       High        Low\n",
            "Date                                                                          \n",
            "2020-03-31   8.547403   8.638236  2501300.0          NaN        NaN        NaN\n",
            "2020-06-30  10.970214  11.049636   863400.0     0.279154        NaN        NaN\n",
            "2020-09-30   9.759022   9.768950   964900.0    -0.115903        NaN        NaN\n",
            "2020-12-31  12.935916  12.816783   602100.0     0.311992        NaN        NaN\n",
            "2020-03-31   8.547403   8.638236        NaN          NaN   8.919818   8.538319\n",
            "2020-04-30  10.632668  10.374545        NaN          NaN  10.741873  10.037000\n",
            "2020-05-31  10.444040  10.334834        NaN          NaN  10.493679  10.175990\n",
            "2020-06-30  10.970214  11.049636        NaN          NaN  11.129058  10.781585\n",
            "2020-07-31  11.585737  11.555954        NaN          NaN  11.665159  11.387181\n",
            "2020-08-31  11.575808  11.307758        NaN          NaN  11.575808  11.268047\n",
            "2020-09-30   9.759022   9.768950        NaN          NaN   9.898012   9.729239\n",
            "2020-10-31   8.964799   9.183210        NaN          NaN   9.193138   8.875448\n",
            "2020-11-30  11.923282  11.436820        NaN          NaN  11.972921  11.436820\n",
            "2020-12-31  12.935916  12.816783        NaN          NaN  13.015339  12.727433\n"
          ]
        }
      ]
    },
    {
      "cell_type": "markdown",
      "metadata": {
        "id": "ei-UgqWfh39f"
      },
      "source": [
        "Please note that if the two DataFrame have some columns with the same column names, these columns are considered to be the same and will be merged. It's very important to have the right column names. If we change a column names here:"
      ]
    },
    {
      "cell_type": "code",
      "metadata": {
        "colab": {
          "base_uri": "https://localhost:8080/"
        },
        "id": "nrpLJ5q4jJe5",
        "outputId": "5f527877-fd8d-406d-ac4d-ae86e0c81039"
      },
      "source": [
        "df_2017.columns = ['Change', 'High','Low','Close']\n",
        "concat = pd.concat([aapl_bar, df_2017], axis = 0)\n",
        "print(concat)"
      ],
      "execution_count": null,
      "outputs": [
        {
          "output_type": "stream",
          "name": "stdout",
          "text": [
            "                 Open       High        Low      Close  rate_return     Change\n",
            "Date                                                                          \n",
            "2016-01-31  21.852382  22.440245  21.750946  22.440245          NaN        NaN\n",
            "2016-02-29  22.450755  22.768302  22.402081  22.411352    -0.001288        NaN\n",
            "2016-03-31  25.431516  25.473238  25.236815  25.262312     0.127211        NaN\n",
            "2016-04-30  21.785529  21.954734  21.442488  21.727583    -0.139921        NaN\n",
            "2016-05-31  23.226403  23.412961  23.044510  23.287035     0.071773        NaN\n",
            "2016-06-30  22.023108  22.333258  21.990461  22.293615    -0.042660        NaN\n",
            "2016-07-31  24.296776  24.380727  24.177845  24.301439     0.090063        NaN\n",
            "2016-08-31  24.773056  24.986413  24.768365  24.876217     0.023652        NaN\n",
            "2016-09-30  26.367386  26.580745  26.212643  26.505718     0.065504        NaN\n",
            "2016-10-31  26.646396  26.782384  26.540888  26.620605     0.004334        NaN\n",
            "2016-11-30  26.300088  26.441486  25.986654  26.045570    -0.021601        NaN\n",
            "2016-12-31  27.490193  27.619807  27.202683  27.294592     0.047955        NaN\n",
            "2016-10-31        NaN  26.782384  26.540888  26.620605          NaN  26.646396\n",
            "2016-11-30        NaN  26.441486  25.986654  26.045570          NaN  26.300088\n",
            "2016-12-31        NaN  27.619807  27.202683  27.294592          NaN  27.490193\n",
            "2017-01-31        NaN  28.607241  28.425781  28.597815          NaN  28.550682\n",
            "2017-02-28        NaN  32.530084  32.354935  32.423576          NaN  32.444877\n",
            "2017-03-31        NaN  34.146637  33.848410  34.002258          NaN  34.016459\n",
            "2017-04-30        NaN  34.153737  33.909951  33.999889          NaN  34.104032\n"
          ]
        }
      ]
    },
    {
      "cell_type": "code",
      "metadata": {
        "colab": {
          "base_uri": "https://localhost:8080/"
        },
        "id": "OBaE1yVrjKAj",
        "outputId": "bf181ce9-ad85-44ab-f412-b5f7e1448af0"
      },
      "source": [
        "#ejemplo propio\n",
        "mydf_2020.columns = ['Abierto', 'Alto','Bajo','Cierre']\n",
        "myconcat = pd.concat([ec_bar, mydf_2020], axis = 0)\n",
        "print(myconcat)"
      ],
      "execution_count": null,
      "outputs": [
        {
          "output_type": "stream",
          "name": "stdout",
          "text": [
            "                 Open      Close     Volume  ...       Alto       Bajo     Cierre\n",
            "Date                                         ...                                 \n",
            "2020-03-31   8.547403   8.638236  2501300.0  ...        NaN        NaN        NaN\n",
            "2020-06-30  10.970214  11.049636   863400.0  ...        NaN        NaN        NaN\n",
            "2020-09-30   9.759022   9.768950   964900.0  ...        NaN        NaN        NaN\n",
            "2020-12-31  12.935916  12.816783   602100.0  ...        NaN        NaN        NaN\n",
            "2020-03-31        NaN        NaN        NaN  ...   8.919818   8.538319   8.638236\n",
            "2020-04-30        NaN        NaN        NaN  ...  10.741873  10.037000  10.374545\n",
            "2020-05-31        NaN        NaN        NaN  ...  10.493679  10.175990  10.334834\n",
            "2020-06-30        NaN        NaN        NaN  ...  11.129058  10.781585  11.049636\n",
            "2020-07-31        NaN        NaN        NaN  ...  11.665159  11.387181  11.555954\n",
            "2020-08-31        NaN        NaN        NaN  ...  11.575808  11.268047  11.307758\n",
            "2020-09-30        NaN        NaN        NaN  ...   9.898012   9.729239   9.768950\n",
            "2020-10-31        NaN        NaN        NaN  ...   9.193138   8.875448   9.183210\n",
            "2020-11-30        NaN        NaN        NaN  ...  11.972921  11.436820  11.436820\n",
            "2020-12-31        NaN        NaN        NaN  ...  13.015339  12.727433  12.816783\n",
            "\n",
            "[14 rows x 8 columns]\n"
          ]
        }
      ]
    },
    {
      "cell_type": "markdown",
      "metadata": {
        "id": "_Aj4NRjpkac9"
      },
      "source": [
        "Since the column name of 'Open' has been changed, the new DataFrame has an new column named 'Change'.\n",
        "\n",
        "##**Summary**\n",
        "Hereby we introduced the most import part of python: resampling and DataFrame manipulation. We only introduced the most commonly used method in Financial data analysis. There are also many methods used in data mining, which are also beneficial. You can always check the Pandas official documentations for help."
      ]
    }
  ]
}